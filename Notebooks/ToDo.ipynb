{
 "cells": [
  {
   "cell_type": "markdown",
   "id": "d87089be-4f60-4958-8950-66d33be26fa6",
   "metadata": {},
   "source": [
    "To Do:\n",
    "\n",
    "ARCH and GARCH\n",
    "VAR\n",
    "Censored / truncated data / models\n",
    "GIS\n",
    "Dashboards\n",
    "GUI's\n",
    "Web Apps\n"
   ]
  }
 ],
 "metadata": {
  "kernelspec": {
   "display_name": "Python [conda env:base] *",
   "language": "python",
   "name": "conda-base-py"
  },
  "language_info": {
   "codemirror_mode": {
    "name": "ipython",
    "version": 3
   },
   "file_extension": ".py",
   "mimetype": "text/x-python",
   "name": "python",
   "nbconvert_exporter": "python",
   "pygments_lexer": "ipython3",
   "version": "3.12.2"
  }
 },
 "nbformat": 4,
 "nbformat_minor": 5
}
