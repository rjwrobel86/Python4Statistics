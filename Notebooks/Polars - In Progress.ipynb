{
 "cells": [
  {
   "cell_type": "markdown",
   "id": "c722919d-b407-47b1-aa2b-9f22063c03a5",
   "metadata": {},
   "source": [
    "# Polars"
   ]
  },
  {
   "cell_type": "code",
   "execution_count": 4,
   "id": "dc19e462-ca47-438e-8b49-7a59686e76ac",
   "metadata": {},
   "outputs": [],
   "source": [
    "import polars as pl"
   ]
  },
  {
   "cell_type": "code",
   "execution_count": null,
   "id": "a9104868-ae5e-4db6-b860-e1cbd31952b0",
   "metadata": {},
   "outputs": [],
   "source": [
    "df = pl.read_csv(\"../data/data.csv\")"
   ]
  },
  {
   "cell_type": "code",
   "execution_count": null,
   "id": "7407fb0f-7018-4cfc-b2d5-30e0b82211ac",
   "metadata": {},
   "outputs": [
    {
     "data": {
      "text/html": [
       "<div><style>\n",
       ".dataframe > thead > tr,\n",
       ".dataframe > tbody > tr {\n",
       "  text-align: right;\n",
       "  white-space: pre-wrap;\n",
       "}\n",
       "</style>\n",
       "<small>shape: (5, 5)</small><table border=\"1\" class=\"dataframe\"><thead><tr><th>Name</th><th>Age</th><th>Category</th><th>Value</th><th>Count</th></tr><tr><td>str</td><td>i64</td><td>str</td><td>i64</td><td>i64</td></tr></thead><tbody><tr><td>&quot;Nicole Allen&quot;</td><td>25</td><td>&quot;C&quot;</td><td>54</td><td>5</td></tr><tr><td>&quot;Anthony Martinez&quot;</td><td>54</td><td>&quot;A&quot;</td><td>49</td><td>8</td></tr><tr><td>&quot;Shawn Gilbert&quot;</td><td>39</td><td>&quot;B&quot;</td><td>64</td><td>3</td></tr><tr><td>&quot;Eric Ellis&quot;</td><td>35</td><td>&quot;A&quot;</td><td>35</td><td>4</td></tr><tr><td>&quot;Chelsea Flores&quot;</td><td>24</td><td>&quot;C&quot;</td><td>6</td><td>3</td></tr></tbody></table></div>"
      ],
      "text/plain": [
       "shape: (5, 5)\n",
       "┌──────────────────┬─────┬──────────┬───────┬───────┐\n",
       "│ Name             ┆ Age ┆ Category ┆ Value ┆ Count │\n",
       "│ ---              ┆ --- ┆ ---      ┆ ---   ┆ ---   │\n",
       "│ str              ┆ i64 ┆ str      ┆ i64   ┆ i64   │\n",
       "╞══════════════════╪═════╪══════════╪═══════╪═══════╡\n",
       "│ Nicole Allen     ┆ 25  ┆ C        ┆ 54    ┆ 5     │\n",
       "│ Anthony Martinez ┆ 54  ┆ A        ┆ 49    ┆ 8     │\n",
       "│ Shawn Gilbert    ┆ 39  ┆ B        ┆ 64    ┆ 3     │\n",
       "│ Eric Ellis       ┆ 35  ┆ A        ┆ 35    ┆ 4     │\n",
       "│ Chelsea Flores   ┆ 24  ┆ C        ┆ 6     ┆ 3     │\n",
       "└──────────────────┴─────┴──────────┴───────┴───────┘"
      ]
     },
     "execution_count": 19,
     "metadata": {},
     "output_type": "execute_result"
    }
   ],
   "source": [
    "df.head()"
   ]
  },
  {
   "cell_type": "code",
   "execution_count": 21,
   "id": "c8d50973-66db-427a-a09c-cce36ed13d0c",
   "metadata": {},
   "outputs": [
    {
     "data": {
      "text/html": [
       "<div><style>\n",
       ".dataframe > thead > tr,\n",
       ".dataframe > tbody > tr {\n",
       "  text-align: right;\n",
       "  white-space: pre-wrap;\n",
       "}\n",
       "</style>\n",
       "<small>shape: (5, 5)</small><table border=\"1\" class=\"dataframe\"><thead><tr><th>Name</th><th>Age</th><th>Category</th><th>Value</th><th>Count</th></tr><tr><td>str</td><td>i64</td><td>str</td><td>i64</td><td>i64</td></tr></thead><tbody><tr><td>&quot;Jamie Knight&quot;</td><td>52</td><td>&quot;B&quot;</td><td>34</td><td>10</td></tr><tr><td>&quot;Linda Dalton&quot;</td><td>61</td><td>&quot;A&quot;</td><td>61</td><td>3</td></tr><tr><td>&quot;Donald Blevins&quot;</td><td>60</td><td>&quot;C&quot;</td><td>58</td><td>4</td></tr><tr><td>&quot;Mrs. Mary Sampson MD&quot;</td><td>42</td><td>&quot;C&quot;</td><td>81</td><td>5</td></tr><tr><td>&quot;Lawrence Rodriguez&quot;</td><td>59</td><td>&quot;B&quot;</td><td>23</td><td>9</td></tr></tbody></table></div>"
      ],
      "text/plain": [
       "shape: (5, 5)\n",
       "┌──────────────────────┬─────┬──────────┬───────┬───────┐\n",
       "│ Name                 ┆ Age ┆ Category ┆ Value ┆ Count │\n",
       "│ ---                  ┆ --- ┆ ---      ┆ ---   ┆ ---   │\n",
       "│ str                  ┆ i64 ┆ str      ┆ i64   ┆ i64   │\n",
       "╞══════════════════════╪═════╪══════════╪═══════╪═══════╡\n",
       "│ Jamie Knight         ┆ 52  ┆ B        ┆ 34    ┆ 10    │\n",
       "│ Linda Dalton         ┆ 61  ┆ A        ┆ 61    ┆ 3     │\n",
       "│ Donald Blevins       ┆ 60  ┆ C        ┆ 58    ┆ 4     │\n",
       "│ Mrs. Mary Sampson MD ┆ 42  ┆ C        ┆ 81    ┆ 5     │\n",
       "│ Lawrence Rodriguez   ┆ 59  ┆ B        ┆ 23    ┆ 9     │\n",
       "└──────────────────────┴─────┴──────────┴───────┴───────┘"
      ]
     },
     "execution_count": 21,
     "metadata": {},
     "output_type": "execute_result"
    }
   ],
   "source": [
    "df.tail()"
   ]
  },
  {
   "cell_type": "code",
   "execution_count": 23,
   "id": "22f7056d-5eb6-46d2-9fff-a2ef380348c4",
   "metadata": {},
   "outputs": [
    {
     "name": "stdout",
     "output_type": "stream",
     "text": [
      "Rows: 100\n",
      "Columns: 5\n",
      "$ Name     <str> 'Nicole Allen', 'Anthony Martinez', 'Shawn Gilbert', 'Eric Ellis', 'Chelsea Flores', 'Karen Carson', 'Rhonda Wilcox', 'Barbara Tran', 'Matthew Ward', 'Joshua Ware'\n",
      "$ Age      <i64> 25, 54, 39, 35, 24, 51, 51, 24, 31, 19\n",
      "$ Category <str> 'C', 'A', 'B', 'A', 'C', 'C', 'A', 'A', 'B', 'A'\n",
      "$ Value    <i64> 54, 49, 64, 35, 6, 71, 53, 62, 40, 81\n",
      "$ Count    <i64> 5, 8, 3, 4, 3, 2, 10, 9, 8, 4\n",
      "\n"
     ]
    }
   ],
   "source": [
    "df.glimpse()"
   ]
  },
  {
   "cell_type": "code",
   "execution_count": 29,
   "id": "b23b4fc7-d231-4da8-8f41-fa374432e9ce",
   "metadata": {},
   "outputs": [
    {
     "data": {
      "text/html": [
       "<div><style>\n",
       ".dataframe > thead > tr,\n",
       ".dataframe > tbody > tr {\n",
       "  text-align: right;\n",
       "  white-space: pre-wrap;\n",
       "}\n",
       "</style>\n",
       "<small>shape: (9, 6)</small><table border=\"1\" class=\"dataframe\"><thead><tr><th>statistic</th><th>Name</th><th>Age</th><th>Category</th><th>Value</th><th>Count</th></tr><tr><td>str</td><td>str</td><td>f64</td><td>str</td><td>f64</td><td>f64</td></tr></thead><tbody><tr><td>&quot;count&quot;</td><td>&quot;100&quot;</td><td>100.0</td><td>&quot;99&quot;</td><td>98.0</td><td>99.0</td></tr><tr><td>&quot;null_count&quot;</td><td>&quot;0&quot;</td><td>0.0</td><td>&quot;1&quot;</td><td>2.0</td><td>1.0</td></tr><tr><td>&quot;mean&quot;</td><td>null</td><td>40.26</td><td>null</td><td>45.530612</td><td>5.232323</td></tr><tr><td>&quot;std&quot;</td><td>null</td><td>14.059484</td><td>null</td><td>28.023629</td><td>2.79149</td></tr><tr><td>&quot;min&quot;</td><td>&quot;Alexandra Green&quot;</td><td>18.0</td><td>&quot;A&quot;</td><td>1.0</td><td>1.0</td></tr><tr><td>&quot;25%&quot;</td><td>null</td><td>28.0</td><td>null</td><td>21.0</td><td>3.0</td></tr><tr><td>&quot;50%&quot;</td><td>null</td><td>41.0</td><td>null</td><td>44.0</td><td>5.0</td></tr><tr><td>&quot;75%&quot;</td><td>null</td><td>52.0</td><td>null</td><td>65.0</td><td>8.0</td></tr><tr><td>&quot;max&quot;</td><td>&quot;William Stewart&quot;</td><td>64.0</td><td>&quot;C&quot;</td><td>100.0</td><td>10.0</td></tr></tbody></table></div>"
      ],
      "text/plain": [
       "shape: (9, 6)\n",
       "┌────────────┬─────────────────┬───────────┬──────────┬───────────┬──────────┐\n",
       "│ statistic  ┆ Name            ┆ Age       ┆ Category ┆ Value     ┆ Count    │\n",
       "│ ---        ┆ ---             ┆ ---       ┆ ---      ┆ ---       ┆ ---      │\n",
       "│ str        ┆ str             ┆ f64       ┆ str      ┆ f64       ┆ f64      │\n",
       "╞════════════╪═════════════════╪═══════════╪══════════╪═══════════╪══════════╡\n",
       "│ count      ┆ 100             ┆ 100.0     ┆ 99       ┆ 98.0      ┆ 99.0     │\n",
       "│ null_count ┆ 0               ┆ 0.0       ┆ 1        ┆ 2.0       ┆ 1.0      │\n",
       "│ mean       ┆ null            ┆ 40.26     ┆ null     ┆ 45.530612 ┆ 5.232323 │\n",
       "│ std        ┆ null            ┆ 14.059484 ┆ null     ┆ 28.023629 ┆ 2.79149  │\n",
       "│ min        ┆ Alexandra Green ┆ 18.0      ┆ A        ┆ 1.0       ┆ 1.0      │\n",
       "│ 25%        ┆ null            ┆ 28.0      ┆ null     ┆ 21.0      ┆ 3.0      │\n",
       "│ 50%        ┆ null            ┆ 41.0      ┆ null     ┆ 44.0      ┆ 5.0      │\n",
       "│ 75%        ┆ null            ┆ 52.0      ┆ null     ┆ 65.0      ┆ 8.0      │\n",
       "│ max        ┆ William Stewart ┆ 64.0      ┆ C        ┆ 100.0     ┆ 10.0     │\n",
       "└────────────┴─────────────────┴───────────┴──────────┴───────────┴──────────┘"
      ]
     },
     "execution_count": 29,
     "metadata": {},
     "output_type": "execute_result"
    }
   ],
   "source": [
    "df.describe()"
   ]
  },
  {
   "cell_type": "code",
   "execution_count": 36,
   "id": "84360357-7954-4bbe-8db9-3adda5b93c8e",
   "metadata": {},
   "outputs": [
    {
     "name": "stdout",
     "output_type": "stream",
     "text": [
      "shape: (4, 5)\n",
      "┌─────────────────┬─────┬──────────┬───────┬───────┐\n",
      "│ Name            ┆ Age ┆ Category ┆ Value ┆ Count │\n",
      "│ ---             ┆ --- ┆ ---      ┆ ---   ┆ ---   │\n",
      "│ str             ┆ i64 ┆ str      ┆ i64   ┆ i64   │\n",
      "╞═════════════════╪═════╪══════════╪═══════╪═══════╡\n",
      "│ Alexandra Green ┆ 21  ┆ C        ┆ 7     ┆ 9     │\n",
      "│ Alexandra Green ┆ 21  ┆ C        ┆ 7     ┆ 9     │\n",
      "│ Mark Hester     ┆ 35  ┆ C        ┆ 44    ┆ 4     │\n",
      "│ Mark Hester     ┆ 35  ┆ C        ┆ 44    ┆ 4     │\n",
      "└─────────────────┴─────┴──────────┴───────┴───────┘\n",
      "shape: (0, 5)\n",
      "┌──────┬─────┬──────────┬───────┬───────┐\n",
      "│ Name ┆ Age ┆ Category ┆ Value ┆ Count │\n",
      "│ ---  ┆ --- ┆ ---      ┆ ---   ┆ ---   │\n",
      "│ str  ┆ i64 ┆ str      ┆ i64   ┆ i64   │\n",
      "╞══════╪═════╪══════════╪═══════╪═══════╡\n",
      "└──────┴─────┴──────────┴───────┴───────┘\n"
     ]
    }
   ],
   "source": [
    "#Find and remove duplicate rows\n",
    "duplicates = df.filter(pl.struct(df.columns).is_duplicated())\n",
    "print(duplicates)\n",
    "\n",
    "df = df.unique()\n",
    "\n",
    "duplicates = df.filter(pl.struct(df.columns).is_duplicated())\n",
    "print(duplicates)"
   ]
  },
  {
   "cell_type": "code",
   "execution_count": 38,
   "id": "0fb0c10e-46f1-434d-bc64-ea7fad6117ed",
   "metadata": {},
   "outputs": [
    {
     "name": "stdout",
     "output_type": "stream",
     "text": [
      "shape: (0, 5)\n",
      "┌──────┬─────┬──────────┬───────┬───────┐\n",
      "│ Name ┆ Age ┆ Category ┆ Value ┆ Count │\n",
      "│ ---  ┆ --- ┆ ---      ┆ ---   ┆ ---   │\n",
      "│ str  ┆ i64 ┆ str      ┆ i64   ┆ i64   │\n",
      "╞══════╪═════╪══════════╪═══════╪═══════╡\n",
      "└──────┴─────┴──────────┴───────┴───────┘\n"
     ]
    }
   ],
   "source": [
    "#Find and remove rows with missing data\n",
    "missing_rows = df.filter(pl.struct(df.columns).is_null().any())\n",
    "print(missing_rows)"
   ]
  }
 ],
 "metadata": {
  "kernelspec": {
   "display_name": "Python [conda env:base] *",
   "language": "python",
   "name": "conda-base-py"
  },
  "language_info": {
   "codemirror_mode": {
    "name": "ipython",
    "version": 3
   },
   "file_extension": ".py",
   "mimetype": "text/x-python",
   "name": "python",
   "nbconvert_exporter": "python",
   "pygments_lexer": "ipython3",
   "version": "3.12.2"
  }
 },
 "nbformat": 4,
 "nbformat_minor": 5
}
