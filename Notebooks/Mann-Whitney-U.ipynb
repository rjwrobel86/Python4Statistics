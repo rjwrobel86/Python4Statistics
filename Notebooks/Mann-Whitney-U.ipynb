{
 "cells": [
  {
   "cell_type": "markdown",
   "id": "8ac25e96-71d9-41ff-aa03-6d9b7ae3d401",
   "metadata": {},
   "source": [
    "# Mann-Whitney U Test\n",
    "## Hypothesis testing medians when data are non-normally distributed"
   ]
  },
  {
   "cell_type": "code",
   "execution_count": 9,
   "id": "c22bad26-f59a-44d2-a670-f2eb9d84d188",
   "metadata": {},
   "outputs": [
    {
     "name": "stdout",
     "output_type": "stream",
     "text": [
      "Mann-Whitney U statistic: 69.0\n",
      "P-value: 0.010098873092337302\n",
      "Reject the null hypothesis: There is a significant difference in weight loss between Group A and Group B.\n"
     ]
    }
   ],
   "source": [
    "from scipy.stats import mannwhitneyu\n",
    "\n",
    "group_a = [6, 8, 7, 5, 9, 10, 6, 8, 6, 7]\n",
    "group_b = [4, 6, 5, 3, 7, 6, 5, 4]\n",
    "\n",
    "statistic, p_value = mannwhitneyu(group_a, group_b, alternative='two-sided')\n",
    "#statistic, p_value = mannwhitneyu(group_a, group_b, alternative='greater')\n",
    "#statistic, p_value = mannwhitneyu(group_a, group_b, alternative='less')\n",
    "\n",
    "print(f\"Mann-Whitney U statistic: {statistic}\")\n",
    "print(f\"P-value: {p_value}\")\n",
    "\n",
    "alpha = 0.05\n",
    "if p_value < alpha:\n",
    "    print(\"Reject the null hypothesis: There is a significant difference in weight loss between Group A and Group B.\")\n",
    "else:\n",
    "    print(\"Fail to reject the null hypothesis: There is no significant difference in weight loss between Group A and Group B.\")"
   ]
  }
 ],
 "metadata": {
  "kernelspec": {
   "display_name": "Python 3 (ipykernel)",
   "language": "python",
   "name": "python3"
  },
  "language_info": {
   "codemirror_mode": {
    "name": "ipython",
    "version": 3
   },
   "file_extension": ".py",
   "mimetype": "text/x-python",
   "name": "python",
   "nbconvert_exporter": "python",
   "pygments_lexer": "ipython3",
   "version": "3.11.0"
  }
 },
 "nbformat": 4,
 "nbformat_minor": 5
}
