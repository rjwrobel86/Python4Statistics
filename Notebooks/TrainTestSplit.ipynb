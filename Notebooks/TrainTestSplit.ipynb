{
 "cells": [
  {
   "cell_type": "markdown",
   "id": "0fc55068-bb0c-4957-ab94-dd672b77345b",
   "metadata": {
    "tags": []
   },
   "source": [
    "# Splitting up Data with scikit-learn's train_test_split module\n",
    "## Used to withhold data to test for out-of-sample model accuracy"
   ]
  },
  {
   "cell_type": "code",
   "execution_count": 5,
   "id": "586adae4-71e5-465b-af3e-2e4417f67bde",
   "metadata": {
    "tags": []
   },
   "outputs": [
    {
     "data": {
      "text/html": [
       "<div>\n",
       "<style scoped>\n",
       "    .dataframe tbody tr th:only-of-type {\n",
       "        vertical-align: middle;\n",
       "    }\n",
       "\n",
       "    .dataframe tbody tr th {\n",
       "        vertical-align: top;\n",
       "    }\n",
       "\n",
       "    .dataframe thead th {\n",
       "        text-align: right;\n",
       "    }\n",
       "</style>\n",
       "<table border=\"1\" class=\"dataframe\">\n",
       "  <thead>\n",
       "    <tr style=\"text-align: right;\">\n",
       "      <th></th>\n",
       "      <th>murderper100k</th>\n",
       "      <th>executions</th>\n",
       "      <th>south</th>\n",
       "      <th>unemployment</th>\n",
       "      <th>capital_punishment_legal</th>\n",
       "      <th>income_per_capita</th>\n",
       "    </tr>\n",
       "  </thead>\n",
       "  <tbody>\n",
       "    <tr>\n",
       "      <th>0</th>\n",
       "      <td>11.6</td>\n",
       "      <td>0</td>\n",
       "      <td>1</td>\n",
       "      <td>7.5</td>\n",
       "      <td>1</td>\n",
       "      <td>13.530</td>\n",
       "    </tr>\n",
       "    <tr>\n",
       "      <th>1</th>\n",
       "      <td>9.0</td>\n",
       "      <td>0</td>\n",
       "      <td>0</td>\n",
       "      <td>7.6</td>\n",
       "      <td>0</td>\n",
       "      <td>18.223</td>\n",
       "    </tr>\n",
       "    <tr>\n",
       "      <th>2</th>\n",
       "      <td>8.6</td>\n",
       "      <td>2</td>\n",
       "      <td>0</td>\n",
       "      <td>6.2</td>\n",
       "      <td>1</td>\n",
       "      <td>14.285</td>\n",
       "    </tr>\n",
       "    <tr>\n",
       "      <th>3</th>\n",
       "      <td>10.2</td>\n",
       "      <td>0</td>\n",
       "      <td>1</td>\n",
       "      <td>6.2</td>\n",
       "      <td>1</td>\n",
       "      <td>12.634</td>\n",
       "    </tr>\n",
       "    <tr>\n",
       "      <th>4</th>\n",
       "      <td>13.1</td>\n",
       "      <td>1</td>\n",
       "      <td>0</td>\n",
       "      <td>9.2</td>\n",
       "      <td>1</td>\n",
       "      <td>17.295</td>\n",
       "    </tr>\n",
       "  </tbody>\n",
       "</table>\n",
       "</div>"
      ],
      "text/plain": [
       "   murderper100k  executions  south  unemployment  capital_punishment_legal  \\\n",
       "0           11.6           0      1           7.5                         1   \n",
       "1            9.0           0      0           7.6                         0   \n",
       "2            8.6           2      0           6.2                         1   \n",
       "3           10.2           0      1           6.2                         1   \n",
       "4           13.1           1      0           9.2                         1   \n",
       "\n",
       "   income_per_capita  \n",
       "0             13.530  \n",
       "1             18.223  \n",
       "2             14.285  \n",
       "3             12.634  \n",
       "4             17.295  "
      ]
     },
     "execution_count": 5,
     "metadata": {},
     "output_type": "execute_result"
    }
   ],
   "source": [
    "import pandas as pd\n",
    "from sklearn.model_selection import train_test_split\n",
    "\n",
    "df = pd.read_csv('../data/murder.csv')\n",
    "df.head()"
   ]
  },
  {
   "cell_type": "code",
   "execution_count": 11,
   "id": "f46de228-a5d5-43db-b77c-54bcf38542de",
   "metadata": {
    "tags": []
   },
   "outputs": [],
   "source": [
    "y = df['murderper100k']\n",
    "X = df[['executions','south','unemployment']]"
   ]
  },
  {
   "cell_type": "code",
   "execution_count": 13,
   "id": "31f8e301-6dca-46ba-b912-5d8586a58290",
   "metadata": {
    "tags": []
   },
   "outputs": [],
   "source": [
    "X_train, X_test, y_train, y_test = train_test_split(X, y, test_size=0.2, random_state=1663)"
   ]
  },
  {
   "cell_type": "code",
   "execution_count": 19,
   "id": "f287916e-ecd8-472c-861a-bbd98bceaee3",
   "metadata": {
    "tags": []
   },
   "outputs": [
    {
     "name": "stdout",
     "output_type": "stream",
     "text": [
      "51\n",
      "40\n",
      "11\n"
     ]
    }
   ],
   "source": [
    "print(len(df))\n",
    "print(len(X_train))\n",
    "print(len(X_test))"
   ]
  }
 ],
 "metadata": {
  "kernelspec": {
   "display_name": "Python 3 (ipykernel)",
   "language": "python",
   "name": "python3"
  },
  "language_info": {
   "codemirror_mode": {
    "name": "ipython",
    "version": 3
   },
   "file_extension": ".py",
   "mimetype": "text/x-python",
   "name": "python",
   "nbconvert_exporter": "python",
   "pygments_lexer": "ipython3",
   "version": "3.11.0"
  }
 },
 "nbformat": 4,
 "nbformat_minor": 5
}
