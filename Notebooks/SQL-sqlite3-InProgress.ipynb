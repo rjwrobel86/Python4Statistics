{
 "cells": [
  {
   "cell_type": "markdown",
   "id": "a0966a2d-6a21-46e4-9f54-56c3eb69d2ba",
   "metadata": {},
   "source": [
    "# Database Operations w/ SQL / sqlite3"
   ]
  },
  {
   "cell_type": "code",
   "execution_count": 8,
   "id": "0cc4acbc-b265-444d-9ab4-48c1b155a670",
   "metadata": {
    "tags": []
   },
   "outputs": [],
   "source": [
    "import sqlite3\n",
    "import pandas as pd"
   ]
  },
  {
   "cell_type": "code",
   "execution_count": 3,
   "id": "afeeb047-3519-48c1-ba21-9a638f9790a8",
   "metadata": {
    "tags": []
   },
   "outputs": [],
   "source": [
    "#Create a connection to a database / create a new database\n",
    "conn = sqlite3.connect(\"../Data/example.db\")"
   ]
  },
  {
   "cell_type": "code",
   "execution_count": 5,
   "id": "24c9f771-0060-40bd-bff9-22761c799e1c",
   "metadata": {
    "tags": []
   },
   "outputs": [],
   "source": [
    "#Create a cursor object to execute commands\n",
    "cursor = conn.cursor()"
   ]
  },
  {
   "cell_type": "code",
   "execution_count": 9,
   "id": "01f5bafd-9eaf-4f8f-a802-dbb1e7daddf1",
   "metadata": {
    "tags": []
   },
   "outputs": [
    {
     "data": {
      "text/plain": [
       "<sqlite3.Cursor at 0x16be226c0>"
      ]
     },
     "execution_count": 9,
     "metadata": {},
     "output_type": "execute_result"
    }
   ],
   "source": [
    "#Create an empty table of customer information\n",
    "cursor.execute(\"\"\"CREATE TABLE IF NOT EXISTS customers (\n",
    "                   id INTEGER PRIMARY KEY AUTOINCREMENT,  \n",
    "                   name TEXT,\n",
    "                   email TEXT \n",
    "                   )\"\"\")"
   ]
  },
  {
   "cell_type": "code",
   "execution_count": 11,
   "id": "cc8179e1-3d47-417e-b5b5-94a951fe7fa3",
   "metadata": {
    "tags": []
   },
   "outputs": [
    {
     "data": {
      "text/plain": [
       "<sqlite3.Cursor at 0x16be226c0>"
      ]
     },
     "execution_count": 11,
     "metadata": {},
     "output_type": "execute_result"
    }
   ],
   "source": [
    "#Insert data into the customer table and commit the changes \n",
    "customer_data = [(\"Alice\", \"alice@example.com\"), (\"Bob\", \"bob@example.com\")]\n",
    "cursor.executemany(\"INSERT INTO customers (name, email) VALUES (?, ?)\", customer_data)\n",
    "conn.commit()"
   ]
  },
  {
   "cell_type": "code",
   "execution_count": 20,
   "id": "00dcc073-298b-4e95-8625-8cee8fcacf8c",
   "metadata": {
    "tags": []
   },
   "outputs": [
    {
     "name": "stdout",
     "output_type": "stream",
     "text": [
      "(1, 'Alice', 'alice@example.com')\n",
      "(2, 'Bob', 'bob@example.com')\n"
     ]
    }
   ],
   "source": [
    "#Read and print data from the table \n",
    "cursor.execute(\"SELECT * FROM customers\")\n",
    "rows = cursor.fetchall()\n",
    "for row in rows:\n",
    "    print(row)\n",
    "    #print(f\"ID: {row[0]}, Name: {row[1]}, Email: {row[2]}\")"
   ]
  },
  {
   "cell_type": "code",
   "execution_count": null,
   "id": "597ea01d-a646-4dc8-a74c-3ef938ee9174",
   "metadata": {},
   "outputs": [],
   "source": [
    "#Close the connection\n",
    "conn.close()"
   ]
  },
  {
   "cell_type": "code",
   "execution_count": 10,
   "id": "a824fda7-300f-497b-be49-16160e11b7a4",
   "metadata": {
    "tags": []
   },
   "outputs": [],
   "source": [
    "#CSV to SQL database\n",
    "df = pd.read_csv('../Data/SalesData.csv')\n",
    "conn = sqlite3.connect('../Data/SalesData.db')\n",
    "df.to_sql('table1', conn, index=False)\n",
    "conn.commit()\n",
    "conn.close()"
   ]
  }
 ],
 "metadata": {
  "kernelspec": {
   "display_name": "Python 3 (ipykernel)",
   "language": "python",
   "name": "python3"
  },
  "language_info": {
   "codemirror_mode": {
    "name": "ipython",
    "version": 3
   },
   "file_extension": ".py",
   "mimetype": "text/x-python",
   "name": "python",
   "nbconvert_exporter": "python",
   "pygments_lexer": "ipython3",
   "version": "3.11.0"
  }
 },
 "nbformat": 4,
 "nbformat_minor": 5
}
