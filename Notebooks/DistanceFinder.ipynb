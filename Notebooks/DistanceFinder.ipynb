{
 "cells": [
  {
   "cell_type": "markdown",
   "id": "7a9f8ded-cea3-4eaa-a1c5-b1bf8ca8264f",
   "metadata": {},
   "source": [
    "# Finding Distances from one Point to Many"
   ]
  },
  {
   "cell_type": "code",
   "execution_count": 4,
   "id": "58f57d44-2b73-40df-9137-17be828ad0d0",
   "metadata": {
    "tags": []
   },
   "outputs": [
    {
     "data": {
      "text/plain": [
       "['63143',\n",
       " '62895',\n",
       " '63033',\n",
       " '63301',\n",
       " '62052',\n",
       " '62021',\n",
       " '62085',\n",
       " '62040',\n",
       " '62024',\n",
       " '62095']"
      ]
     },
     "execution_count": 4,
     "metadata": {},
     "output_type": "execute_result"
    }
   ],
   "source": [
    "import pandas as pd\n",
    "from geopy.geocoders import Nominatim\n",
    "from geopy.distance import geodesic\n",
    "\n",
    "df = pd.read_csv('../data/SalesByZIP.csv')\n",
    "\n",
    "zip_list = []\n",
    "\n",
    "zips = df['Buyer Postal Code'].tolist()\n",
    "zips = zips[:10]\n",
    "\n",
    "for i in zips:\n",
    "    i = int(i)\n",
    "    i = str(i)\n",
    "    i = i[:5]\n",
    "    zip_list.append(i)\n",
    "    \n",
    "#zips = [item[:5] for item in zip_list]\n",
    "zip_list"
   ]
  },
  {
   "cell_type": "code",
   "execution_count": 6,
   "id": "a9cf007a-2934-4bb2-99d0-dfcedafdefb6",
   "metadata": {
    "tags": []
   },
   "outputs": [],
   "source": [
    "geolocator = Nominatim(user_agent=\"BobsJSCWRTest\")\n",
    "\n",
    "location_address = \"545 Garden Ave. St. Louis, MO. 63119\"\n",
    "location = geolocator.geocode(location_address) #Full Address\n",
    "location_point = (location.latitude, location.longitude) #Lat / Lon"
   ]
  },
  {
   "cell_type": "code",
   "execution_count": 8,
   "id": "348ad046-43ec-4871-b363-fa797b60e230",
   "metadata": {
    "tags": []
   },
   "outputs": [],
   "source": [
    "distances = []\n",
    "\n",
    "for i in zip_list:\n",
    "    zip_location = geolocator.geocode(f\"{i}, United States\")\n",
    "    zip_point = (zip_location.latitude, zip_location.longitude)\n",
    "    distance = geodesic(location_point, zip_point).miles  \n",
    "    distances.append(distance) "
   ]
  },
  {
   "cell_type": "code",
   "execution_count": 10,
   "id": "088d4aff-3fed-4bd4-87ef-dec6fa907621",
   "metadata": {
    "tags": []
   },
   "outputs": [
    {
     "name": "stdout",
     "output_type": "stream",
     "text": [
      "  ZIP Code  Distance (miles)\n",
      "0    63143          2.136729\n",
      "1    62895         96.498048\n",
      "2    63033         14.537852\n",
      "3    63301         17.885337\n",
      "4    62052         35.602561\n",
      "5    62021         31.284961\n",
      "6    62085         44.520748\n",
      "7    62040         15.608424\n",
      "8    62024         24.320494\n",
      "9    62095         23.510150\n"
     ]
    }
   ],
   "source": [
    "df = pd.DataFrame({\n",
    "    'ZIP Code': zip_list,\n",
    "    'Distance (miles)': distances\n",
    "})\n",
    "\n",
    "print(df)"
   ]
  },
  {
   "cell_type": "code",
   "execution_count": null,
   "id": "8255d8ca-1a10-4796-9615-f42096fef136",
   "metadata": {
    "tags": []
   },
   "outputs": [],
   "source": [
    "#Error handling for Nones\n",
    "zip_locations = []\n",
    "\n",
    "for i in zips:\n",
    "    try:\n",
    "        zip_location = geolocator.geocode(f\"{i}, United States\")\n",
    "        \n",
    "        if zip_location is not None:\n",
    "            zip_locations.append(zip_location)\n",
    "        else:\n",
    "            print(f\"No location found for ZIP code: {i}\")\n",
    "    \n",
    "    except Exception as e:\n",
    "        print(f\"Error geocoding ZIP code {i}: {e}\")"
   ]
  }
 ],
 "metadata": {
  "kernelspec": {
   "display_name": "Python 3 (ipykernel)",
   "language": "python",
   "name": "python3"
  },
  "language_info": {
   "codemirror_mode": {
    "name": "ipython",
    "version": 3
   },
   "file_extension": ".py",
   "mimetype": "text/x-python",
   "name": "python",
   "nbconvert_exporter": "python",
   "pygments_lexer": "ipython3",
   "version": "3.11.0"
  }
 },
 "nbformat": 4,
 "nbformat_minor": 5
}
