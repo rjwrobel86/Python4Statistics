{
 "cells": [
  {
   "cell_type": "markdown",
   "id": "f2969254-364e-48d1-bb67-6b97937249db",
   "metadata": {},
   "source": [
    "# Monte Hall Simulation"
   ]
  },
  {
   "cell_type": "code",
   "execution_count": 7,
   "id": "0520cfd2",
   "metadata": {},
   "outputs": [],
   "source": [
    "#Simulating the Monty Hall Problem \n",
    "import random\n",
    "import matplotlib.pyplot as plt\n",
    "\n",
    "def monty_hall_simulator(simulation_iterations):\n",
    "    wins_with_switch = 0\n",
    "    wins_without_switch = 0\n",
    "\n",
    "    for i in range(simulation_iterations):\n",
    "        #Randomly choose the door with the prize\n",
    "        prize_door = random.randint(1, 3)\n",
    "\n",
    "        #Randomly choose the player's initial door selection\n",
    "        player_choice = random.randint(1, 3)\n",
    "\n",
    "        #Monty opens a door with a goat behind it\n",
    "        #The door opened by Monty cannot be the prize door or the player's choice\n",
    "        monty_options = [1, 2, 3]\n",
    "        monty_options.remove(prize_door)\n",
    "        if player_choice in monty_options:\n",
    "            monty_options.remove(player_choice)\n",
    "        monty_opens = random.choice(monty_options)\n",
    "\n",
    "        #Player switches their choice\n",
    "        remaining_doors = [1, 2, 3]\n",
    "        remaining_doors.remove(player_choice)\n",
    "        remaining_doors.remove(monty_opens)\n",
    "        switched_choice = remaining_doors[0]\n",
    "\n",
    "        #Check if the player wins with switch\n",
    "        if switched_choice == prize_door:\n",
    "            wins_with_switch += 1\n",
    "\n",
    "        #Check if the player wins without switch\n",
    "        if player_choice == prize_door:\n",
    "            wins_without_switch += 1\n",
    "\n",
    "    #Calculate probabilities\n",
    "    switch_probability = wins_with_switch / simulation_iterations\n",
    "    no_switch_probability = wins_without_switch / simulation_iterations\n",
    "\n",
    "    #Print and/or return results \n",
    "    print(f\"Simulations: {simulation_iterations}\")\n",
    "    print(f\"Winning probability with switch: {switch_probability:.4f}\")\n",
    "    print(f\"Winning probability without switch: {no_switch_probability:.4f}\")\n",
    "\n",
    "    return switch_probability, no_switch_probability"
   ]
  },
  {
   "cell_type": "code",
   "execution_count": 10,
   "id": "7a19d1c5",
   "metadata": {},
   "outputs": [
    {
     "name": "stdout",
     "output_type": "stream",
     "text": [
      "Simulations: 10\n",
      "Winning probability with switch: 0.7000\n",
      "Winning probability without switch: 0.3000\n",
      "The probability of winning by switching is, given 10 iterations, is 0.7\n"
     ]
    }
   ],
   "source": [
    "# Run the simulation with 10 iterations\n",
    "p_win_switch, p_win_stay = monty_hall_simulator(10)\n",
    "print(f\"The probability of winning by switching is, given 10 iterations, is {p_win_switch}\")"
   ]
  },
  {
   "cell_type": "code",
   "execution_count": 12,
   "id": "20c18494",
   "metadata": {},
   "outputs": [
    {
     "name": "stdout",
     "output_type": "stream",
     "text": [
      "Simulations: 100000\n",
      "Winning probability with switch: 0.6671\n",
      "Winning probability without switch: 0.3329\n",
      "The probability of winning by switching, given 10,000 iterations, is 0.66709\n"
     ]
    }
   ],
   "source": [
    "#Run the simulation with 10,000 iterations\n",
    "p_win_switch, p_win_stay = monty_hall_simulator(100000)\n",
    "print(f\"The probability of winning by switching, given 10,000 iterations, is {p_win_switch}\")"
   ]
  },
  {
   "cell_type": "code",
   "execution_count": 17,
   "id": "69d8da78",
   "metadata": {},
   "outputs": [
    {
     "name": "stdout",
     "output_type": "stream",
     "text": [
      "Simulations: 5\n",
      "Winning probability with switch: 0.6000\n",
      "Winning probability without switch: 0.4000\n",
      "Simulations: 10\n",
      "Winning probability with switch: 0.6000\n",
      "Winning probability without switch: 0.4000\n",
      "Simulations: 50\n",
      "Winning probability with switch: 0.6600\n",
      "Winning probability without switch: 0.3400\n",
      "Simulations: 100\n",
      "Winning probability with switch: 0.6000\n",
      "Winning probability without switch: 0.4000\n",
      "Simulations: 250\n",
      "Winning probability with switch: 0.6680\n",
      "Winning probability without switch: 0.3320\n",
      "Simulations: 1000\n",
      "Winning probability with switch: 0.6650\n",
      "Winning probability without switch: 0.3350\n",
      "Simulations: 5000\n",
      "Winning probability with switch: 0.6726\n",
      "Winning probability without switch: 0.3274\n",
      "[(0.6, 0.4), (0.6, 0.4), (0.66, 0.34), (0.6, 0.4), (0.668, 0.332), (0.665, 0.335), (0.6726, 0.3274)]\n"
     ]
    }
   ],
   "source": [
    "#LLN\n",
    "\n",
    "#Run the simulation several times with different numbers of iterations and store the results in a list\n",
    "iterations_list = [5, 10, 50, 100, 250, 1000, 5000]\n",
    "results_list = []\n",
    "\n",
    "for i in iterations_list:\n",
    "    results_list.append(monty_hall_simulator(i))\n",
    "\n",
    "print(results_list)"
   ]
  },
  {
   "cell_type": "code",
   "execution_count": 18,
   "id": "58c3e48f",
   "metadata": {},
   "outputs": [
    {
     "name": "stdout",
     "output_type": "stream",
     "text": [
      "[0.6, 0.6, 0.66, 0.6, 0.668, 0.665, 0.6726]\n"
     ]
    }
   ],
   "source": [
    "switch_results_list = []\n",
    "\n",
    "for i in results_list:\n",
    "    value = i[0]\n",
    "    switch_results_list.append(value)\n",
    "\n",
    "print(switch_results_list)"
   ]
  },
  {
   "cell_type": "code",
   "execution_count": 19,
   "id": "0d202793",
   "metadata": {},
   "outputs": [
    {
     "data": {
      "image/png": "[encoded data removed]",
      "text/plain": [
       "<Figure size 640x480 with 1 Axes>"
      ]
     },
     "metadata": {},
     "output_type": "display_data"
    }
   ],
   "source": [
    "plt.scatter(iterations_list, switch_results_list)\n",
    "plt.title('More Iterations = Converge to Expected Values')\n",
    "plt.plot(iterations_list, switch_results_list, '-', color='red', label='Line')\n",
    "plt.show()"
   ]
  }
 ],
 "metadata": {
  "kernelspec": {
   "display_name": "Python [conda env:base] *",
   "language": "python",
   "name": "conda-base-py"
  },
  "language_info": {
   "codemirror_mode": {
    "name": "ipython",
    "version": 3
   },
   "file_extension": ".py",
   "mimetype": "text/x-python",
   "name": "python",
   "nbconvert_exporter": "python",
   "pygments_lexer": "ipython3",
   "version": "3.12.2"
  }
 },
 "nbformat": 4,
 "nbformat_minor": 5
}
