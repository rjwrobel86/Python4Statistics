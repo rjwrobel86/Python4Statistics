{
 "cells": [
  {
   "cell_type": "markdown",
   "id": "b8a16ad0-967d-47f6-9971-d9c2a7b170e3",
   "metadata": {},
   "source": [
    "# Using the Yahoo Finance API"
   ]
  },
  {
   "cell_type": "code",
   "execution_count": 6,
   "id": "0a777f8c",
   "metadata": {},
   "outputs": [
    {
     "name": "stdout",
     "output_type": "stream",
     "text": [
      "YF.download() has changed argument auto_adjust default to True\n"
     ]
    },
    {
     "name": "stderr",
     "output_type": "stream",
     "text": [
      "[*********************100%***********************]  1 of 1 completed"
     ]
    },
    {
     "name": "stdout",
     "output_type": "stream",
     "text": [
      "Price            Close        High         Low        Open     Volume\n",
      "Ticker            AAPL        AAPL        AAPL        AAPL       AAPL\n",
      "Date                                                                 \n",
      "1980-12-12    0.098726    0.099155    0.098726    0.098726  469033600\n",
      "1980-12-15    0.093575    0.094005    0.093575    0.094005  175884800\n",
      "1980-12-16    0.086707    0.087136    0.086707    0.087136  105728000\n",
      "1980-12-17    0.088853    0.089282    0.088853    0.088853   86441600\n",
      "1980-12-18    0.091429    0.091858    0.091429    0.091429   73449600\n",
      "...                ...         ...         ...         ...        ...\n",
      "2025-03-04  235.929993  240.070007  234.679993  237.710007   53798100\n",
      "2025-03-05  235.740005  236.550003  229.229996  235.419998   47227600\n",
      "2025-03-06  235.330002  237.860001  233.160004  234.440002   45170400\n",
      "2025-03-07  239.070007  241.369995  234.759995  235.110001   46245700\n",
      "2025-03-10  225.770004  236.160004  224.220001  235.479996   35993856\n",
      "\n",
      "[11150 rows x 5 columns]\n"
     ]
    },
    {
     "name": "stderr",
     "output_type": "stream",
     "text": [
      "\n"
     ]
    }
   ],
   "source": [
    "import yfinance as yf\n",
    "ticker_symbol = \"AAPL\" \n",
    "stock_data = yf.download(ticker_symbol)\n",
    "print(stock_data)"
   ]
  },
  {
   "cell_type": "code",
   "execution_count": 8,
   "id": "64eccd0e-f822-4c62-8d8a-cca79bfd2509",
   "metadata": {},
   "outputs": [
    {
     "name": "stderr",
     "output_type": "stream",
     "text": [
      "[*********************100%***********************]  1 of 1 completed"
     ]
    },
    {
     "name": "stdout",
     "output_type": "stream",
     "text": [
      "Price             Close         High          Low         Open      Volume\n",
      "Ticker            ^GSPC        ^GSPC        ^GSPC        ^GSPC       ^GSPC\n",
      "Date                                                                      \n",
      "1927-12-30    17.660000    17.660000    17.660000    17.660000           0\n",
      "1928-01-03    17.760000    17.760000    17.760000    17.760000           0\n",
      "1928-01-04    17.719999    17.719999    17.719999    17.719999           0\n",
      "1928-01-05    17.549999    17.549999    17.549999    17.549999           0\n",
      "1928-01-06    17.660000    17.660000    17.660000    17.660000           0\n",
      "...                 ...          ...          ...          ...         ...\n",
      "2025-03-04  5778.149902  5865.080078  5732.589844  5811.979980  6138110000\n",
      "2025-03-05  5842.629883  5860.589844  5742.350098  5781.359863  5285970000\n",
      "2025-03-06  5738.520020  5812.080078  5711.640137  5785.870117  5165080000\n",
      "2025-03-07  5770.200195  5783.009766  5666.290039  5726.009766  5705140000\n",
      "2025-03-10  5641.390137  5705.370117  5633.169922  5705.370117  1918731000\n",
      "\n",
      "[24412 rows x 5 columns]\n"
     ]
    },
    {
     "name": "stderr",
     "output_type": "stream",
     "text": [
      "\n"
     ]
    }
   ],
   "source": [
    "ticker_symbol = \"^GSPC\" \n",
    "stock_data = yf.download(ticker_symbol)\n",
    "print(stock_data)"
   ]
  }
 ],
 "metadata": {
  "kernelspec": {
   "display_name": "Python [conda env:base] *",
   "language": "python",
   "name": "conda-base-py"
  },
  "language_info": {
   "codemirror_mode": {
    "name": "ipython",
    "version": 3
   },
   "file_extension": ".py",
   "mimetype": "text/x-python",
   "name": "python",
   "nbconvert_exporter": "python",
   "pygments_lexer": "ipython3",
   "version": "3.12.2"
  }
 },
 "nbformat": 4,
 "nbformat_minor": 5
}
