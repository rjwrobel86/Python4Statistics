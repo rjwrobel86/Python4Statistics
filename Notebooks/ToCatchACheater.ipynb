{
 "cells": [
  {
   "cell_type": "code",
   "execution_count": 2,
   "id": "cea66703-7ad9-4293-9085-92b46959a4d7",
   "metadata": {
    "tags": []
   },
   "outputs": [
    {
     "data": {
      "image/png": "[encoded data removed]",
      "text/plain": [
       "<Figure size 640x480 with 1 Axes>"
      ]
     },
     "metadata": {},
     "output_type": "display_data"
    },
    {
     "name": "stdout",
     "output_type": "stream",
     "text": [
      "Mean Number of Wrong Answers By Group\n",
      "Mean Number of Wrong Answers - Cheating Observed Group: 7.333333333333333\n",
      "Mean Number of Wrong Answers - No Cheating Observed Group: 11.857142857142858\n",
      "\n",
      "\n",
      "Two Sample T-Test Comparing Group Means\n",
      "Two Sample T-Test Test Statistic: -2.871077245764772\n",
      "Two Sample T-Test Test Statistic P-Value: 0.012326459684984418\n",
      "\n",
      "\n",
      "CHEATING DETECTED at the 95% confidence level!!!!!\n"
     ]
    }
   ],
   "source": [
    "#Final Project - Hypothesis Testing IRL - Applied Business Statistics \n",
    "import numpy as np\n",
    "import scipy.stats as stats\n",
    "import matplotlib.pyplot as plt\n",
    "cheating_observed = [4,5,5,5,10,11,11,8,7]\n",
    "no_cheating_observed = [8,16,14,13,13,13,6]\n",
    "plt.boxplot([cheating_observed, no_cheating_observed])\n",
    "plt.show()\n",
    "print('Mean Number of Wrong Answers By Group')\n",
    "print(f'Mean Number of Wrong Answers - Cheating Observed Group: {np.mean(cheating_observed)}')\n",
    "print(f'Mean Number of Wrong Answers - No Cheating Observed Group: {np.mean(no_cheating_observed)}')\n",
    "t = stats.ttest_ind(cheating_observed, no_cheating_observed)\n",
    "print('\\n')\n",
    "print('Two Sample T-Test Comparing Group Means')\n",
    "print(f'Two Sample T-Test Test Statistic: {t[0]}')\n",
    "print(f'Two Sample T-Test Test Statistic P-Value: {t[1]}') \n",
    "if t[1] > 0.05:\n",
    "    print('The difference in groups is not statistically significant at the 95% confidence level.')\n",
    "else:\n",
    "    print('\\n') \n",
    "    print('CHEATING DETECTED at the 95% confidence level!!!!!')"
   ]
  },
  {
   "cell_type": "code",
   "execution_count": 4,
   "id": "8a758e04-2706-4f78-8247-1aa6a7426b7d",
   "metadata": {
    "tags": []
   },
   "outputs": [
    {
     "data": {
      "image/png": "[encoded data removed]",
      "text/plain": [
       "<Figure size 640x480 with 1 Axes>"
      ]
     },
     "metadata": {},
     "output_type": "display_data"
    },
    {
     "name": "stdout",
     "output_type": "stream",
     "text": [
      "Mean Number of Wrong Answers By Group\n",
      "Average Exam Score - Tuesday Class: 67.875\n",
      "Average Exam Score - Wednesday Class: 85.5\n",
      "\n",
      "\n",
      "Two Sample T-Test Comparing Group Means\n",
      "Two Sample T-Test Test Statistic: -2.871077245764772\n",
      "Two Sample T-Test Test Statistic P-Value: 0.012326459684984418\n",
      "\n",
      "\n",
      "CHEATING DETECTED at the 95% confidence level!!!!!\n"
     ]
    }
   ],
   "source": [
    "Tuesday_Scores = [86,83,83,83,66,62,62,72,76,72,45,52,55,55,55,79]\n",
    "Wednesday_Scores = [89,86,86,86,82,79,86,79,89,82,89,93]\n",
    "t2 = stats.ttest_ind(Tuesday_Scores, Wednesday_Scores)\n",
    "t2              \n",
    "\n",
    "plt.boxplot([Tuesday_Scores, Wednesday_Scores])\n",
    "plt.show()\n",
    "print('Mean Number of Wrong Answers By Group')\n",
    "print(f'Average Exam Score - Tuesday Class: {np.mean(Tuesday_Scores)}')\n",
    "print(f'Average Exam Score - Wednesday Class: {np.mean(Wednesday_Scores)}')\n",
    "print('\\n')\n",
    "print('Two Sample T-Test Comparing Group Means')\n",
    "print(f'Two Sample T-Test Test Statistic: {t[0]}')\n",
    "print(f'Two Sample T-Test Test Statistic P-Value: {t[1]}') \n",
    "if t2[1] > 0.05:\n",
    "    print('The difference in groups is not statistically significant at the 95% confidence level.')\n",
    "else:\n",
    "    print('\\n')\n",
    "    print('CHEATING DETECTED at the 95% confidence level!!!!!')"
   ]
  },
  {
   "cell_type": "code",
   "execution_count": 6,
   "id": "6419d8a7-8af6-4afb-ae12-7f7f87d3edaf",
   "metadata": {
    "tags": []
   },
   "outputs": [
    {
     "name": "stdout",
     "output_type": "stream",
     "text": [
      "[[2, 19], [26, 9]]\n",
      "Fisher's Exact Test Result: SignificanceResult(statistic=0.03643724696356275, pvalue=4.0081483590082785e-06)\n",
      "P-Value: 4.0081483590082785e-06\n",
      "Cheating and/or psychic activity detected at the 95% confidence level!!!!!\n"
     ]
    }
   ],
   "source": [
    "import scipy.stats as stats\n",
    "\n",
    "questions_answered_identically_tuesday = 2\n",
    "questions_answered_differently_tuesday = 26\n",
    "\n",
    "questions_answered_identically_wednesday = 19\n",
    "questions_answered_differently_wednesday = 9\n",
    "\n",
    "contingency_table = [[questions_answered_identically_tuesday, questions_answered_identically_wednesday], [questions_answered_differently_tuesday, questions_answered_differently_wednesday]]\n",
    "print(contingency_table)\n",
    "\n",
    "#Conduct Fisher's exact test\n",
    "fisher = stats.fisher_exact(contingency_table)\n",
    "\n",
    "print(\"Fisher's Exact Test Result:\", fisher)\n",
    "print(\"P-Value:\", fisher[1])\n",
    "\n",
    "if fisher[1] < 0.05:\n",
    "    print(\"Cheating and/or psychic activity detected at the 95% confidence level!!!!!\")"
   ]
  },
  {
   "cell_type": "code",
   "execution_count": 8,
   "id": "6ee899b1-69ac-4f21-9c3c-703769bab053",
   "metadata": {
    "tags": []
   },
   "outputs": [
    {
     "name": "stdout",
     "output_type": "stream",
     "text": [
      "Fisher's Exact Test Result: SignificanceResult(statistic=0.9177839116719243, pvalue=0.8613864959963761)\n",
      "P-Value: 0.8613864959963761\n",
      "Not everything that looks like a pattern is actually a pattern!\n"
     ]
    }
   ],
   "source": [
    "scratched_out_answers_tuesday = 19\n",
    "non_scratched_out_answers_tuesday = 317\n",
    "\n",
    "scratched_out_answers_wednesday = 16\n",
    "non_scratched_out_answers_wednesday = 245\n",
    "\n",
    "\n",
    "contingency_table_2 = [[scratched_out_answers_tuesday, scratched_out_answers_wednesday], [non_scratched_out_answers_tuesday, non_scratched_out_answers_wednesday]]\n",
    "\n",
    "fisher = stats.fisher_exact(contingency_table_2)\n",
    "\n",
    "print(\"Fisher's Exact Test Result:\", fisher)\n",
    "print(\"P-Value:\", fisher[1])\n",
    "\n",
    "if fisher[1] < 0.05:\n",
    "    print(\"Cheating and/or psychic activity detected at the 95% confidence level!!!!!\")\n",
    "else:\n",
    "    print(\"Not everything that looks like a pattern is actually a pattern!\")"
   ]
  }
 ],
 "metadata": {
  "kernelspec": {
   "display_name": "Python 3 (ipykernel)",
   "language": "python",
   "name": "python3"
  },
  "language_info": {
   "codemirror_mode": {
    "name": "ipython",
    "version": 3
   },
   "file_extension": ".py",
   "mimetype": "text/x-python",
   "name": "python",
   "nbconvert_exporter": "python",
   "pygments_lexer": "ipython3",
   "version": "3.11.0"
  }
 },
 "nbformat": 4,
 "nbformat_minor": 5
}
