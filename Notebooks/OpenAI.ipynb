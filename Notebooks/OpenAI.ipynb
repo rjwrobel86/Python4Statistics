{
 "cells": [
  {
   "cell_type": "code",
   "execution_count": 2,
   "id": "1c882bfd-7ed5-4a49-bcef-00414ea2b419",
   "metadata": {
    "tags": []
   },
   "outputs": [],
   "source": [
    "import os\n",
    "from pathlib import Path\n",
    "import openai\n",
    "from openai import OpenAI"
   ]
  },
  {
   "cell_type": "code",
   "execution_count": 8,
   "id": "1462e433-d458-460e-bcb5-4183554d884c",
   "metadata": {
    "tags": []
   },
   "outputs": [],
   "source": [
    "os.environ['OPENAI_API_KEY'] = 'KEY GOES HERE'"
   ]
  },
  {
   "cell_type": "code",
   "execution_count": 10,
   "id": "8837b95e-e2fc-44ad-ba3a-00a53d9e3b6e",
   "metadata": {
    "tags": []
   },
   "outputs": [],
   "source": [
    "api_key = os.getenv('OPENAI_API_KEY')\n",
    "\n",
    "#Initialize OpenAI API client\n",
    "openai.api_key = api_key"
   ]
  },
  {
   "cell_type": "code",
   "execution_count": 12,
   "id": "629a12c4-c1dc-41fd-98b5-9a2da841ba3e",
   "metadata": {
    "tags": []
   },
   "outputs": [
    {
     "name": "stderr",
     "output_type": "stream",
     "text": [
      "/var/folders/mq/k4my6f796832wdwl98qv078w0000gn/T/ipykernel_18258/352076170.py:8: DeprecationWarning: Due to a bug, this method doesn't actually stream the response content, `.with_streaming_response.method()` should be used instead\n",
      "  response.stream_to_file(speech_file)\n"
     ]
    }
   ],
   "source": [
    "#Text to speech\n",
    "speech_file = \"../Data/speech.mp3\"\n",
    "response = openai.audio.speech.create(\n",
    "  model=\"tts-1\",\n",
    "  voice=\"alloy\",\n",
    "  input=\"This is a demonstration of text to speech using the Open AI API.\"\n",
    ")\n",
    "response.stream_to_file(speech_file)"
   ]
  }
 ],
 "metadata": {
  "kernelspec": {
   "display_name": "Python 3 (ipykernel)",
   "language": "python",
   "name": "python3"
  },
  "language_info": {
   "codemirror_mode": {
    "name": "ipython",
    "version": 3
   },
   "file_extension": ".py",
   "mimetype": "text/x-python",
   "name": "python",
   "nbconvert_exporter": "python",
   "pygments_lexer": "ipython3",
   "version": "3.11.0"
  }
 },
 "nbformat": 4,
 "nbformat_minor": 5
}
