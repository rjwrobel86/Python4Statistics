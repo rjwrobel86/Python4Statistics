{
 "cells": [
  {
   "cell_type": "markdown",
   "id": "1f4a7919-842c-43bc-861c-c7bda518b623",
   "metadata": {},
   "source": [
    "# Measures of Association - Covariance and Correlation"
   ]
  },
  {
   "cell_type": "code",
   "execution_count": 1,
   "id": "6d238f67",
   "metadata": {},
   "outputs": [
    {
     "name": "stdout",
     "output_type": "stream",
     "text": [
      "The covariance of the two series is -7.8999999999999995.\n"
     ]
    }
   ],
   "source": [
    "#Covariance\n",
    "\n",
    "import numpy as np\n",
    "\n",
    "series_x = [1, 3, 3, 7, 10]\n",
    "series_y = [8, 4, 2, 2, 1]\n",
    "\n",
    "#Calculate the means of the series\n",
    "mean_x = sum(series_x) / len(series_x)\n",
    "mean_y = sum(series_y) / len(series_y)\n",
    "\n",
    "#Calculate the differences from the means using a list comprehension\n",
    "diff_x = [x - mean_x for x in series_x]\n",
    "diff_y = [y - mean_y for y in series_y]\n",
    "\n",
    "#Multiply the differences\n",
    "diffXdiff = np.multiply(diff_x,diff_y)\n",
    "\n",
    "#Sum the products\n",
    "sum_diffXdiff = np.sum(diffXdiff)\n",
    "\n",
    "#Divide by N or n-1\n",
    "covariance = sum_diffXdiff / (len(series_x) - 1)\n",
    "\n",
    "print(f\"The covariance of the two series is {covariance}.\")\n"
   ]
  },
  {
   "cell_type": "code",
   "execution_count": null,
   "id": "2bfa6641-d2b0-43de-a36c-f8e0ab2516e2",
   "metadata": {},
   "outputs": [],
   "source": [
    "#As a function\n",
    "def covariance(series_x, series_y):\n",
    "    mean_x = sum(series_x) / len(series_x)\n",
    "    mean_y = sum(series_y) / len(series_y)\n",
    "    diff_x = [x - mean_x for x in series_x]\n",
    "    diff_y = [y - mean_y for y in series_y]\n",
    "    diffXdiff = np.multiply(diff_x,diff_y)\n",
    "    sum_diffXdiff = np.sum(diffXdiff)\n",
    "    covariance = sum_diffXdiff / (len(series_x) - 1)\n",
    "    return covariance\n",
    "    "
   ]
  },
  {
   "cell_type": "code",
   "execution_count": 2,
   "id": "b4e20133-5e8a-4235-a971-152e4dec67bf",
   "metadata": {},
   "outputs": [
    {
     "name": "stdout",
     "output_type": "stream",
     "text": [
      "-7.899999999999999\n"
     ]
    }
   ],
   "source": [
    "#The easy way...\n",
    "series_x = [1, 3, 3, 7, 10]\n",
    "series_y = [8, 4, 2, 2, 1]\n",
    "\n",
    "covariance_xy = np.cov(series_x, series_y)[0][1]\n",
    "print(covariance_xy)"
   ]
  },
  {
   "cell_type": "code",
   "execution_count": 3,
   "id": "e32d2b5b",
   "metadata": {},
   "outputs": [
    {
     "name": "stdout",
     "output_type": "stream",
     "text": [
      "The data have a correlation coefficient of -0.7785613213856255\n"
     ]
    }
   ],
   "source": [
    "#Correlation\n",
    "\n",
    "series_x = [1, 3, 3, 7, 10]\n",
    "series_y = [8, 4, 2, 2, 1]\n",
    "\n",
    "#Calculate the means of the series\n",
    "mean_x = sum(series_x) / len(series_x)\n",
    "mean_y = sum(series_y) / len(series_y)\n",
    "\n",
    "#Calculate the differences from the means using a list comprehension\n",
    "diff_x = [x - mean_x for x in series_x]\n",
    "diff_y = [y - mean_y for y in series_y]\n",
    "\n",
    "#Multiply the differences\n",
    "diffXdiff = np.multiply(diff_x,diff_y)\n",
    "\n",
    "#Sum the products\n",
    "sum_diffXdiff = np.sum(diffXdiff)\n",
    "\n",
    "#Square the differences\n",
    "diff_x_squared = [x ** 2 for x in diff_x]\n",
    "diff_y_squared = [y ** 2 for y in diff_y]\n",
    "\n",
    "#Sum the squared differences\n",
    "sum_diff_x_squared = np.sum(diff_x_squared)\n",
    "sum_diff_y_squared = np.sum(diff_y_squared)\n",
    "\n",
    "#Multiply the sums\n",
    "sdxsXsdys = sum_diff_x_squared * sum_diff_y_squared\n",
    "\n",
    "#Take the square root of the multiplied sums\n",
    "sqrt_sdxsXsdys = np.sqrt(sdxsXsdys)\n",
    "\n",
    "#Finally, compute the correlation coefficent\n",
    "correlation = sum_diffXdiff / sqrt_sdxsXsdys\n",
    "\n",
    "print(f'The data have a correlation coefficient of {correlation}')"
   ]
  },
  {
   "cell_type": "code",
   "execution_count": 3,
   "id": "9b484596-546a-4418-a775-00a701625975",
   "metadata": {},
   "outputs": [
    {
     "name": "stdout",
     "output_type": "stream",
     "text": [
      "The data have a correlation coefficient of -0.7785613213856255\n"
     ]
    }
   ],
   "source": [
    "#As a function\n",
    "def correlation(series_x, series_y):\n",
    "    mean_x = sum(series_x) / len(series_x)\n",
    "    mean_y = sum(series_y) / len(series_y)\n",
    "    diff_x = [x - mean_x for x in series_x]\n",
    "    diff_y = [y - mean_y for y in series_y]\n",
    "    diffXdiff = np.multiply(diff_x,diff_y)\n",
    "    sum_diffXdiff = np.sum(diffXdiff)\n",
    "    diff_x_squared = [x ** 2 for x in diff_x]\n",
    "    diff_y_squared = [y ** 2 for y in diff_y]\n",
    "    sum_diff_x_squared = np.sum(diff_x_squared)\n",
    "    sum_diff_y_squared = np.sum(diff_y_squared)\n",
    "    sdxsXsdys = sum_diff_x_squared * sum_diff_y_squared\n",
    "    sqrt_sdxsXsdys = np.sqrt(sdxsXsdys)\n",
    "    correlation = sum_diffXdiff / sqrt_sdxsXsdys\n",
    "    return correlation"
   ]
  },
  {
   "cell_type": "code",
   "execution_count": 4,
   "id": "be02dd00-8635-4a42-b05e-1de1fc741d75",
   "metadata": {},
   "outputs": [
    {
     "name": "stdout",
     "output_type": "stream",
     "text": [
      "-0.7785613213856253\n"
     ]
    }
   ],
   "source": [
    "#The easy way...\n",
    "series_x = [1, 3, 3, 7, 10]\n",
    "series_y = [8, 4, 2, 2, 1]\n",
    "\n",
    "correlation_xy = np.corrcoef(series_x, series_y)[0][1]\n",
    "print(correlation_xy)"
   ]
  }
 ],
 "metadata": {
  "kernelspec": {
   "display_name": "Python [conda env:base] *",
   "language": "python",
   "name": "conda-base-py"
  },
  "language_info": {
   "codemirror_mode": {
    "name": "ipython",
    "version": 3
   },
   "file_extension": ".py",
   "mimetype": "text/x-python",
   "name": "python",
   "nbconvert_exporter": "python",
   "pygments_lexer": "ipython3",
   "version": "3.12.7"
  }
 },
 "nbformat": 4,
 "nbformat_minor": 5
}
