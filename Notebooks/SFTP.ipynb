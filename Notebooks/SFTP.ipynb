{
 "cells": [
  {
   "cell_type": "code",
   "execution_count": null,
   "id": "62028324-7db4-446c-8b50-0a5d3a7dda56",
   "metadata": {},
   "outputs": [],
   "source": [
    "#Downloading Files Via SFTP\n",
    "import pysftp\n",
    "\n",
    "hostname = \"SFTP_URL\"\n",
    "username = \"USERNAME\"\n",
    "password = \"PASSWORD\"\n",
    "remote_file_path = \"/FILE_TO_DOWNLOAD_PATH_AND_NAME\"\n",
    "local_file_path = \"/DOWNLOADED_PATH_AND_FILE_NAME\"\n",
    "\n",
    "cnopts = pysftp.CnOpts()\n",
    "cnopts.hostkeys = None  \n",
    "\n",
    "with pysftp.Connection(hostname, username=username, password=password, cnopts=cnopts) as sftp:\n",
    "    sftp.get(remote_file_path, local_file_path)  "
   ]
  }
 ],
 "metadata": {
  "kernelspec": {
   "display_name": "Python [conda env:base] *",
   "language": "python",
   "name": "conda-base-py"
  },
  "language_info": {
   "codemirror_mode": {
    "name": "ipython",
    "version": 3
   },
   "file_extension": ".py",
   "mimetype": "text/x-python",
   "name": "python",
   "nbconvert_exporter": "python",
   "pygments_lexer": "ipython3",
   "version": "3.12.2"
  }
 },
 "nbformat": 4,
 "nbformat_minor": 5
}
