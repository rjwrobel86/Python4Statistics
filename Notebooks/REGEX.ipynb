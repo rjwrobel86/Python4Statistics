{
 "cells": [
  {
   "cell_type": "markdown",
   "id": "174dd3bc-a38a-4520-99e3-7cfe93c69669",
   "metadata": {},
   "source": [
    "# Pattern Matching with Regular Expressions (REGEX)"
   ]
  },
  {
   "cell_type": "code",
   "execution_count": 1,
   "id": "1673cfe2-7d09-4be5-bb44-bc3cfc0e7840",
   "metadata": {
    "tags": []
   },
   "outputs": [],
   "source": [
    "import re\n",
    "\n",
    "#REGEX is tricky.  There are several guides and tools online."
   ]
  },
  {
   "cell_type": "code",
   "execution_count": 29,
   "id": "42e59f91-dbff-482d-8d2a-b02d9b265fbf",
   "metadata": {
    "tags": []
   },
   "outputs": [
    {
     "name": "stdout",
     "output_type": "stream",
     "text": [
      "['quick', 'brown', 'jumps']\n"
     ]
    }
   ],
   "source": [
    "#Find words matching a pattern\n",
    "text = \"The quick brown fox jumps over the lazy dog\"\n",
    "pattern = r\"\\b\\w{5}\\b\"  #Match words that are exactly 5 characters long\n",
    "result = re.findall(pattern, text)\n",
    "print(result)"
   ]
  },
  {
   "cell_type": "code",
   "execution_count": 31,
   "id": "442c57d7-9130-4220-a23d-49d3926fb512",
   "metadata": {
    "tags": []
   },
   "outputs": [
    {
     "name": "stdout",
     "output_type": "stream",
     "text": [
      "['quick', 'brown', 'jumps']\n"
     ]
    }
   ],
   "source": [
    "#Find words matching a pattern - Words that are five letters long\n",
    "text = \"The quick brown fox jumps over the lazy dog\"\n",
    "pattern = r\"\\b\\w{5}\\b\"  #Match words that are exactly 5 characters long\n",
    "result = re.findall(pattern, text)\n",
    "print(result)"
   ]
  },
  {
   "cell_type": "code",
   "execution_count": 33,
   "id": "15f4698a-b42a-4fba-85e0-08cb2e170d7a",
   "metadata": {
    "tags": []
   },
   "outputs": [
    {
     "name": "stdout",
     "output_type": "stream",
     "text": [
      "['Brent', 'broke', 'broom', 'breeze']\n"
     ]
    }
   ],
   "source": [
    "#Find words matching a pattern - Words that start with \"br\"\n",
    "text = \"Brent broke the broom while sweeping in a breeze\"\n",
    "pattern = r\"\\bbr\\w*\\b\"\n",
    "words_starting_with_br = re.findall(pattern, text, flags=re.IGNORECASE)\n",
    "print(words_starting_with_br)"
   ]
  },
  {
   "cell_type": "code",
   "execution_count": 35,
   "id": "2aff371b-f6a0-474c-bc32-0088a96e2877",
   "metadata": {
    "tags": []
   },
   "outputs": [
    {
     "name": "stdout",
     "output_type": "stream",
     "text": [
      "Hello, Python!\n"
     ]
    }
   ],
   "source": [
    "#Find and replace\n",
    "text = \"Hello, world!\"\n",
    "pattern = r\"world\"\n",
    "replacement = \"Python\"\n",
    "result = re.sub(pattern, replacement, text)\n",
    "print(result)"
   ]
  },
  {
   "cell_type": "code",
   "execution_count": 37,
   "id": "9448e4bf-a1a4-49e9-9fb4-3855f4395d8e",
   "metadata": {
    "tags": []
   },
   "outputs": [
    {
     "name": "stdout",
     "output_type": "stream",
     "text": [
      "Valid email\n",
      "Invalid email\n"
     ]
    }
   ],
   "source": [
    "#Pattern validation\n",
    "def is_valid_email(email):\n",
    "    pattern = r\"\\b[A-Za-z0-9._%+-]+@[A-Za-z0-9.-]+\\.[A-Z|a-z]{2,}\\b\"\n",
    "    return re.fullmatch(pattern, email) is not None\n",
    "\n",
    "email1 = \"example@example.com\"\n",
    "\n",
    "if is_valid_email(email1):\n",
    "    print(\"Valid email\")\n",
    "else:\n",
    "    print(\"Invalid email\")\n",
    "    \n",
    "email2 = \"example@@example.com\"\n",
    "\n",
    "if is_valid_email(email2):\n",
    "    print(\"Valid email\")\n",
    "else:\n",
    "    print(\"Invalid email\")"
   ]
  },
  {
   "cell_type": "code",
   "execution_count": 39,
   "id": "be35e8a6-675a-42cf-b87b-aaeef5af2031",
   "metadata": {
    "tags": []
   },
   "outputs": [
    {
     "name": "stdout",
     "output_type": "stream",
     "text": [
      "info@example.com\n",
      "support@example.org\n"
     ]
    }
   ],
   "source": [
    "text = \"Contact us at info@example.com or support@example.org\"\n",
    "\n",
    "email_pattern = r\"\\b[A-Za-z0-9._%+-]+@[A-Za-z0-9.-]+\\.[A-Z|a-z]{2,}\\b\"\n",
    "\n",
    "email_addresses = re.findall(email_pattern, text)\n",
    "\n",
    "for email_address in email_addresses:\n",
    "    print(email_address)"
   ]
  },
  {
   "cell_type": "code",
   "execution_count": 41,
   "id": "600a4dea-48a7-4c07-99c3-a7ef505f88f3",
   "metadata": {
    "tags": []
   },
   "outputs": [
    {
     "name": "stdout",
     "output_type": "stream",
     "text": [
      "123-456-7890\n",
      "654-3210\n",
      "555-1234\n",
      "888-9999\n"
     ]
    }
   ],
   "source": [
    "text = \"\"\"\n",
    "John: 123-456-7890\n",
    "Jane: (987) 654-3210\n",
    "Alice: 555-1234\n",
    "Bob: 888-9999\n",
    "\"\"\"\n",
    "\n",
    "phone_pattern = r\"\\b(?:\\d{3}[-.]?)?\\d{3}[-.]?\\d{4}\\b\"\n",
    "\n",
    "phone_numbers = re.findall(phone_pattern, text)\n",
    "\n",
    "for phone_number in phone_numbers:\n",
    "    print(phone_number)"
   ]
  },
  {
   "cell_type": "code",
   "execution_count": 43,
   "id": "30ece2de-1ac8-4e0a-b5ee-8d59281a0ca8",
   "metadata": {
    "tags": []
   },
   "outputs": [
    {
     "name": "stdout",
     "output_type": "stream",
     "text": [
      "Email addresses: {'tim@apple.com', 'elon@x.com', 'robertwrobel49@webster.edu'}\n",
      "Phone numbers: {'123-456-7890', '654-3210', '555-1234', '888-9999'}\n",
      "Credit card numbers: {'1234 5678 9101 1121'}\n",
      "Social security numbers: {'492-91-1234'}\n"
     ]
    }
   ],
   "source": [
    "#Searching a text file for important information\n",
    "#Regular expressions for email, phone number, credit card number, and social security number\n",
    "email_pattern = r\"\\b[A-Za-z0-9._%+-]+@[A-Za-z0-9.-]+\\.[A-Z|a-z]{2,}\\b\"\n",
    "phone_pattern = r\"\\b(?:\\d{3}[-.]?)?\\d{3}[-.]?\\d{4}\\b\"\n",
    "credit_card_pattern = r\"\\b(?:\\d[ -]*?){13,16}\\b\"\n",
    "ssn_pattern = r\"\\b(?:\\d{3}-\\d{2}-\\d{4})\\b\"\n",
    "\n",
    "#Open the text file for reading\n",
    "with open(\"regex.txt\", \"r\") as file:\n",
    "    text = file.read()\n",
    "\n",
    "#Search for patterns in the text\n",
    "email_addresses = set(re.findall(email_pattern, text))\n",
    "phone_numbers = set(re.findall(phone_pattern, text))\n",
    "credit_card_numbers = set(re.findall(credit_card_pattern, text))\n",
    "social_security_numbers = set(re.findall(ssn_pattern, text))\n",
    "\n",
    "#Print the results\n",
    "print(\"Email addresses:\", email_addresses)\n",
    "print(\"Phone numbers:\", phone_numbers)\n",
    "print(\"Credit card numbers:\", credit_card_numbers)\n",
    "print(\"Social security numbers:\", social_security_numbers)"
   ]
  }
 ],
 "metadata": {
  "kernelspec": {
   "display_name": "Python 3 (ipykernel)",
   "language": "python",
   "name": "python3"
  },
  "language_info": {
   "codemirror_mode": {
    "name": "ipython",
    "version": 3
   },
   "file_extension": ".py",
   "mimetype": "text/x-python",
   "name": "python",
   "nbconvert_exporter": "python",
   "pygments_lexer": "ipython3",
   "version": "3.11.0"
  }
 },
 "nbformat": 4,
 "nbformat_minor": 5
}
