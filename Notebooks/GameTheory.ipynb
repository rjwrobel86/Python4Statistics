{
 "cells": [
  {
   "cell_type": "markdown",
   "id": "70483b45-9bd2-4628-af4c-5bfa990ff843",
   "metadata": {},
   "source": [
    "# Game Theory"
   ]
  },
  {
   "cell_type": "code",
   "execution_count": 4,
   "id": "260bfd82-ea5f-4c2c-b325-a3ca6540f557",
   "metadata": {},
   "outputs": [],
   "source": [
    "import nashpy as nash\n",
    "import numpy as np"
   ]
  },
  {
   "cell_type": "code",
   "execution_count": 24,
   "id": "1e5ef590-bc15-4e72-9e35-0132b3fce0c6",
   "metadata": {},
   "outputs": [
    {
     "name": "stdout",
     "output_type": "stream",
     "text": [
      "Nash Equilibria in Pure Strategies:\n",
      "Player A: [0. 1.], Player B: [0. 1.]\n"
     ]
    }
   ],
   "source": [
    "#Prisoner's Dilemma \n",
    "\n",
    "#Payoff matrices\n",
    "A = np.array([[3, 0],  #Cooperate\n",
    "              [5, 1]]) #Defect\n",
    "\n",
    "B = np.array([[3, 5],  #Cooperate\n",
    "              [0, 1]]) #Defect\n",
    "\n",
    "game = nash.Game(A, B)\n",
    "\n",
    "#Find Nash equilibria using support enumeration\n",
    "equilibria = list(game.support_enumeration())\n",
    "\n",
    "print(\"Nash Equilibria in Pure Strategies:\")\n",
    "for eq in equilibria:\n",
    "    print(f\"Player A: {eq[0]}, Player B: {eq[1]}\")"
   ]
  },
  {
   "cell_type": "code",
   "execution_count": 26,
   "id": "6d821bb1-1b61-4783-9a57-4556ff96b7b8",
   "metadata": {},
   "outputs": [
    {
     "name": "stdout",
     "output_type": "stream",
     "text": [
      "Player A: [0.33333333 0.33333333 0.33333333], Player B: [0.33333333 0.33333333 0.33333333]\n"
     ]
    }
   ],
   "source": [
    "#Rock Paper Scissors \n",
    "\n",
    "#Payoff matricies\n",
    "#0 if draw, 1 if win, -1 if loss\n",
    "\n",
    "A = np.array([[0, -1, 1],  #Rock \n",
    "              [1, 0, -1],  #Paper \n",
    "              [-1, 1, 0]]) #Scissors \n",
    "\n",
    "B = np.array([[0, 1, -1],  #Rock\n",
    "              [-1, 0, 1],  #Paper\n",
    "              [1, -1, 0]]) #Scissors\n",
    "\n",
    "#B = -A  \n",
    "\n",
    "rps_game = nash.Game(A, B)\n",
    "\n",
    "#Find Nash equilibria using support enumeration\n",
    "equilibria = list(rps_game.support_enumeration())\n",
    "\n",
    "for eq in equilibria:\n",
    "    print(f\"Player A: {eq[0]}, Player B: {eq[1]}\")"
   ]
  }
 ],
 "metadata": {
  "kernelspec": {
   "display_name": "Python [conda env:base] *",
   "language": "python",
   "name": "conda-base-py"
  },
  "language_info": {
   "codemirror_mode": {
    "name": "ipython",
    "version": 3
   },
   "file_extension": ".py",
   "mimetype": "text/x-python",
   "name": "python",
   "nbconvert_exporter": "python",
   "pygments_lexer": "ipython3",
   "version": "3.12.2"
  }
 },
 "nbformat": 4,
 "nbformat_minor": 5
}
