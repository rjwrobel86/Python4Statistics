{
 "cells": [
  {
   "cell_type": "markdown",
   "id": "c5aa027e-26f5-4c78-b5d2-f3187a5e5d16",
   "metadata": {},
   "source": [
    "# Sympy for Symbolic Math"
   ]
  },
  {
   "cell_type": "code",
   "execution_count": 9,
   "id": "a132717b-0e64-43fc-886c-617f3e131392",
   "metadata": {},
   "outputs": [],
   "source": [
    "import sympy as sp\n",
    "\n",
    "#Allows for prettier printing \n",
    "#sp.init_printing()\n",
    "\n",
    "#Declaring variables\n",
    "x, y = sp.symbols('x y')"
   ]
  },
  {
   "cell_type": "code",
   "execution_count": 10,
   "id": "d844d634-1cff-45d1-8da5-2ee55730e670",
   "metadata": {},
   "outputs": [
    {
     "name": "stdout",
     "output_type": "stream",
     "text": [
      "x + 1\n"
     ]
    }
   ],
   "source": [
    "#Simplifying expressions\n",
    "expr = (x**2 + 2*x + 1) / (x + 1)\n",
    "simplified_expr = sp.simplify(expr)\n",
    "sp.pprint(simplified_expr)"
   ]
  },
  {
   "cell_type": "code",
   "execution_count": 11,
   "id": "217cc75e-094d-4df2-aec8-f9b20b6bf6cc",
   "metadata": {},
   "outputs": [
    {
     "name": "stdout",
     "output_type": "stream",
     "text": [
      "[-√2, √2]\n"
     ]
    }
   ],
   "source": [
    "#Solving equations\n",
    "equation = x**2 - 2\n",
    "solutions = sp.solve(equation, x)\n",
    "sp.pprint(solutions)"
   ]
  },
  {
   "cell_type": "code",
   "execution_count": 12,
   "id": "86d6e93d-fd95-4923-baed-c8f6fb84bce5",
   "metadata": {},
   "outputs": [
    {
     "name": "stdout",
     "output_type": "stream",
     "text": [
      "{x: 7/5, y: -8/5}\n"
     ]
    }
   ],
   "source": [
    "#Solving systems of equations\n",
    "eq1 = sp.Eq(3*x + 2*y, 1)\n",
    "eq2 = sp.Eq(x - y, 3)\n",
    "solution = sp.solve((eq1, eq2), (x, y))\n",
    "sp.pprint(solution)"
   ]
  },
  {
   "cell_type": "code",
   "execution_count": 13,
   "id": "136b0732-454a-41d4-bbec-0e739f437c69",
   "metadata": {},
   "outputs": [
    {
     "name": "stdout",
     "output_type": "stream",
     "text": [
      "       ⎛ 2⎞\n",
      "2⋅x⋅cos⎝x ⎠\n"
     ]
    }
   ],
   "source": [
    "#Differentiation\n",
    "f = sp.sin(x**2)\n",
    "df = sp.diff(f, x)\n",
    "sp.pprint(df)"
   ]
  },
  {
   "cell_type": "code",
   "execution_count": 14,
   "id": "7f3094c3-db44-4146-9179-7506626c780b",
   "metadata": {},
   "outputs": [
    {
     "name": "stdout",
     "output_type": "stream",
     "text": [
      "√π\n"
     ]
    }
   ],
   "source": [
    "#Integration \n",
    "g = sp.exp(-x**2)\n",
    "integral = sp.integrate(g, (x, -sp.oo, sp.oo))\n",
    "sp.pprint(integral)"
   ]
  },
  {
   "cell_type": "code",
   "execution_count": 15,
   "id": "bab5d72b-5a88-45aa-88d7-d836adb0d51d",
   "metadata": {},
   "outputs": [
    {
     "name": "stdout",
     "output_type": "stream",
     "text": [
      "Matrix sum:\n",
      "⎡6   8 ⎤\n",
      "⎢      ⎥\n",
      "⎣10  12⎦\n",
      "Matrix product:\n",
      "⎡19  22⎤\n",
      "⎢      ⎥\n",
      "⎣43  50⎦\n",
      "Matrix inverse:\n",
      "⎡-2    1  ⎤\n",
      "⎢         ⎥\n",
      "⎣3/2  -1/2⎦\n"
     ]
    }
   ],
   "source": [
    "#Matrix operations\n",
    "A = sp.Matrix([[1, 2], [3, 4]])\n",
    "B = sp.Matrix([[5, 6], [7, 8]])\n",
    "\n",
    "matrix_sum = A + B\n",
    "matrix_product = A * B\n",
    "matrix_inverse = A.inv()\n",
    "\n",
    "print(\"Matrix sum:\")\n",
    "sp.pprint(matrix_sum)\n",
    "print(\"Matrix product:\")\n",
    "sp.pprint(matrix_product)\n",
    "print(\"Matrix inverse:\")\n",
    "sp.pprint(matrix_inverse)"
   ]
  },
  {
   "cell_type": "code",
   "execution_count": 4,
   "id": "3e02ef9c-e083-48b1-a80a-c73609104c0f",
   "metadata": {},
   "outputs": [
    {
     "data": {
      "text/plain": [
       "{lambda: 52, x: 49/2, y: 51}"
      ]
     },
     "execution_count": 4,
     "metadata": {},
     "output_type": "execute_result"
    }
   ],
   "source": [
    "from sympy import symbols, Eq, solve\n",
    "\n",
    "#Define the variables\n",
    "x, y, lambda_ = symbols('x y lambda')\n",
    "\n",
    "#Define the profit function\n",
    "profit_function = 2 * x * y + 2 * x + 3 * y\n",
    "\n",
    "#Define the constraint\n",
    "constraint = 100 - 2 * x - y\n",
    "\n",
    "#Formulate the Lagrangian\n",
    "Lagrangian = profit_function + lambda_ * constraint\n",
    "\n",
    "#First order conditions\n",
    "dL_dx = Lagrangian.diff(x)\n",
    "dL_dy = Lagrangian.diff(y)\n",
    "dL_dlambda = Lagrangian.diff(lambda_)\n",
    "\n",
    "#Solve the system of equations\n",
    "solutions = solve((dL_dx, dL_dy, dL_dlambda), (x, y, lambda_))\n",
    "solutions"
   ]
  }
 ],
 "metadata": {
  "kernelspec": {
   "display_name": "Python 3 (ipykernel)",
   "language": "python",
   "name": "python3"
  },
  "language_info": {
   "codemirror_mode": {
    "name": "ipython",
    "version": 3
   },
   "file_extension": ".py",
   "mimetype": "text/x-python",
   "name": "python",
   "nbconvert_exporter": "python",
   "pygments_lexer": "ipython3",
   "version": "3.11.0"
  }
 },
 "nbformat": 4,
 "nbformat_minor": 5
}
