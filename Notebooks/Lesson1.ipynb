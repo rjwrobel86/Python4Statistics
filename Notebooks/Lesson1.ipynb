{
 "cells": [
  {
   "cell_type": "markdown",
   "id": "8c99d3aa-7976-4920-81c1-5bf446f496c4",
   "metadata": {},
   "source": [
    "# Intro to Python and Descriptive Statistics"
   ]
  },
  {
   "cell_type": "code",
   "execution_count": 2,
   "id": "6fed8e0b-c475-4ee0-aec0-37bfc0425900",
   "metadata": {
    "tags": []
   },
   "outputs": [
    {
     "data": {
      "text/plain": [
       "'\\nTo make multi-line comments, use three apostrophes to open and close your comments\\nNew line, still commenting\\n'"
      ]
     },
     "execution_count": 2,
     "metadata": {},
     "output_type": "execute_result"
    }
   ],
   "source": [
    "#The pound sign is used to write comments \n",
    "#Write comments in your code so you and others can understand it\n",
    "\n",
    "'''\n",
    "To make multi-line comments, use three apostrophes to open and close your comments\n",
    "New line, still commenting\n",
    "'''"
   ]
  },
  {
   "cell_type": "code",
   "execution_count": 15,
   "id": "7995398c-52d1-476b-a804-ab1563bfb453",
   "metadata": {
    "tags": []
   },
   "outputs": [
    {
     "name": "stdout",
     "output_type": "stream",
     "text": [
      "Hello world!\n"
     ]
    }
   ],
   "source": [
    "#Priting to console\n",
    "print(\"Hello world!\") #this is a comment"
   ]
  },
  {
   "cell_type": "code",
   "execution_count": 10,
   "id": "2d24528a-1b6c-4a45-bf68-03db442b58c1",
   "metadata": {},
   "outputs": [
    {
     "name": "stdout",
     "output_type": "stream",
     "text": [
      "<class 'int'>\n",
      "<class 'float'>\n",
      "<class 'str'>\n",
      "<class 'str'>\n",
      "<class 'bool'>\n",
      "<class 'str'>\n"
     ]
    }
   ],
   "source": [
    "#Basic Data Types\n",
    "print(type(1))\n",
    "print(type(1.0))\n",
    "print(type('a'))\n",
    "print(type('1'))\n",
    "print(type(True))\n",
    "print(type('True'))"
   ]
  },
  {
   "cell_type": "code",
   "execution_count": 12,
   "id": "146d7d0e",
   "metadata": {},
   "outputs": [
    {
     "name": "stdout",
     "output_type": "stream",
     "text": [
      "579\n",
      "-333\n",
      "56088\n",
      "0.26973684210526316\n"
     ]
    }
   ],
   "source": [
    "#Basic Arithmatic\n",
    "print(123 + 456)\n",
    "print(123 - 456)\n",
    "print(123 * 456)\n",
    "print(123 / 456)"
   ]
  },
  {
   "cell_type": "code",
   "execution_count": 19,
   "id": "2f910e2a-cf2b-4cee-9d88-8f3b53dc5389",
   "metadata": {},
   "outputs": [
    {
     "name": "stdout",
     "output_type": "stream",
     "text": [
      "me\n",
      "2.0\n"
     ]
    }
   ],
   "source": [
    "#Variables\n",
    "\n",
    "teacher = \"me\"\n",
    "print(teacher)\n",
    "\n",
    "x = 5\n",
    "y = 10\n",
    "print(y / x)"
   ]
  },
  {
   "cell_type": "code",
   "execution_count": 6,
   "id": "ce4cb2ab-57d8-4491-8ea2-d1d82135e622",
   "metadata": {},
   "outputs": [
    {
     "name": "stdout",
     "output_type": "stream",
     "text": [
      "[1, 2, 3, 4, 5, 6, 7]\n",
      "1\n",
      "2\n",
      "7\n",
      "[1, 2, 3]\n",
      "[3, 4, 5, 6, 7]\n",
      "[3, 4]\n",
      "[0, 1, 2, 3, 4, 5, 6, 7]\n",
      "[0, 1, 2, 4, 5, 6, 7]\n"
     ]
    }
   ],
   "source": [
    "#Lists \n",
    "example_list = [1, 2, 3, 4, 5, 6, 7]\n",
    "print(example_list)\n",
    "\n",
    "#Slicing Lists\n",
    "#Lists are indexed starting at 0, meaning the first item in a list is item #0, not item #1\n",
    "#The end point for a slice is not included in the returned list\n",
    "\n",
    "print(example_list[0]) #Selects first item in list\n",
    "print(example_list[1]) #Selects second number in list\n",
    "print(example_list[-1]) #Selects last item in list\n",
    "print(example_list[:3])  #Ends prior to 3rd place\n",
    "print(example_list[2:])  #Starts at 3rd place \n",
    "print(example_list[2:4]) #Starts at 3rd place and ends before 5\n",
    "\n",
    "example_list.insert(0,0) #Insert values into a list.  insert(index, value)\n",
    "print(example_list)\n",
    "\n",
    "example_list.remove(3)\n",
    "print(example_list)"
   ]
  },
  {
   "cell_type": "code",
   "execution_count": 14,
   "id": "429f5c29-aa20-4a6d-96a1-18fd006e9b90",
   "metadata": {},
   "outputs": [
    {
     "name": "stdout",
     "output_type": "stream",
     "text": [
      "dict_keys(['age', 'name', 'IQ'])\n",
      "dict_items([('age', 38), ('name', 'Robert'), ('IQ', 300)])\n",
      "Robert\n"
     ]
    },
    {
     "data": {
      "text/plain": [
       "38"
      ]
     },
     "execution_count": 14,
     "metadata": {},
     "output_type": "execute_result"
    }
   ],
   "source": [
    "#Dictionaries\n",
    "example_dictionary = {'age':38, 'name':'Robert', 'IQ':300}\n",
    "\n",
    "print(example_dictionary.keys()) #Get the keys from a dictionary\n",
    "example_dictionary.values() #Get the values from a dictionary\n",
    "print(example_dictionary.items()) #Get all key/value pairs from a dictionary\n",
    "\n",
    "print(example_dictionary.get(\"name\")) #Get values by key\n",
    "example_dictionary['age'] #Get values by key too\n"
   ]
  },
  {
   "cell_type": "code",
   "execution_count": 16,
   "id": "353b5897-dad5-41f5-870a-90db85ea7ad4",
   "metadata": {
    "tags": []
   },
   "outputs": [
    {
     "name": "stdout",
     "output_type": "stream",
     "text": [
      "You sure put's the FUN in FUNction\n"
     ]
    }
   ],
   "source": [
    "#Creating functions\n",
    "#Declare that you're creating a function, give it a name, followed by \"():\"\n",
    "def myfunction():\n",
    "#Give your function something to do.  Also, be sure to indent.\n",
    "    print(\"You sure put's the FUN in FUNction\")\n",
    "#Call your function by typing its name\n",
    "myfunction()"
   ]
  },
  {
   "cell_type": "code",
   "execution_count": 21,
   "id": "2dfe5d35-2d63-41f4-ae36-93404b2fa9e6",
   "metadata": {
    "tags": []
   },
   "outputs": [
    {
     "name": "stdout",
     "output_type": "stream",
     "text": [
      "Hi Bob\n"
     ]
    }
   ],
   "source": [
    "#Creating functions with arguments / parameters\n",
    "def my2ndfunction(name):\n",
    "    print(\"Hi \" + name)\n",
    "\n",
    "my2ndfunction(\"Bob\")"
   ]
  },
  {
   "cell_type": "code",
   "execution_count": 5,
   "id": "83aa1aad-2eb2-4bf5-a4f0-25b06dcd6271",
   "metadata": {
    "tags": []
   },
   "outputs": [
    {
     "name": "stdout",
     "output_type": "stream",
     "text": [
      "7\n",
      "3\n"
     ]
    }
   ],
   "source": [
    "#Use \"return\" at the end of your function to pass data back to your script / environment\n",
    "def my3rdfunction(x,y):\n",
    "    return x + y\n",
    "\n",
    "x = my3rdfunction(3, 4)\n",
    "y = my3rdfunction(1, 2)\n",
    "print(x)\n",
    "print(y)"
   ]
  },
  {
   "cell_type": "code",
   "execution_count": 7,
   "id": "f38807db-cfdb-436a-87af-c2126a4f4959",
   "metadata": {
    "tags": []
   },
   "outputs": [
    {
     "name": "stdout",
     "output_type": "stream",
     "text": [
      "Hi Bob. You're awesome!\n"
     ]
    }
   ],
   "source": [
    "#\"F string interpolation\" \n",
    "status = \"awesome\"\n",
    "def my4thfunction(name):\n",
    "    print(f\"Hi {name}. You're {status}!\")\n",
    "\n",
    "my4thfunction(\"Bob\")"
   ]
  },
  {
   "cell_type": "code",
   "execution_count": 23,
   "id": "0ec398f0-3970-4edf-b661-8870682d753e",
   "metadata": {
    "tags": []
   },
   "outputs": [
    {
     "name": "stdout",
     "output_type": "stream",
     "text": [
      "1\n",
      "4\n",
      "9\n",
      "16\n",
      "25\n",
      "36\n",
      "49\n"
     ]
    }
   ],
   "source": [
    "#For loops\n",
    "list = [1, 2, 3, 4, 5, 6, 7]\n",
    "\n",
    "for i in list:\n",
    "    z = i ** 2\n",
    "    print(z)\n"
   ]
  },
  {
   "cell_type": "code",
   "execution_count": 11,
   "id": "db9aff97",
   "metadata": {
    "tags": []
   },
   "outputs": [
    {
     "name": "stdout",
     "output_type": "stream",
     "text": [
      "[1, 4, 9, 16, 25]\n"
     ]
    }
   ],
   "source": [
    "#For loops with append\n",
    "\n",
    "my_list = [1, 2, 3, 4, 5]\n",
    "squares = [] #Create an empty list to fill with output from loop\n",
    "\n",
    "for i in my_list:\n",
    "    i_squared = i * i\n",
    "    squares.append(i_squared)\n",
    "\n",
    "print(squares)"
   ]
  },
  {
   "cell_type": "code",
   "execution_count": null,
   "id": "fd906518-a109-46da-8fdf-befb37ab9408",
   "metadata": {},
   "outputs": [],
   "source": [
    "#Range\n",
    "#range(start, stop, step)\n",
    "#start is first number (optional, otherwise zero), stop is index point at which to stop (not including that number), step (optional) is the incrment\n",
    "\n",
    "#Create empty lists\n",
    "a = []\n",
    "b = []\n",
    "c = []\n",
    "\n",
    "#Loop through the range and add each number to a list using append\n",
    "for x in range(5):\n",
    "    a.append(x)\n",
    "\n",
    "for x in range(1,5):\n",
    "    b.append(x)\n",
    "\n",
    "for x in range(1,10,2):\n",
    "    c.append(x)\n",
    "\n",
    "print(a)\n",
    "print(b)\n",
    "print(c)"
   ]
  },
  {
   "cell_type": "code",
   "execution_count": null,
   "id": "af99c2e0-32f2-47c4-b33b-b3b518a40946",
   "metadata": {},
   "outputs": [],
   "source": [
    "#Multiplying two lists with a loop\n",
    "a = [1,2,3,4]\n",
    "b = [2,3,4,5]\n",
    "#Create empty list\n",
    "aXb = []  \n",
    "\n",
    "for i in range(len(a)): #Why not for i in a?  \n",
    "    c = a[i] * b[i]\n",
    "    aXb.append(c)    #Append adds values to a list\n",
    "    \n",
    "print(aXb)"
   ]
  },
  {
   "cell_type": "code",
   "execution_count": null,
   "id": "546a6b68",
   "metadata": {},
   "outputs": [],
   "source": [
    "#Multiplying two lists with a loop\n",
    "a = [1,2,3,4]\n",
    "b = [2,3,4,5]\n",
    "#Create empty list\n",
    "aXb = []  \n",
    "\n",
    "for i in a:\n",
    "    c = a[i-1] * b[i-1]\n",
    "    aXb.append(c)    #Append adds values to a list\n",
    "    \n",
    "print(aXb)"
   ]
  },
  {
   "cell_type": "code",
   "execution_count": 13,
   "id": "a817a9cb",
   "metadata": {
    "tags": []
   },
   "outputs": [
    {
     "name": "stdout",
     "output_type": "stream",
     "text": [
      "0\n",
      "1\n",
      "2\n",
      "3\n",
      "4\n",
      "5\n",
      "6\n",
      "7\n",
      "8\n",
      "9\n",
      "10\n",
      "11\n",
      "12\n",
      "13\n",
      "14\n",
      "15\n",
      "16\n",
      "17\n",
      "18\n",
      "19\n"
     ]
    }
   ],
   "source": [
    "#While loops\n",
    "x=0\n",
    "\n",
    "while x<20:\n",
    "    print(x)\n",
    "    x += 1\n",
    "    "
   ]
  },
  {
   "cell_type": "code",
   "execution_count": null,
   "id": "748c0c98-040a-42e4-97d2-7b8dc956fb92",
   "metadata": {},
   "outputs": [],
   "source": [
    "#Nested loops - Multiplication tables\n",
    "for i in range(1, 13):\n",
    "    for j in range(1, 13):\n",
    "        print(i * j, end=' ') #The end argument prevents this from printing each number to a new line"
   ]
  },
  {
   "cell_type": "code",
   "execution_count": 18,
   "id": "7383379a-6e00-4b63-9d99-03db3770f0a0",
   "metadata": {
    "tags": []
   },
   "outputs": [
    {
     "name": "stdout",
     "output_type": "stream",
     "text": [
      "X is greater than 4\n"
     ]
    }
   ],
   "source": [
    "#Control flow\n",
    "x = 5\n",
    "\n",
    "#If / else control flow\n",
    "if x > 4:\n",
    "    print(\"X is greater than 4\")\n",
    "else:\n",
    "    print(\"X is not greater than 4\")\n"
   ]
  },
  {
   "cell_type": "code",
   "execution_count": 27,
   "id": "206932b9-4f7d-4781-a46d-3aacde57fb07",
   "metadata": {
    "tags": []
   },
   "outputs": [
    {
     "name": "stdout",
     "output_type": "stream",
     "text": [
      "x must be four if it isn't greater or less\n"
     ]
    }
   ],
   "source": [
    "#If / elif / else control flow\n",
    "x=4\n",
    "if x > 4:\n",
    "    print(\"X is greater than 4\")\n",
    "elif x < 4:\n",
    "    print(\"X is less than 4\")\n",
    "else: \n",
    "    print(\"x must be four if it isn't greater or less\")"
   ]
  },
  {
   "cell_type": "code",
   "execution_count": null,
   "id": "382ad25c-370d-47f3-a9fe-c4921007a558",
   "metadata": {},
   "outputs": [],
   "source": [
    "#Some basic built in functions: sum(), len(), min() and max()\n",
    "x = [1, 2, 3, 3, 4, 5, 6]\n",
    "biggest = max(x)\n",
    "count = len(x)\n",
    "smallest = min(x) \n",
    "total = sum(x) \n",
    "print(f'There are {count} numbers.  If you add them all up you get {total}')\n",
    "print(f'The biggest is {biggest} and the smallest is {smallest}.')"
   ]
  },
  {
   "cell_type": "code",
   "execution_count": null,
   "id": "2219eeae",
   "metadata": {},
   "outputs": [],
   "source": [
    "#Function to calculate range\n",
    "def calculate_range(values):\n",
    "    return max(values) - min(values)\n",
    "\n",
    "x = [1, 2, 3, 3, 4, 5, 6]\n",
    "calculate_range(x)"
   ]
  },
  {
   "cell_type": "code",
   "execution_count": 31,
   "id": "81ed89ce-35e2-4d6d-8cb5-20d7dd32ef80",
   "metadata": {},
   "outputs": [
    {
     "data": {
      "text/plain": [
       "25.666666666666668"
      ]
     },
     "execution_count": 31,
     "metadata": {},
     "output_type": "execute_result"
    }
   ],
   "source": [
    "#Function to calculate mean\n",
    "def calculate_mean(values):\n",
    "    return sum(values) / len(values) \n",
    "\n",
    "x = [2, 25, 50]\n",
    "calculate_mean(x)"
   ]
  },
  {
   "cell_type": "code",
   "execution_count": null,
   "id": "04ee10de-7e1d-4bd1-b662-1ceaf1290c55",
   "metadata": {},
   "outputs": [],
   "source": [
    "#The modulus, %, returns the remainder after division  \n",
    "print(26 % 4) #4 goes into 26 6 whole times with a remainder of two (6x4=24+2=26)\n",
    "print(12 % 4) #4 goes into 12 3 whole times, with 0 remainder \n",
    "\n",
    "#If the series is even numbered, lenght % 2 = 0, if odd numbered length % 2 = 1\n",
    "n = 4\n",
    "print(n % 2)\n",
    "print((n + 1) % 2)"
   ]
  },
  {
   "cell_type": "code",
   "execution_count": null,
   "id": "4b94b699",
   "metadata": {},
   "outputs": [],
   "source": [
    "#Sorting lowest to highest with sorted\n",
    "x = [2, 3, 1, 6, 5]\n",
    "x_sorted = sorted(x)\n",
    "print(x_sorted)"
   ]
  },
  {
   "cell_type": "code",
   "execution_count": null,
   "id": "d07e0935",
   "metadata": {},
   "outputs": [],
   "source": [
    "#Floor division - Divides then rounds down\n",
    "values = [1, 1, 2, 3, 4, 6, 7, 8]\n",
    "print(values[n//2])\n",
    "print(values[n//2 - 1])"
   ]
  },
  {
   "cell_type": "code",
   "execution_count": null,
   "id": "68970c7b-faee-4739-8bce-4771d3233c31",
   "metadata": {},
   "outputs": [],
   "source": [
    "#Function to calculate median\n",
    "def calculate_median(values):\n",
    "    sorted_values = sorted(values)\n",
    "    n = len(sorted_values)\n",
    "    if n % 2 == 1:\n",
    "        return int(sorted_values[n//2]) #int gets rid of floating point decimal\n",
    "    else:\n",
    "        return int((sorted_values[n//2 - 1] + sorted_values[n//2]) / 2) #floor division to find middle values\n",
    "\n",
    "even = [1, 2, 3, 8, 3, 4, 1, 6]\n",
    "print(calculate_median(even))\n",
    "odd = [1, 4, 5, 6, 8]\n",
    "print(calculate_median(odd))"
   ]
  },
  {
   "cell_type": "code",
   "execution_count": null,
   "id": "9c23fe7c-cd6d-44b7-bf87-bd301547bf1f",
   "metadata": {},
   "outputs": [],
   "source": [
    "#Function to calculate mode\n",
    "def calculate_mode(values):\n",
    "    counts = {}\n",
    "    for num in values:\n",
    "        if num in counts:\n",
    "            counts[num] += 1\n",
    "        else:\n",
    "            counts[num] = 1\n",
    "            \n",
    "    max_count = max(counts.values())\n",
    "\n",
    "    modes = []\n",
    "    for num, count in counts.items():\n",
    "        if count == max_count:\n",
    "            modes.append(num)\n",
    "\n",
    "    return modes\n",
    "\n",
    "values = [1, 2, 3, 2, 4, 4, 5]\n",
    "calculate_mode(values)"
   ]
  },
  {
   "cell_type": "code",
   "execution_count": 35,
   "id": "aa5e4fce-597b-45ed-be3b-36d8641d3e60",
   "metadata": {},
   "outputs": [
    {
     "data": {
      "text/plain": [
       "2.9523809523809526"
      ]
     },
     "execution_count": 35,
     "metadata": {},
     "output_type": "execute_result"
    }
   ],
   "source": [
    "#Function to calculate variance\n",
    "\n",
    "def calculate_variance(values, sORp):\n",
    "    mean = calculate_mean(values)\n",
    "    ssd = 0 #sum of squarred differences\n",
    "    \n",
    "    for value in values:\n",
    "        x = value - mean\n",
    "        y = x**2\n",
    "        ssd += y\n",
    "    \n",
    "    if sORp == \"p\": #for a population\n",
    "        variance = ssd / len(values)\n",
    "    elif sORp == \"s\": #for a sample\n",
    "        variance = ssd / (len(values)-1)\n",
    "        \n",
    "    return variance\n",
    "    \n",
    "    \n",
    "\n",
    "x = [1, 2, 3, 3, 4, 5, 6]\n",
    "calculate_variance(x, \"s\")\n",
    "calculate_variance(x, \"s\")"
   ]
  },
  {
   "cell_type": "code",
   "execution_count": null,
   "id": "727ef944",
   "metadata": {},
   "outputs": [],
   "source": [
    "#Importing other libraries\n",
    "#Install libraries with pip or Anaconda\n",
    "#Call libraries using \"import\"\n",
    "#Assign aliases so you don't have to type the full library name to call its functions with \"as\"\n",
    "import numpy as np"
   ]
  },
  {
   "cell_type": "code",
   "execution_count": null,
   "id": "1eeb2deb-23ea-4da0-801b-60ff3b30065d",
   "metadata": {
    "tags": []
   },
   "outputs": [],
   "source": [
    "#Import Numpy so we can use the square root funciton to calculate standard deviation\n",
    "import numpy as np\n",
    "\n",
    "#Function to calculate standard deviation\n",
    "def calculate_stdev(values):\n",
    "    return np.sqrt(calculate_variance(values, \"s\"))\n",
    "\n",
    "calculate_stdev(x)"
   ]
  },
  {
   "cell_type": "code",
   "execution_count": null,
   "id": "b354a951-4fa9-489b-8b1c-f51c503e91f1",
   "metadata": {
    "tags": []
   },
   "outputs": [],
   "source": [
    "#Import Panadas so we can import and manipulate data\n",
    "import pandas as pd\n",
    "\n",
    "#Load data into a dataframe, then view the first 10 rows - MUCH more on this later\n",
    "df = pd.read_csv(\"monthly_sales.csv\")\n",
    "df.head(10)"
   ]
  },
  {
   "cell_type": "code",
   "execution_count": null,
   "id": "8bcfbc0e-13c4-47bd-8760-cee5476da379",
   "metadata": {},
   "outputs": [],
   "source": [
    "#Define the columns we are interested in (used lower in the code)\n",
    "columns = ['Sales', 'Cost', 'Revenue']\n",
    "\n",
    "for column in columns:\n",
    "    values = df[column].tolist()\n",
    "    print(f\"Descriptive Statistics for {column}:\")\n",
    "    print(f\"Mean: {calculate_mean(values)}\")\n",
    "    print(f\"Median: {calculate_median(values)}\")\n",
    "    print(f\"Mode: {calculate_mode(values)}\")\n",
    "    print(f\"Range: {calculate_range(values)}\")\n",
    "    print(f\"Variance: {calculate_variance(values,'s')}\")\n",
    "    print(f\"Standard Deviation: {calculate_stdev(values)}\")\n",
    "    print(\"\\n\")"
   ]
  },
  {
   "cell_type": "code",
   "execution_count": null,
   "id": "72251990-69ab-406e-9a90-58b3896c0cc2",
   "metadata": {},
   "outputs": [],
   "source": [
    "#Pandas can, of course, do all of what we've done so far much easier\n",
    "print(df['Sales'].mean())\n",
    "print(df['Sales'].median())\n",
    "print(df['Sales'].mode()[0])\n",
    "print(df['Sales'].max())\n",
    "print(df['Sales'].min())\n",
    "print(df['Sales'].var())\n",
    "print(df['Sales'].std())"
   ]
  },
  {
   "cell_type": "code",
   "execution_count": null,
   "id": "a052cbbe-8f88-4fbe-a95d-1a655d7e608d",
   "metadata": {},
   "outputs": [],
   "source": [
    "#Even easier\n",
    "df.describe()"
   ]
  }
 ],
 "metadata": {
  "kernelspec": {
   "display_name": "Python 3 (ipykernel)",
   "language": "python",
   "name": "python3"
  },
  "language_info": {
   "codemirror_mode": {
    "name": "ipython",
    "version": 3
   },
   "file_extension": ".py",
   "mimetype": "text/x-python",
   "name": "python",
   "nbconvert_exporter": "python",
   "pygments_lexer": "ipython3",
   "version": "3.11.0"
  }
 },
 "nbformat": 4,
 "nbformat_minor": 5
}
