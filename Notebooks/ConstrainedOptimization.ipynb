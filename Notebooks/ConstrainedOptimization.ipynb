{
 "cells": [
  {
   "cell_type": "markdown",
   "id": "b0f1ece1-6501-421e-b293-11c271ef6693",
   "metadata": {},
   "source": [
    "# Constrained Optimization - Incomplete \n",
    "### Maximizing or minimizing, given limitations / rules"
   ]
  },
  {
   "cell_type": "code",
   "execution_count": 4,
   "id": "7a2d6b95-c707-4c12-bba4-35f625a26fd7",
   "metadata": {
    "tags": []
   },
   "outputs": [],
   "source": [
    "#Constrained Optimization with scipy minimize\n",
    "import numpy as np\n",
    "from scipy.optimize import minimize"
   ]
  },
  {
   "cell_type": "markdown",
   "id": "696b49ea-0708-4120-ab5d-f062f113dedf",
   "metadata": {},
   "source": [
    "Profit Maximization - Selecting Optimal Mix of Inputs - One Product, Two Inputs\n",
    "\n",
    "Inputs: Capital(K) and Labor(L)\n",
    "Input Prices: K = $2, L = $1\n",
    "Constraints: Spending < $100, so 2K + L < 100\n",
    "Profit = 2KL + 2K + 3Y"
   ]
  },
  {
   "cell_type": "code",
   "execution_count": 6,
   "id": "3ca9a027-4b37-4f70-8274-6f755b1db63a",
   "metadata": {
    "tags": []
   },
   "outputs": [
    {
     "name": "stdout",
     "output_type": "stream",
     "text": [
      "To maximize profit, you should use 24 units of capital and 51 units of labor\n",
      "Your profit with this mix of inputs is $2701.0\n"
     ]
    }
   ],
   "source": [
    "#Profit function\n",
    "def profit_function(vars):\n",
    "    K, L = vars\n",
    "    return -(2 * K * L + 2 * K + 3 * L) #Negative, since minimizing, - * - = +\n",
    "\n",
    "#Constraint function\n",
    "def constraint(vars):\n",
    "    K, L = vars\n",
    "    return 100 - (2 * K + L) #Must write so zero on other side of equation\n",
    "\n",
    "#Constraint Dictionary \n",
    "constraints = [{'type': 'ineq', 'fun': constraint}]\n",
    "\n",
    "#Starting points\n",
    "initial_guess = [1, 1]\n",
    "\n",
    "#Bounds for K and L to prevent negative values\n",
    "bounds = [(0, None), (0, None)]\n",
    "\n",
    "#Optimize\n",
    "result = minimize(profit_function, initial_guess, method='SLSQP', bounds=bounds, constraints=constraints)\n",
    "\n",
    "#Profit maximizing mix of inputs\n",
    "optimal_K, optimal_L = result.x\n",
    "\n",
    "#Optimal profit \n",
    "max_profit = -result.fun\n",
    "\n",
    "optimal_K, optimal_L, max_profit\n",
    "\n",
    "print(f'To maximize profit, you should use {round(optimal_K)} units of capital and {round(optimal_L)} units of labor')\n",
    "print(f'Your profit with this mix of inputs is ${round(max_profit, 2)}') "
   ]
  }
 ],
 "metadata": {
  "kernelspec": {
   "display_name": "Python 3 (ipykernel)",
   "language": "python",
   "name": "python3"
  },
  "language_info": {
   "codemirror_mode": {
    "name": "ipython",
    "version": 3
   },
   "file_extension": ".py",
   "mimetype": "text/x-python",
   "name": "python",
   "nbconvert_exporter": "python",
   "pygments_lexer": "ipython3",
   "version": "3.11.0"
  }
 },
 "nbformat": 4,
 "nbformat_minor": 5
}
