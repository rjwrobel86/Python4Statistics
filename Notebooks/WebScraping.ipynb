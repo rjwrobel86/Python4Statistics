{
 "cells": [
  {
   "cell_type": "markdown",
   "id": "35893059-548c-4c93-bb77-6cb1494a8b6e",
   "metadata": {},
   "source": [
    "# Web Scraping with BeautifulSoup (and selector gadget)"
   ]
  },
  {
   "cell_type": "code",
   "execution_count": 4,
   "id": "94661586-4fa2-432c-bf13-1ce7dd5bb333",
   "metadata": {
    "tags": []
   },
   "outputs": [],
   "source": [
    "import requests\n",
    "import pandas as pd\n",
    "from bs4 import BeautifulSoup"
   ]
  },
  {
   "cell_type": "code",
   "execution_count": 6,
   "id": "3c090f8c-6353-4297-85e4-cc1a3e34a679",
   "metadata": {
    "tags": []
   },
   "outputs": [],
   "source": [
    "r = requests.get('https://www.bommaritochevysouth.com/searchnew.aspx?Year=2024&make=Chevrolet&ModelAndTrim=Equinox')\n",
    "soup = BeautifulSoup(r.content, 'html.parser')\n",
    "#soup"
   ]
  },
  {
   "cell_type": "code",
   "execution_count": 8,
   "id": "781ce175-fca6-4edc-9b98-a34a12cf0688",
   "metadata": {
    "tags": []
   },
   "outputs": [
    {
     "name": "stdout",
     "output_type": "stream",
     "text": [
      "$22,999\n",
      "$22,999\n",
      "$22,999\n",
      "$22,999\n",
      "$23,039\n",
      "$23,039\n",
      "$23,039\n",
      "$23,039\n",
      "$23,039\n",
      "$23,039\n",
      "$23,039\n",
      "$23,039\n",
      "$23,039\n",
      "$23,039\n",
      "$23,039\n",
      "$23,039\n",
      "$23,094\n",
      "$23,094\n",
      "$23,094\n",
      "$23,094\n",
      "$23,319\n",
      "$23,319\n",
      "$23,319\n",
      "$23,319\n",
      "$23,664\n",
      "$23,664\n",
      "$23,664\n",
      "$23,664\n",
      "$23,664\n",
      "$23,664\n",
      "$23,664\n",
      "$23,664\n",
      "$23,664\n",
      "$23,664\n",
      "$23,664\n",
      "$23,664\n",
      "$23,664\n",
      "$23,664\n",
      "$23,664\n",
      "$23,664\n",
      "$23,664\n",
      "$23,664\n",
      "$23,664\n",
      "$23,664\n",
      "$23,664\n",
      "$23,664\n",
      "$23,664\n",
      "$23,664\n"
     ]
    }
   ],
   "source": [
    "content = soup.select('.ca-gpc-close-button-primary , .featuredPrice .vehiclePricingHighlightAmount')\n",
    "#content\n",
    "for i in content:\n",
    "    print(i.text)"
   ]
  },
  {
   "cell_type": "code",
   "execution_count": 12,
   "id": "ea36e22c-b650-4314-b6bd-d231f17b5e09",
   "metadata": {
    "tags": []
   },
   "outputs": [
    {
     "name": "stdout",
     "output_type": "stream",
     "text": [
      "$6,751\n",
      "$22,999\n",
      "$6,751\n",
      "$22,999\n",
      "$6,751\n",
      "$22,999\n",
      "$6,751\n",
      "$22,999\n",
      "$6,751\n",
      "$23,039\n",
      "$6,751\n",
      "$23,039\n",
      "$6,751\n",
      "$23,039\n",
      "$6,751\n",
      "$23,039\n",
      "$6,751\n",
      "$23,039\n",
      "$6,751\n",
      "$23,039\n",
      "$6,751\n",
      "$23,039\n",
      "$6,751\n",
      "$23,039\n",
      "$6,751\n",
      "$23,039\n",
      "$6,751\n",
      "$23,039\n",
      "$6,751\n",
      "$23,039\n",
      "$6,751\n",
      "$23,039\n",
      "$6,751\n",
      "$23,094\n",
      "$6,751\n",
      "$23,094\n",
      "$6,751\n",
      "$23,094\n",
      "$6,751\n",
      "$23,094\n",
      "$6,751\n",
      "$23,319\n",
      "$6,751\n",
      "$23,319\n",
      "$6,751\n",
      "$23,319\n",
      "$6,751\n",
      "$23,319\n",
      "$6,751\n",
      "$23,664\n",
      "$6,751\n",
      "$23,664\n",
      "$6,751\n",
      "$23,664\n",
      "$6,751\n",
      "$23,664\n",
      "$6,751\n",
      "$23,664\n",
      "$6,751\n",
      "$23,664\n",
      "$6,751\n",
      "$23,664\n",
      "$6,751\n",
      "$23,664\n",
      "$6,751\n",
      "$23,664\n",
      "$6,751\n",
      "$23,664\n",
      "$6,751\n",
      "$23,664\n",
      "$6,751\n",
      "$23,664\n",
      "$6,751\n",
      "$23,664\n",
      "$6,751\n",
      "$23,664\n",
      "$6,751\n",
      "$23,664\n",
      "$6,751\n",
      "$23,664\n",
      "$6,751\n",
      "$23,664\n",
      "$6,751\n",
      "$23,664\n",
      "$6,751\n",
      "$23,664\n",
      "$6,751\n",
      "$23,664\n",
      "$6,751\n",
      "$23,664\n",
      "$6,751\n",
      "$23,664\n",
      "$6,751\n",
      "$23,664\n",
      "$6,751\n",
      "$23,664\n"
     ]
    }
   ],
   "source": [
    "content2 = soup.select(\".vehiclePricingHighlightAmount\")\n",
    "#content2\n",
    "for i in content2:\n",
    "    print(i.text)"
   ]
  },
  {
   "cell_type": "code",
   "execution_count": 8,
   "id": "2b2dbf2e-7fbb-44e7-8c21-64474cc50910",
   "metadata": {
    "tags": []
   },
   "outputs": [
    {
     "data": {
      "text/plain": [
       "<!DOCTYPE html>\n",
       "\n",
       "<html lang=\"en\">\n",
       "<head>\n",
       "<meta charset=\"utf-8\"/>\n",
       "<meta content=\"width=device-width, initial-scale=1\" name=\"viewport\"/>\n",
       "<meta content=\"px-captcha\" name=\"description\"/>\n",
       "<title>Access to this page has been denied</title>\n",
       "</head>\n",
       "<body>\n",
       "<script>\n",
       "    /* PerimeterX assignments */\n",
       "    window._pxVid = '';\n",
       "    window._pxUuid = 'd19a9ce2-f8f9-11ee-beaa-6a1b379ceb35';\n",
       "    window._pxAppId = 'PXHYx10rg3';\n",
       "    window._pxMobile = false;\n",
       "    window._pxHostUrl = '/HYx10rg3/xhr';\n",
       "    window._pxCustomLogo = 'https://www.zillowstatic.com/s3/pfs/static/z-logo-default.svg';\n",
       "    window._pxJsClientSrc = '/HYx10rg3/init.js';\n",
       "    window._pxFirstPartyEnabled = true;\n",
       "    var pxCaptchaSrc = '/HYx10rg3/captcha/captcha.js?a=c&u=d19a9ce2-f8f9-11ee-beaa-6a1b379ceb35&v=&m=0';\n",
       "\n",
       "    var script = document.createElement('script');\n",
       "    script.src = pxCaptchaSrc;\n",
       "    script.onerror = function () {\n",
       "        script = document.createElement('script');\n",
       "        script.src = 'https://captcha.px-cloud.net/PXHYx10rg3/captcha.js?a=c&amp;u=d19a9ce2-f8f9-11ee-beaa-6a1b379ceb35&amp;v=&amp;m=0';\n",
       "        script.onerror = window._pxOnError;\n",
       "        document.head.appendChild(script);\n",
       "    };\n",
       "    window._pxOnError = function () {\n",
       "        var style = document.createElement('style');\n",
       "        style.innerText = '@import url(https://fonts.googleapis.com/css2?family=Roboto:ital,wght@0,100;0,300;0,400;0,500;0,700;0,900;1,100;1,300;1,400;1,500;1,700;1,900&display=swap);body{background-color:#fafbfc}.px-captcha-error-container{position:fixed;height:340px;background-color:#fff;font-family:Roboto,sans-serif}.px-captcha-error-header{color:#f0f1f2;font-size:29px;margin:67px 0 33px;font-weight:500;line-height:.83;text-align:center}.px-captcha-error-message{color:#f0f1f2;font-size:18px;margin:0 0 29px;line-height:1.33;text-align:center}.px-captcha-error-button{text-align:center;line-height:48px;width:253px;margin:auto;border-radius:50px;border:solid 1px #f0f1f2;font-size:20px;color:#f0f1f2}.px-captcha-error-wrapper{margin:18px 0 0}div.px-captcha-error{margin:auto;text-align:center;width:400px;height:30px;font-size:12px;background-color:#fcf0f2;color:#ce0e2d}img.px-captcha-error{margin:6px 8px -2px 0}.px-captcha-error-refid{border-top:solid 1px #f0eeee;height:27px;margin:13px 0 0;border-radius:0 0 3px 3px;background-color:#fafbfc;font-size:10px;line-height:2.5;text-align:center;color:#b1b5b8}@media (min-width:620px){.px-captcha-error-container{width:530px;top:50%;left:50%;margin-top:-170px;margin-left:-265px;border-radius:3px;box-shadow:0 2px 9px -1px rgba(0,0,0,.13)}}@media (min-width:481px) and (max-width:620px){.px-captcha-error-container{width:85%;top:50%;left:50%;margin-top:-170px;margin-left:-42.5%;border-radius:3px;box-shadow:0 2px 9px -1px rgba(0,0,0,.13)}}@media (max-width:480px){body{background-color:#fff}.px-captcha-error-header{color:#f0f1f2;font-size:29px;margin:55px 0 33px}.px-captcha-error-container{width:530px;top:50%;left:50%;margin-top:-170px;margin-left:-265px}.px-captcha-error-refid{position:fixed;width:100%;left:0;bottom:0;border-radius:0;font-size:14px;line-height:2}}@media (max-width:390px){div.px-captcha-error{font-size:10px}.px-captcha-error-refid{font-size:11px;line-height:2.5}}';\n",
       "        document.head.appendChild(style);\n",
       "        var div = document.createElement('div');\n",
       "        div.className = 'px-captcha-error-container';\n",
       "        div.innerHTML = '<div class=\"px-captcha-error-header\">Before we continue...</div><div class=\"px-captcha-error-message\">Press & Hold to confirm you are<br>a human (and not a bot).</div><div class=\"px-captcha-error-button\">Press & Hold</div><div class=\"px-captcha-error-wrapper\"><div class=\"px-captcha-error\"><img class=\"px-captcha-error\" src=\"data:image/png;base64,iVBORw0KGgoAAAANSUhEUgAAABMAAAAQCAMAAADDGrRQAAAABGdBTUEAALGPC/xhBQAAAAFzUkdCAK7OHOkAAABFUExURUdwTNYELOEGONQILd0AONwALtwEL+AAL9MFLfkJSNQGLdMJLdQJLdQGLdQKLtYFLNcELdUGLdcBL9gFL88OLdUFLNEOLglBhT4AAAAXdFJOUwC8CqgNIRgRoAS1dWWuR4RTjzgryZpYblfkcAAAAI9JREFUGNNdj+sWhCAIhAdvqGVa1r7/oy6RZ7eaH3D4ZACBIed9wlOOMtUnSrEmZ6cHa9YAIfsbCkWrdpi/c50Bk2CO9mNLdMAu03wJA3HpEnfpxbyOg6ruyx8JJi6KNstnslp1dbPd9GnqmuYq7mmcv1zjnbQw8cV0xzkqo+fX1zkjUOO7wnrInUTxJiruC3vtBNRoQQn2AAAAAElFTkSuQmCC\">Please check your internet connection' + (window._pxMobile ? '' : ' or disable your ad-blocker') + '.</div></div><div class=\"px-captcha-error-refid\">Reference ID ' + window._pxUuid + '</div>';\n",
       "        document.body.appendChild(div);\n",
       "        if (window._pxMobile) {\n",
       "            setTimeout(function() {\n",
       "                location.href = '/px/captcha_close?status=-1';\n",
       "            }, 5000);\n",
       "        }\n",
       "    };\n",
       "    document.head.appendChild(script);\n",
       "</script>\n",
       "</body>\n",
       "</html>"
      ]
     },
     "execution_count": 8,
     "metadata": {},
     "output_type": "execute_result"
    }
   ],
   "source": [
    "r = requests.get('https://www.bommaritochevysouth.com/searchnew.aspx?Year=2024&make=Chevrolet&ModelAndTrim=Equinox')\n",
    "soup = BeautifulSoup(r.content, 'html.parser')\n",
    "#soup"
   ]
  },
  {
   "cell_type": "code",
   "execution_count": 34,
   "id": "5f46b0d3-9381-4f9a-8b95-522aa3eb5b4e",
   "metadata": {
    "tags": []
   },
   "outputs": [
    {
     "name": "stdout",
     "output_type": "stream",
     "text": [
      "          0  1    2  3   4      5     6\n",
      "0  $295,000  4  bds  3  ba  2,502  sqft\n",
      "1  $215,000  3  bds  2  ba  1,144  sqft\n",
      "2  $500,000  4  bds  4  ba  3,204  sqft\n",
      "3  $265,000  3  bds  2  ba  1,815  sqft\n",
      "4  $289,000  3  bds  2  ba  1,752  sqft\n",
      "5  $248,900  3  bds  2  ba  1,092  sqft\n",
      "6  $189,900  3  bds  2  ba    925  sqft\n",
      "7  $275,000  3  bds  3  ba  1,214  sqft\n",
      "8  $444,900  4  bds  3  ba  2,548  sqft\n"
     ]
    }
   ],
   "source": [
    "#Scraping a local file since Zillow detected direct scraping - so just download the html and then scrape!\n",
    "\n",
    "with open('zillow.html', 'r', encoding='utf8') as file:\n",
    "    html_content = file.read()\n",
    "\n",
    "soup = BeautifulSoup(html_content, 'lxml')\n",
    "content = soup.select('abbr , b , .djgngA')\n",
    "\n",
    "data = []\n",
    "\n",
    "for i in content:\n",
    "    data.append(i.text)\n",
    "\n",
    "data\n",
    "\n",
    "def chunk_list(lst, n):\n",
    "    for i in range(0, len(data), n):\n",
    "        yield data[i:i + n]\n",
    "\n",
    "# Split the list into chunks of 7 items each\n",
    "chunked_list = list(chunk_list(data, 7))\n",
    "\n",
    "# Create a DataFrame from the chunked list\n",
    "df = pd.DataFrame(chunked_list)\n",
    "\n",
    "print(df)"
   ]
  },
  {
   "cell_type": "code",
   "execution_count": 40,
   "id": "e7711104-a7af-4c8b-8739-affa1d3555b0",
   "metadata": {
    "tags": []
   },
   "outputs": [
    {
     "name": "stdout",
     "output_type": "stream",
     "text": [
      "          0      1    2     3   4           5     6\n",
      "0  $295,000  4 bds  bds  3 ba  ba  2,502 sqft  sqft\n",
      "1  $215,000  3 bds  bds  2 ba  ba  1,144 sqft  sqft\n",
      "2  $500,000  4 bds  bds  4 ba  ba  3,204 sqft  sqft\n",
      "3  $265,000  3 bds  bds  2 ba  ba  1,815 sqft  sqft\n",
      "4  $289,000  3 bds  bds  2 ba  ba  1,752 sqft  sqft\n",
      "5  $248,900  3 bds  bds  2 ba  ba  1,092 sqft  sqft\n",
      "6  $189,900  3 bds  bds  2 ba  ba    925 sqft  sqft\n",
      "7  $275,000  3 bds  bds  3 ba  ba  1,214 sqft  sqft\n",
      "8  $444,900  4 bds  bds  3 ba  ba  2,548 sqft  sqft\n"
     ]
    }
   ],
   "source": [
    "#Scraping a local file since Zillow detected direct scraping - so just download the html and then scrape!\n",
    "\n",
    "with open('/Users/robertwrobel/Downloads/zillow2.html', 'r', encoding='utf8') as file:\n",
    "    html_content = file.read()\n",
    "\n",
    "soup = BeautifulSoup(html_content, 'lxml')\n",
    "content = soup.select('.eKNMXc li , abbr , .djgngA')\n",
    "\n",
    "data = []\n",
    "\n",
    "for i in content:\n",
    "    data.append(i.text)\n",
    "\n",
    "data\n",
    "\n",
    "def chunk_list(lst, n):\n",
    "    for i in range(0, len(data), n):\n",
    "        yield data[i:i + n]\n",
    "\n",
    "chunked_list = list(chunk_list(data, 7))\n",
    "\n",
    "df = pd.DataFrame(chunked_list)\n",
    "\n",
    "print(df)"
   ]
  },
  {
   "cell_type": "code",
   "execution_count": 32,
   "id": "0f9c338b-56b6-4b70-a2d3-ea0fbb329773",
   "metadata": {
    "tags": []
   },
   "outputs": [
    {
     "name": "stdout",
     "output_type": "stream",
     "text": [
      "          0  1    2  3   4      5     6\n",
      "0  $295,000  4  bds  3  ba  2,502  sqft\n",
      "1  $215,000  3  bds  2  ba  1,144  sqft\n",
      "2  $500,000  4  bds  4  ba  3,204  sqft\n",
      "3  $265,000  3  bds  2  ba  1,815  sqft\n",
      "4  $289,000  3  bds  2  ba  1,752  sqft\n",
      "5  $248,900  3  bds  2  ba  1,092  sqft\n",
      "6  $189,900  3  bds  2  ba    925  sqft\n",
      "7  $275,000  3  bds  3  ba  1,214  sqft\n",
      "8  $444,900  4  bds  3  ba  2,548  sqft\n"
     ]
    }
   ],
   "source": [
    "def chunk_list(lst, n):\n",
    "    for i in range(0, len(data), n):\n",
    "        yield data[i:i + n]\n",
    "\n",
    "#Split the list into chunks of 7 items each\n",
    "chunked_list = list(chunk_list(data, 7))\n",
    "\n",
    "#Create a DataFrame from the chunked list\n",
    "df = pd.DataFrame(chunked_list)\n",
    "\n",
    "print(df)"
   ]
  }
 ],
 "metadata": {
  "kernelspec": {
   "display_name": "Python [conda env:base] *",
   "language": "python",
   "name": "conda-base-py"
  },
  "language_info": {
   "codemirror_mode": {
    "name": "ipython",
    "version": 3
   },
   "file_extension": ".py",
   "mimetype": "text/x-python",
   "name": "python",
   "nbconvert_exporter": "python",
   "pygments_lexer": "ipython3",
   "version": "3.12.2"
  }
 },
 "nbformat": 4,
 "nbformat_minor": 5
}
