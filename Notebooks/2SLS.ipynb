{
 "cells": [
  {
   "cell_type": "markdown",
   "id": "da92eb3c-76d2-4325-a98a-391ef4800590",
   "metadata": {
    "tags": []
   },
   "source": [
    "# Two Stage Least Squares Regression\n",
    "## Addressing Endogeneity "
   ]
  },
  {
   "cell_type": "code",
   "execution_count": 4,
   "id": "d32b649a-f4b2-4ccb-b6a1-b2d913004f2f",
   "metadata": {
    "tags": []
   },
   "outputs": [
    {
     "data": {
      "text/html": [
       "<div>\n",
       "<style scoped>\n",
       "    .dataframe tbody tr th:only-of-type {\n",
       "        vertical-align: middle;\n",
       "    }\n",
       "\n",
       "    .dataframe tbody tr th {\n",
       "        vertical-align: top;\n",
       "    }\n",
       "\n",
       "    .dataframe thead th {\n",
       "        text-align: right;\n",
       "    }\n",
       "</style>\n",
       "<table border=\"1\" class=\"dataframe\">\n",
       "  <thead>\n",
       "    <tr style=\"text-align: right;\">\n",
       "      <th></th>\n",
       "      <th>Education</th>\n",
       "      <th>Libraries_Per_Capita</th>\n",
       "      <th>Experience</th>\n",
       "      <th>Job_Performance</th>\n",
       "    </tr>\n",
       "  </thead>\n",
       "  <tbody>\n",
       "    <tr>\n",
       "      <th>0</th>\n",
       "      <td>7.791772</td>\n",
       "      <td>0.787225</td>\n",
       "      <td>12.941173</td>\n",
       "      <td>103.609460</td>\n",
       "    </tr>\n",
       "    <tr>\n",
       "      <th>1</th>\n",
       "      <td>18.419382</td>\n",
       "      <td>1.489825</td>\n",
       "      <td>7.015658</td>\n",
       "      <td>106.494572</td>\n",
       "    </tr>\n",
       "    <tr>\n",
       "      <th>2</th>\n",
       "      <td>19.157024</td>\n",
       "      <td>0.928640</td>\n",
       "      <td>19.629696</td>\n",
       "      <td>149.196205</td>\n",
       "    </tr>\n",
       "    <tr>\n",
       "      <th>3</th>\n",
       "      <td>17.962375</td>\n",
       "      <td>1.305998</td>\n",
       "      <td>10.749374</td>\n",
       "      <td>115.039354</td>\n",
       "    </tr>\n",
       "    <tr>\n",
       "      <th>4</th>\n",
       "      <td>15.783162</td>\n",
       "      <td>0.963582</td>\n",
       "      <td>12.085993</td>\n",
       "      <td>118.516198</td>\n",
       "    </tr>\n",
       "  </tbody>\n",
       "</table>\n",
       "</div>"
      ],
      "text/plain": [
       "   Education  Libraries_Per_Capita  Experience  Job_Performance\n",
       "0   7.791772              0.787225   12.941173       103.609460\n",
       "1  18.419382              1.489825    7.015658       106.494572\n",
       "2  19.157024              0.928640   19.629696       149.196205\n",
       "3  17.962375              1.305998   10.749374       115.039354\n",
       "4  15.783162              0.963582   12.085993       118.516198"
      ]
     },
     "execution_count": 4,
     "metadata": {},
     "output_type": "execute_result"
    }
   ],
   "source": [
    "import numpy as np\n",
    "import pandas as pd\n",
    "import statsmodels.api as sm\n",
    "\n",
    "df = pd.read_csv('../data/2sls.csv')\n",
    "df.head()"
   ]
  },
  {
   "cell_type": "code",
   "execution_count": 6,
   "id": "046ec056-f871-4f50-86c9-1f0c62c282fd",
   "metadata": {
    "tags": []
   },
   "outputs": [
    {
     "name": "stderr",
     "output_type": "stream",
     "text": [
      "/var/folders/mq/k4my6f796832wdwl98qv078w0000gn/T/ipykernel_13217/1988907980.py:6: FutureWarning: Series.__getitem__ treating keys as positions is deprecated. In a future version, integer keys will always be treated as labels (consistent with DataFrame behavior). To access a value by position, use `ser.iloc[pos]`\n",
      "  edu_coef_ols = results.params[1]\n"
     ]
    },
    {
     "data": {
      "text/plain": [
       "2.0140939655150487"
      ]
     },
     "execution_count": 6,
     "metadata": {},
     "output_type": "execute_result"
    }
   ],
   "source": [
    "y = df['Job_Performance']\n",
    "X = df[['Education','Experience']]\n",
    "X = sm.add_constant(X)\n",
    "model = sm.OLS(y,X)\n",
    "results = model.fit()\n",
    "edu_coef_ols = results.params[1]\n",
    "results.summary()\n",
    "edu_coef_ols"
   ]
  },
  {
   "cell_type": "code",
   "execution_count": 8,
   "id": "13b72891-73f8-4cb9-aa08-1c2f3b57069b",
   "metadata": {
    "tags": []
   },
   "outputs": [
    {
     "name": "stderr",
     "output_type": "stream",
     "text": [
      "/var/folders/mq/k4my6f796832wdwl98qv078w0000gn/T/ipykernel_13217/336898344.py:7: FutureWarning: Series.__getitem__ treating keys as positions is deprecated. In a future version, integer keys will always be treated as labels (consistent with DataFrame behavior). To access a value by position, use `ser.iloc[pos]`\n",
      "  edu_coef_2sls = stage_2.params[1]\n"
     ]
    },
    {
     "data": {
      "text/html": [
       "<table class=\"simpletable\">\n",
       "<caption>OLS Regression Results</caption>\n",
       "<tr>\n",
       "  <th>Dep. Variable:</th>     <td>Job_Performance</td> <th>  R-squared:         </th> <td>   0.846</td>\n",
       "</tr>\n",
       "<tr>\n",
       "  <th>Model:</th>                   <td>OLS</td>       <th>  Adj. R-squared:    </th> <td>   0.846</td>\n",
       "</tr>\n",
       "<tr>\n",
       "  <th>Method:</th>             <td>Least Squares</td>  <th>  F-statistic:       </th> <td>   2746.</td>\n",
       "</tr>\n",
       "<tr>\n",
       "  <th>Date:</th>             <td>Fri, 07 Jun 2024</td> <th>  Prob (F-statistic):</th>  <td>  0.00</td> \n",
       "</tr>\n",
       "<tr>\n",
       "  <th>Time:</th>                 <td>12:08:19</td>     <th>  Log-Likelihood:    </th> <td> -3270.8</td>\n",
       "</tr>\n",
       "<tr>\n",
       "  <th>No. Observations:</th>      <td>  1000</td>      <th>  AIC:               </th> <td>   6548.</td>\n",
       "</tr>\n",
       "<tr>\n",
       "  <th>Df Residuals:</th>          <td>   997</td>      <th>  BIC:               </th> <td>   6562.</td>\n",
       "</tr>\n",
       "<tr>\n",
       "  <th>Df Model:</th>              <td>     2</td>      <th>                     </th>     <td> </td>   \n",
       "</tr>\n",
       "<tr>\n",
       "  <th>Covariance Type:</th>      <td>nonrobust</td>    <th>                     </th>     <td> </td>   \n",
       "</tr>\n",
       "</table>\n",
       "<table class=\"simpletable\">\n",
       "<tr>\n",
       "       <td></td>          <th>coef</th>     <th>std err</th>      <th>t</th>      <th>P>|t|</th>  <th>[0.025</th>    <th>0.975]</th>  \n",
       "</tr>\n",
       "<tr>\n",
       "  <th>const</th>       <td>   75.3248</td> <td>   81.160</td> <td>    0.928</td> <td> 0.354</td> <td>  -83.939</td> <td>  234.589</td>\n",
       "</tr>\n",
       "<tr>\n",
       "  <th>Education_2</th> <td>    0.4023</td> <td>    5.101</td> <td>    0.079</td> <td> 0.937</td> <td>   -9.608</td> <td>   10.412</td>\n",
       "</tr>\n",
       "<tr>\n",
       "  <th>Experience</th>  <td>    3.0143</td> <td>    0.041</td> <td>   74.107</td> <td> 0.000</td> <td>    2.934</td> <td>    3.094</td>\n",
       "</tr>\n",
       "</table>\n",
       "<table class=\"simpletable\">\n",
       "<tr>\n",
       "  <th>Omnibus:</th>       <td> 0.449</td> <th>  Durbin-Watson:     </th> <td>   2.001</td>\n",
       "</tr>\n",
       "<tr>\n",
       "  <th>Prob(Omnibus):</th> <td> 0.799</td> <th>  Jarque-Bera (JB):  </th> <td>   0.330</td>\n",
       "</tr>\n",
       "<tr>\n",
       "  <th>Skew:</th>          <td>-0.003</td> <th>  Prob(JB):          </th> <td>   0.848</td>\n",
       "</tr>\n",
       "<tr>\n",
       "  <th>Kurtosis:</th>      <td> 3.089</td> <th>  Cond. No.          </th> <td>7.67e+03</td>\n",
       "</tr>\n",
       "</table><br/><br/>Notes:<br/>[1] Standard Errors assume that the covariance matrix of the errors is correctly specified.<br/>[2] The condition number is large, 7.67e+03. This might indicate that there are<br/>strong multicollinearity or other numerical problems."
      ],
      "text/latex": [
       "\\begin{center}\n",
       "\\begin{tabular}{lclc}\n",
       "\\toprule\n",
       "\\textbf{Dep. Variable:}    & Job\\_Performance & \\textbf{  R-squared:         } &     0.846   \\\\\n",
       "\\textbf{Model:}            &       OLS        & \\textbf{  Adj. R-squared:    } &     0.846   \\\\\n",
       "\\textbf{Method:}           &  Least Squares   & \\textbf{  F-statistic:       } &     2746.   \\\\\n",
       "\\textbf{Date:}             & Fri, 07 Jun 2024 & \\textbf{  Prob (F-statistic):} &     0.00    \\\\\n",
       "\\textbf{Time:}             &     12:08:19     & \\textbf{  Log-Likelihood:    } &   -3270.8   \\\\\n",
       "\\textbf{No. Observations:} &        1000      & \\textbf{  AIC:               } &     6548.   \\\\\n",
       "\\textbf{Df Residuals:}     &         997      & \\textbf{  BIC:               } &     6562.   \\\\\n",
       "\\textbf{Df Model:}         &           2      & \\textbf{                     } &             \\\\\n",
       "\\textbf{Covariance Type:}  &    nonrobust     & \\textbf{                     } &             \\\\\n",
       "\\bottomrule\n",
       "\\end{tabular}\n",
       "\\begin{tabular}{lcccccc}\n",
       "                      & \\textbf{coef} & \\textbf{std err} & \\textbf{t} & \\textbf{P$> |$t$|$} & \\textbf{[0.025} & \\textbf{0.975]}  \\\\\n",
       "\\midrule\n",
       "\\textbf{const}        &      75.3248  &       81.160     &     0.928  &         0.354        &      -83.939    &      234.589     \\\\\n",
       "\\textbf{Education\\_2} &       0.4023  &        5.101     &     0.079  &         0.937        &       -9.608    &       10.412     \\\\\n",
       "\\textbf{Experience}   &       3.0143  &        0.041     &    74.107  &         0.000        &        2.934    &        3.094     \\\\\n",
       "\\bottomrule\n",
       "\\end{tabular}\n",
       "\\begin{tabular}{lclc}\n",
       "\\textbf{Omnibus:}       &  0.449 & \\textbf{  Durbin-Watson:     } &    2.001  \\\\\n",
       "\\textbf{Prob(Omnibus):} &  0.799 & \\textbf{  Jarque-Bera (JB):  } &    0.330  \\\\\n",
       "\\textbf{Skew:}          & -0.003 & \\textbf{  Prob(JB):          } &    0.848  \\\\\n",
       "\\textbf{Kurtosis:}      &  3.089 & \\textbf{  Cond. No.          } & 7.67e+03  \\\\\n",
       "\\bottomrule\n",
       "\\end{tabular}\n",
       "%\\caption{OLS Regression Results}\n",
       "\\end{center}\n",
       "\n",
       "Notes: \\newline\n",
       " [1] Standard Errors assume that the covariance matrix of the errors is correctly specified. \\newline\n",
       " [2] The condition number is large, 7.67e+03. This might indicate that there are \\newline\n",
       " strong multicollinearity or other numerical problems."
      ],
      "text/plain": [
       "<class 'statsmodels.iolib.summary.Summary'>\n",
       "\"\"\"\n",
       "                            OLS Regression Results                            \n",
       "==============================================================================\n",
       "Dep. Variable:        Job_Performance   R-squared:                       0.846\n",
       "Model:                            OLS   Adj. R-squared:                  0.846\n",
       "Method:                 Least Squares   F-statistic:                     2746.\n",
       "Date:                Fri, 07 Jun 2024   Prob (F-statistic):               0.00\n",
       "Time:                        12:08:19   Log-Likelihood:                -3270.8\n",
       "No. Observations:                1000   AIC:                             6548.\n",
       "Df Residuals:                     997   BIC:                             6562.\n",
       "Df Model:                           2                                         \n",
       "Covariance Type:            nonrobust                                         \n",
       "===============================================================================\n",
       "                  coef    std err          t      P>|t|      [0.025      0.975]\n",
       "-------------------------------------------------------------------------------\n",
       "const          75.3248     81.160      0.928      0.354     -83.939     234.589\n",
       "Education_2     0.4023      5.101      0.079      0.937      -9.608      10.412\n",
       "Experience      3.0143      0.041     74.107      0.000       2.934       3.094\n",
       "==============================================================================\n",
       "Omnibus:                        0.449   Durbin-Watson:                   2.001\n",
       "Prob(Omnibus):                  0.799   Jarque-Bera (JB):                0.330\n",
       "Skew:                          -0.003   Prob(JB):                        0.848\n",
       "Kurtosis:                       3.089   Cond. No.                     7.67e+03\n",
       "==============================================================================\n",
       "\n",
       "Notes:\n",
       "[1] Standard Errors assume that the covariance matrix of the errors is correctly specified.\n",
       "[2] The condition number is large, 7.67e+03. This might indicate that there are\n",
       "strong multicollinearity or other numerical problems.\n",
       "\"\"\""
      ]
     },
     "execution_count": 8,
     "metadata": {},
     "output_type": "execute_result"
    }
   ],
   "source": [
    "#Stage 1 \n",
    "stage_1 = sm.OLS(df['Education'], sm.add_constant(df['Libraries_Per_Capita'])).fit()\n",
    "df['Education_2'] = stage_1.predict()\n",
    "\n",
    "#Stage 2\n",
    "stage_2 = sm.OLS(df['Job_Performance'], sm.add_constant(df[['Education_2', 'Experience']])).fit()\n",
    "edu_coef_2sls = stage_2.params[1]\n",
    "stage_2.summary()"
   ]
  },
  {
   "cell_type": "code",
   "execution_count": 10,
   "id": "e1758723-c074-4087-841b-12ccad2b52ef",
   "metadata": {
    "tags": []
   },
   "outputs": [
    {
     "name": "stdout",
     "output_type": "stream",
     "text": [
      "1.6117924767220448\n"
     ]
    }
   ],
   "source": [
    "overstated_impact = edu_coef_ols - edu_coef_2sls\n",
    "print(overstated_impact)"
   ]
  }
 ],
 "metadata": {
  "kernelspec": {
   "display_name": "Python 3 (ipykernel)",
   "language": "python",
   "name": "python3"
  },
  "language_info": {
   "codemirror_mode": {
    "name": "ipython",
    "version": 3
   },
   "file_extension": ".py",
   "mimetype": "text/x-python",
   "name": "python",
   "nbconvert_exporter": "python",
   "pygments_lexer": "ipython3",
   "version": "3.11.0"
  }
 },
 "nbformat": 4,
 "nbformat_minor": 5
}
