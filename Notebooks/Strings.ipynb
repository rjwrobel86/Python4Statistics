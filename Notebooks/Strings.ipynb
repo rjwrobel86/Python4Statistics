{
 "cells": [
  {
   "cell_type": "markdown",
   "id": "8da8e57a-7192-4356-be5e-a4b6b65e5e00",
   "metadata": {},
   "source": [
    "# Text Strings and String Methods"
   ]
  },
  {
   "cell_type": "code",
   "execution_count": 1,
   "id": "f1fa0e7e",
   "metadata": {},
   "outputs": [
    {
     "name": "stdout",
     "output_type": "stream",
     "text": [
      "Hello World\n"
     ]
    }
   ],
   "source": [
    "#In coding, text is often referred to as a string \n",
    "#Python has lots of useful and easy methods for manipulating text strings\n",
    "\n",
    "#Concatenation\n",
    "str1 = \"Hello\"\n",
    "str2 = \"World\"\n",
    "string = str1 + \" \" + str2\n",
    "print(string)"
   ]
  },
  {
   "cell_type": "code",
   "execution_count": 2,
   "id": "5fea7290",
   "metadata": {},
   "outputs": [
    {
     "name": "stdout",
     "output_type": "stream",
     "text": [
      "11\n"
     ]
    }
   ],
   "source": [
    "#String Length\n",
    "length = len(string)\n",
    "print(length)"
   ]
  },
  {
   "cell_type": "code",
   "execution_count": 3,
   "id": "8fb6388f-6637-405b-8ad5-a81a5fc149c3",
   "metadata": {},
   "outputs": [],
   "source": [
    "#Slicing Strings\n",
    "string = \"Hello World\""
   ]
  },
  {
   "cell_type": "code",
   "execution_count": 4,
   "id": "6e06e349-2738-45d1-b78c-7448436bac17",
   "metadata": {},
   "outputs": [
    {
     "name": "stdout",
     "output_type": "stream",
     "text": [
      "H\n"
     ]
    }
   ],
   "source": [
    "#Print the first letter of the string (indexed to zero)\n",
    "c1 = string[0]\n",
    "print(c1)"
   ]
  },
  {
   "cell_type": "code",
   "execution_count": 5,
   "id": "0739c7ce-9b8c-4f67-ac24-80ae87a0dfb6",
   "metadata": {},
   "outputs": [
    {
     "name": "stdout",
     "output_type": "stream",
     "text": [
      "l\n"
     ]
    }
   ],
   "source": [
    "#Print the second letter in the index (the third in the string)\n",
    "c3 = string[2]\n",
    "print(c3)"
   ]
  },
  {
   "cell_type": "code",
   "execution_count": 6,
   "id": "1fd73a45-f96e-42e8-8f8b-a09256b4cc0f",
   "metadata": {},
   "outputs": [
    {
     "name": "stdout",
     "output_type": "stream",
     "text": [
      "d\n"
     ]
    }
   ],
   "source": [
    "#Print the 10th letter in the index (the 9th in the string)\n",
    "c10 = string[10]\n",
    "print(c10)"
   ]
  },
  {
   "cell_type": "code",
   "execution_count": 7,
   "id": "d1f1da1e-2e5a-4588-b335-f83b352ebcbd",
   "metadata": {},
   "outputs": [
    {
     "name": "stdout",
     "output_type": "stream",
     "text": [
      "r\n"
     ]
    }
   ],
   "source": [
    "#Print the third from the last letter in the string\n",
    "cminus3 = string[-3]\n",
    "print(cminus3)"
   ]
  },
  {
   "cell_type": "code",
   "execution_count": 8,
   "id": "bfed125d-1b11-4dcd-86f7-3bcf01a70240",
   "metadata": {},
   "outputs": [
    {
     "name": "stdout",
     "output_type": "stream",
     "text": [
      "llo Worl\n"
     ]
    }
   ],
   "source": [
    "#Print the 3rd letter through the 9th letter\n",
    "substring = string[2:10] \n",
    "print(substring)"
   ]
  },
  {
   "cell_type": "code",
   "execution_count": 9,
   "id": "b4a6c801",
   "metadata": {},
   "outputs": [
    {
     "name": "stdout",
     "output_type": "stream",
     "text": [
      "HELLO WORLD hello world\n"
     ]
    }
   ],
   "source": [
    "#Capitalization (or not)\n",
    "uppercase = string.upper()\n",
    "lowercase = string.lower()\n",
    "print(uppercase, lowercase)"
   ]
  },
  {
   "cell_type": "code",
   "execution_count": 10,
   "id": "75fb01cf",
   "metadata": {},
   "outputs": [
    {
     "name": "stdout",
     "output_type": "stream",
     "text": [
      "['Hello', 'World']\n"
     ]
    }
   ],
   "source": [
    "#Splitting / Delimiters\n",
    "split = string.split(\" \") #Space as a delimiter\n",
    "print(split)"
   ]
  },
  {
   "cell_type": "code",
   "execution_count": 11,
   "id": "fd441c1a",
   "metadata": {},
   "outputs": [
    {
     "name": "stdout",
     "output_type": "stream",
     "text": [
      "My name is Robert and I'm 36 years old.\n"
     ]
    }
   ],
   "source": [
    "#Formatting\n",
    "name = \"Robert\"\n",
    "age = \"36\"\n",
    "\n",
    "formatted_string = \"My name is {} and I'm {} years old.\".format(name, age)\n",
    "\n",
    "print(formatted_string)"
   ]
  },
  {
   "cell_type": "code",
   "execution_count": 12,
   "id": "e6e0c3a8",
   "metadata": {
    "scrolled": true,
    "tags": []
   },
   "outputs": [
    {
     "name": "stdout",
     "output_type": "stream",
     "text": [
      "My name is Robert and I'm 36 years old\n"
     ]
    }
   ],
   "source": [
    "#F String Interpolation\n",
    "name = \"Robert\"\n",
    "age = \"36\"\n",
    "\n",
    "print(f\"My name is {name} and I'm {age} years old\")"
   ]
  },
  {
   "cell_type": "code",
   "execution_count": 13,
   "id": "c6d439d3",
   "metadata": {},
   "outputs": [
    {
     "data": {
      "text/plain": [
       "\"Python is way too easy.  It's so easy I can't believe it!\""
      ]
     },
     "execution_count": 13,
     "metadata": {},
     "output_type": "execute_result"
    }
   ],
   "source": [
    "#Replacing\n",
    "string = \"Python is way too hard.  It's so hard I can't believe it!\"\n",
    "new_string = string.replace(\"hard\", \"easy\")\n",
    "new_string"
   ]
  },
  {
   "cell_type": "code",
   "execution_count": 14,
   "id": "61edbd30",
   "metadata": {},
   "outputs": [
    {
     "name": "stdout",
     "output_type": "stream",
     "text": [
      "4\n",
      "1\n"
     ]
    }
   ],
   "source": [
    "#Counting\n",
    "count = string.count(\"a\")\n",
    "print(count)\n",
    "count2 = string.count(\"lie\")\n",
    "print(count2)"
   ]
  },
  {
   "cell_type": "code",
   "execution_count": null,
   "id": "734383c1-bdeb-4a7f-9720-95117d07124c",
   "metadata": {},
   "outputs": [],
   "source": [
    "#Function to remove non-string / non-numeric values from numbers, whitespace, and leading 1s from \n",
    "def clean_number(input_str):\n",
    "    if not isinstance(input_str, str):  \n",
    "        input_str = str(input_str) if pd.notnull(input_str) else ''\n",
    "    cleaned = re.sub(r'[^\\d\\s+]', '', input_str)\n",
    "    cleaned = cleaned.lstrip('+')\n",
    "    cleaned = re.sub(r'^1+', '', cleaned)\n",
    "    cleaned = cleaned.replace(' ', '')\n",
    "    return cleaned\n",
    "\n",
    "df['Mobile Phone'] = df['Mobile Phone'].apply(clean_number)"
   ]
  }
 ],
 "metadata": {
  "kernelspec": {
   "display_name": "Python [conda env:base] *",
   "language": "python",
   "name": "conda-base-py"
  },
  "language_info": {
   "codemirror_mode": {
    "name": "ipython",
    "version": 3
   },
   "file_extension": ".py",
   "mimetype": "text/x-python",
   "name": "python",
   "nbconvert_exporter": "python",
   "pygments_lexer": "ipython3",
   "version": "3.12.7"
  }
 },
 "nbformat": 4,
 "nbformat_minor": 5
}
