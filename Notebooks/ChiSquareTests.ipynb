{
 "cells": [
  {
   "cell_type": "markdown",
   "id": "6dfe2c6c-3347-4b09-9a75-52f15ce9a860",
   "metadata": {
    "tags": []
   },
   "source": [
    "# Chi-Squared Testing For Association, Goodness of Fit, and Homogeneity"
   ]
  },
  {
   "cell_type": "markdown",
   "id": "e309771c-588c-4670-b686-2c2819cc1f5f",
   "metadata": {},
   "source": [
    "## Chi Square Tests for \n",
    "1) Association between catigorical variables\n",
    "2) Goodness of fit between actual distribution and expected/theoretical distribution  \n",
    "3) Homogeneity (sameness) of groups"
   ]
  },
  {
   "cell_type": "code",
   "execution_count": 10,
   "id": "a9fe1f34-15cb-466b-b397-cc2989de4f5e",
   "metadata": {
    "tags": []
   },
   "outputs": [],
   "source": [
    "import numpy as np\n",
    "import pandas as pd\n",
    "from scipy.stats import chi2_contingency, chisquare\n",
    "np.random.seed(1663)"
   ]
  },
  {
   "cell_type": "code",
   "execution_count": 24,
   "id": "59a50a16-f765-4d8c-bebc-820f8ee5eb41",
   "metadata": {
    "tags": []
   },
   "outputs": [
    {
     "data": {
      "text/html": [
       "<div>\n",
       "<style scoped>\n",
       "    .dataframe tbody tr th:only-of-type {\n",
       "        vertical-align: middle;\n",
       "    }\n",
       "\n",
       "    .dataframe tbody tr th {\n",
       "        vertical-align: top;\n",
       "    }\n",
       "\n",
       "    .dataframe thead th {\n",
       "        text-align: right;\n",
       "    }\n",
       "</style>\n",
       "<table border=\"1\" class=\"dataframe\">\n",
       "  <thead>\n",
       "    <tr style=\"text-align: right;\">\n",
       "      <th>Preference</th>\n",
       "      <th>Cats</th>\n",
       "      <th>Dogs</th>\n",
       "    </tr>\n",
       "    <tr>\n",
       "      <th>Gender</th>\n",
       "      <th></th>\n",
       "      <th></th>\n",
       "    </tr>\n",
       "  </thead>\n",
       "  <tbody>\n",
       "    <tr>\n",
       "      <th>Female</th>\n",
       "      <td>32</td>\n",
       "      <td>15</td>\n",
       "    </tr>\n",
       "    <tr>\n",
       "      <th>Male</th>\n",
       "      <td>30</td>\n",
       "      <td>23</td>\n",
       "    </tr>\n",
       "  </tbody>\n",
       "</table>\n",
       "</div>"
      ],
      "text/plain": [
       "Preference  Cats  Dogs\n",
       "Gender                \n",
       "Female        32    15\n",
       "Male          30    23"
      ]
     },
     "execution_count": 24,
     "metadata": {},
     "output_type": "execute_result"
    }
   ],
   "source": [
    "#Association Data - \n",
    "df = pd.DataFrame({\n",
    "    'Gender': np.random.choice(['Male', 'Female'], size=100, p=[0.5, 0.5]),\n",
    "    'Preference': np.random.choice(['Dogs', 'Cats'], size=100, p=[0.4, 0.6])\n",
    "})\n",
    "table = pd.crosstab(df['Gender'], df['Preference'])\n",
    "table"
   ]
  },
  {
   "cell_type": "code",
   "execution_count": 26,
   "id": "70012717-06b9-4b16-b936-5e4ffc099aa3",
   "metadata": {
    "tags": []
   },
   "outputs": [
    {
     "name": "stdout",
     "output_type": "stream",
     "text": [
      "Chi2ContingencyResult(statistic=0.949019185536522, pvalue=0.3299690808943076, dof=1, expected_freq=array([[29.14, 17.86],\n",
      "       [32.86, 20.14]]))\n"
     ]
    }
   ],
   "source": [
    "#Chi-Squared Test of Association / Independence\n",
    "#Null Hypothesis = Variables are independent of one another\n",
    "#P-value must be below alpha to reject null\n",
    "print(chi2_contingency(table))"
   ]
  },
  {
   "cell_type": "code",
   "execution_count": 28,
   "id": "5b3cfa6b-96c4-4784-a2b3-fc0cfaf11db5",
   "metadata": {
    "tags": []
   },
   "outputs": [
    {
     "name": "stdout",
     "output_type": "stream",
     "text": [
      "[23 19 20 12  8 18]\n",
      "[16.66666667 16.66666667 16.66666667 16.66666667 16.66666667 16.66666667]\n"
     ]
    }
   ],
   "source": [
    "#Goodness of fit data - Dice rolls - Do actual outcomes resemble predicted outcomes / distribution (uniform)\n",
    "rolls = np.random.choice([1, 2, 3, 4, 5, 6], size=100, p=[1/6]*6)\n",
    "observed_counts = np.bincount(rolls)[1:]  \n",
    "expected_counts = np.full(6, 100/6) \n",
    "\n",
    "print(observed_counts)\n",
    "print(expected_counts)"
   ]
  },
  {
   "cell_type": "code",
   "execution_count": 30,
   "id": "3208f195-1cf7-4b36-a25d-78574cf7a25e",
   "metadata": {
    "tags": []
   },
   "outputs": [
    {
     "data": {
      "text/plain": [
       "Power_divergenceResult(statistic=9.32, pvalue=0.09696125366335304)"
      ]
     },
     "execution_count": 30,
     "metadata": {},
     "output_type": "execute_result"
    }
   ],
   "source": [
    "#Chi-Squared Test for Goodness of Fit\n",
    "#Null hypothesis - Observed data fits actual distribution\n",
    "#P-value must be below alpha to reject null and conclude dice are unfair\n",
    "chisquare(observed_counts, expected_counts)"
   ]
  },
  {
   "cell_type": "code",
   "execution_count": 34,
   "id": "f8f03823-45b7-4b2f-a97c-8345339eb6ac",
   "metadata": {
    "tags": []
   },
   "outputs": [
    {
     "data": {
      "text/html": [
       "<div>\n",
       "<style scoped>\n",
       "    .dataframe tbody tr th:only-of-type {\n",
       "        vertical-align: middle;\n",
       "    }\n",
       "\n",
       "    .dataframe tbody tr th {\n",
       "        vertical-align: top;\n",
       "    }\n",
       "\n",
       "    .dataframe thead th {\n",
       "        text-align: right;\n",
       "    }\n",
       "</style>\n",
       "<table border=\"1\" class=\"dataframe\">\n",
       "  <thead>\n",
       "    <tr style=\"text-align: right;\">\n",
       "      <th>Response</th>\n",
       "      <th>Apples</th>\n",
       "      <th>Bananas</th>\n",
       "      <th>Cherries</th>\n",
       "    </tr>\n",
       "    <tr>\n",
       "      <th>Group</th>\n",
       "      <th></th>\n",
       "      <th></th>\n",
       "      <th></th>\n",
       "    </tr>\n",
       "  </thead>\n",
       "  <tbody>\n",
       "    <tr>\n",
       "      <th>Female</th>\n",
       "      <td>17</td>\n",
       "      <td>16</td>\n",
       "      <td>17</td>\n",
       "    </tr>\n",
       "    <tr>\n",
       "      <th>Male</th>\n",
       "      <td>19</td>\n",
       "      <td>22</td>\n",
       "      <td>9</td>\n",
       "    </tr>\n",
       "  </tbody>\n",
       "</table>\n",
       "</div>"
      ],
      "text/plain": [
       "Response  Apples  Bananas  Cherries\n",
       "Group                              \n",
       "Female        17       16        17\n",
       "Male          19       22         9"
      ]
     },
     "execution_count": 34,
     "metadata": {},
     "output_type": "execute_result"
    }
   ],
   "source": [
    "#Homogeneity data - Favorite fruit by gender\n",
    "Male = np.random.choice(['Apples', 'Bananas', 'Cherries'], size=50, p=[0.3, 0.5, 0.2])\n",
    "Female = np.random.choice(['Apples', 'Bananas', 'Cherries'], size=50, p=[0.3, 0.4, 0.3])\n",
    "homogeneity_data = pd.DataFrame({\n",
    "    'Group': ['Male']*50 + ['Female']*50,\n",
    "    'Response': np.concatenate([Male, Female])\n",
    "})\n",
    "table = pd.crosstab(homogeneity_data['Group'], homogeneity_data['Response'])\n",
    "table"
   ]
  },
  {
   "cell_type": "code",
   "execution_count": 36,
   "id": "95bcd74e-2776-4efc-80aa-df358225a8b8",
   "metadata": {
    "tags": []
   },
   "outputs": [
    {
     "data": {
      "text/plain": [
       "Chi2ContingencyResult(statistic=3.5200179937022043, pvalue=0.1720433159679907, dof=2, expected_freq=array([[18., 19., 13.],\n",
       "       [18., 19., 13.]]))"
      ]
     },
     "execution_count": 36,
     "metadata": {},
     "output_type": "execute_result"
    }
   ],
   "source": [
    "#Chi-Squared Test for Homogeneity \n",
    "#Null hypothesis - Groups are homogenous\n",
    "#P-value must be less than alpha to reject null and conclude that there is a significant difference between groups\n",
    "chi2_contingency(table)"
   ]
  },
  {
   "cell_type": "code",
   "execution_count": 38,
   "id": "34031297-2150-4bff-beb1-5f7108eebb62",
   "metadata": {
    "tags": []
   },
   "outputs": [
    {
     "data": {
      "text/plain": [
       "11.070497693516351"
      ]
     },
     "execution_count": 38,
     "metadata": {},
     "output_type": "execute_result"
    }
   ],
   "source": [
    "#Critical Values\n",
    "import scipy.stats as stats\n",
    "critical_value = stats.chi2.ppf(0.95, 5)  #95% confidence level, DoF=5\n",
    "critical_value"
   ]
  }
 ],
 "metadata": {
  "kernelspec": {
   "display_name": "Python [conda env:base] *",
   "language": "python",
   "name": "conda-base-py"
  },
  "language_info": {
   "codemirror_mode": {
    "name": "ipython",
    "version": 3
   },
   "file_extension": ".py",
   "mimetype": "text/x-python",
   "name": "python",
   "nbconvert_exporter": "python",
   "pygments_lexer": "ipython3",
   "version": "3.12.2"
  }
 },
 "nbformat": 4,
 "nbformat_minor": 5
}
