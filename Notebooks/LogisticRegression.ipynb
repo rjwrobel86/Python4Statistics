{
 "cells": [
  {
   "cell_type": "markdown",
   "id": "d6513cb3-f242-46d9-93da-4ed1ab9c8a67",
   "metadata": {},
   "source": [
    "# Logistic Regression (logit) for Binary Dependent Variables"
   ]
  },
  {
   "cell_type": "code",
   "execution_count": 1,
   "id": "6d21e2b4-3e72-447c-9b25-a8e32f6d065e",
   "metadata": {
    "tags": []
   },
   "outputs": [],
   "source": [
    "import numpy as np\n",
    "import pandas as pd\n",
    "import matplotlib.pyplot as plt\n",
    "import statsmodels.api as sm\n",
    "from sklearn.metrics import accuracy_score, classification_report, confusion_matrix"
   ]
  },
  {
   "cell_type": "code",
   "execution_count": 2,
   "id": "e482f162-6ca4-4fa6-9e53-32a166a35196",
   "metadata": {
    "tags": []
   },
   "outputs": [],
   "source": [
    "#Uncomment lines below to create random data for testing purposes \n",
    "#n = 1000\n",
    "#data['gender'] = np.random.choice(['Male', 'Female'], size=n)\n",
    "#data['age'] = np.random.randint(18, 65, size=n)\n",
    "#data['visits'] = np.random.randint(0, 10, size=n)\n",
    "#data['past_purchases'] = np.random.randint(0, 10, size=n)\n",
    "#data['sold'] = np.random.randint(0, 1, size=n)"
   ]
  },
  {
   "cell_type": "code",
   "execution_count": 7,
   "id": "d794b0e4-0b92-4d9a-9b21-a09d6c6a738e",
   "metadata": {
    "tags": []
   },
   "outputs": [
    {
     "data": {
      "text/html": [
       "<div>\n",
       "<style scoped>\n",
       "    .dataframe tbody tr th:only-of-type {\n",
       "        vertical-align: middle;\n",
       "    }\n",
       "\n",
       "    .dataframe tbody tr th {\n",
       "        vertical-align: top;\n",
       "    }\n",
       "\n",
       "    .dataframe thead th {\n",
       "        text-align: right;\n",
       "    }\n",
       "</style>\n",
       "<table border=\"1\" class=\"dataframe\">\n",
       "  <thead>\n",
       "    <tr style=\"text-align: right;\">\n",
       "      <th></th>\n",
       "      <th>purchased</th>\n",
       "      <th>gender</th>\n",
       "      <th>age</th>\n",
       "      <th>visits</th>\n",
       "      <th>past_purchases</th>\n",
       "    </tr>\n",
       "  </thead>\n",
       "  <tbody>\n",
       "    <tr>\n",
       "      <th>0</th>\n",
       "      <td>0</td>\n",
       "      <td>M</td>\n",
       "      <td>23</td>\n",
       "      <td>3</td>\n",
       "      <td>0</td>\n",
       "    </tr>\n",
       "    <tr>\n",
       "      <th>1</th>\n",
       "      <td>0</td>\n",
       "      <td>M</td>\n",
       "      <td>24</td>\n",
       "      <td>3</td>\n",
       "      <td>0</td>\n",
       "    </tr>\n",
       "    <tr>\n",
       "      <th>2</th>\n",
       "      <td>0</td>\n",
       "      <td>M</td>\n",
       "      <td>18</td>\n",
       "      <td>1</td>\n",
       "      <td>1</td>\n",
       "    </tr>\n",
       "    <tr>\n",
       "      <th>3</th>\n",
       "      <td>0</td>\n",
       "      <td>F</td>\n",
       "      <td>26</td>\n",
       "      <td>4</td>\n",
       "      <td>1</td>\n",
       "    </tr>\n",
       "    <tr>\n",
       "      <th>4</th>\n",
       "      <td>0</td>\n",
       "      <td>M</td>\n",
       "      <td>19</td>\n",
       "      <td>2</td>\n",
       "      <td>1</td>\n",
       "    </tr>\n",
       "  </tbody>\n",
       "</table>\n",
       "</div>"
      ],
      "text/plain": [
       "   purchased gender  age  visits  past_purchases\n",
       "0          0      M   23       3               0\n",
       "1          0      M   24       3               0\n",
       "2          0      M   18       1               1\n",
       "3          0      F   26       4               1\n",
       "4          0      M   19       2               1"
      ]
     },
     "execution_count": 7,
     "metadata": {},
     "output_type": "execute_result"
    }
   ],
   "source": [
    "df = pd.read_csv('../data/logit_data.csv')\n",
    "df.columns\n",
    "df.head()"
   ]
  },
  {
   "cell_type": "code",
   "execution_count": 86,
   "id": "347fff22-c131-49eb-a01d-cc44c2ef30be",
   "metadata": {
    "tags": []
   },
   "outputs": [
    {
     "data": {
      "text/html": [
       "<div>\n",
       "<style scoped>\n",
       "    .dataframe tbody tr th:only-of-type {\n",
       "        vertical-align: middle;\n",
       "    }\n",
       "\n",
       "    .dataframe tbody tr th {\n",
       "        vertical-align: top;\n",
       "    }\n",
       "\n",
       "    .dataframe thead th {\n",
       "        text-align: right;\n",
       "    }\n",
       "</style>\n",
       "<table border=\"1\" class=\"dataframe\">\n",
       "  <thead>\n",
       "    <tr style=\"text-align: right;\">\n",
       "      <th></th>\n",
       "      <th>const</th>\n",
       "      <th>age</th>\n",
       "      <th>visits</th>\n",
       "      <th>past_purchases</th>\n",
       "      <th>gender_M</th>\n",
       "    </tr>\n",
       "  </thead>\n",
       "  <tbody>\n",
       "    <tr>\n",
       "      <th>0</th>\n",
       "      <td>1.0</td>\n",
       "      <td>23</td>\n",
       "      <td>3</td>\n",
       "      <td>0</td>\n",
       "      <td>1</td>\n",
       "    </tr>\n",
       "    <tr>\n",
       "      <th>1</th>\n",
       "      <td>1.0</td>\n",
       "      <td>24</td>\n",
       "      <td>3</td>\n",
       "      <td>0</td>\n",
       "      <td>1</td>\n",
       "    </tr>\n",
       "    <tr>\n",
       "      <th>2</th>\n",
       "      <td>1.0</td>\n",
       "      <td>18</td>\n",
       "      <td>1</td>\n",
       "      <td>1</td>\n",
       "      <td>1</td>\n",
       "    </tr>\n",
       "    <tr>\n",
       "      <th>3</th>\n",
       "      <td>1.0</td>\n",
       "      <td>26</td>\n",
       "      <td>4</td>\n",
       "      <td>1</td>\n",
       "      <td>0</td>\n",
       "    </tr>\n",
       "    <tr>\n",
       "      <th>4</th>\n",
       "      <td>1.0</td>\n",
       "      <td>19</td>\n",
       "      <td>2</td>\n",
       "      <td>1</td>\n",
       "      <td>1</td>\n",
       "    </tr>\n",
       "  </tbody>\n",
       "</table>\n",
       "</div>"
      ],
      "text/plain": [
       "   const  age  visits  past_purchases  gender_M\n",
       "0    1.0   23       3               0         1\n",
       "1    1.0   24       3               0         1\n",
       "2    1.0   18       1               1         1\n",
       "3    1.0   26       4               1         0\n",
       "4    1.0   19       2               1         1"
      ]
     },
     "execution_count": 86,
     "metadata": {},
     "output_type": "execute_result"
    }
   ],
   "source": [
    "X = df[['gender', 'age', 'visits', 'past_purchases']] #Create dataframe for indpenedent variables\n",
    "X = pd.get_dummies(X, drop_first=True, dtype=int)  #Convert gender variable to dummy variables\n",
    "X = sm.add_constant(X)  #Add a constant term to the independent variables\n",
    "y = df['purchased'] #Create dataframe for dependent variable\n",
    "X.head()"
   ]
  },
  {
   "cell_type": "code",
   "execution_count": 87,
   "id": "b6e79a9d-35dd-4ac3-8eee-eb57b07d9175",
   "metadata": {
    "tags": []
   },
   "outputs": [
    {
     "name": "stdout",
     "output_type": "stream",
     "text": [
      "Optimization terminated successfully.\n",
      "         Current function value: 0.536389\n",
      "         Iterations 6\n"
     ]
    },
    {
     "data": {
      "text/html": [
       "<table class=\"simpletable\">\n",
       "<tr>\n",
       "        <td>Model:</td>              <td>Logit</td>           <td>Method:</td>         <td>MLE</td>   \n",
       "</tr>\n",
       "<tr>\n",
       "  <td>Dependent Variable:</td>     <td>purchased</td>    <td>Pseudo R-squared:</td>   <td>0.225</td>  \n",
       "</tr>\n",
       "<tr>\n",
       "         <td>Date:</td>        <td>2023-12-11 21:25</td>       <td>AIC:</td>         <td>63.6389</td> \n",
       "</tr>\n",
       "<tr>\n",
       "   <td>No. Observations:</td>         <td>50</td>              <td>BIC:</td>         <td>73.1990</td> \n",
       "</tr>\n",
       "<tr>\n",
       "       <td>Df Model:</td>              <td>4</td>         <td>Log-Likelihood:</td>   <td>-26.819</td> \n",
       "</tr>\n",
       "<tr>\n",
       "     <td>Df Residuals:</td>           <td>45</td>            <td>LL-Null:</td>       <td>-34.617</td> \n",
       "</tr>\n",
       "<tr>\n",
       "      <td>Converged:</td>           <td>1.0000</td>        <td>LLR p-value:</td>    <td>0.0036124</td>\n",
       "</tr>\n",
       "<tr>\n",
       "    <td>No. Iterations:</td>        <td>6.0000</td>           <td>Scale:</td>        <td>1.0000</td>  \n",
       "</tr>\n",
       "</table>\n",
       "<table class=\"simpletable\">\n",
       "<tr>\n",
       "         <td></td>         <th>Coef.</th>  <th>Std.Err.</th>    <th>z</th>     <th>P>|z|</th> <th>[0.025</th>  <th>0.975]</th> \n",
       "</tr>\n",
       "<tr>\n",
       "  <th>const</th>          <td>-1.2181</td>  <td>1.5258</td>  <td>-0.7984</td> <td>0.4247</td> <td>-4.2085</td> <td>1.7723</td> \n",
       "</tr>\n",
       "<tr>\n",
       "  <th>age</th>            <td>0.0415</td>   <td>0.0275</td>  <td>1.5066</td>  <td>0.1319</td> <td>-0.0125</td> <td>0.0954</td> \n",
       "</tr>\n",
       "<tr>\n",
       "  <th>visits</th>         <td>-0.1541</td>  <td>0.3253</td>  <td>-0.4738</td> <td>0.6356</td> <td>-0.7916</td> <td>0.4834</td> \n",
       "</tr>\n",
       "<tr>\n",
       "  <th>past_purchases</th> <td>0.7168</td>   <td>0.5567</td>  <td>1.2875</td>  <td>0.1979</td> <td>-0.3744</td> <td>1.8080</td> \n",
       "</tr>\n",
       "<tr>\n",
       "  <th>gender_M</th>       <td>-1.4647</td>  <td>0.7113</td>  <td>-2.0592</td> <td>0.0395</td> <td>-2.8589</td> <td>-0.0706</td>\n",
       "</tr>\n",
       "</table><br/>\n"
      ],
      "text/latex": [
       "\\begin{table}\n",
       "\\caption{Results: Logit}\n",
       "\\label{}\n",
       "\\begin{center}\n",
       "\\begin{tabular}{llll}\n",
       "\\hline\n",
       "Model:              & Logit            & Method:           & MLE        \\\\\n",
       "Dependent Variable: & purchased        & Pseudo R-squared: & 0.225      \\\\\n",
       "Date:               & 2023-12-11 21:25 & AIC:              & 63.6389    \\\\\n",
       "No. Observations:   & 50               & BIC:              & 73.1990    \\\\\n",
       "Df Model:           & 4                & Log-Likelihood:   & -26.819    \\\\\n",
       "Df Residuals:       & 45               & LL-Null:          & -34.617    \\\\\n",
       "Converged:          & 1.0000           & LLR p-value:      & 0.0036124  \\\\\n",
       "No. Iterations:     & 6.0000           & Scale:            & 1.0000     \\\\\n",
       "\\hline\n",
       "\\end{tabular}\n",
       "\\end{center}\n",
       "\n",
       "\\begin{center}\n",
       "\\begin{tabular}{lrrrrrr}\n",
       "\\hline\n",
       "                &   Coef. & Std.Err. &       z & P$> |$z$|$ &  [0.025 &  0.975]  \\\\\n",
       "\\hline\n",
       "const           & -1.2181 &   1.5258 & -0.7984 &      0.4247 & -4.2085 &  1.7723  \\\\\n",
       "age             &  0.0415 &   0.0275 &  1.5066 &      0.1319 & -0.0125 &  0.0954  \\\\\n",
       "visits          & -0.1541 &   0.3253 & -0.4738 &      0.6356 & -0.7916 &  0.4834  \\\\\n",
       "past\\_purchases &  0.7168 &   0.5567 &  1.2875 &      0.1979 & -0.3744 &  1.8080  \\\\\n",
       "gender\\_M       & -1.4647 &   0.7113 & -2.0592 &      0.0395 & -2.8589 & -0.0706  \\\\\n",
       "\\hline\n",
       "\\end{tabular}\n",
       "\\end{center}\n",
       "\\end{table}\n",
       "\\bigskip\n"
      ],
      "text/plain": [
       "<class 'statsmodels.iolib.summary2.Summary'>\n",
       "\"\"\"\n",
       "                         Results: Logit\n",
       "================================================================\n",
       "Model:              Logit            Method:           MLE      \n",
       "Dependent Variable: purchased        Pseudo R-squared: 0.225    \n",
       "Date:               2023-12-11 21:25 AIC:              63.6389  \n",
       "No. Observations:   50               BIC:              73.1990  \n",
       "Df Model:           4                Log-Likelihood:   -26.819  \n",
       "Df Residuals:       45               LL-Null:          -34.617  \n",
       "Converged:          1.0000           LLR p-value:      0.0036124\n",
       "No. Iterations:     6.0000           Scale:            1.0000   \n",
       "----------------------------------------------------------------\n",
       "                  Coef.  Std.Err.    z    P>|z|   [0.025  0.975]\n",
       "----------------------------------------------------------------\n",
       "const            -1.2181   1.5258 -0.7984 0.4247 -4.2085  1.7723\n",
       "age               0.0415   0.0275  1.5066 0.1319 -0.0125  0.0954\n",
       "visits           -0.1541   0.3253 -0.4738 0.6356 -0.7916  0.4834\n",
       "past_purchases    0.7168   0.5567  1.2875 0.1979 -0.3744  1.8080\n",
       "gender_M         -1.4647   0.7113 -2.0592 0.0395 -2.8589 -0.0706\n",
       "================================================================\n",
       "\n",
       "\"\"\""
      ]
     },
     "execution_count": 87,
     "metadata": {},
     "output_type": "execute_result"
    }
   ],
   "source": [
    "#Fit the model\n",
    "model = sm.Logit(y, X)\n",
    "result = model.fit()\n",
    "result.summary2() #Summary2 includes AIC and BIC"
   ]
  },
  {
   "cell_type": "code",
   "execution_count": 88,
   "id": "a31c93ef-b414-4291-be70-d4735614199e",
   "metadata": {
    "tags": []
   },
   "outputs": [
    {
     "data": {
      "text/plain": [
       "0     0.100492\n",
       "1     0.104302\n",
       "2     0.201974\n",
       "3     0.490012\n",
       "4     0.184425\n",
       "5     0.197221\n",
       "6     0.197221\n",
       "7     0.199081\n",
       "8     0.484165\n",
       "9     0.186191\n",
       "10    0.543302\n",
       "11    0.178271\n",
       "12    0.232099\n",
       "13    0.382327\n",
       "14    0.316513\n",
       "15    0.402086\n",
       "16    0.848062\n",
       "17    0.501507\n",
       "18    0.337325\n",
       "19    0.499920\n",
       "20    0.260689\n",
       "21    0.265224\n",
       "22    0.322887\n",
       "23    0.207691\n",
       "24    0.436637\n",
       "25    0.310018\n",
       "26    0.284065\n",
       "27    0.837068\n",
       "28    0.517713\n",
       "29    0.761799\n",
       "30    0.707673\n",
       "31    0.744209\n",
       "32    0.730421\n",
       "33    0.653713\n",
       "34    0.832970\n",
       "35    0.781635\n",
       "36    0.538370\n",
       "37    0.736239\n",
       "38    0.496995\n",
       "39    0.813175\n",
       "40    0.895265\n",
       "41    0.725340\n",
       "42    0.864775\n",
       "43    0.980603\n",
       "44    0.938202\n",
       "45    0.947145\n",
       "46    0.413414\n",
       "47    0.811323\n",
       "48    0.754113\n",
       "49    0.844130\n",
       "dtype: float64"
      ]
     },
     "execution_count": 88,
     "metadata": {},
     "output_type": "execute_result"
    }
   ],
   "source": [
    "#Predicted Probabilities\n",
    "y_probabilities = result.predict(X) #Get probabilities for each observation\n",
    "y_probabilities"
   ]
  },
  {
   "cell_type": "code",
   "execution_count": 89,
   "id": "e1096863-fe62-4666-bd06-4601e158c72d",
   "metadata": {
    "tags": []
   },
   "outputs": [
    {
     "data": {
      "text/plain": [
       "0     0\n",
       "1     0\n",
       "2     0\n",
       "3     0\n",
       "4     0\n",
       "5     0\n",
       "6     0\n",
       "7     0\n",
       "8     0\n",
       "9     0\n",
       "10    1\n",
       "11    0\n",
       "12    0\n",
       "13    0\n",
       "14    0\n",
       "15    0\n",
       "16    1\n",
       "17    1\n",
       "18    0\n",
       "19    0\n",
       "20    0\n",
       "21    0\n",
       "22    0\n",
       "23    0\n",
       "24    0\n",
       "25    0\n",
       "26    0\n",
       "27    1\n",
       "28    1\n",
       "29    1\n",
       "30    1\n",
       "31    1\n",
       "32    1\n",
       "33    1\n",
       "34    1\n",
       "35    1\n",
       "36    1\n",
       "37    1\n",
       "38    0\n",
       "39    1\n",
       "40    1\n",
       "41    1\n",
       "42    1\n",
       "43    1\n",
       "44    1\n",
       "45    1\n",
       "46    0\n",
       "47    1\n",
       "48    1\n",
       "49    1\n",
       "dtype: int64"
      ]
     },
     "execution_count": 89,
     "metadata": {},
     "output_type": "execute_result"
    }
   ],
   "source": [
    "y_predictions = np.round(y_probabilities) #Round probabilities to 0 (no) or 1 (yes)\n",
    "y_predictions = y_predictions.astype(int) #Float to Int \n",
    "y_predictions"
   ]
  },
  {
   "cell_type": "code",
   "execution_count": 90,
   "id": "155db82b-0b94-4ae2-be7f-d51234df36f3",
   "metadata": {
    "tags": []
   },
   "outputs": [
    {
     "name": "stdout",
     "output_type": "stream",
     "text": [
      "Odds Ratios:\n",
      "const             0.295795\n",
      "age               1.042322\n",
      "visits            0.857184\n",
      "past_purchases    2.047895\n",
      "gender_M          0.231137\n",
      "dtype: float64\n"
     ]
    }
   ],
   "source": [
    "coefficients = result.params\n",
    "odds_ratios = np.exp(coefficients)\n",
    "\n",
    "print(\"Odds Ratios:\")\n",
    "print(odds_ratios)\n",
    "#Exponentiating a logit coefficient provides the odds ratio associated with a one-unit increase in the corresponding predictor variable. \n",
    "#For example, if the exponentiated coefficient is 2, it indicates that a one-unit increase in the predictor variable is associated with a doubling of the odds of the positive outcome."
   ]
  },
  {
   "cell_type": "code",
   "execution_count": 91,
   "id": "f6c888e2",
   "metadata": {},
   "outputs": [
    {
     "name": "stdout",
     "output_type": "stream",
     "text": [
      "        Logit Marginal Effects       \n",
      "=====================================\n",
      "Dep. Variable:              purchased\n",
      "Method:                          dydx\n",
      "At:                              mean\n",
      "==================================================================================\n",
      "                    dy/dx    std err          z      P>|z|      [0.025      0.975]\n",
      "----------------------------------------------------------------------------------\n",
      "age                0.0103      0.007      1.509      0.131      -0.003       0.024\n",
      "visits            -0.0383      0.081     -0.474      0.636      -0.197       0.120\n",
      "past_purchases     0.1780      0.138      1.291      0.197      -0.092       0.448\n",
      "gender_M          -0.3638      0.176     -2.065      0.039      -0.709      -0.018\n",
      "==================================================================================\n"
     ]
    }
   ],
   "source": [
    "#Calculate marginal effects\n",
    "#Marginal effect: To obtain the marginal effect of a predictor variable, you can calculate the derivative of the predicted probabilities with respect to that variable. \n",
    "#The marginal effect represents the change in the predicted probability of the positive outcome due to a one-unit change in the predictor variable.\n",
    "marginal_effects = result.get_margeff(at='mean')\n",
    "print(marginal_effects.summary())"
   ]
  },
  {
   "cell_type": "code",
   "execution_count": 92,
   "id": "448147bb-b4c2-45c8-8d23-e4fdc7150858",
   "metadata": {
    "tags": []
   },
   "outputs": [
    {
     "name": "stdout",
     "output_type": "stream",
     "text": [
      "        Logit Marginal Effects       \n",
      "=====================================\n",
      "Dep. Variable:              purchased\n",
      "Method:                          eyex\n",
      "At:                              mean\n",
      "=====================================================================================\n",
      "               d(lny)/d(lnx)    std err          z      P>|z|      [0.025      0.975]\n",
      "-------------------------------------------------------------------------------------\n",
      "age                   0.6702      0.454      1.476      0.140      -0.219       1.560\n",
      "visits               -0.1727      0.366     -0.472      0.637      -0.889       0.544\n",
      "past_purchases        0.5137      0.402      1.278      0.201      -0.274       1.301\n",
      "gender_M             -0.3768      0.191     -1.978      0.048      -0.750      -0.003\n",
      "=====================================================================================\n"
     ]
    }
   ],
   "source": [
    "#Interpret as % change in Y from a 1% increase in X\n",
    "elasticities = result.get_margeff(at='mean',method='eyex')\n",
    "print(elasticities.summary())"
   ]
  },
  {
   "cell_type": "code",
   "execution_count": 93,
   "id": "8469a73e-fca6-4807-a7a9-aa8965980639",
   "metadata": {
    "tags": []
   },
   "outputs": [
    {
     "name": "stdout",
     "output_type": "stream",
     "text": [
      "[[19  5]\n",
      " [ 7 19]]\n"
     ]
    }
   ],
   "source": [
    "#Confusion Matrix\n",
    "cm = confusion_matrix(y, y_predictions)\n",
    "print(cm)\n",
    "TP = cm[0,0] #True Positives\n",
    "FN = cm[0,1] #False Negatives\n",
    "FP = cm[1,0] #False Positives\n",
    "TN = cm[1,1] #True Negatives"
   ]
  },
  {
   "cell_type": "code",
   "execution_count": 94,
   "id": "7014df84-c0e7-476b-8f1a-79bc2a788be4",
   "metadata": {
    "tags": []
   },
   "outputs": [
    {
     "name": "stdout",
     "output_type": "stream",
     "text": [
      "Accuracy: 0.76\n"
     ]
    }
   ],
   "source": [
    "#Accuracy = % of predictions made correctly\n",
    "accuracy = accuracy_score(y, y_predictions)\n",
    "print(\"Accuracy:\", accuracy)"
   ]
  },
  {
   "cell_type": "code",
   "execution_count": 95,
   "id": "c096a4dd-d026-4d84-84d4-524c9294c958",
   "metadata": {
    "tags": []
   },
   "outputs": [
    {
     "name": "stdout",
     "output_type": "stream",
     "text": [
      "Classification Report:\n",
      "              precision    recall  f1-score   support\n",
      "\n",
      "           0       0.73      0.79      0.76        24\n",
      "           1       0.79      0.73      0.76        26\n",
      "\n",
      "    accuracy                           0.76        50\n",
      "   macro avg       0.76      0.76      0.76        50\n",
      "weighted avg       0.76      0.76      0.76        50\n",
      "\n"
     ]
    }
   ],
   "source": [
    "#Precision = TP / (TP + FP) \n",
    "#Precision tells the percentage of correct positive predictions relative to total positive predictions\n",
    "\n",
    "#Recall = TP / (TP + FN)\n",
    "#Recall tells the percentage of correct positive predictions relative to total actual positives\n",
    "\n",
    "#F1-Score is the weighted harmonic mean of precision and recall. It provides a single metric that balances both precision and recall. \n",
    "\n",
    "#Support is the number of actual instances of each outcome in the dataset\n",
    "\n",
    "report = classification_report(y, y_predictions)\n",
    "print(\"Classification Report:\")\n",
    "print(report)"
   ]
  },
  {
   "cell_type": "code",
   "execution_count": 96,
   "id": "368d88cf-0641-491b-baf8-9ff104daee13",
   "metadata": {
    "tags": []
   },
   "outputs": [
    {
     "data": {
      "image/png": "[encoded data removed]",
      "text/plain": [
       "<Figure size 640x480 with 1 Axes>"
      ]
     },
     "metadata": {},
     "output_type": "display_data"
    }
   ],
   "source": [
    "#Coefficient Plot\n",
    "coefficients = result.params\n",
    "conf_int = result.conf_int()\n",
    "plt.errorbar(coefficients.index, coefficients, yerr=(coefficients - conf_int[0], conf_int[1] - coefficients), fmt='o', capsize=5)\n",
    "plt.axhline(0, color='gray', linestyle='--')  \n",
    "plt.ylabel('Coefficients')\n",
    "plt.title('Coefficient Plot')\n",
    "plt.xticks(rotation=45)\n",
    "plt.show() "
   ]
  },
  {
   "cell_type": "code",
   "execution_count": 97,
   "id": "ada8ad24-5610-43a8-b2cd-f45f500b5820",
   "metadata": {
    "tags": []
   },
   "outputs": [
    {
     "name": "stdout",
     "output_type": "stream",
     "text": [
      "Predictions: 0    0\n",
      "1    1\n",
      "2    0\n",
      "dtype: int64\n",
      "Probabilities: 0    0.315142\n",
      "1    0.970915\n",
      "2    0.285267\n",
      "dtype: float64\n"
     ]
    }
   ],
   "source": [
    "#Prediction on new data\n",
    "prediction_data = pd.DataFrame({'gender_M': ['Male', 'Female','Male'],\n",
    "                         'age': [30, 40, 50],\n",
    "                         'visits': [5, 8, 2],\n",
    "                         'past_purchases': [2, 6, 0]})\n",
    "\n",
    "prediction_data = pd.get_dummies(prediction_data, drop_first=True, dtype=int)  \n",
    "prediction_data = sm.add_constant(prediction_data)  \n",
    "y_probabilities = result.predict(prediction_data)\n",
    "y_predictions = np.round(y_probabilities)  \n",
    "y_predictions = y_predictions.astype(int)\n",
    "\n",
    "print(\"Predictions:\", y_predictions)\n",
    "print(\"Probabilities:\", y_probabilities)"
   ]
  },
  {
   "cell_type": "code",
   "execution_count": 98,
   "id": "74d24cc1-0da0-4090-a75e-96ef4df288d6",
   "metadata": {},
   "outputs": [
    {
     "data": {
      "text/html": [
       "<div>\n",
       "<style scoped>\n",
       "    .dataframe tbody tr th:only-of-type {\n",
       "        vertical-align: middle;\n",
       "    }\n",
       "\n",
       "    .dataframe tbody tr th {\n",
       "        vertical-align: top;\n",
       "    }\n",
       "\n",
       "    .dataframe thead th {\n",
       "        text-align: right;\n",
       "    }\n",
       "</style>\n",
       "<table border=\"1\" class=\"dataframe\">\n",
       "  <thead>\n",
       "    <tr style=\"text-align: right;\">\n",
       "      <th></th>\n",
       "      <th>const</th>\n",
       "      <th>age</th>\n",
       "      <th>visits</th>\n",
       "      <th>past_purchases</th>\n",
       "      <th>gender</th>\n",
       "    </tr>\n",
       "  </thead>\n",
       "  <tbody>\n",
       "    <tr>\n",
       "      <th>0</th>\n",
       "      <td>1</td>\n",
       "      <td>18.000000</td>\n",
       "      <td>2.44</td>\n",
       "      <td>1.56</td>\n",
       "      <td>0.56</td>\n",
       "    </tr>\n",
       "    <tr>\n",
       "      <th>1</th>\n",
       "      <td>1</td>\n",
       "      <td>18.938776</td>\n",
       "      <td>2.44</td>\n",
       "      <td>1.56</td>\n",
       "      <td>0.56</td>\n",
       "    </tr>\n",
       "    <tr>\n",
       "      <th>2</th>\n",
       "      <td>1</td>\n",
       "      <td>19.877551</td>\n",
       "      <td>2.44</td>\n",
       "      <td>1.56</td>\n",
       "      <td>0.56</td>\n",
       "    </tr>\n",
       "    <tr>\n",
       "      <th>3</th>\n",
       "      <td>1</td>\n",
       "      <td>20.816327</td>\n",
       "      <td>2.44</td>\n",
       "      <td>1.56</td>\n",
       "      <td>0.56</td>\n",
       "    </tr>\n",
       "    <tr>\n",
       "      <th>4</th>\n",
       "      <td>1</td>\n",
       "      <td>21.755102</td>\n",
       "      <td>2.44</td>\n",
       "      <td>1.56</td>\n",
       "      <td>0.56</td>\n",
       "    </tr>\n",
       "  </tbody>\n",
       "</table>\n",
       "</div>"
      ],
      "text/plain": [
       "   const        age  visits  past_purchases  gender\n",
       "0      1  18.000000    2.44            1.56    0.56\n",
       "1      1  18.938776    2.44            1.56    0.56\n",
       "2      1  19.877551    2.44            1.56    0.56\n",
       "3      1  20.816327    2.44            1.56    0.56\n",
       "4      1  21.755102    2.44            1.56    0.56"
      ]
     },
     "execution_count": 98,
     "metadata": {},
     "output_type": "execute_result"
    }
   ],
   "source": [
    "#Calculate column means\n",
    "mean_age = X['age'].mean()\n",
    "mean_visits = X['visits'].mean()\n",
    "mean_past_purchases = X['past_purchases'].mean()\n",
    "mean_gender = X['gender_M'].mean()\n",
    "n = len(X)\n",
    "\n",
    "#Generate span variables\n",
    "age_span = np.linspace(X['age'].min(), X['age'].max(), len(X))\n",
    "visits_span = np.linspace(X['visits'].min(), X['visits'].max(), len(X))\n",
    "past_purchases_span = np.linspace(X['past_purchases'].min(), X['past_purchases'].max(), len(X))\n",
    "gender_M_span = np.linspace(X['gender_M'].min(), X['gender_M'].max(), len(X))\n",
    "\n",
    "#Set all variables equal to mean value.  Use one span variable to evaluate effect over span of variable\n",
    "#Age is used as span here\n",
    "df = pd.DataFrame({\n",
    "    'const': np.full(n, 1),\n",
    "    'age': age_span,\n",
    "    'visits': np.full(n, mean_visits),\n",
    "    'past_purchases': np.full(n, mean_past_purchases),\n",
    "    'gender': np.full(n, mean_gender)\n",
    "})\n",
    "\n",
    "df.head()"
   ]
  },
  {
   "cell_type": "code",
   "execution_count": 99,
   "id": "1f9060a8-1d8e-4019-93ba-061fed60547f",
   "metadata": {},
   "outputs": [
    {
     "data": {
      "text/plain": [
       "[<matplotlib.lines.Line2D at 0x28a1da5d0>]"
      ]
     },
     "execution_count": 99,
     "metadata": {},
     "output_type": "execute_result"
    },
    {
     "data": {
      "image/png": "[encoded data removed]",
      "text/plain": [
       "<Figure size 640x480 with 1 Axes>"
      ]
     },
     "metadata": {},
     "output_type": "display_data"
    }
   ],
   "source": [
    "yhat_probabilities = result.predict(df)\n",
    "yhat = np.round(yhat_probabilities)  \n",
    "yhat = yhat.astype(int)\n",
    "plt.plot(yhat_probabilities)"
   ]
  },
  {
   "cell_type": "code",
   "execution_count": 100,
   "id": "6fdecf2e-0888-4d30-9b5c-63b85e4bf256",
   "metadata": {},
   "outputs": [
    {
     "data": {
      "image/png": "[encoded data removed]",
      "text/plain": [
       "<Figure size 1000x800 with 4 Axes>"
      ]
     },
     "metadata": {},
     "output_type": "display_data"
    }
   ],
   "source": [
    "column_dict = {'age':age_span,'visits':visits_span,'past_purchases':past_purchases_span,'gender':gender_M_span}\n",
    "\n",
    "num_rows = (len(column_dict) + 1) // 2\n",
    "\n",
    "fig, axs = plt.subplots(num_rows, 2, figsize=(10, 8))\n",
    "\n",
    "#Flatten the axs array if it has multiple dimensions\n",
    "if num_rows > 1:\n",
    "    axs = axs.flatten()\n",
    "    \n",
    "for i, column in enumerate(column_dict):\n",
    "    original_column = df[column].copy()\n",
    "    df[column] = column_dict[column]\n",
    "    yhat_probabilities = result.predict(df)\n",
    "\n",
    "    # Plot the subplot\n",
    "    axs[i].plot(df[column], yhat_probabilities)\n",
    "    axs[i].set_xlabel(column)\n",
    "    axs[i].set_ylabel('Probability of Purchase')\n",
    "    axs[i].set_title(f'Plot for {column}')\n",
    "\n",
    "    df[column] = original_column\n",
    "\n",
    "plt.tight_layout() #Better spacing\n",
    "plt.show()"
   ]
  },
  {
   "cell_type": "code",
   "execution_count": 101,
   "id": "da4dce2d-a1c6-412e-bbfa-bfcbfbec138f",
   "metadata": {},
   "outputs": [
    {
     "name": "stdout",
     "output_type": "stream",
     "text": [
      "The probability that someone age 25, who has vistied 1 times, purchased 1 time(s) in the past, and is female, will purchase is  0.5940899802233435\n",
      "The probability that someone age 25, who has vistied 1 times, purchased 1 time(s) in the past, and is male, will purchase is  0.2527792599704725\n"
     ]
    }
   ],
   "source": [
    "intercept = result.params[0]\n",
    "age_coef = result.params[1]\n",
    "visits_coef = result.params[2]\n",
    "past_purchases_coef = result.params[3]\n",
    "gender_coef = result.params[4]\n",
    "\n",
    "def predict_probability(age, visits, past_purchases, gender):\n",
    "    \n",
    "    if gender == \"m\":\n",
    "        gender = 1\n",
    "        gender_label = 'male'\n",
    "    elif gender == \"f\":\n",
    "        gender = 0\n",
    "        gender_label = 'female'\n",
    "\n",
    "    z = intercept + age_coef*age + visits_coef*visits + past_purchases_coef*past_purchases + gender_coef*gender\n",
    "    p = 1 / (1 + np.exp(-z))\n",
    "    print(f'The probability that someone age {age}, who has vistied {visits} times, purchased {past_purchases} time(s) in the past, and is {gender_label}, will purchase is  {p}')\n",
    "    \n",
    "\n",
    "predict_probability(25,1,1,\"f\")\n",
    "predict_probability(25,1,1,\"m\")"
   ]
  },
  {
   "cell_type": "code",
   "execution_count": 102,
   "id": "899a4fe1-22f7-4090-af88-192a709ef22d",
   "metadata": {},
   "outputs": [
    {
     "name": "stdout",
     "output_type": "stream",
     "text": [
      "Optimization terminated successfully.\n",
      "         Current function value: 0.631835\n",
      "         Iterations 5\n"
     ]
    },
    {
     "data": {
      "text/html": [
       "<table class=\"simpletable\">\n",
       "<tr>\n",
       "        <td>Model:</td>              <td>Logit</td>           <td>Method:</td>         <td>MLE</td>  \n",
       "</tr>\n",
       "<tr>\n",
       "  <td>Dependent Variable:</td>     <td>purchased</td>    <td>Pseudo R-squared:</td>   <td>0.087</td> \n",
       "</tr>\n",
       "<tr>\n",
       "         <td>Date:</td>        <td>2023-12-11 21:25</td>       <td>AIC:</td>         <td>69.1835</td>\n",
       "</tr>\n",
       "<tr>\n",
       "   <td>No. Observations:</td>         <td>50</td>              <td>BIC:</td>         <td>74.9196</td>\n",
       "</tr>\n",
       "<tr>\n",
       "       <td>Df Model:</td>              <td>2</td>         <td>Log-Likelihood:</td>   <td>-31.592</td>\n",
       "</tr>\n",
       "<tr>\n",
       "     <td>Df Residuals:</td>           <td>47</td>            <td>LL-Null:</td>       <td>-34.617</td>\n",
       "</tr>\n",
       "<tr>\n",
       "      <td>Converged:</td>           <td>1.0000</td>        <td>LLR p-value:</td>    <td>0.048529</td>\n",
       "</tr>\n",
       "<tr>\n",
       "    <td>No. Iterations:</td>        <td>5.0000</td>           <td>Scale:</td>        <td>1.0000</td> \n",
       "</tr>\n",
       "</table>\n",
       "<table class=\"simpletable\">\n",
       "<tr>\n",
       "     <td></td>     <th>Coef.</th>  <th>Std.Err.</th>    <th>z</th>     <th>P>|z|</th> <th>[0.025</th>  <th>0.975]</th>\n",
       "</tr>\n",
       "<tr>\n",
       "  <th>const</th>  <td>-1.5902</td>  <td>1.0834</td>  <td>-1.4678</td> <td>0.1422</td> <td>-3.7135</td> <td>0.5332</td>\n",
       "</tr>\n",
       "<tr>\n",
       "  <th>age</th>    <td>0.0586</td>   <td>0.0257</td>  <td>2.2805</td>  <td>0.0226</td> <td>0.0082</td>  <td>0.1089</td>\n",
       "</tr>\n",
       "<tr>\n",
       "  <th>visits</th> <td>-0.1483</td>  <td>0.3004</td>  <td>-0.4938</td> <td>0.6214</td> <td>-0.7370</td> <td>0.4404</td>\n",
       "</tr>\n",
       "</table><br/>\n"
      ],
      "text/latex": [
       "\\begin{table}\n",
       "\\caption{Results: Logit}\n",
       "\\label{}\n",
       "\\begin{center}\n",
       "\\begin{tabular}{llll}\n",
       "\\hline\n",
       "Model:              & Logit            & Method:           & MLE       \\\\\n",
       "Dependent Variable: & purchased        & Pseudo R-squared: & 0.087     \\\\\n",
       "Date:               & 2023-12-11 21:25 & AIC:              & 69.1835   \\\\\n",
       "No. Observations:   & 50               & BIC:              & 74.9196   \\\\\n",
       "Df Model:           & 2                & Log-Likelihood:   & -31.592   \\\\\n",
       "Df Residuals:       & 47               & LL-Null:          & -34.617   \\\\\n",
       "Converged:          & 1.0000           & LLR p-value:      & 0.048529  \\\\\n",
       "No. Iterations:     & 5.0000           & Scale:            & 1.0000    \\\\\n",
       "\\hline\n",
       "\\end{tabular}\n",
       "\\end{center}\n",
       "\n",
       "\\begin{center}\n",
       "\\begin{tabular}{lrrrrrr}\n",
       "\\hline\n",
       "       &   Coef. & Std.Err. &       z & P$> |$z$|$ &  [0.025 & 0.975]  \\\\\n",
       "\\hline\n",
       "const  & -1.5902 &   1.0834 & -1.4678 &      0.1422 & -3.7135 & 0.5332  \\\\\n",
       "age    &  0.0586 &   0.0257 &  2.2805 &      0.0226 &  0.0082 & 0.1089  \\\\\n",
       "visits & -0.1483 &   0.3004 & -0.4938 &      0.6214 & -0.7370 & 0.4404  \\\\\n",
       "\\hline\n",
       "\\end{tabular}\n",
       "\\end{center}\n",
       "\\end{table}\n",
       "\\bigskip\n"
      ],
      "text/plain": [
       "<class 'statsmodels.iolib.summary2.Summary'>\n",
       "\"\"\"\n",
       "                        Results: Logit\n",
       "===============================================================\n",
       "Model:              Logit            Method:           MLE     \n",
       "Dependent Variable: purchased        Pseudo R-squared: 0.087   \n",
       "Date:               2023-12-11 21:25 AIC:              69.1835 \n",
       "No. Observations:   50               BIC:              74.9196 \n",
       "Df Model:           2                Log-Likelihood:   -31.592 \n",
       "Df Residuals:       47               LL-Null:          -34.617 \n",
       "Converged:          1.0000           LLR p-value:      0.048529\n",
       "No. Iterations:     5.0000           Scale:            1.0000  \n",
       "-----------------------------------------------------------------\n",
       "          Coef.    Std.Err.      z      P>|z|     [0.025   0.975]\n",
       "-----------------------------------------------------------------\n",
       "const    -1.5902     1.0834   -1.4678   0.1422   -3.7135   0.5332\n",
       "age       0.0586     0.0257    2.2805   0.0226    0.0082   0.1089\n",
       "visits   -0.1483     0.3004   -0.4938   0.6214   -0.7370   0.4404\n",
       "===============================================================\n",
       "\n",
       "\"\"\""
      ]
     },
     "execution_count": 102,
     "metadata": {},
     "output_type": "execute_result"
    }
   ],
   "source": [
    "X2 = X[['const','age','visits']]\n",
    "#Fit the model\n",
    "reduced_model = sm.Logit(y, X2)\n",
    "reduced_result = reduced_model.fit()\n",
    "reduced_result.summary2() #Summary2 includes AIC and BIC"
   ]
  },
  {
   "cell_type": "code",
   "execution_count": 103,
   "id": "3424f90d-2e6f-41e8-bb62-5dc47027278b",
   "metadata": {
    "tags": []
   },
   "outputs": [
    {
     "data": {
      "text/html": [
       "<table class=\"simpletable\">\n",
       "<tr>\n",
       "        <td>Model:</td>              <td>Logit</td>           <td>Method:</td>         <td>MLE</td>   \n",
       "</tr>\n",
       "<tr>\n",
       "  <td>Dependent Variable:</td>     <td>purchased</td>    <td>Pseudo R-squared:</td>   <td>0.225</td>  \n",
       "</tr>\n",
       "<tr>\n",
       "         <td>Date:</td>        <td>2023-12-11 21:25</td>       <td>AIC:</td>         <td>63.6389</td> \n",
       "</tr>\n",
       "<tr>\n",
       "   <td>No. Observations:</td>         <td>50</td>              <td>BIC:</td>         <td>73.1990</td> \n",
       "</tr>\n",
       "<tr>\n",
       "       <td>Df Model:</td>              <td>4</td>         <td>Log-Likelihood:</td>   <td>-26.819</td> \n",
       "</tr>\n",
       "<tr>\n",
       "     <td>Df Residuals:</td>           <td>45</td>            <td>LL-Null:</td>       <td>-34.617</td> \n",
       "</tr>\n",
       "<tr>\n",
       "      <td>Converged:</td>           <td>1.0000</td>        <td>LLR p-value:</td>    <td>0.0036124</td>\n",
       "</tr>\n",
       "<tr>\n",
       "    <td>No. Iterations:</td>        <td>6.0000</td>           <td>Scale:</td>        <td>1.0000</td>  \n",
       "</tr>\n",
       "</table>\n",
       "<table class=\"simpletable\">\n",
       "<tr>\n",
       "         <td></td>         <th>Coef.</th>  <th>Std.Err.</th>    <th>z</th>     <th>P>|z|</th> <th>[0.025</th>  <th>0.975]</th> \n",
       "</tr>\n",
       "<tr>\n",
       "  <th>const</th>          <td>-1.2181</td>  <td>1.5258</td>  <td>-0.7984</td> <td>0.4247</td> <td>-4.2085</td> <td>1.7723</td> \n",
       "</tr>\n",
       "<tr>\n",
       "  <th>age</th>            <td>0.0415</td>   <td>0.0275</td>  <td>1.5066</td>  <td>0.1319</td> <td>-0.0125</td> <td>0.0954</td> \n",
       "</tr>\n",
       "<tr>\n",
       "  <th>visits</th>         <td>-0.1541</td>  <td>0.3253</td>  <td>-0.4738</td> <td>0.6356</td> <td>-0.7916</td> <td>0.4834</td> \n",
       "</tr>\n",
       "<tr>\n",
       "  <th>past_purchases</th> <td>0.7168</td>   <td>0.5567</td>  <td>1.2875</td>  <td>0.1979</td> <td>-0.3744</td> <td>1.8080</td> \n",
       "</tr>\n",
       "<tr>\n",
       "  <th>gender_M</th>       <td>-1.4647</td>  <td>0.7113</td>  <td>-2.0592</td> <td>0.0395</td> <td>-2.8589</td> <td>-0.0706</td>\n",
       "</tr>\n",
       "</table><br/>\n"
      ],
      "text/latex": [
       "\\begin{table}\n",
       "\\caption{Results: Logit}\n",
       "\\label{}\n",
       "\\begin{center}\n",
       "\\begin{tabular}{llll}\n",
       "\\hline\n",
       "Model:              & Logit            & Method:           & MLE        \\\\\n",
       "Dependent Variable: & purchased        & Pseudo R-squared: & 0.225      \\\\\n",
       "Date:               & 2023-12-11 21:25 & AIC:              & 63.6389    \\\\\n",
       "No. Observations:   & 50               & BIC:              & 73.1990    \\\\\n",
       "Df Model:           & 4                & Log-Likelihood:   & -26.819    \\\\\n",
       "Df Residuals:       & 45               & LL-Null:          & -34.617    \\\\\n",
       "Converged:          & 1.0000           & LLR p-value:      & 0.0036124  \\\\\n",
       "No. Iterations:     & 6.0000           & Scale:            & 1.0000     \\\\\n",
       "\\hline\n",
       "\\end{tabular}\n",
       "\\end{center}\n",
       "\n",
       "\\begin{center}\n",
       "\\begin{tabular}{lrrrrrr}\n",
       "\\hline\n",
       "                &   Coef. & Std.Err. &       z & P$> |$z$|$ &  [0.025 &  0.975]  \\\\\n",
       "\\hline\n",
       "const           & -1.2181 &   1.5258 & -0.7984 &      0.4247 & -4.2085 &  1.7723  \\\\\n",
       "age             &  0.0415 &   0.0275 &  1.5066 &      0.1319 & -0.0125 &  0.0954  \\\\\n",
       "visits          & -0.1541 &   0.3253 & -0.4738 &      0.6356 & -0.7916 &  0.4834  \\\\\n",
       "past\\_purchases &  0.7168 &   0.5567 &  1.2875 &      0.1979 & -0.3744 &  1.8080  \\\\\n",
       "gender\\_M       & -1.4647 &   0.7113 & -2.0592 &      0.0395 & -2.8589 & -0.0706  \\\\\n",
       "\\hline\n",
       "\\end{tabular}\n",
       "\\end{center}\n",
       "\\end{table}\n",
       "\\bigskip\n"
      ],
      "text/plain": [
       "<class 'statsmodels.iolib.summary2.Summary'>\n",
       "\"\"\"\n",
       "                         Results: Logit\n",
       "================================================================\n",
       "Model:              Logit            Method:           MLE      \n",
       "Dependent Variable: purchased        Pseudo R-squared: 0.225    \n",
       "Date:               2023-12-11 21:25 AIC:              63.6389  \n",
       "No. Observations:   50               BIC:              73.1990  \n",
       "Df Model:           4                Log-Likelihood:   -26.819  \n",
       "Df Residuals:       45               LL-Null:          -34.617  \n",
       "Converged:          1.0000           LLR p-value:      0.0036124\n",
       "No. Iterations:     6.0000           Scale:            1.0000   \n",
       "----------------------------------------------------------------\n",
       "                  Coef.  Std.Err.    z    P>|z|   [0.025  0.975]\n",
       "----------------------------------------------------------------\n",
       "const            -1.2181   1.5258 -0.7984 0.4247 -4.2085  1.7723\n",
       "age               0.0415   0.0275  1.5066 0.1319 -0.0125  0.0954\n",
       "visits           -0.1541   0.3253 -0.4738 0.6356 -0.7916  0.4834\n",
       "past_purchases    0.7168   0.5567  1.2875 0.1979 -0.3744  1.8080\n",
       "gender_M         -1.4647   0.7113 -2.0592 0.0395 -2.8589 -0.0706\n",
       "================================================================\n",
       "\n",
       "\"\"\""
      ]
     },
     "execution_count": 103,
     "metadata": {},
     "output_type": "execute_result"
    }
   ],
   "source": [
    "result.summary2()"
   ]
  },
  {
   "cell_type": "code",
   "execution_count": 2,
   "id": "6eb42f37-bbe3-472d-baaa-585f597798ec",
   "metadata": {
    "tags": []
   },
   "outputs": [
    {
     "data": {
      "text/html": [
       "<div>\n",
       "<style scoped>\n",
       "    .dataframe tbody tr th:only-of-type {\n",
       "        vertical-align: middle;\n",
       "    }\n",
       "\n",
       "    .dataframe tbody tr th {\n",
       "        vertical-align: top;\n",
       "    }\n",
       "\n",
       "    .dataframe thead th {\n",
       "        text-align: right;\n",
       "    }\n",
       "</style>\n",
       "<table border=\"1\" class=\"dataframe\">\n",
       "  <thead>\n",
       "    <tr style=\"text-align: right;\">\n",
       "      <th></th>\n",
       "      <th>affair_count</th>\n",
       "      <th>is_male</th>\n",
       "      <th>age</th>\n",
       "      <th>years_married</th>\n",
       "      <th>have_kids</th>\n",
       "      <th>religiousness_1to5</th>\n",
       "      <th>years_of_education</th>\n",
       "      <th>hollingshead_occupation_code</th>\n",
       "      <th>marriage_rating_1to5</th>\n",
       "    </tr>\n",
       "  </thead>\n",
       "  <tbody>\n",
       "    <tr>\n",
       "      <th>0</th>\n",
       "      <td>0</td>\n",
       "      <td>1</td>\n",
       "      <td>37.0</td>\n",
       "      <td>10.00</td>\n",
       "      <td>0</td>\n",
       "      <td>3</td>\n",
       "      <td>18</td>\n",
       "      <td>7</td>\n",
       "      <td>4</td>\n",
       "    </tr>\n",
       "    <tr>\n",
       "      <th>1</th>\n",
       "      <td>0</td>\n",
       "      <td>0</td>\n",
       "      <td>27.0</td>\n",
       "      <td>4.00</td>\n",
       "      <td>0</td>\n",
       "      <td>4</td>\n",
       "      <td>14</td>\n",
       "      <td>6</td>\n",
       "      <td>4</td>\n",
       "    </tr>\n",
       "    <tr>\n",
       "      <th>2</th>\n",
       "      <td>0</td>\n",
       "      <td>0</td>\n",
       "      <td>32.0</td>\n",
       "      <td>15.00</td>\n",
       "      <td>1</td>\n",
       "      <td>1</td>\n",
       "      <td>12</td>\n",
       "      <td>1</td>\n",
       "      <td>4</td>\n",
       "    </tr>\n",
       "    <tr>\n",
       "      <th>3</th>\n",
       "      <td>0</td>\n",
       "      <td>1</td>\n",
       "      <td>57.0</td>\n",
       "      <td>15.00</td>\n",
       "      <td>1</td>\n",
       "      <td>5</td>\n",
       "      <td>18</td>\n",
       "      <td>6</td>\n",
       "      <td>5</td>\n",
       "    </tr>\n",
       "    <tr>\n",
       "      <th>4</th>\n",
       "      <td>0</td>\n",
       "      <td>1</td>\n",
       "      <td>22.0</td>\n",
       "      <td>0.75</td>\n",
       "      <td>0</td>\n",
       "      <td>2</td>\n",
       "      <td>17</td>\n",
       "      <td>6</td>\n",
       "      <td>3</td>\n",
       "    </tr>\n",
       "  </tbody>\n",
       "</table>\n",
       "</div>"
      ],
      "text/plain": [
       "   affair_count  is_male   age  years_married  have_kids  religiousness_1to5  \\\n",
       "0             0        1  37.0          10.00          0                   3   \n",
       "1             0        0  27.0           4.00          0                   4   \n",
       "2             0        0  32.0          15.00          1                   1   \n",
       "3             0        1  57.0          15.00          1                   5   \n",
       "4             0        1  22.0           0.75          0                   2   \n",
       "\n",
       "   years_of_education  hollingshead_occupation_code  marriage_rating_1to5  \n",
       "0                  18                             7                     4  \n",
       "1                  14                             6                     4  \n",
       "2                  12                             1                     4  \n",
       "3                  18                             6                     5  \n",
       "4                  17                             6                     3  "
      ]
     },
     "execution_count": 2,
     "metadata": {},
     "output_type": "execute_result"
    }
   ],
   "source": [
    "#Affairs Data\n",
    "import pandas as pd\n",
    "import statsmodels.api as sm\n",
    "df = pd.read_csv('affairs.csv')\n",
    "df.head()"
   ]
  },
  {
   "cell_type": "code",
   "execution_count": 24,
   "id": "0483b638-30a3-46a0-ae00-1ea05b0e15a5",
   "metadata": {
    "tags": []
   },
   "outputs": [
    {
     "name": "stdout",
     "output_type": "stream",
     "text": [
      "Optimization terminated successfully.\n",
      "         Current function value: 0.540061\n",
      "         Iterations 6\n"
     ]
    },
    {
     "data": {
      "text/html": [
       "<table class=\"simpletable\">\n",
       "<tr>\n",
       "        <td>Model:</td>              <td>Logit</td>           <td>Method:</td>          <td>MLE</td>   \n",
       "</tr>\n",
       "<tr>\n",
       "  <td>Dependent Variable:</td>      <td>cheated</td>     <td>Pseudo R-squared:</td>    <td>0.039</td>  \n",
       "</tr>\n",
       "<tr>\n",
       "         <td>Date:</td>        <td>2024-04-15 11:43</td>       <td>AIC:</td>         <td>661.1535</td> \n",
       "</tr>\n",
       "<tr>\n",
       "   <td>No. Observations:</td>         <td>601</td>             <td>BIC:</td>         <td>687.5451</td> \n",
       "</tr>\n",
       "<tr>\n",
       "       <td>Df Model:</td>              <td>5</td>         <td>Log-Likelihood:</td>    <td>-324.58</td> \n",
       "</tr>\n",
       "<tr>\n",
       "     <td>Df Residuals:</td>           <td>595</td>           <td>LL-Null:</td>        <td>-337.69</td> \n",
       "</tr>\n",
       "<tr>\n",
       "      <td>Converged:</td>           <td>1.0000</td>        <td>LLR p-value:</td>    <td>8.0756e-05</td>\n",
       "</tr>\n",
       "<tr>\n",
       "    <td>No. Iterations:</td>        <td>6.0000</td>           <td>Scale:</td>         <td>1.0000</td>  \n",
       "</tr>\n",
       "</table>\n",
       "<table class=\"simpletable\">\n",
       "<tr>\n",
       "           <td></td>           <th>Coef.</th>  <th>Std.Err.</th>    <th>z</th>     <th>P>|z|</th> <th>[0.025</th>  <th>0.975]</th> \n",
       "</tr>\n",
       "<tr>\n",
       "  <th>const</th>              <td>-0.9693</td>  <td>0.7726</td>  <td>-1.2545</td> <td>0.2097</td> <td>-2.4836</td> <td>0.5450</td> \n",
       "</tr>\n",
       "<tr>\n",
       "  <th>is_male</th>            <td>0.1881</td>   <td>0.2123</td>  <td>0.8859</td>  <td>0.3757</td> <td>-0.2280</td> <td>0.6041</td> \n",
       "</tr>\n",
       "<tr>\n",
       "  <th>age</th>                <td>0.0051</td>   <td>0.0116</td>  <td>0.4425</td>  <td>0.6581</td> <td>-0.0176</td> <td>0.0278</td> \n",
       "</tr>\n",
       "<tr>\n",
       "  <th>have_kids</th>          <td>0.8209</td>   <td>0.2580</td>  <td>3.1822</td>  <td>0.0015</td> <td>0.3153</td>  <td>1.3266</td> \n",
       "</tr>\n",
       "<tr>\n",
       "  <th>religiousness_1to5</th> <td>-0.3113</td>  <td>0.0852</td>  <td>-3.6533</td> <td>0.0003</td> <td>-0.4783</td> <td>-0.1443</td>\n",
       "</tr>\n",
       "<tr>\n",
       "  <th>years_of_education</th> <td>-0.0042</td>  <td>0.0437</td>  <td>-0.0958</td> <td>0.9237</td> <td>-0.0899</td> <td>0.0815</td> \n",
       "</tr>\n",
       "</table><br/>\n"
      ],
      "text/latex": [
       "\\begin{table}\n",
       "\\caption{Results: Logit}\n",
       "\\label{}\n",
       "\\begin{center}\n",
       "\\begin{tabular}{llll}\n",
       "\\hline\n",
       "Model:              & Logit            & Method:           & MLE         \\\\\n",
       "Dependent Variable: & cheated          & Pseudo R-squared: & 0.039       \\\\\n",
       "Date:               & 2024-04-15 11:43 & AIC:              & 661.1535    \\\\\n",
       "No. Observations:   & 601              & BIC:              & 687.5451    \\\\\n",
       "Df Model:           & 5                & Log-Likelihood:   & -324.58     \\\\\n",
       "Df Residuals:       & 595              & LL-Null:          & -337.69     \\\\\n",
       "Converged:          & 1.0000           & LLR p-value:      & 8.0756e-05  \\\\\n",
       "No. Iterations:     & 6.0000           & Scale:            & 1.0000      \\\\\n",
       "\\hline\n",
       "\\end{tabular}\n",
       "\\end{center}\n",
       "\n",
       "\\begin{center}\n",
       "\\begin{tabular}{lrrrrrr}\n",
       "\\hline\n",
       "                     &   Coef. & Std.Err. &       z & P$> |$z$|$ &  [0.025 &  0.975]  \\\\\n",
       "\\hline\n",
       "const                & -0.9693 &   0.7726 & -1.2545 &      0.2097 & -2.4836 &  0.5450  \\\\\n",
       "is\\_male             &  0.1881 &   0.2123 &  0.8859 &      0.3757 & -0.2280 &  0.6041  \\\\\n",
       "age                  &  0.0051 &   0.0116 &  0.4425 &      0.6581 & -0.0176 &  0.0278  \\\\\n",
       "have\\_kids           &  0.8209 &   0.2580 &  3.1822 &      0.0015 &  0.3153 &  1.3266  \\\\\n",
       "religiousness\\_1to5  & -0.3113 &   0.0852 & -3.6533 &      0.0003 & -0.4783 & -0.1443  \\\\\n",
       "years\\_of\\_education & -0.0042 &   0.0437 & -0.0958 &      0.9237 & -0.0899 &  0.0815  \\\\\n",
       "\\hline\n",
       "\\end{tabular}\n",
       "\\end{center}\n",
       "\\end{table}\n",
       "\\bigskip\n"
      ],
      "text/plain": [
       "<class 'statsmodels.iolib.summary2.Summary'>\n",
       "\"\"\"\n",
       "                          Results: Logit\n",
       "==================================================================\n",
       "Model:               Logit            Method:           MLE       \n",
       "Dependent Variable:  cheated          Pseudo R-squared: 0.039     \n",
       "Date:                2024-04-15 11:43 AIC:              661.1535  \n",
       "No. Observations:    601              BIC:              687.5451  \n",
       "Df Model:            5                Log-Likelihood:   -324.58   \n",
       "Df Residuals:        595              LL-Null:          -337.69   \n",
       "Converged:           1.0000           LLR p-value:      8.0756e-05\n",
       "No. Iterations:      6.0000           Scale:            1.0000    \n",
       "------------------------------------------------------------------\n",
       "                    Coef.  Std.Err.    z    P>|z|   [0.025  0.975]\n",
       "------------------------------------------------------------------\n",
       "const              -0.9693   0.7726 -1.2545 0.2097 -2.4836  0.5450\n",
       "is_male             0.1881   0.2123  0.8859 0.3757 -0.2280  0.6041\n",
       "age                 0.0051   0.0116  0.4425 0.6581 -0.0176  0.0278\n",
       "have_kids           0.8209   0.2580  3.1822 0.0015  0.3153  1.3266\n",
       "religiousness_1to5 -0.3113   0.0852 -3.6533 0.0003 -0.4783 -0.1443\n",
       "years_of_education -0.0042   0.0437 -0.0958 0.9237 -0.0899  0.0815\n",
       "==================================================================\n",
       "\n",
       "\"\"\""
      ]
     },
     "execution_count": 24,
     "metadata": {},
     "output_type": "execute_result"
    }
   ],
   "source": [
    "df['cheated'] = df['affair_count'].apply(lambda x: 1 if x != 0 else 0)\n",
    "\n",
    "y = df['cheated']\n",
    "X = df[['is_male','age','have_kids','religiousness_1to5','years_of_education']]\n",
    "X = sm.add_constant(X)\n",
    "\n",
    "model = sm.Logit(y, X)\n",
    "result = model.fit()\n",
    "result.summary2() #Summary2 includes AIC and BIC"
   ]
  },
  {
   "cell_type": "code",
   "execution_count": 34,
   "id": "882faac2-f537-4d3f-99c0-0e17e2224df9",
   "metadata": {
    "tags": []
   },
   "outputs": [
    {
     "name": "stdin",
     "output_type": "stream",
     "text": [
      "Male (1) or Female (0)?  0\n",
      "Age?  37\n",
      "Kids, Yes(1) or No(0)?  1\n",
      "How religious, 1 to 5?  1\n",
      "Years of education?  20\n"
     ]
    },
    {
     "data": {
      "text/plain": [
       "0    0.412456\n",
       "dtype: float64"
      ]
     },
     "execution_count": 34,
     "metadata": {},
     "output_type": "execute_result"
    }
   ],
   "source": [
    "gender = int(input(\"Male (1) or Female (0)? \"))\n",
    "age = int(input(\"Age? \"))\n",
    "kids = int(input(\"Kids, Yes(1) or No(0)? \"))\n",
    "rel = int(input(\"How religious, 1 to 5? \"))\n",
    "edu = int(input(\"Years of education? \"))\n",
    "\n",
    "prediction_data = pd.DataFrame({\n",
    "                         'const': [1],  \n",
    "                         'is_male': [gender],\n",
    "                         'age': [age],\n",
    "                         'have_kids': [kids],\n",
    "                         'religiousness_1to5': [rel],\n",
    "                         'years_of_education': [edu]})\n",
    "\n",
    "p = result.predict(prediction_data)\n",
    "p"
   ]
  }
 ],
 "metadata": {
  "kernelspec": {
   "display_name": "Python 3 (ipykernel)",
   "language": "python",
   "name": "python3"
  },
  "language_info": {
   "codemirror_mode": {
    "name": "ipython",
    "version": 3
   },
   "file_extension": ".py",
   "mimetype": "text/x-python",
   "name": "python",
   "nbconvert_exporter": "python",
   "pygments_lexer": "ipython3",
   "version": "3.11.0"
  }
 },
 "nbformat": 4,
 "nbformat_minor": 5
}
