{
 "cells": [
  {
   "cell_type": "markdown",
   "id": "55376ee0-02c4-425d-90ca-3c4d1c082254",
   "metadata": {},
   "source": [
    "# Ridge, Lasso, and Elastic Net Regression"
   ]
  },
  {
   "cell_type": "code",
   "execution_count": 107,
   "id": "f3ecd603-cfa2-426c-a2c6-9c28a72282c5",
   "metadata": {
    "tags": []
   },
   "outputs": [],
   "source": [
    "import numpy as np\n",
    "import pandas as pd\n",
    "import matplotlib.pyplot as plt\n",
    "from sklearn.linear_model import Ridge, Lasso, ElasticNet\n",
    "from sklearn.model_selection import train_test_split\n",
    "from sklearn.metrics import mean_squared_error, r2_score\n",
    "from sklearn.preprocessing import StandardScaler"
   ]
  },
  {
   "cell_type": "code",
   "execution_count": 117,
   "id": "1ec339da-4c35-4a25-8c9d-6790843e04de",
   "metadata": {
    "tags": []
   },
   "outputs": [],
   "source": [
    "df = pd.read_csv('../data/ridge_and_lasso.csv')\n",
    "X = df[['Feature1','Feature2','Feature3']]\n",
    "y = df['Target']"
   ]
  },
  {
   "cell_type": "code",
   "execution_count": 119,
   "id": "327ca5b9-4a0c-484f-a774-f362c7a23c58",
   "metadata": {
    "tags": []
   },
   "outputs": [],
   "source": [
    "#Standardize the features\n",
    "scaler = StandardScaler()\n",
    "X_scaled = scaler.fit_transform(X)"
   ]
  },
  {
   "cell_type": "code",
   "execution_count": 121,
   "id": "417e0280-1925-4427-9950-8feb68ff3597",
   "metadata": {
    "tags": []
   },
   "outputs": [],
   "source": [
    "#Fit a ridge regression model\n",
    "ridge = Ridge(alpha=1.0)\n",
    "results = ridge.fit(X, y)"
   ]
  },
  {
   "cell_type": "code",
   "execution_count": 123,
   "id": "94f119a3-2faa-4820-b0db-3cba18abee2f",
   "metadata": {
    "tags": []
   },
   "outputs": [
    {
     "name": "stdout",
     "output_type": "stream",
     "text": [
      "Intercept: -0.17779252175213897\n",
      "Coefficients: [2.92937508 1.92702114 1.03342424]\n"
     ]
    }
   ],
   "source": [
    "#Get intercept and coefficients\n",
    "print(\"Intercept:\", ridge.intercept_)\n",
    "print(\"Coefficients:\", ridge.coef_)"
   ]
  },
  {
   "cell_type": "code",
   "execution_count": 125,
   "id": "7f070be1-c412-4f03-9dff-5817c3168d00",
   "metadata": {
    "tags": []
   },
   "outputs": [],
   "source": [
    "#Make predictions\n",
    "yhat = ridge.predict(X)"
   ]
  },
  {
   "cell_type": "code",
   "execution_count": 127,
   "id": "00575bb8-114d-4bc9-9373-bcb45e7f1f8f",
   "metadata": {
    "tags": []
   },
   "outputs": [
    {
     "name": "stdout",
     "output_type": "stream",
     "text": [
      "MSE: 0.859700250329441\n",
      "R^2: 0.9407181534213814\n"
     ]
    }
   ],
   "source": [
    "#Goodness of fit\n",
    "mse = mean_squared_error(y, yhat)\n",
    "r2 = r2_score(y, yhat)\n",
    "\n",
    "print(f\"MSE: {mse}\")\n",
    "print(f\"R^2: {r2}\")"
   ]
  },
  {
   "cell_type": "code",
   "execution_count": 129,
   "id": "e7ecb081-bf94-4f71-9707-a27514be0ad9",
   "metadata": {
    "tags": []
   },
   "outputs": [
    {
     "data": {
      "text/html": [
       "<style>#sk-container-id-5 {color: black;background-color: white;}#sk-container-id-5 pre{padding: 0;}#sk-container-id-5 div.sk-toggleable {background-color: white;}#sk-container-id-5 label.sk-toggleable__label {cursor: pointer;display: block;width: 100%;margin-bottom: 0;padding: 0.3em;box-sizing: border-box;text-align: center;}#sk-container-id-5 label.sk-toggleable__label-arrow:before {content: \"▸\";float: left;margin-right: 0.25em;color: #696969;}#sk-container-id-5 label.sk-toggleable__label-arrow:hover:before {color: black;}#sk-container-id-5 div.sk-estimator:hover label.sk-toggleable__label-arrow:before {color: black;}#sk-container-id-5 div.sk-toggleable__content {max-height: 0;max-width: 0;overflow: hidden;text-align: left;background-color: #f0f8ff;}#sk-container-id-5 div.sk-toggleable__content pre {margin: 0.2em;color: black;border-radius: 0.25em;background-color: #f0f8ff;}#sk-container-id-5 input.sk-toggleable__control:checked~div.sk-toggleable__content {max-height: 200px;max-width: 100%;overflow: auto;}#sk-container-id-5 input.sk-toggleable__control:checked~label.sk-toggleable__label-arrow:before {content: \"▾\";}#sk-container-id-5 div.sk-estimator input.sk-toggleable__control:checked~label.sk-toggleable__label {background-color: #d4ebff;}#sk-container-id-5 div.sk-label input.sk-toggleable__control:checked~label.sk-toggleable__label {background-color: #d4ebff;}#sk-container-id-5 input.sk-hidden--visually {border: 0;clip: rect(1px 1px 1px 1px);clip: rect(1px, 1px, 1px, 1px);height: 1px;margin: -1px;overflow: hidden;padding: 0;position: absolute;width: 1px;}#sk-container-id-5 div.sk-estimator {font-family: monospace;background-color: #f0f8ff;border: 1px dotted black;border-radius: 0.25em;box-sizing: border-box;margin-bottom: 0.5em;}#sk-container-id-5 div.sk-estimator:hover {background-color: #d4ebff;}#sk-container-id-5 div.sk-parallel-item::after {content: \"\";width: 100%;border-bottom: 1px solid gray;flex-grow: 1;}#sk-container-id-5 div.sk-label:hover label.sk-toggleable__label {background-color: #d4ebff;}#sk-container-id-5 div.sk-serial::before {content: \"\";position: absolute;border-left: 1px solid gray;box-sizing: border-box;top: 0;bottom: 0;left: 50%;z-index: 0;}#sk-container-id-5 div.sk-serial {display: flex;flex-direction: column;align-items: center;background-color: white;padding-right: 0.2em;padding-left: 0.2em;position: relative;}#sk-container-id-5 div.sk-item {position: relative;z-index: 1;}#sk-container-id-5 div.sk-parallel {display: flex;align-items: stretch;justify-content: center;background-color: white;position: relative;}#sk-container-id-5 div.sk-item::before, #sk-container-id-5 div.sk-parallel-item::before {content: \"\";position: absolute;border-left: 1px solid gray;box-sizing: border-box;top: 0;bottom: 0;left: 50%;z-index: -1;}#sk-container-id-5 div.sk-parallel-item {display: flex;flex-direction: column;z-index: 1;position: relative;background-color: white;}#sk-container-id-5 div.sk-parallel-item:first-child::after {align-self: flex-end;width: 50%;}#sk-container-id-5 div.sk-parallel-item:last-child::after {align-self: flex-start;width: 50%;}#sk-container-id-5 div.sk-parallel-item:only-child::after {width: 0;}#sk-container-id-5 div.sk-dashed-wrapped {border: 1px dashed gray;margin: 0 0.4em 0.5em 0.4em;box-sizing: border-box;padding-bottom: 0.4em;background-color: white;}#sk-container-id-5 div.sk-label label {font-family: monospace;font-weight: bold;display: inline-block;line-height: 1.2em;}#sk-container-id-5 div.sk-label-container {text-align: center;}#sk-container-id-5 div.sk-container {/* jupyter's `normalize.less` sets `[hidden] { display: none; }` but bootstrap.min.css set `[hidden] { display: none !important; }` so we also need the `!important` here to be able to override the default hidden behavior on the sphinx rendered scikit-learn.org. See: https://github.com/scikit-learn/scikit-learn/issues/21755 */display: inline-block !important;position: relative;}#sk-container-id-5 div.sk-text-repr-fallback {display: none;}</style><div id=\"sk-container-id-5\" class=\"sk-top-container\"><div class=\"sk-text-repr-fallback\"><pre>Lasso(alpha=0.1)</pre><b>In a Jupyter environment, please rerun this cell to show the HTML representation or trust the notebook. <br />On GitHub, the HTML representation is unable to render, please try loading this page with nbviewer.org.</b></div><div class=\"sk-container\" hidden><div class=\"sk-item\"><div class=\"sk-estimator sk-toggleable\"><input class=\"sk-toggleable__control sk-hidden--visually\" id=\"sk-estimator-id-5\" type=\"checkbox\" checked><label for=\"sk-estimator-id-5\" class=\"sk-toggleable__label sk-toggleable__label-arrow\">Lasso</label><div class=\"sk-toggleable__content\"><pre>Lasso(alpha=0.1)</pre></div></div></div></div></div>"
      ],
      "text/plain": [
       "Lasso(alpha=0.1)"
      ]
     },
     "execution_count": 129,
     "metadata": {},
     "output_type": "execute_result"
    }
   ],
   "source": [
    "#Lasso Regression\n",
    "lasso = Lasso(alpha=0.1)\n",
    "lasso.fit(X, y)"
   ]
  },
  {
   "cell_type": "code",
   "execution_count": 135,
   "id": "8632403b-9a6c-42e1-a262-3c5415b37e74",
   "metadata": {
    "tags": []
   },
   "outputs": [
    {
     "name": "stdout",
     "output_type": "stream",
     "text": [
      "Intercept: -0.17271441059248346\n",
      "Coefficients: [2.86515955 1.83630318 0.94471836]\n"
     ]
    }
   ],
   "source": [
    "#Get intercept and coefficients\n",
    "print(\"Intercept:\", lasso.intercept_)\n",
    "print(\"Coefficients:\", lasso.coef_)"
   ]
  },
  {
   "cell_type": "code",
   "execution_count": 131,
   "id": "a72b63fc-d428-40a6-b67c-f465daf08673",
   "metadata": {
    "tags": []
   },
   "outputs": [],
   "source": [
    "#Make Predictions\n",
    "yhat = lasso.predict(X)"
   ]
  },
  {
   "cell_type": "code",
   "execution_count": 133,
   "id": "daebcfb8-a41e-43ff-8c48-cb90270e3e73",
   "metadata": {
    "tags": []
   },
   "outputs": [
    {
     "name": "stdout",
     "output_type": "stream",
     "text": [
      "MSE: 0.8886101674434761\n",
      "R^2: 0.9387246292014012\n"
     ]
    }
   ],
   "source": [
    "#Goodness of fit\n",
    "mse = mean_squared_error(y, yhat)\n",
    "r2 = r2_score(y, yhat)\n",
    "\n",
    "print(f\"MSE: {mse}\")\n",
    "print(f\"R^2: {r2}\")"
   ]
  },
  {
   "cell_type": "code",
   "execution_count": 145,
   "id": "ee94a3bd-70b9-4599-b4fe-5458411efc45",
   "metadata": {
    "tags": []
   },
   "outputs": [],
   "source": [
    "#Elastic Net Regression\n",
    "elastic_net = ElasticNet(alpha=0.1, l1_ratio=0.5)  #Set alpha and l1_ratio\n",
    "en_results = elastic_net.fit(X, y)"
   ]
  },
  {
   "cell_type": "code",
   "execution_count": 155,
   "id": "ed10a887-99a1-4b34-b2fb-6c37228d7d36",
   "metadata": {
    "tags": []
   },
   "outputs": [
    {
     "name": "stdout",
     "output_type": "stream",
     "text": [
      "Intercept: -0.15727783555534977\n",
      "Coefficients: [2.77618891 1.78876637 0.95633261]\n"
     ]
    }
   ],
   "source": [
    "#Get intercept and coefficients\n",
    "print(\"Intercept:\", elastic_net.intercept_)\n",
    "print(\"Coefficients:\", elastic_net.coef_)"
   ]
  },
  {
   "cell_type": "code",
   "execution_count": 147,
   "id": "f48f16ea-f39c-4b17-99f8-5adec6e26acd",
   "metadata": {
    "tags": []
   },
   "outputs": [],
   "source": [
    "#Make predictions\n",
    "yhat = en_results.predict(X)"
   ]
  },
  {
   "cell_type": "code",
   "execution_count": 149,
   "id": "150b342c-4b94-4b91-99bc-af91263faa63",
   "metadata": {
    "tags": []
   },
   "outputs": [
    {
     "name": "stdout",
     "output_type": "stream",
     "text": [
      "MSE: 0.9233903931877449\n",
      "R^2: 0.9363263095478344\n"
     ]
    }
   ],
   "source": [
    "#Goodness of fit\n",
    "r2 = r2_score(y, yhat)\n",
    "mse = mean_squared_error(y, yhat)\n",
    "\n",
    "print(f\"MSE: {mse}\")\n",
    "print(f\"R^2: {r2}\")"
   ]
  },
  {
   "cell_type": "code",
   "execution_count": 157,
   "id": "b2f79ab0-dac6-4c27-87c2-a3d99f7afb87",
   "metadata": {
    "tags": []
   },
   "outputs": [
    {
     "data": {
      "text/html": [
       "<table class=\"simpletable\">\n",
       "<caption>OLS Regression Results</caption>\n",
       "<tr>\n",
       "  <th>Dep. Variable:</th>         <td>Target</td>      <th>  R-squared:         </th> <td>   0.941</td>\n",
       "</tr>\n",
       "<tr>\n",
       "  <th>Model:</th>                   <td>OLS</td>       <th>  Adj. R-squared:    </th> <td>   0.939</td>\n",
       "</tr>\n",
       "<tr>\n",
       "  <th>Method:</th>             <td>Least Squares</td>  <th>  F-statistic:       </th> <td>   508.6</td>\n",
       "</tr>\n",
       "<tr>\n",
       "  <th>Date:</th>             <td>Fri, 31 May 2024</td> <th>  Prob (F-statistic):</th> <td>8.93e-59</td>\n",
       "</tr>\n",
       "<tr>\n",
       "  <th>Time:</th>                 <td>09:50:51</td>     <th>  Log-Likelihood:    </th> <td> -134.26</td>\n",
       "</tr>\n",
       "<tr>\n",
       "  <th>No. Observations:</th>      <td>   100</td>      <th>  AIC:               </th> <td>   276.5</td>\n",
       "</tr>\n",
       "<tr>\n",
       "  <th>Df Residuals:</th>          <td>    96</td>      <th>  BIC:               </th> <td>   286.9</td>\n",
       "</tr>\n",
       "<tr>\n",
       "  <th>Df Model:</th>              <td>     3</td>      <th>                     </th>     <td> </td>   \n",
       "</tr>\n",
       "<tr>\n",
       "  <th>Covariance Type:</th>      <td>nonrobust</td>    <th>                     </th>     <td> </td>   \n",
       "</tr>\n",
       "</table>\n",
       "<table class=\"simpletable\">\n",
       "<tr>\n",
       "      <td></td>        <th>coef</th>     <th>std err</th>      <th>t</th>      <th>P>|t|</th>  <th>[0.025</th>    <th>0.975]</th>  \n",
       "</tr>\n",
       "<tr>\n",
       "  <th>const</th>    <td>   -0.1820</td> <td>    0.097</td> <td>   -1.886</td> <td> 0.062</td> <td>   -0.374</td> <td>    0.010</td>\n",
       "</tr>\n",
       "<tr>\n",
       "  <th>Feature1</th> <td>    2.9579</td> <td>    0.093</td> <td>   31.813</td> <td> 0.000</td> <td>    2.773</td> <td>    3.143</td>\n",
       "</tr>\n",
       "<tr>\n",
       "  <th>Feature2</th> <td>    1.9494</td> <td>    0.097</td> <td>   20.187</td> <td> 0.000</td> <td>    1.758</td> <td>    2.141</td>\n",
       "</tr>\n",
       "<tr>\n",
       "  <th>Feature3</th> <td>    1.0414</td> <td>    0.098</td> <td>   10.681</td> <td> 0.000</td> <td>    0.848</td> <td>    1.235</td>\n",
       "</tr>\n",
       "</table>\n",
       "<table class=\"simpletable\">\n",
       "<tr>\n",
       "  <th>Omnibus:</th>       <td> 0.218</td> <th>  Durbin-Watson:     </th> <td>   2.057</td>\n",
       "</tr>\n",
       "<tr>\n",
       "  <th>Prob(Omnibus):</th> <td> 0.897</td> <th>  Jarque-Bera (JB):  </th> <td>   0.192</td>\n",
       "</tr>\n",
       "<tr>\n",
       "  <th>Skew:</th>          <td> 0.101</td> <th>  Prob(JB):          </th> <td>   0.909</td>\n",
       "</tr>\n",
       "<tr>\n",
       "  <th>Kurtosis:</th>      <td> 2.929</td> <th>  Cond. No.          </th> <td>    1.24</td>\n",
       "</tr>\n",
       "</table><br/><br/>Notes:<br/>[1] Standard Errors assume that the covariance matrix of the errors is correctly specified."
      ],
      "text/latex": [
       "\\begin{center}\n",
       "\\begin{tabular}{lclc}\n",
       "\\toprule\n",
       "\\textbf{Dep. Variable:}    &      Target      & \\textbf{  R-squared:         } &     0.941   \\\\\n",
       "\\textbf{Model:}            &       OLS        & \\textbf{  Adj. R-squared:    } &     0.939   \\\\\n",
       "\\textbf{Method:}           &  Least Squares   & \\textbf{  F-statistic:       } &     508.6   \\\\\n",
       "\\textbf{Date:}             & Fri, 31 May 2024 & \\textbf{  Prob (F-statistic):} &  8.93e-59   \\\\\n",
       "\\textbf{Time:}             &     09:50:51     & \\textbf{  Log-Likelihood:    } &   -134.26   \\\\\n",
       "\\textbf{No. Observations:} &         100      & \\textbf{  AIC:               } &     276.5   \\\\\n",
       "\\textbf{Df Residuals:}     &          96      & \\textbf{  BIC:               } &     286.9   \\\\\n",
       "\\textbf{Df Model:}         &           3      & \\textbf{                     } &             \\\\\n",
       "\\textbf{Covariance Type:}  &    nonrobust     & \\textbf{                     } &             \\\\\n",
       "\\bottomrule\n",
       "\\end{tabular}\n",
       "\\begin{tabular}{lcccccc}\n",
       "                  & \\textbf{coef} & \\textbf{std err} & \\textbf{t} & \\textbf{P$> |$t$|$} & \\textbf{[0.025} & \\textbf{0.975]}  \\\\\n",
       "\\midrule\n",
       "\\textbf{const}    &      -0.1820  &        0.097     &    -1.886  &         0.062        &       -0.374    &        0.010     \\\\\n",
       "\\textbf{Feature1} &       2.9579  &        0.093     &    31.813  &         0.000        &        2.773    &        3.143     \\\\\n",
       "\\textbf{Feature2} &       1.9494  &        0.097     &    20.187  &         0.000        &        1.758    &        2.141     \\\\\n",
       "\\textbf{Feature3} &       1.0414  &        0.098     &    10.681  &         0.000        &        0.848    &        1.235     \\\\\n",
       "\\bottomrule\n",
       "\\end{tabular}\n",
       "\\begin{tabular}{lclc}\n",
       "\\textbf{Omnibus:}       &  0.218 & \\textbf{  Durbin-Watson:     } &    2.057  \\\\\n",
       "\\textbf{Prob(Omnibus):} &  0.897 & \\textbf{  Jarque-Bera (JB):  } &    0.192  \\\\\n",
       "\\textbf{Skew:}          &  0.101 & \\textbf{  Prob(JB):          } &    0.909  \\\\\n",
       "\\textbf{Kurtosis:}      &  2.929 & \\textbf{  Cond. No.          } &     1.24  \\\\\n",
       "\\bottomrule\n",
       "\\end{tabular}\n",
       "%\\caption{OLS Regression Results}\n",
       "\\end{center}\n",
       "\n",
       "Notes: \\newline\n",
       " [1] Standard Errors assume that the covariance matrix of the errors is correctly specified."
      ],
      "text/plain": [
       "<class 'statsmodels.iolib.summary.Summary'>\n",
       "\"\"\"\n",
       "                            OLS Regression Results                            \n",
       "==============================================================================\n",
       "Dep. Variable:                 Target   R-squared:                       0.941\n",
       "Model:                            OLS   Adj. R-squared:                  0.939\n",
       "Method:                 Least Squares   F-statistic:                     508.6\n",
       "Date:                Fri, 31 May 2024   Prob (F-statistic):           8.93e-59\n",
       "Time:                        09:50:51   Log-Likelihood:                -134.26\n",
       "No. Observations:                 100   AIC:                             276.5\n",
       "Df Residuals:                      96   BIC:                             286.9\n",
       "Df Model:                           3                                         \n",
       "Covariance Type:            nonrobust                                         \n",
       "==============================================================================\n",
       "                 coef    std err          t      P>|t|      [0.025      0.975]\n",
       "------------------------------------------------------------------------------\n",
       "const         -0.1820      0.097     -1.886      0.062      -0.374       0.010\n",
       "Feature1       2.9579      0.093     31.813      0.000       2.773       3.143\n",
       "Feature2       1.9494      0.097     20.187      0.000       1.758       2.141\n",
       "Feature3       1.0414      0.098     10.681      0.000       0.848       1.235\n",
       "==============================================================================\n",
       "Omnibus:                        0.218   Durbin-Watson:                   2.057\n",
       "Prob(Omnibus):                  0.897   Jarque-Bera (JB):                0.192\n",
       "Skew:                           0.101   Prob(JB):                        0.909\n",
       "Kurtosis:                       2.929   Cond. No.                         1.24\n",
       "==============================================================================\n",
       "\n",
       "Notes:\n",
       "[1] Standard Errors assume that the covariance matrix of the errors is correctly specified.\n",
       "\"\"\""
      ]
     },
     "execution_count": 157,
     "metadata": {},
     "output_type": "execute_result"
    }
   ],
   "source": [
    "#OLS for comparison\n",
    "import statsmodels.api as sm\n",
    "X = sm.add_constant(X)\n",
    "sm.OLS(y, X).fit().summary()"
   ]
  }
 ],
 "metadata": {
  "kernelspec": {
   "display_name": "Python 3 (ipykernel)",
   "language": "python",
   "name": "python3"
  },
  "language_info": {
   "codemirror_mode": {
    "name": "ipython",
    "version": 3
   },
   "file_extension": ".py",
   "mimetype": "text/x-python",
   "name": "python",
   "nbconvert_exporter": "python",
   "pygments_lexer": "ipython3",
   "version": "3.11.0"
  }
 },
 "nbformat": 4,
 "nbformat_minor": 5
}
