{
 "cells": [
  {
   "cell_type": "code",
   "execution_count": 1,
   "id": "37a5d114-f3c6-4cf2-a50f-b5b15abd1d73",
   "metadata": {},
   "outputs": [],
   "source": [
    "import polars as pl"
   ]
  },
  {
   "cell_type": "code",
   "execution_count": 6,
   "id": "c6cf1519-1205-4c38-a8de-0317b906bb84",
   "metadata": {},
   "outputs": [],
   "source": [
    "#Read a CSV file and an Excel file into two separate dataframes\n",
    "df1 = pl.read_csv(\"../data/data.csv\")\n",
    "df2 = pl.read_excel(\"../data/data.xlsx\")"
   ]
  },
  {
   "cell_type": "code",
   "execution_count": 10,
   "id": "08da2786-ceff-4532-8013-3d7b31875941",
   "metadata": {},
   "outputs": [
    {
     "name": "stdout",
     "output_type": "stream",
     "text": [
      "Schema({'Name': String, 'Age': Int64, 'Category': String, 'Value': Int64, 'Count': Int64})\n"
     ]
    }
   ],
   "source": [
    "#View variable names and data types\n",
    "print(df1.schema)"
   ]
  },
  {
   "cell_type": "code",
   "execution_count": 12,
   "id": "627351eb-c905-4453-961b-1d51cbf4da83",
   "metadata": {},
   "outputs": [
    {
     "name": "stdout",
     "output_type": "stream",
     "text": [
      "['Name', 'Age', 'Category', 'Value', 'Count']\n"
     ]
    }
   ],
   "source": [
    "#View variable names\n",
    "print(df1.columns)"
   ]
  },
  {
   "cell_type": "code",
   "execution_count": 16,
   "id": "46929871-446a-4315-b4f5-f0cc5096bdef",
   "metadata": {},
   "outputs": [
    {
     "name": "stdout",
     "output_type": "stream",
     "text": [
      "shape: (5, 5)\n",
      "┌──────────────────┬─────┬──────────┬───────┬───────┐\n",
      "│ Name             ┆ Age ┆ Category ┆ Value ┆ Count │\n",
      "│ ---              ┆ --- ┆ ---      ┆ ---   ┆ ---   │\n",
      "│ str              ┆ i64 ┆ str      ┆ i64   ┆ i64   │\n",
      "╞══════════════════╪═════╪══════════╪═══════╪═══════╡\n",
      "│ Nicole Allen     ┆ 25  ┆ C        ┆ 54    ┆ 5     │\n",
      "│ Anthony Martinez ┆ 54  ┆ A        ┆ 49    ┆ 8     │\n",
      "│ Shawn Gilbert    ┆ 39  ┆ B        ┆ 64    ┆ 3     │\n",
      "│ Eric Ellis       ┆ 35  ┆ A        ┆ 35    ┆ 4     │\n",
      "│ Chelsea Flores   ┆ 24  ┆ C        ┆ 6     ┆ 3     │\n",
      "└──────────────────┴─────┴──────────┴───────┴───────┘\n",
      "shape: (10, 5)\n",
      "┌──────────────────┬──────┬──────────┬───────┬───────┐\n",
      "│ Name             ┆ Age  ┆ Category ┆ Value ┆ Count │\n",
      "│ ---              ┆ ---  ┆ ---      ┆ ---   ┆ ---   │\n",
      "│ str              ┆ i64  ┆ str      ┆ i64   ┆ i64   │\n",
      "╞══════════════════╪══════╪══════════╪═══════╪═══════╡\n",
      "│ Nicole Allen     ┆ 25   ┆ C        ┆ 54    ┆ 5     │\n",
      "│ Anthony Martinez ┆ 54   ┆ A        ┆ 49    ┆ 8     │\n",
      "│ Shawn Gilbert    ┆ 39   ┆ B        ┆ 64    ┆ 3     │\n",
      "│ Eric Ellis       ┆ 35   ┆ A        ┆ 35    ┆ 4     │\n",
      "│ Chelsea Flores   ┆ 24   ┆ C        ┆ 6     ┆ 3     │\n",
      "│ Karen Carson     ┆ 51   ┆ C        ┆ 71    ┆ 2     │\n",
      "│ Rhonda Wilcox    ┆ 51   ┆ A        ┆ 53    ┆ 10    │\n",
      "│ Barbara Tran     ┆ 24   ┆ A        ┆ 62    ┆ 9     │\n",
      "│ Matthew Ward     ┆ 31   ┆ B        ┆ 40    ┆ 8     │\n",
      "│ Joshua Ware      ┆ null ┆ A        ┆ 81    ┆ 4     │\n",
      "└──────────────────┴──────┴──────────┴───────┴───────┘\n",
      "shape: (10, 5)\n",
      "┌──────────────────────┬─────┬──────────┬───────┬───────┐\n",
      "│ Name                 ┆ Age ┆ Category ┆ Value ┆ Count │\n",
      "│ ---                  ┆ --- ┆ ---      ┆ ---   ┆ ---   │\n",
      "│ str                  ┆ i64 ┆ str      ┆ i64   ┆ i64   │\n",
      "╞══════════════════════╪═════╪══════════╪═══════╪═══════╡\n",
      "│ Donald Ayala         ┆ 56  ┆ B        ┆ 33    ┆ 2     │\n",
      "│ John Ramirez         ┆ 39  ┆ A        ┆ 69    ┆ 5     │\n",
      "│ Dr. Jonathan Cook    ┆ 27  ┆ B        ┆ 83    ┆ 9     │\n",
      "│ Michael Miller       ┆ 37  ┆ A        ┆ 19    ┆ 2     │\n",
      "│ Karen Williams       ┆ 47  ┆ B        ┆ 29    ┆ 8     │\n",
      "│ Jamie Knight         ┆ 52  ┆ B        ┆ 34    ┆ 10    │\n",
      "│ Linda Dalton         ┆ 61  ┆ A        ┆ 61    ┆ 3     │\n",
      "│ Donald Blevins       ┆ 60  ┆ C        ┆ 58    ┆ 4     │\n",
      "│ Mrs. Mary Sampson MD ┆ 42  ┆ C        ┆ 81    ┆ 5     │\n",
      "│ Lawrence Rodriguez   ┆ 59  ┆ B        ┆ 23    ┆ 9     │\n",
      "└──────────────────────┴─────┴──────────┴───────┴───────┘\n"
     ]
    }
   ],
   "source": [
    "#View first and last rows\n",
    "print(df1.head())  # Default is 5\n",
    "print(df1.head(10))\n",
    "print(df2.tail(10))"
   ]
  },
  {
   "cell_type": "code",
   "execution_count": 18,
   "id": "0f28e37b-37a0-4fe4-8a8e-6c324a372960",
   "metadata": {},
   "outputs": [
    {
     "name": "stdout",
     "output_type": "stream",
     "text": [
      "shape: (9, 6)\n",
      "┌────────────┬─────────────────┬───────────┬──────────┬───────────┬──────────┐\n",
      "│ statistic  ┆ Name            ┆ Age       ┆ Category ┆ Value     ┆ Count    │\n",
      "│ ---        ┆ ---             ┆ ---       ┆ ---      ┆ ---       ┆ ---      │\n",
      "│ str        ┆ str             ┆ f64       ┆ str      ┆ f64       ┆ f64      │\n",
      "╞════════════╪═════════════════╪═══════════╪══════════╪═══════════╪══════════╡\n",
      "│ count      ┆ 100             ┆ 99.0      ┆ 99       ┆ 98.0      ┆ 99.0     │\n",
      "│ null_count ┆ 0               ┆ 1.0       ┆ 1        ┆ 2.0       ┆ 1.0      │\n",
      "│ mean       ┆ null            ┆ 40.474747 ┆ null     ┆ 45.530612 ┆ 5.232323 │\n",
      "│ std        ┆ null            ┆ 13.965222 ┆ null     ┆ 28.023629 ┆ 2.79149  │\n",
      "│ min        ┆ Alexandra Green ┆ 18.0      ┆ A        ┆ 1.0       ┆ 1.0      │\n",
      "│ 25%        ┆ null            ┆ 29.0      ┆ null     ┆ 21.0      ┆ 3.0      │\n",
      "│ 50%        ┆ null            ┆ 41.0      ┆ null     ┆ 44.0      ┆ 5.0      │\n",
      "│ 75%        ┆ null            ┆ 53.0      ┆ null     ┆ 65.0      ┆ 8.0      │\n",
      "│ max        ┆ William Stewart ┆ 64.0      ┆ C        ┆ 100.0     ┆ 10.0     │\n",
      "└────────────┴─────────────────┴───────────┴──────────┴───────────┴──────────┘\n"
     ]
    }
   ],
   "source": [
    "#Summary statistics\n",
    "print(df1.describe())"
   ]
  },
  {
   "cell_type": "code",
   "execution_count": 20,
   "id": "1512fa3f-526e-49ee-bf94-4f1ecd5886a6",
   "metadata": {},
   "outputs": [
    {
     "ename": "AttributeError",
     "evalue": "'DataFrame' object has no attribute 'duplicate'",
     "output_type": "error",
     "traceback": [
      "\u001b[0;31m---------------------------------------------------------------------------\u001b[0m",
      "\u001b[0;31mAttributeError\u001b[0m                            Traceback (most recent call last)",
      "Cell \u001b[0;32mIn[20], line 2\u001b[0m\n\u001b[1;32m      1\u001b[0m \u001b[38;5;66;03m#Count duplicate rows\u001b[39;00m\n\u001b[0;32m----> 2\u001b[0m duplicate_count \u001b[38;5;241m=\u001b[39m df1\u001b[38;5;241m.\u001b[39mduplicate()\u001b[38;5;241m.\u001b[39mshape[\u001b[38;5;241m0\u001b[39m]\n\u001b[1;32m      3\u001b[0m \u001b[38;5;28mprint\u001b[39m(duplicate_count)\n",
      "\u001b[0;31mAttributeError\u001b[0m: 'DataFrame' object has no attribute 'duplicate'"
     ]
    }
   ],
   "source": [
    "#Count duplicate rows\n",
    "duplicate_count = df1.duplicate().shape[0]\n",
    "print(duplicate_count)"
   ]
  },
  {
   "cell_type": "code",
   "execution_count": 22,
   "id": "af6efecb-93fc-4760-8970-cbee8fcfda9f",
   "metadata": {},
   "outputs": [
    {
     "name": "stdout",
     "output_type": "stream",
     "text": [
      "shape: (100,)\n",
      "Series: '' [bool]\n",
      "[\n",
      "\tfalse\n",
      "\tfalse\n",
      "\tfalse\n",
      "\tfalse\n",
      "\tfalse\n",
      "\t…\n",
      "\tfalse\n",
      "\tfalse\n",
      "\tfalse\n",
      "\tfalse\n",
      "\tfalse\n",
      "]\n"
     ]
    }
   ],
   "source": [
    "#Display which rows have duplicates\n",
    "duplicates = df1.is_duplicated()\n",
    "print(duplicates)"
   ]
  },
  {
   "cell_type": "code",
   "execution_count": 24,
   "id": "ff12914c-8219-432b-811b-f089b78b2115",
   "metadata": {},
   "outputs": [
    {
     "name": "stdout",
     "output_type": "stream",
     "text": [
      "shape: (4, 5)\n",
      "┌─────────────────┬─────┬──────────┬───────┬───────┐\n",
      "│ Name            ┆ Age ┆ Category ┆ Value ┆ Count │\n",
      "│ ---             ┆ --- ┆ ---      ┆ ---   ┆ ---   │\n",
      "│ str             ┆ i64 ┆ str      ┆ i64   ┆ i64   │\n",
      "╞═════════════════╪═════╪══════════╪═══════╪═══════╡\n",
      "│ Alexandra Green ┆ 21  ┆ C        ┆ 7     ┆ 9     │\n",
      "│ Alexandra Green ┆ 21  ┆ C        ┆ 7     ┆ 9     │\n",
      "│ Mark Hester     ┆ 35  ┆ C        ┆ 44    ┆ 4     │\n",
      "│ Mark Hester     ┆ 35  ┆ C        ┆ 44    ┆ 4     │\n",
      "└─────────────────┴─────┴──────────┴───────┴───────┘\n"
     ]
    }
   ],
   "source": [
    "#View instances of the duplicated rows\n",
    "duplicated_rows = df1.filter(duplicates)\n",
    "print(duplicated_rows)"
   ]
  },
  {
   "cell_type": "code",
   "execution_count": 26,
   "id": "5c4613d8-dbb4-4007-9af2-7d790a7514a8",
   "metadata": {},
   "outputs": [
    {
     "ename": "TypeError",
     "evalue": "DataFrame.is_duplicated() got an unexpected keyword argument 'subset'",
     "output_type": "error",
     "traceback": [
      "\u001b[0;31m---------------------------------------------------------------------------\u001b[0m",
      "\u001b[0;31mTypeError\u001b[0m                                 Traceback (most recent call last)",
      "Cell \u001b[0;32mIn[26], line 2\u001b[0m\n\u001b[1;32m      1\u001b[0m \u001b[38;5;66;03m#Checking for duplicates using a subset of columns\u001b[39;00m\n\u001b[0;32m----> 2\u001b[0m duplicates_subset \u001b[38;5;241m=\u001b[39m df1\u001b[38;5;241m.\u001b[39mis_duplicated(subset\u001b[38;5;241m=\u001b[39m[\u001b[38;5;124m\"\u001b[39m\u001b[38;5;124mName\u001b[39m\u001b[38;5;124m\"\u001b[39m, \u001b[38;5;124m\"\u001b[39m\u001b[38;5;124mAge\u001b[39m\u001b[38;5;124m\"\u001b[39m])\n\u001b[1;32m      3\u001b[0m \u001b[38;5;28mprint\u001b[39m(df1\u001b[38;5;241m.\u001b[39mfilter(duplicates_subset))\n",
      "\u001b[0;31mTypeError\u001b[0m: DataFrame.is_duplicated() got an unexpected keyword argument 'subset'"
     ]
    }
   ],
   "source": [
    "#Checking for duplicates using a subset of columns\n",
    "duplicates_subset = df1.is_duplicated(subset=[\"Name\", \"Age\"])\n",
    "print(df1.filter(duplicates_subset))"
   ]
  },
  {
   "cell_type": "code",
   "execution_count": 28,
   "id": "02987ee7-66d9-4852-8a67-e3c50228a3fe",
   "metadata": {},
   "outputs": [],
   "source": [
    "#Drop duplicate rows\n",
    "df1 = df1.unique()"
   ]
  },
  {
   "cell_type": "code",
   "execution_count": 30,
   "id": "766e2ffc-5df7-4394-a362-ce47976d362d",
   "metadata": {},
   "outputs": [
    {
     "name": "stdout",
     "output_type": "stream",
     "text": [
      "shape: (1, 5)\n",
      "┌──────┬─────┬──────────┬───────┬───────┐\n",
      "│ Name ┆ Age ┆ Category ┆ Value ┆ Count │\n",
      "│ ---  ┆ --- ┆ ---      ┆ ---   ┆ ---   │\n",
      "│ u32  ┆ u32 ┆ u32      ┆ u32   ┆ u32   │\n",
      "╞══════╪═════╪══════════╪═══════╪═══════╡\n",
      "│ 0    ┆ 1   ┆ 1        ┆ 2     ┆ 1     │\n",
      "└──────┴─────┴──────────┴───────┴───────┘\n"
     ]
    }
   ],
   "source": [
    "#Count missing values\n",
    "print(df1.null_count())"
   ]
  },
  {
   "cell_type": "code",
   "execution_count": 32,
   "id": "f97ebb8a-6e40-46c3-8f64-0e6c7e347ac7",
   "metadata": {},
   "outputs": [
    {
     "name": "stdout",
     "output_type": "stream",
     "text": [
      "shape: (98, 5)\n",
      "┌─────────────────────┬─────┬──────────┬───────┬───────┐\n",
      "│ Name                ┆ Age ┆ Category ┆ Value ┆ Count │\n",
      "│ ---                 ┆ --- ┆ ---      ┆ ---   ┆ ---   │\n",
      "│ str                 ┆ i64 ┆ str      ┆ i64   ┆ i64   │\n",
      "╞═════════════════════╪═════╪══════════╪═══════╪═══════╡\n",
      "│ Angela Oneill DDS   ┆ 64  ┆ C        ┆ 55    ┆ 3     │\n",
      "│ Lisa Chen           ┆ 61  ┆ B        ┆ 41    ┆ 10    │\n",
      "│ Renee Austin        ┆ 59  ┆ B        ┆ 78    ┆ 10    │\n",
      "│ Jamie Knight        ┆ 52  ┆ B        ┆ 34    ┆ 10    │\n",
      "│ Linda Dalton        ┆ 61  ┆ A        ┆ 61    ┆ 3     │\n",
      "│ …                   ┆ …   ┆ …        ┆ …     ┆ …     │\n",
      "│ Eric Myers          ┆ 30  ┆ B        ┆ 4     ┆ 2     │\n",
      "│ Jacob Martinez      ┆ 22  ┆ A        ┆ 1     ┆ 9     │\n",
      "│ Eric Moore          ┆ 37  ┆ C        ┆ 18    ┆ 1     │\n",
      "│ Jonathan Coleman    ┆ 53  ┆ A        ┆ null  ┆ null  │\n",
      "│ Stephanie Henderson ┆ 33  ┆ C        ┆ 39    ┆ 5     │\n",
      "└─────────────────────┴─────┴──────────┴───────┴───────┘\n"
     ]
    }
   ],
   "source": [
    "#Display rows with missing values\n",
    "missing_data = df1.filter(df1.null_count().sum_horizontal() > 0)\n",
    "print(missing_data)"
   ]
  },
  {
   "cell_type": "code",
   "execution_count": 34,
   "id": "6fd3ba5e-6df6-40e5-82b0-903064d90044",
   "metadata": {},
   "outputs": [],
   "source": [
    "#Drop rows with missing values\n",
    "df1 = df1.drop_nulls()"
   ]
  },
  {
   "cell_type": "code",
   "execution_count": 36,
   "id": "af711894-2f8c-4c3c-a648-89234a33c4d6",
   "metadata": {},
   "outputs": [
    {
     "ename": "AttributeError",
     "evalue": "'DataFrame' object has no attribute 'index'",
     "output_type": "error",
     "traceback": [
      "\u001b[0;31m---------------------------------------------------------------------------\u001b[0m",
      "\u001b[0;31mAttributeError\u001b[0m                            Traceback (most recent call last)",
      "Cell \u001b[0;32mIn[36], line 2\u001b[0m\n\u001b[1;32m      1\u001b[0m \u001b[38;5;66;03m#Dropping specific rows\u001b[39;00m\n\u001b[0;32m----> 2\u001b[0m df1 \u001b[38;5;241m=\u001b[39m df1\u001b[38;5;241m.\u001b[39mfilter(\u001b[38;5;241m~\u001b[39mdf1\u001b[38;5;241m.\u001b[39mindex()\u001b[38;5;241m.\u001b[39mis_in([\u001b[38;5;241m3\u001b[39m, \u001b[38;5;241m8\u001b[39m]))\n",
      "\u001b[0;31mAttributeError\u001b[0m: 'DataFrame' object has no attribute 'index'"
     ]
    }
   ],
   "source": [
    "#Dropping specific rows\n",
    "df1 = df1.filter(~df1.index().is_in([3, 8]))"
   ]
  },
  {
   "cell_type": "code",
   "execution_count": 38,
   "id": "535460d8-eeb4-457f-a495-a42229452c52",
   "metadata": {},
   "outputs": [
    {
     "ename": "ShapeError",
     "evalue": "unable to append to a DataFrame of width 5 with a DataFrame of width 2",
     "output_type": "error",
     "traceback": [
      "\u001b[0;31m---------------------------------------------------------------------------\u001b[0m",
      "\u001b[0;31mShapeError\u001b[0m                                Traceback (most recent call last)",
      "Cell \u001b[0;32mIn[38], line 3\u001b[0m\n\u001b[1;32m      1\u001b[0m \u001b[38;5;66;03m#Adding a row\u001b[39;00m\n\u001b[1;32m      2\u001b[0m new_row \u001b[38;5;241m=\u001b[39m pl\u001b[38;5;241m.\u001b[39mDataFrame({\u001b[38;5;124m\"\u001b[39m\u001b[38;5;124mA\u001b[39m\u001b[38;5;124m\"\u001b[39m: [\u001b[38;5;241m4\u001b[39m], \u001b[38;5;124m\"\u001b[39m\u001b[38;5;124mB\u001b[39m\u001b[38;5;124m\"\u001b[39m: [\u001b[38;5;124m\"\u001b[39m\u001b[38;5;124md\u001b[39m\u001b[38;5;124m\"\u001b[39m]})\n\u001b[0;32m----> 3\u001b[0m df1 \u001b[38;5;241m=\u001b[39m pl\u001b[38;5;241m.\u001b[39mconcat([df1, new_row], how\u001b[38;5;241m=\u001b[39m\u001b[38;5;124m\"\u001b[39m\u001b[38;5;124mvertical\u001b[39m\u001b[38;5;124m\"\u001b[39m)\n",
      "File \u001b[0;32m/opt/anaconda3/lib/python3.12/site-packages/polars/functions/eager.py:191\u001b[0m, in \u001b[0;36mconcat\u001b[0;34m(items, how, rechunk, parallel)\u001b[0m\n\u001b[1;32m    186\u001b[0m key \u001b[38;5;241m=\u001b[39m {v: k \u001b[38;5;28;01mfor\u001b[39;00m k, v \u001b[38;5;129;01min\u001b[39;00m \u001b[38;5;28menumerate\u001b[39m(ordered_unique(all_columns))}\n\u001b[1;32m    187\u001b[0m output_column_order \u001b[38;5;241m=\u001b[39m \u001b[38;5;28mlist\u001b[39m(key)\n\u001b[1;32m    188\u001b[0m common_cols \u001b[38;5;241m=\u001b[39m \u001b[38;5;28msorted\u001b[39m(\n\u001b[1;32m    189\u001b[0m     reduce(\n\u001b[1;32m    190\u001b[0m         \u001b[38;5;28;01mlambda\u001b[39;00m x, y: \u001b[38;5;28mset\u001b[39m(x) \u001b[38;5;241m&\u001b[39m \u001b[38;5;28mset\u001b[39m(y),  \u001b[38;5;66;03m# type: ignore[arg-type, return-value]\u001b[39;00m\n\u001b[0;32m--> 191\u001b[0m         chain(e\u001b[38;5;241m.\u001b[39mcollect_schema() \u001b[38;5;28;01mfor\u001b[39;00m e \u001b[38;5;129;01min\u001b[39;00m elems),\n\u001b[1;32m    192\u001b[0m     ),\n\u001b[1;32m    193\u001b[0m     key\u001b[38;5;241m=\u001b[39m\u001b[38;5;28;01mlambda\u001b[39;00m k: key\u001b[38;5;241m.\u001b[39mget(k, \u001b[38;5;241m0\u001b[39m),\n\u001b[1;32m    194\u001b[0m )\n\u001b[1;32m    195\u001b[0m \u001b[38;5;66;03m# we require at least one key column for 'align' strategies\u001b[39;00m\n\u001b[1;32m    196\u001b[0m \u001b[38;5;28;01mif\u001b[39;00m \u001b[38;5;129;01mnot\u001b[39;00m common_cols:\n",
      "\u001b[0;31mShapeError\u001b[0m: unable to append to a DataFrame of width 5 with a DataFrame of width 2"
     ]
    }
   ],
   "source": [
    "#Adding a row\n",
    "new_row = pl.DataFrame({\"A\": [4], \"B\": [\"d\"]})\n",
    "df1 = pl.concat([df1, new_row], how=\"vertical\")"
   ]
  },
  {
   "cell_type": "code",
   "execution_count": 40,
   "id": "a39356e4-d0f1-4f8a-8682-be80758ecf94",
   "metadata": {},
   "outputs": [
    {
     "ename": "AttributeError",
     "evalue": "'Expr' object has no attribute 'map_dict'",
     "output_type": "error",
     "traceback": [
      "\u001b[0;31m---------------------------------------------------------------------------\u001b[0m",
      "\u001b[0;31mAttributeError\u001b[0m                            Traceback (most recent call last)",
      "Cell \u001b[0;32mIn[40], line 3\u001b[0m\n\u001b[1;32m      1\u001b[0m \u001b[38;5;66;03m#Mapping values with a dictionary\u001b[39;00m\n\u001b[1;32m      2\u001b[0m mapping \u001b[38;5;241m=\u001b[39m {\u001b[38;5;124m\"\u001b[39m\u001b[38;5;124mA\u001b[39m\u001b[38;5;124m\"\u001b[39m: \u001b[38;5;124m\"\u001b[39m\u001b[38;5;124mAwesome\u001b[39m\u001b[38;5;124m\"\u001b[39m, \u001b[38;5;124m\"\u001b[39m\u001b[38;5;124mB\u001b[39m\u001b[38;5;124m\"\u001b[39m: \u001b[38;5;124m\"\u001b[39m\u001b[38;5;124mSub-Awesome\u001b[39m\u001b[38;5;124m\"\u001b[39m, \u001b[38;5;124m\"\u001b[39m\u001b[38;5;124mC\u001b[39m\u001b[38;5;124m\"\u001b[39m: \u001b[38;5;124m\"\u001b[39m\u001b[38;5;124mSub-Awesome\u001b[39m\u001b[38;5;124m\"\u001b[39m}\n\u001b[0;32m----> 3\u001b[0m df1 \u001b[38;5;241m=\u001b[39m df1\u001b[38;5;241m.\u001b[39mwith_columns(pl\u001b[38;5;241m.\u001b[39mcol(\u001b[38;5;124m\"\u001b[39m\u001b[38;5;124mCategory\u001b[39m\u001b[38;5;124m\"\u001b[39m)\u001b[38;5;241m.\u001b[39mmap_dict(mapping)\u001b[38;5;241m.\u001b[39malias(\u001b[38;5;124m\"\u001b[39m\u001b[38;5;124mCategory2\u001b[39m\u001b[38;5;124m\"\u001b[39m))\n",
      "\u001b[0;31mAttributeError\u001b[0m: 'Expr' object has no attribute 'map_dict'"
     ]
    }
   ],
   "source": [
    "#Mapping values with a dictionary\n",
    "mapping = {\"A\": \"Awesome\", \"B\": \"Sub-Awesome\", \"C\": \"Sub-Awesome\"}\n",
    "df1 = df1.with_columns(pl.col(\"Category\").map_dict(mapping).alias(\"Category2\"))"
   ]
  }
 ],
 "metadata": {
  "kernelspec": {
   "display_name": "Python [conda env:base] *",
   "language": "python",
   "name": "conda-base-py"
  },
  "language_info": {
   "codemirror_mode": {
    "name": "ipython",
    "version": 3
   },
   "file_extension": ".py",
   "mimetype": "text/x-python",
   "name": "python",
   "nbconvert_exporter": "python",
   "pygments_lexer": "ipython3",
   "version": "3.12.2"
  }
 },
 "nbformat": 4,
 "nbformat_minor": 5
}
