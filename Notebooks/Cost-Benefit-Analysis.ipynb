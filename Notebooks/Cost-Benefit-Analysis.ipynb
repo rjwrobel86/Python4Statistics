{
 "cells": [
  {
   "cell_type": "markdown",
   "id": "4119734e-3db9-434e-a05d-cd15ddbab286",
   "metadata": {},
   "source": [
    "# Cost-Benefit Analysis"
   ]
  },
  {
   "cell_type": "code",
   "execution_count": 12,
   "id": "9807e426-a4d3-4028-8ac2-03af0f5b3cca",
   "metadata": {},
   "outputs": [
    {
     "name": "stdout",
     "output_type": "stream",
     "text": [
      "   Year  Discount Factor  Discounted Benefits  Discounted Costs\n",
      "0     1         0.952381         19047.619048       4761.904762\n",
      "1     2         0.907029         18140.589569       4535.147392\n",
      "2     3         0.863838         17276.751971       4319.187993\n",
      "3     4         0.822702         16454.049496       4113.512374\n",
      "4     5         0.783526         15670.523329       3917.630832\n",
      "\n",
      "Net Present Value (NPV): $14942.15\n",
      "Benefit-Cost Ratio (BCR): 1.21\n",
      "The project is financially viable.\n"
     ]
    }
   ],
   "source": [
    "import numpy as np\n",
    "import pandas as pd\n",
    "import matplotlib.pyplot as plt\n",
    "\n",
    "#Project parameters\n",
    "initial_investment = 50000  #Initial cost\n",
    "years = 5  #Project duration\n",
    "annual_benefits = 20000  #Benefits per year\n",
    "annual_costs = 5000  #Costs per year\n",
    "discount_rate = 0.05  #Discount rate (5%)\n",
    "\n",
    "#Calculate present value of benefits and costs\n",
    "years_range = np.arange(1, years + 1)\n",
    "discount_factors = 1 / (1 + discount_rate) ** years_range\n",
    "\n",
    "present_value_benefits = np.sum(annual_benefits * discount_factors)\n",
    "present_value_costs = np.sum(annual_costs * discount_factors)\n",
    "net_present_value = present_value_benefits - present_value_costs - initial_investment\n",
    "benefit_cost_ratio = present_value_benefits / (present_value_costs + initial_investment)\n",
    "\n",
    "results = pd.DataFrame({\n",
    "    \"Year\": years_range,\n",
    "    \"Discount Factor\": discount_factors,\n",
    "    \"Discounted Benefits\": annual_benefits * discount_factors,\n",
    "    \"Discounted Costs\": annual_costs * discount_factors\n",
    "})\n",
    "\n",
    "print(results)\n",
    "print(f\"\\nNet Present Value (NPV): ${net_present_value:.2f}\")\n",
    "print(f\"Benefit-Cost Ratio (BCR): {benefit_cost_ratio:.2f}\")\n",
    "\n",
    "#Decision Rule\n",
    "if net_present_value > 0 and benefit_cost_ratio > 1:\n",
    "    print(\"The project is financially viable.\")\n",
    "else:\n",
    "    print(\"The project is not financially viable.\")"
   ]
  },
  {
   "cell_type": "code",
   "execution_count": 14,
   "id": "5c7cd119-16e3-4fc4-9ed1-974e00dedc77",
   "metadata": {},
   "outputs": [
    {
     "name": "stdout",
     "output_type": "stream",
     "text": [
      "    Discount Rate  Benefit Change  Cost Change           NPV       BCR\n",
      "0            0.03            -0.2         -0.2   4956.486246  1.072549\n",
      "1            0.03            -0.2         -0.1   2666.632653  1.037766\n",
      "2            0.03            -0.2          0.0    376.779059  1.005169\n",
      "3            0.03            -0.2          0.1  -1913.074534  0.974556\n",
      "4            0.03            -0.2          0.2  -4202.928128  0.945753\n",
      "..            ...             ...          ...           ...       ...\n",
      "95           0.10             0.2         -0.2  25815.735388  1.396171\n",
      "96           0.10             0.2         -0.1  23920.342003  1.356708\n",
      "97           0.10             0.2          0.0  22024.948619  1.319415\n",
      "98           0.10             0.2          0.1  20129.555234  1.284118\n",
      "99           0.10             0.2          0.2  18234.161849  1.250660\n",
      "\n",
      "[100 rows x 5 columns]\n"
     ]
    }
   ],
   "source": [
    "#Sensitivity Analysis\n",
    "\n",
    "#Baseline scenario \n",
    "initial_investment = 50000  \n",
    "years = 5  \n",
    "annual_benefits = 20000  \n",
    "annual_costs = 5000  \n",
    "\n",
    "#Sensitivity analysis parameters\n",
    "discount_rates = [0.03, 0.05, 0.07, 0.10]  #Different discount rates\n",
    "benefit_changes = [-0.2, -0.1, 0, 0.1, 0.2]  #-20%, -10%, base, +10%, +20%\n",
    "cost_changes = [-0.2, -0.1, 0, 0.1, 0.2]  #-20%, -10%, base, +10%, +20%\n",
    "\n",
    "#Function to calculate NPV & BCR\n",
    "def calculate_npv_bcr(annual_benefits, annual_costs, discount_rate):\n",
    "    years_range = np.arange(1, years + 1)\n",
    "    discount_factors = 1 / (1 + discount_rate) ** years_range\n",
    "    pv_benefits = np.sum(annual_benefits * discount_factors)\n",
    "    pv_costs = np.sum(annual_costs * discount_factors)\n",
    "    npv = pv_benefits - pv_costs - initial_investment\n",
    "    bcr = pv_benefits / (pv_costs + initial_investment)\n",
    "    return npv, bcr\n",
    "\n",
    "#Sensitivity analysis results\n",
    "results = []\n",
    "\n",
    "for dr in discount_rates:\n",
    "    for b_change in benefit_changes:\n",
    "        for c_change in cost_changes:\n",
    "            adj_benefits = annual_benefits * (1 + b_change)\n",
    "            adj_costs = annual_costs * (1 + c_change)\n",
    "            npv, bcr = calculate_npv_bcr(adj_benefits, adj_costs, dr)\n",
    "            results.append([dr, b_change, c_change, npv, bcr])\n",
    "\n",
    "df_results = pd.DataFrame(results, columns=[\"Discount Rate\", \"Benefit Change\", \"Cost Change\", \"NPV\", \"BCR\"])\n",
    "\n",
    "print(df_results)"
   ]
  },
  {
   "cell_type": "code",
   "execution_count": 20,
   "id": "a7c83189-5383-4c90-9c88-6607d2acc7c4",
   "metadata": {},
   "outputs": [
    {
     "name": "stdout",
     "output_type": "stream",
     "text": [
      "Probability of a profitable project (NPV > 0): 91.22%\n",
      "Mean NPV: $12,432.23\n",
      "5th Percentile NPV: $-2,494.05\n",
      "95th Percentile NPV: $27,926.11\n"
     ]
    },
    {
     "data": {
      "image/png": "[encoded data removed]",
      "text/plain": [
       "<Figure size 1000x500 with 1 Axes>"
      ]
     },
     "metadata": {},
     "output_type": "display_data"
    }
   ],
   "source": [
    "#Montecarlo Simulation\n",
    "\n",
    "#Simulation parameters\n",
    "n_simulations = 10000\n",
    "years = 5\n",
    "initial_investment = 50000\n",
    "\n",
    "#Define distributions\n",
    "#np.random.seed(1663)  \n",
    "annual_benefits = np.random.normal(20000, 2000, n_simulations)  #Mean 20k, Stdev 2k\n",
    "annual_costs = np.random.normal(5000, 500, n_simulations)  #Mean 5k, Stdev 500\n",
    "discount_rates = np.random.uniform(0.03, 0.10, n_simulations)  # Uniform from 3% to 10%\n",
    "\n",
    "#Function to calculate NPV\n",
    "def compute_npv(benefit, cost, discount_rate):\n",
    "    discount_factors = 1 / (1 + discount_rate) ** np.arange(1, years + 1)\n",
    "    pv_benefits = np.sum(benefit * discount_factors)\n",
    "    pv_costs = np.sum(cost * discount_factors)\n",
    "    return pv_benefits - pv_costs - initial_investment\n",
    "\n",
    "#Simulation\n",
    "npvs = np.array([compute_npv(benefit, cost, rate) \n",
    "                 for benefit, cost, rate in zip(annual_benefits, annual_costs, discount_rates)])\n",
    "\n",
    "#Compute probability of a positive NPV\n",
    "prob_positive_npv = np.mean(npvs > 0)\n",
    "\n",
    "#Results\n",
    "print(f\"Probability of a profitable project (NPV > 0): {prob_positive_npv:.2%}\")\n",
    "print(f\"Mean NPV: ${np.mean(npvs):,.2f}\")\n",
    "print(f\"5th Percentile NPV: ${np.percentile(npvs, 5):,.2f}\")\n",
    "print(f\"95th Percentile NPV: ${np.percentile(npvs, 95):,.2f}\")\n",
    "\n",
    "#Visualization\n",
    "plt.figure(figsize=(10, 5))\n",
    "plt.hist(npvs, bins=50, alpha=0.7)\n",
    "plt.axvline(0, color=\"red\", linestyle=\"--\", label=\"Break-even\")\n",
    "plt.xlabel(\"Net Present Value ($)\")\n",
    "plt.ylabel(\"Frequency\")\n",
    "plt.title(\"Monte Carlo Simulation of NPV (n=10,000)\")\n",
    "plt.legend()\n",
    "plt.grid()\n",
    "plt.show()"
   ]
  }
 ],
 "metadata": {
  "kernelspec": {
   "display_name": "Python [conda env:base] *",
   "language": "python",
   "name": "conda-base-py"
  },
  "language_info": {
   "codemirror_mode": {
    "name": "ipython",
    "version": 3
   },
   "file_extension": ".py",
   "mimetype": "text/x-python",
   "name": "python",
   "nbconvert_exporter": "python",
   "pygments_lexer": "ipython3",
   "version": "3.12.2"
  }
 },
 "nbformat": 4,
 "nbformat_minor": 5
}
