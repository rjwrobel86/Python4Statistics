{
 "cells": [
  {
   "cell_type": "code",
   "execution_count": 11,
   "id": "240a8281-4b5b-4d68-bc3a-8bd97f1e568a",
   "metadata": {
    "tags": []
   },
   "outputs": [
    {
     "data": {
      "text/html": [
       "<div>\n",
       "<style scoped>\n",
       "    .dataframe tbody tr th:only-of-type {\n",
       "        vertical-align: middle;\n",
       "    }\n",
       "\n",
       "    .dataframe tbody tr th {\n",
       "        vertical-align: top;\n",
       "    }\n",
       "\n",
       "    .dataframe thead th {\n",
       "        text-align: right;\n",
       "    }\n",
       "</style>\n",
       "<table border=\"1\" class=\"dataframe\">\n",
       "  <thead>\n",
       "    <tr style=\"text-align: right;\">\n",
       "      <th></th>\n",
       "      <th>vauto</th>\n",
       "      <th>d2c2</th>\n",
       "    </tr>\n",
       "  </thead>\n",
       "  <tbody>\n",
       "    <tr>\n",
       "      <th>0</th>\n",
       "      <td>30944-1</td>\n",
       "      <td>30968</td>\n",
       "    </tr>\n",
       "    <tr>\n",
       "      <th>1</th>\n",
       "      <td>30949-1</td>\n",
       "      <td>P6839</td>\n",
       "    </tr>\n",
       "    <tr>\n",
       "      <th>2</th>\n",
       "      <td>P6840</td>\n",
       "      <td>P6837</td>\n",
       "    </tr>\n",
       "    <tr>\n",
       "      <th>3</th>\n",
       "      <td>P6845</td>\n",
       "      <td>P6832</td>\n",
       "    </tr>\n",
       "    <tr>\n",
       "      <th>4</th>\n",
       "      <td>P6860</td>\n",
       "      <td>P6833</td>\n",
       "    </tr>\n",
       "  </tbody>\n",
       "</table>\n",
       "</div>"
      ],
      "text/plain": [
       "     vauto   d2c2\n",
       "0  30944-1  30968\n",
       "1  30949-1  P6839\n",
       "2    P6840  P6837\n",
       "3    P6845  P6832\n",
       "4    P6860  P6833"
      ]
     },
     "execution_count": 11,
     "metadata": {},
     "output_type": "execute_result"
    }
   ],
   "source": [
    "import pandas as pd\n",
    "df = pd.read_csv('stock_numbers.csv')\n",
    "df.head()"
   ]
  },
  {
   "cell_type": "code",
   "execution_count": 15,
   "id": "66f55fe3-174e-4646-8005-1bfc84060d83",
   "metadata": {
    "tags": []
   },
   "outputs": [
    {
     "name": "stdout",
     "output_type": "stream",
     "text": [
      "Values in vAuto not in D2C2: ['30944-1', '30949-1', 'P6429-1', 'P6801-1', '30960-1', 'P6503-1', 'P6783-1', 'P6761-2', nan, nan]\n",
      "Values in D2C2 not in vAuto: ['30968', '30933', '30970', 'P6449', 'P6761-1', 'P6370-1', 'P6772-1', '30889-2', 'P6815-1', 'P6592-1']\n"
     ]
    }
   ],
   "source": [
    "#Get the values in each column that are not in the other column\n",
    "values_in_col1_not_in_col2 = df.loc[~df['vauto'].isin(df['d2c2']), 'vauto'].tolist()\n",
    "values_in_col2_not_in_col1 = df.loc[~df['d2c2'].isin(df['vauto']), 'd2c2'].tolist()\n",
    "print(\"Values in vAuto not in D2C2:\", values_in_col1_not_in_col2)\n",
    "print(\"Values in D2C2 not in vAuto:\", values_in_col2_not_in_col1)"
   ]
  }
 ],
 "metadata": {
  "kernelspec": {
   "display_name": "Python 3 (ipykernel)",
   "language": "python",
   "name": "python3"
  },
  "language_info": {
   "codemirror_mode": {
    "name": "ipython",
    "version": 3
   },
   "file_extension": ".py",
   "mimetype": "text/x-python",
   "name": "python",
   "nbconvert_exporter": "python",
   "pygments_lexer": "ipython3",
   "version": "3.11.0"
  }
 },
 "nbformat": 4,
 "nbformat_minor": 5
}
