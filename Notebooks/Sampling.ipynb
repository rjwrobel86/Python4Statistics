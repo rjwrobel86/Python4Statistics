{
 "cells": [
  {
   "cell_type": "markdown",
   "id": "f1f93732-918e-4485-8dc2-f8784a707caf",
   "metadata": {},
   "source": [
    "# Sampling"
   ]
  },
  {
   "cell_type": "code",
   "execution_count": 5,
   "id": "7660adca-c0ae-4a62-bd90-63e42dc922d8",
   "metadata": {
    "tags": []
   },
   "outputs": [],
   "source": [
    "import random\n",
    "import numpy as np\n",
    "from sklearn.model_selection import train_test_split"
   ]
  },
  {
   "cell_type": "code",
   "execution_count": 7,
   "id": "6bf889d2-9804-4ed5-a9a5-ad0b0d5cf1bf",
   "metadata": {
    "tags": []
   },
   "outputs": [],
   "source": [
    "#Set a random seed for each of the modules doing random selection\n",
    "np.random.seed(1663)\n",
    "random.seed(1663)"
   ]
  },
  {
   "cell_type": "code",
   "execution_count": 11,
   "id": "905f5efa-ad03-43e8-a353-537af330d995",
   "metadata": {
    "tags": []
   },
   "outputs": [
    {
     "name": "stdout",
     "output_type": "stream",
     "text": [
      "Population: [1, 2, 3, 4, 5, 6, 7, 8, 9, 10]\n",
      "Simple Random Sample: [3, 6, 4, 2, 1]\n"
     ]
    }
   ],
   "source": [
    "#Simple random sampling - Select items from a list at random\n",
    "population = [1, 2, 3, 4, 5, 6, 7, 8, 9, 10]\n",
    "\n",
    "#Randomly select five items from the population\n",
    "sample = random.sample(population, 5) \n",
    "\n",
    "print(\"Population:\", population)\n",
    "print(\"Simple Random Sample:\", sample)"
   ]
  },
  {
   "cell_type": "code",
   "execution_count": 13,
   "id": "9542f7e2-4925-48e3-bebc-7f34ea06d81d",
   "metadata": {
    "tags": []
   },
   "outputs": [
    {
     "name": "stdout",
     "output_type": "stream",
     "text": [
      "Population: [  1   2   3   4   5   6   7   8   9  10  11  12  13  14  15  16  17  18\n",
      "  19  20  21  22  23  24  25  26  27  28  29  30  31  32  33  34  35  36\n",
      "  37  38  39  40  41  42  43  44  45  46  47  48  49  50  51  52  53  54\n",
      "  55  56  57  58  59  60  61  62  63  64  65  66  67  68  69  70  71  72\n",
      "  73  74  75  76  77  78  79  80  81  82  83  84  85  86  87  88  89  90\n",
      "  91  92  93  94  95  96  97  98  99 100]\n",
      "Systematic Sample: [ 7 17 27 37 47 57 67 77 87 97]\n"
     ]
    }
   ],
   "source": [
    "#Systematic Sampling - Every n'th item after a random starting point\n",
    "population = np.arange(1, 101)\n",
    "\n",
    "#Systematic sampling with a sampling interval of 10\n",
    "start = np.random.randint(1, 11)  #Random starting point\n",
    "interval = 10\n",
    "sample = population[start-1::interval] #Stop omitted, so this runs through the end of the list\n",
    "\n",
    "print(\"Population:\", population)\n",
    "print(\"Systematic Sample:\", sample)"
   ]
  },
  {
   "cell_type": "code",
   "execution_count": 15,
   "id": "e888f3af-714e-480d-9574-4216cab77107",
   "metadata": {
    "tags": []
   },
   "outputs": [
    {
     "name": "stdout",
     "output_type": "stream",
     "text": [
      "{'A': [1, 2, 3], 'B': [4, 5, 6], 'C': [7, 8, 9]}\n",
      "Population: [(1, 'A'), (2, 'A'), (3, 'A'), (4, 'B'), (5, 'B'), (6, 'B'), (7, 'C'), (8, 'C'), (9, 'C')]\n",
      "Stratified Sample: [(2, 'A'), (1, 'A'), (5, 'B'), (6, 'B'), (9, 'C'), (8, 'C')]\n"
     ]
    }
   ],
   "source": [
    "#Stratified sampling - Group population based on attributes and sample equally from each group\n",
    "\n",
    "data = [(1, 'A'), (2, 'A'), (3, 'A'), (4, 'B'), (5, 'B'), (6, 'B'), (7, 'C'), (8, 'C'), (9, 'C')]\n",
    "\n",
    "#Divide data into strata based on the second element of each pair\n",
    "strata = {}\n",
    "for i in data:\n",
    "    if i[1] not in strata:\n",
    "        strata[i[1]] = []\n",
    "    strata[i[1]].append(i[0])\n",
    "print(strata)\n",
    "\n",
    "#Sample the strata\n",
    "sample = []\n",
    "for key in strata.keys():\n",
    "    stratum_sample = random.sample(strata[key], 2)  #Sample 2 elements from each stratum\n",
    "    sample.extend([(x, key) for x in stratum_sample])\n",
    "\n",
    "print(\"Population:\", data)\n",
    "print(\"Stratified Sample:\", sample)"
   ]
  },
  {
   "cell_type": "code",
   "execution_count": 17,
   "id": "2b719ceb-0219-4693-aeec-68077ebf8f6d",
   "metadata": {
    "tags": []
   },
   "outputs": [
    {
     "name": "stdout",
     "output_type": "stream",
     "text": [
      "Population Clusters: [[1, 2, 3], [4, 5, 6], [7, 8, 9], [10, 11, 12]]\n",
      "Selected Clusters: [[1, 2, 3], [7, 8, 9]]\n",
      "Cluster Sample: [1, 2, 3, 7, 8, 9]\n"
     ]
    }
   ],
   "source": [
    "#Population divided into clusters\n",
    "clusters = [[1, 2, 3], [4, 5, 6], [7, 8, 9], [10, 11, 12]]\n",
    "\n",
    "#Randomly select clusters\n",
    "selected_clusters = random.sample(clusters, 2)\n",
    "\n",
    "#Sample all elements from selected clusters\n",
    "sample = [element for cluster in selected_clusters for element in cluster]\n",
    "\n",
    "print(\"Population Clusters:\", clusters)\n",
    "print(\"Selected Clusters:\", selected_clusters)\n",
    "print(\"Cluster Sample:\", sample)"
   ]
  },
  {
   "cell_type": "code",
   "execution_count": 50,
   "id": "3d4de2a4-43c1-4b88-9095-34854eb341bc",
   "metadata": {
    "tags": []
   },
   "outputs": [
    {
     "name": "stdout",
     "output_type": "stream",
     "text": [
      "School Counts:\n",
      "School A: 8 students\n",
      "School B: 3 students\n",
      "School C: 5 students\n",
      "School D: 4 students\n",
      "\n",
      "School Percentages:\n",
      "School A: 40.00%\n",
      "School B: 15.00%\n",
      "School C: 25.00%\n",
      "School D: 20.00%\n",
      "\n",
      "Sample School Percentages:\n",
      "School A: 60.00%\n",
      "School B: 20.00%\n",
      "School C: 0.00%\n",
      "School D: 20.00%\n",
      "\n",
      "Sample:\n",
      "Chelsie - School A\n",
      "Sam - School B\n",
      "Will - School A\n",
      "Will - School A\n",
      "Katie - School D\n"
     ]
    }
   ],
   "source": [
    "#Probability based sampling - Sample from groups proportionate to their contribution to the total\n",
    "\n",
    "students = {\n",
    "    \"School A\": [(\"Amanda\", 85), (\"Beth\", 75), (\"Chelsie\", 90), (\"Will\", 86), (\"Nick\", 79), (\"Cole\", 80), (\"Melissa\", 99), (\"Jessica\", 68)],\n",
    "    \"School B\": [(\"Jen\", 95), (\"Jillian\", 65), (\"Sam\", 92)],\n",
    "    \"School C\": [(\"Laura\", 82), (\"Megan\", 91), (\"Nicki\", 87), (\"Noah\", 84), (\"Tiffany\", 93)],\n",
    "    \"School D\": [(\"Marissa\", 77), (\"Toni\", 89), (\"Katie\", 83), (\"Brittany\", 94)]\n",
    "}\n",
    "\n",
    "#Calculate the total number of students\n",
    "total_students = sum(len(students[school]) for school in students)\n",
    "\n",
    "#Calculate counts and percentages for each school\n",
    "school_counts = {school: len(students[school]) for school in students}\n",
    "school_percentages = {school: (count / total_students) * 100 for school, count in school_counts.items()}\n",
    "\n",
    "#Print counts and percentages for each school\n",
    "print(\"School Counts:\")\n",
    "for school, count in school_counts.items():\n",
    "    print(f\"{school}: {count} students\")\n",
    "\n",
    "print(\"\\nSchool Percentages:\")\n",
    "for school, percentage in school_percentages.items():\n",
    "    print(f\"{school}: {percentage:.2f}%\")\n",
    "\n",
    "#Calculate probabilities proportional to school sizes\n",
    "probabilities = {school: len(students[school]) / total_students for school in students}\n",
    "\n",
    "#Sample\n",
    "sample_size = 5\n",
    "sample = random.choices([(student, school) for school in students for student, _ in students[school]],\n",
    "                         weights=[probabilities[school] for school in students for _ in students[school]],\n",
    "                         k=sample_size)\n",
    "\n",
    "#Calculate counts and percentages of students from each school in the sample\n",
    "sample_counts = {school: sum(1 for _, s in sample if s == school) for school in students}\n",
    "sample_percentages = {school: (count / sample_size) * 100 for school, count in sample_counts.items()}\n",
    "\n",
    "print(\"\\nSample School Percentages:\")\n",
    "for school, percentage in sample_percentages.items():\n",
    "    print(f\"{school}: {percentage:.2f}%\")\n",
    "    \n",
    "print(\"\\nSample:\")\n",
    "for student, school in sample:\n",
    "    print(f\"{student} - {school}\")"
   ]
  }
 ],
 "metadata": {
  "kernelspec": {
   "display_name": "Python [conda env:base] *",
   "language": "python",
   "name": "conda-base-py"
  },
  "language_info": {
   "codemirror_mode": {
    "name": "ipython",
    "version": 3
   },
   "file_extension": ".py",
   "mimetype": "text/x-python",
   "name": "python",
   "nbconvert_exporter": "python",
   "pygments_lexer": "ipython3",
   "version": "3.12.2"
  }
 },
 "nbformat": 4,
 "nbformat_minor": 5
}
