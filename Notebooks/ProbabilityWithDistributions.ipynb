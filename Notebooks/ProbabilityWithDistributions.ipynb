{
 "cells": [
  {
   "cell_type": "markdown",
   "id": "95ea3599-5a19-47da-a0f6-a7b6a77a78d3",
   "metadata": {},
   "source": [
    "# Calculating Probabilities Using Probability Distributions"
   ]
  },
  {
   "cell_type": "code",
   "execution_count": 4,
   "id": "a4e5fe60-a698-4a0e-8ad3-872b4eb579b9",
   "metadata": {
    "tags": []
   },
   "outputs": [],
   "source": [
    "import numpy as np\n",
    "import pandas as pd\n",
    "import math\n",
    "import matplotlib.pyplot as plt\n",
    "from scipy.stats import norm, shapiro, binom, poisson, geom"
   ]
  },
  {
   "cell_type": "markdown",
   "id": "15e8b812-a709-4d43-b6c4-ed953de317c3",
   "metadata": {
    "tags": []
   },
   "source": [
    "### Normal Distribution Probabilities"
   ]
  },
  {
   "cell_type": "code",
   "execution_count": 4,
   "id": "78612284-7a5a-47cc-9572-48b6f4f82da6",
   "metadata": {
    "tags": []
   },
   "outputs": [
    {
     "data": {
      "text/html": [
       "<div>\n",
       "<style scoped>\n",
       "    .dataframe tbody tr th:only-of-type {\n",
       "        vertical-align: middle;\n",
       "    }\n",
       "\n",
       "    .dataframe tbody tr th {\n",
       "        vertical-align: top;\n",
       "    }\n",
       "\n",
       "    .dataframe thead th {\n",
       "        text-align: right;\n",
       "    }\n",
       "</style>\n",
       "<table border=\"1\" class=\"dataframe\">\n",
       "  <thead>\n",
       "    <tr style=\"text-align: right;\">\n",
       "      <th></th>\n",
       "      <th>Income</th>\n",
       "      <th>Income_Normal</th>\n",
       "      <th>Income_Uniform</th>\n",
       "    </tr>\n",
       "  </thead>\n",
       "  <tbody>\n",
       "    <tr>\n",
       "      <th>0</th>\n",
       "      <td>25767</td>\n",
       "      <td>25767</td>\n",
       "      <td>50966</td>\n",
       "    </tr>\n",
       "    <tr>\n",
       "      <th>1</th>\n",
       "      <td>66021</td>\n",
       "      <td>66021</td>\n",
       "      <td>81023</td>\n",
       "    </tr>\n",
       "    <tr>\n",
       "      <th>2</th>\n",
       "      <td>76163</td>\n",
       "      <td>76163</td>\n",
       "      <td>81015</td>\n",
       "    </tr>\n",
       "    <tr>\n",
       "      <th>3</th>\n",
       "      <td>48429</td>\n",
       "      <td>48429</td>\n",
       "      <td>26673</td>\n",
       "    </tr>\n",
       "    <tr>\n",
       "      <th>4</th>\n",
       "      <td>58805</td>\n",
       "      <td>58805</td>\n",
       "      <td>31844</td>\n",
       "    </tr>\n",
       "  </tbody>\n",
       "</table>\n",
       "</div>"
      ],
      "text/plain": [
       "   Income  Income_Normal  Income_Uniform\n",
       "0   25767          25767           50966\n",
       "1   66021          66021           81023\n",
       "2   76163          76163           81015\n",
       "3   48429          48429           26673\n",
       "4   58805          58805           31844"
      ]
     },
     "execution_count": 4,
     "metadata": {},
     "output_type": "execute_result"
    }
   ],
   "source": [
    "df = pd.read_csv('../data/incomes.csv')\n",
    "df.head()"
   ]
  },
  {
   "cell_type": "code",
   "execution_count": 18,
   "id": "b2feb68f-f7ff-4de9-af69-ac816bba9a63",
   "metadata": {
    "tags": []
   },
   "outputs": [
    {
     "data": {
      "text/plain": [
       "(array([3., 2., 4., 2., 4., 7., 3., 3., 3., 1.]),\n",
       " array([25767. , 31840.3, 37913.6, 43986.9, 50060.2, 56133.5, 62206.8,\n",
       "        68280.1, 74353.4, 80426.7, 86500. ]),\n",
       " <BarContainer object of 10 artists>)"
      ]
     },
     "execution_count": 18,
     "metadata": {},
     "output_type": "execute_result"
    },
    {
     "data": {
      "image/png": "[encoded data removed]",
      "text/plain": [
       "<Figure size 640x480 with 1 Axes>"
      ]
     },
     "metadata": {},
     "output_type": "display_data"
    }
   ],
   "source": [
    "#Test for normality - Visual inspection\n",
    "plt.hist(df['Income'])"
   ]
  },
  {
   "cell_type": "code",
   "execution_count": 84,
   "id": "a1f10b91-938f-437c-a6eb-b1ed554adeab",
   "metadata": {
    "tags": []
   },
   "outputs": [
    {
     "data": {
      "text/plain": [
       "(array([ 5.,  6., 11.,  6.,  4.]),\n",
       " array([25767. , 37913.6, 50060.2, 62206.8, 74353.4, 86500. ]),\n",
       " <BarContainer object of 5 artists>)"
      ]
     },
     "execution_count": 84,
     "metadata": {},
     "output_type": "execute_result"
    },
    {
     "data": {
      "image/png": "[encoded data removed]",
      "text/plain": [
       "<Figure size 640x480 with 1 Axes>"
      ]
     },
     "metadata": {},
     "output_type": "display_data"
    }
   ],
   "source": [
    "#Test for normality - Visual inspection, fewer bins\n",
    "plt.hist(df['Income'], bins=5)"
   ]
  },
  {
   "cell_type": "code",
   "execution_count": 28,
   "id": "ed2ecd71-81df-4aa7-9bac-50b5e66f368d",
   "metadata": {
    "tags": []
   },
   "outputs": [
    {
     "name": "stdout",
     "output_type": "stream",
     "text": [
      "Shapiro-Wilk Test Statistic: 0.9786182641983032\n",
      "P-Value: 0.7585194110870361\n"
     ]
    }
   ],
   "source": [
    "#Test for normality - Shapiro-Wilk\n",
    "#H0: Normally distributed data, HA: Non-normally distributed data\n",
    "#If p-value is < alpha, reject H0 and conclude data is not normally distributed\n",
    "stat, pvalue = shapiro(df['Income'])\n",
    "print(f'Shapiro-Wilk Test Statistic: {stat}')\n",
    "print(f'P-Value: {pvalue}')"
   ]
  },
  {
   "cell_type": "code",
   "execution_count": 101,
   "id": "3b36280f-74df-4910-a6bc-adf5ba1de284",
   "metadata": {
    "tags": []
   },
   "outputs": [
    {
     "name": "stdout",
     "output_type": "stream",
     "text": [
      "Fail to Reject H0 - Data are normally distributed\n"
     ]
    }
   ],
   "source": [
    "alpha = 0.05\n",
    "\n",
    "if pvalue > alpha:\n",
    "    print('Fail to Reject H0 - Data are normally distributed')\n",
    "elif pvalue < alpha:\n",
    "    print('Reject H0 - Data are not normally distributed')"
   ]
  },
  {
   "cell_type": "code",
   "execution_count": 41,
   "id": "08abc794-44b2-44f9-9564-0c78b9a890a1",
   "metadata": {
    "tags": []
   },
   "outputs": [
    {
     "name": "stdout",
     "output_type": "stream",
     "text": [
      "54975.40625\n",
      "15733.012904517396\n"
     ]
    }
   ],
   "source": [
    "#Calculate mean and standard deviation\n",
    "mean = np.mean(df['Income'])\n",
    "stdev = np.std(df['Income'])\n",
    "print(mean)\n",
    "print(stdev)"
   ]
  },
  {
   "cell_type": "code",
   "execution_count": 37,
   "id": "c961cea2-97c4-48a9-bc79-55143314ccb8",
   "metadata": {
    "tags": []
   },
   "outputs": [
    {
     "data": {
      "text/plain": [
       "-0.3162398887101541"
      ]
     },
     "execution_count": 37,
     "metadata": {},
     "output_type": "execute_result"
    }
   ],
   "source": [
    "#Calculate z for a given value of x\n",
    "x = 50000\n",
    "z = (x - mean) / stdev\n",
    "z"
   ]
  },
  {
   "cell_type": "code",
   "execution_count": 47,
   "id": "2c339ac9-b3dc-4af8-81d9-f81e3e332782",
   "metadata": {
    "tags": []
   },
   "outputs": [
    {
     "data": {
      "text/plain": [
       "[-0.9518460539557642,\n",
       " -0.3162398887101541,\n",
       " 0.31936627653545596,\n",
       " 0.954972441781066,\n",
       " 1.590578607026676,\n",
       " 2.226184772272286,\n",
       " 2.8617909375178963]"
      ]
     },
     "execution_count": 47,
     "metadata": {},
     "output_type": "execute_result"
    }
   ],
   "source": [
    "#Calculate z for several values\n",
    "xs = [40000, 50000, 60000, 70000, 80000, 90000, 100000]\n",
    "zs = []\n",
    "for i in xs:\n",
    "    z = (i - mean) / stdev\n",
    "    zs.append(z)\n",
    "zs"
   ]
  },
  {
   "cell_type": "code",
   "execution_count": 78,
   "id": "6f44760e-6f04-4857-993b-3b2aca341a51",
   "metadata": {
    "tags": []
   },
   "outputs": [
    {
     "data": {
      "text/plain": [
       "[-1.856504308949841,\n",
       " 0.7020647486298378,\n",
       " 1.3466965214219355,\n",
       " -0.41609361727023947,\n",
       " 0.24341133978860555,\n",
       " -0.27867556434413854,\n",
       " -1.8110584681347799,\n",
       " 0.2953403634891719,\n",
       " 0.060801688513541785,\n",
       " -0.9008068788865418,\n",
       " 0.09226419369319948,\n",
       " 0.563756847072393,\n",
       " 0.9055858427414821,\n",
       " 0.09881093719522926,\n",
       " 0.7745874120843619,\n",
       " -0.30015905272944016,\n",
       " -1.1951560940117838,\n",
       " 1.472292299674468,\n",
       " -0.7057393467726639,\n",
       " 0.44769516129854464,\n",
       " -1.7627523995761136,\n",
       " 1.558035571366101,\n",
       " 0.8671952303606473,\n",
       " -0.41628429911981313,\n",
       " -1.2847130026948903,\n",
       " 1.1872864951783366,\n",
       " 2.0037226144363225,\n",
       " -1.030788339679269,\n",
       " 0.2561870237100423,\n",
       " -0.9715498450783782,\n",
       " 0.07758169127602589,\n",
       " -0.023034764682354186]"
      ]
     },
     "execution_count": 78,
     "metadata": {},
     "output_type": "execute_result"
    }
   ],
   "source": [
    "#Calculate z for the whole series\n",
    "zs = []\n",
    "for i in df['Income']:\n",
    "    z = (i - mean) / stdev\n",
    "    zs.append(z)\n",
    "zs"
   ]
  },
  {
   "cell_type": "code",
   "execution_count": 58,
   "id": "f31d0b14-f81c-4388-aed5-4da6a78a34bd",
   "metadata": {
    "tags": []
   },
   "outputs": [
    {
     "data": {
      "text/plain": [
       "0.37591021664376195"
      ]
     },
     "execution_count": 58,
     "metadata": {},
     "output_type": "execute_result"
    }
   ],
   "source": [
    "#Z table values from scipy.norm's cumulative distribution function...function\n",
    "#This function returns the area under the curve left of a given value\n",
    "#Use for problems of p(x<X)\n",
    "norm.cdf(50000, mean, stdev)"
   ]
  },
  {
   "cell_type": "code",
   "execution_count": 60,
   "id": "5145d6f7-463f-49c0-b139-aacbf0909cd2",
   "metadata": {
    "tags": []
   },
   "outputs": [
    {
     "data": {
      "text/plain": [
       "[0.1705875308685853,\n",
       " 0.37591021664376195,\n",
       " 0.6252756098442375,\n",
       " 0.8302041832778537,\n",
       " 0.9441477789351702,\n",
       " 0.9869990962391428,\n",
       " 0.9978937266211311]"
      ]
     },
     "execution_count": 60,
     "metadata": {},
     "output_type": "execute_result"
    }
   ],
   "source": [
    "#Z table values for multiple values\n",
    "xs = [40000, 50000, 60000, 70000, 80000, 90000, 100000]\n",
    "ps = []\n",
    "for i in xs:\n",
    "    p = norm.cdf(i, mean, stdev)\n",
    "    ps.append(p)\n",
    "\n",
    "ps"
   ]
  },
  {
   "cell_type": "code",
   "execution_count": 64,
   "id": "b0d7f30c-a715-406d-8e5d-1f5ebe4da4b7",
   "metadata": {
    "tags": []
   },
   "outputs": [
    {
     "data": {
      "text/plain": [
       "[0.8294124691314146,\n",
       " 0.624089783356238,\n",
       " 0.37472439015576253,\n",
       " 0.16979581672214628,\n",
       " 0.05585222106482979,\n",
       " 0.013000903760857163,\n",
       " 0.002106273378868928]"
      ]
     },
     "execution_count": 64,
     "metadata": {},
     "output_type": "execute_result"
    }
   ],
   "source": [
    "#For p(x>X) problems, subtract z table value from one\n",
    "1 - norm.cdf(50000, mean, stdev)\n",
    "\n",
    "#Z table values for multiple values\n",
    "xs = [40000, 50000, 60000, 70000, 80000, 90000, 100000]\n",
    "ps = []\n",
    "for i in xs:\n",
    "    p = 1 - norm.cdf(i, mean, stdev)\n",
    "    ps.append(p)\n",
    "\n",
    "ps"
   ]
  },
  {
   "cell_type": "code",
   "execution_count": 74,
   "id": "9bc38e78-3c41-4558-a49a-f087da89baed",
   "metadata": {
    "tags": []
   },
   "outputs": [
    {
     "data": {
      "text/plain": [
       "0.45468807897565217"
      ]
     },
     "execution_count": 74,
     "metadata": {},
     "output_type": "execute_result"
    }
   ],
   "source": [
    "#For p(XL<x<XH) problems, subtract high z table value from low z table value\n",
    "x_low = 40000\n",
    "x_high = 60000\n",
    "\n",
    "p_low = norm.cdf(x_low, mean, stdev)\n",
    "p_high = norm.cdf(x_high, mean, stdev)\n",
    "\n",
    "p = p_high - p_low \n",
    "p"
   ]
  },
  {
   "cell_type": "code",
   "execution_count": 98,
   "id": "e0216eea-fd7f-4329-8ddc-e0eeef277fb9",
   "metadata": {
    "tags": []
   },
   "outputs": [
    {
     "name": "stdout",
     "output_type": "stream",
     "text": [
      "0.37591021664376195\n",
      "0.624089783356238\n",
      "0.45468807897565217\n"
     ]
    }
   ],
   "source": [
    "#Custom function to find normally distributed probabilities\n",
    "def prob_finder(values, x_or_low_x, test_type, high_x=0):\n",
    "    mean = np.mean(values)\n",
    "    stdev = np.std(values)\n",
    "    if test_type == \"x>\":\n",
    "        p = 1 - norm.cdf(x_or_low_x,mean,stdev)\n",
    "    elif test_type == \"x<\":\n",
    "        p = norm.cdf(x_or_low_x,mean,stdev)\n",
    "    elif test_type == \"<x<\":\n",
    "        p = norm.cdf(high_x,mean,stdev) - norm.cdf(x_or_low_x,mean,stdev)\n",
    "    else:\n",
    "        print(\"Unknown test type\")\n",
    "    return p\n",
    "\n",
    "print(prob_finder(df['Income'], 50000, \"x<\"))\n",
    "print(prob_finder(df['Income'], 50000, \"x>\"))\n",
    "print(prob_finder(df['Income'], 40000, \"<x<\", 60000))"
   ]
  },
  {
   "cell_type": "markdown",
   "id": "93da8015-682f-4255-8e76-d25ba70ee82e",
   "metadata": {},
   "source": [
    "### Binomial Distribution Probabilities"
   ]
  },
  {
   "cell_type": "code",
   "execution_count": null,
   "id": "72c6b84f-eb21-4ee8-87be-729b00cdbe49",
   "metadata": {},
   "outputs": [],
   "source": [
    "#Factorials\n",
    "#Factorials = n! = Multiply a number by all the integers below it \n",
    "#5! = 5x4x3x2x1 = 120\n",
    "#0! = 1, 1! = 1\n",
    "\n",
    "def factorial(n):\n",
    "    if n == 0 or n == 1:\n",
    "        return 1\n",
    "    else:\n",
    "        result = 1\n",
    "        for i in range(2, n + 1): #n + 1 since range stops before last number\n",
    "            result *= i #inplace multiplication\n",
    "        return result\n",
    "    \n",
    "factorial(5)"
   ]
  },
  {
   "cell_type": "code",
   "execution_count": null,
   "id": "64cd3cb4-fcfc-46ea-bb37-fbe29f672ced",
   "metadata": {},
   "outputs": [],
   "source": [
    "#Combinations\n",
    "#Combinations = How many sets of k-size can be made out of n-items, if order doesnt matter\n",
    "\n",
    "def combination(n, k):\n",
    "    combinations = factorial(n) / ((factorial(k) * factorial(n - k)))\n",
    "    return int(combinations)\n",
    "\n",
    "combination(10,4)"
   ]
  },
  {
   "cell_type": "code",
   "execution_count": null,
   "id": "c559cb68-1210-4e00-b016-23ef0aa47cfe",
   "metadata": {},
   "outputs": [],
   "source": [
    "#Alternatively...\n",
    "print(math.factorial(5))\n",
    "print(math.comb(10,4))"
   ]
  },
  {
   "cell_type": "code",
   "execution_count": null,
   "id": "db7bf44a-9d7f-471c-9131-5e904f3d1cf3",
   "metadata": {},
   "outputs": [],
   "source": [
    "#Creating a binomial formula function\n",
    "#x = number of successes, n = number of trials, pi = probability of success\n",
    "def binomial(x,n,pi):\n",
    "    c = combination(n,x)\n",
    "    p = c * (pi**x)*(1-pi)**(n-x)\n",
    "    return p"
   ]
  },
  {
   "cell_type": "code",
   "execution_count": null,
   "id": "ef0bd1fe-6822-48e5-baef-71fa3cb96a91",
   "metadata": {},
   "outputs": [],
   "source": [
    "#Creating a probability distribution\n",
    "successes = [0,1,2,3,4,5,6,7,8,9,10]\n",
    "pi = 0.1\n",
    "n = 10\n",
    "probs = []\n",
    "\n",
    "for i in successes:\n",
    "    p = binomial(i,n,pi)\n",
    "    probs.append(p)\n",
    "    \n",
    "print(probs)"
   ]
  },
  {
   "cell_type": "code",
   "execution_count": null,
   "id": "f756bf68-8d33-4314-845f-2f84932e83aa",
   "metadata": {},
   "outputs": [],
   "source": [
    "#Plotting the distribution \n",
    "plt.bar(successes, probs)\n",
    "plt.title('Binomial Probability Mass Function')\n",
    "plt.xlabel('X')\n",
    "plt.ylabel('Probability')\n",
    "plt.show()"
   ]
  },
  {
   "cell_type": "code",
   "execution_count": null,
   "id": "101ccfdf-9a52-4a97-a4e9-1d21e093897e",
   "metadata": {},
   "outputs": [],
   "source": [
    "#p(x=2), 10 trials, 2 successes, probability of success = 10%\n",
    "n = 10\n",
    "x = 2\n",
    "pi = 0.10\n",
    "binomial(x,n,pi)"
   ]
  },
  {
   "cell_type": "code",
   "execution_count": null,
   "id": "e94d392b-f73a-4ba8-9c8a-70a093c60f49",
   "metadata": {},
   "outputs": [],
   "source": [
    "#p(x<2)\n",
    "n = 10\n",
    "x = 2\n",
    "pi = 0.10\n",
    "p = 0\n",
    "\n",
    "for i in range(0, x): #Use x for p(x<X) and x+1 for p(x<=X)\n",
    "    p += binomial(i, n, pi)\n",
    "\n",
    "print(p)"
   ]
  },
  {
   "cell_type": "code",
   "execution_count": null,
   "id": "a04b76ce-74ff-4d1d-854c-eac58a4fc4be",
   "metadata": {},
   "outputs": [],
   "source": [
    "#p(x<=2)\n",
    "n = 10\n",
    "x = 2\n",
    "pi = 0.10\n",
    "p = 0\n",
    "\n",
    "for i in range(0, x + 1): \n",
    "    p += binomial(i,n,pi)\n",
    "\n",
    "print(p)"
   ]
  },
  {
   "cell_type": "code",
   "execution_count": null,
   "id": "288e5896-8345-43b2-bd21-da6e89d03dbb",
   "metadata": {},
   "outputs": [],
   "source": [
    "#(x>2)\n",
    "n = 10\n",
    "x = 2\n",
    "pi = 0.10\n",
    "c = 0\n",
    "\n",
    "for i in range(0, x + 1):\n",
    "    c += binomial(i, n, pi)\n",
    "    p = 1 - c\n",
    "    \n",
    "print(p)"
   ]
  },
  {
   "cell_type": "code",
   "execution_count": null,
   "id": "baa8e9fd-199b-429c-9f02-e49d5c0f85c4",
   "metadata": {},
   "outputs": [],
   "source": [
    "#(x>=2)\n",
    "n = 10\n",
    "x = 2\n",
    "pi = 0.10\n",
    "c = 0\n",
    "\n",
    "for i in range(0, x):\n",
    "    c += binomial(i, n, pi)\n",
    "    p = 1 - c\n",
    "    \n",
    "print(p)"
   ]
  },
  {
   "cell_type": "code",
   "execution_count": null,
   "id": "3c6f693c-7554-4be1-a1ca-d2d9861fb464",
   "metadata": {},
   "outputs": [],
   "source": [
    "#Custom function to find binomially distributed probabilities\n",
    "def binom_prob_finder(n, x, pi, test_type):\n",
    "    if test_type == \"=\":\n",
    "        p = binomial(x, n, pi)\n",
    "    elif test_type == \"x>=\":\n",
    "        c = 0\n",
    "        for i in range(0, x):\n",
    "            c += binomial(i, n, pi)\n",
    "            p = 1 - c\n",
    "    elif test_type == \"x>\":\n",
    "        c = 0\n",
    "        for i in range(0, x + 1):\n",
    "            c += binomial(i, n, pi)\n",
    "            p = 1 - c\n",
    "    elif test_type == \"x<=\":\n",
    "        p = 0\n",
    "        for i in range(0, x + 1): #Use x+1 for p(x<=X) and x for p(x<X)\n",
    "            p += binomial(i,n,pi)\n",
    "    elif test_type == \"x<\":\n",
    "        p = 0\n",
    "        for i in range(0, x):\n",
    "            p += binomial(i, n, pi)\n",
    "    return p\n",
    "\n",
    "print(binom_prob_finder(10, 2, 0.1, \"=\"))\n",
    "print(binom_prob_finder(10, 2, 0.1, \"x>\"))\n",
    "print(binom_prob_finder(10, 2, 0.1, \"x>=\"))\n",
    "print(binom_prob_finder(10, 2, 0.1, \"x<\"))\n",
    "print(binom_prob_finder(10, 2, 0.1, \"x<=\"))"
   ]
  },
  {
   "cell_type": "markdown",
   "id": "ec7c93f3-8672-456b-99aa-b0aa4d8d17a9",
   "metadata": {},
   "source": [
    "### Poisson Distribution Probabilities"
   ]
  },
  {
   "cell_type": "code",
   "execution_count": null,
   "id": "238dcffa-e593-4eff-b711-781250d14f9d",
   "metadata": {},
   "outputs": [],
   "source": [
    "#Creating a poisson formula function\n",
    "#l = lambda = average rate of events, x = number of events\n",
    "\n",
    "def poisson(l,x):\n",
    "    numerator = (l**k)*(math.exp(-l))\n",
    "    denominator = factorial(x)\n",
    "    p = numerator / denominator\n",
    "    return p"
   ]
  },
  {
   "cell_type": "code",
   "execution_count": null,
   "id": "ed5409b5-c82b-40cb-a375-6191d5268f07",
   "metadata": {},
   "outputs": [],
   "source": [
    "#Creating a probability mass function\n",
    "x = [0,1,2,3,4,5,6,7,8,9,10]\n",
    "l = 2\n",
    "\n",
    "ps = []\n",
    "\n",
    "for i in x:\n",
    "    ps.append(poisson(l,i))\n",
    "\n",
    "print(ps)"
   ]
  },
  {
   "cell_type": "code",
   "execution_count": null,
   "id": "7ab2d61d-9b28-448a-b9e0-f4d669ed244c",
   "metadata": {},
   "outputs": [],
   "source": [
    "#Plotting the probability mass function\n",
    "plt.bar(x, ps)\n",
    "plt.title('Poisson Probability Mass Function')\n",
    "plt.xlabel('X')\n",
    "plt.ylabel('Probability')\n",
    "plt.show()"
   ]
  },
  {
   "cell_type": "code",
   "execution_count": null,
   "id": "617a6d38-48a4-49be-8b37-e661d10e9768",
   "metadata": {},
   "outputs": [],
   "source": [
    "#Calculating probabilities - lambda = 5\n",
    "#(x=3)\n",
    "x=3\n",
    "l=5\n",
    "\n",
    "poisson(l,x)"
   ]
  },
  {
   "cell_type": "code",
   "execution_count": null,
   "id": "ba8ea1e3-9535-4fd6-9ab3-e6489923a2cd",
   "metadata": {},
   "outputs": [],
   "source": [
    "#p(x<3)\n",
    "x=3\n",
    "l=5\n",
    "\n",
    "p=0\n",
    "for i in range(0, x): #Use x+1 for p(x<=X) and x for p(x<X)\n",
    "    p += poisson(l,i)\n",
    "    \n",
    "p  "
   ]
  },
  {
   "cell_type": "code",
   "execution_count": null,
   "id": "b12b0c4b-bad9-408b-a72d-8c6debf33a61",
   "metadata": {},
   "outputs": [],
   "source": [
    "#p(x<=3)\n",
    "x=3\n",
    "l=5\n",
    "\n",
    "p=0\n",
    "for i in range(0, x+1): \n",
    "    p += poisson(l,i)\n",
    "    \n",
    "p  "
   ]
  },
  {
   "cell_type": "code",
   "execution_count": null,
   "id": "b4464de2-4e07-47ea-91c4-c44c55abe2d7",
   "metadata": {},
   "outputs": [],
   "source": [
    "#p(x>3)\n",
    "x=3\n",
    "l=5\n",
    "\n",
    "p=0\n",
    "c=0\n",
    "\n",
    "for i in range(0, x+1): \n",
    "    c += poisson(l,i)\n",
    "    p = 1 - c\n",
    "    \n",
    "p "
   ]
  },
  {
   "cell_type": "code",
   "execution_count": null,
   "id": "69e546cd-2bd8-4767-90f3-8404970a373c",
   "metadata": {},
   "outputs": [],
   "source": [
    "#p(x>=3)\n",
    "x=3\n",
    "l=5\n",
    "\n",
    "p=0\n",
    "c=0\n",
    "\n",
    "for i in range(0, x): \n",
    "    c += poisson(l,i)\n",
    "    p = 1 - c\n",
    "    \n",
    "p"
   ]
  },
  {
   "cell_type": "code",
   "execution_count": null,
   "id": "28f98c33-18fd-4991-bc5a-ae15dd6c2bf6",
   "metadata": {},
   "outputs": [],
   "source": [
    "#The easy way...\n",
    "from scipy.stats import poisson\n",
    "from scipy.stats import binom\n",
    "\n",
    "#Binomial Probability Mass Fuction\n",
    "#prob = binom.pmf(k, n, p)\n",
    "\n",
    "#Binomial Cumulative Distribution Function\n",
    "#cum_prob = binom.cdf(k, n, p)\n",
    "\n",
    "#Poisson Probability Mass Fuction\n",
    "#prob = poisson.pmf(k, mu)\n",
    "\n",
    "#Poisson Cumulative Distribution Fuction\n",
    "#cum_prob = poisson.cdf(k, mu)#p(x>=3)\n",
    "x=3\n",
    "l=5\n",
    "\n",
    "p=0\n",
    "c=0\n",
    "\n",
    "for i in range(0, x): \n",
    "    c += poisson(l,i)\n",
    "    p = 1 - c\n",
    "    \n",
    "p"
   ]
  },
  {
   "cell_type": "code",
   "execution_count": 30,
   "id": "8e80b19a-6c36-46b7-b319-a7c51b759e98",
   "metadata": {},
   "outputs": [
    {
     "name": "stdout",
     "output_type": "stream",
     "text": [
      "0.14699999999999996\n",
      "0.6569999999999999\n",
      "0.3430000000000001\n"
     ]
    }
   ],
   "source": [
    "#Geometric Distribution\n",
    "from scipy.stats import geom\n",
    "\n",
    "p = 0.3 #Probability of success\n",
    "x = 3 #Attempts until success\n",
    "\n",
    "#p(x=3)\n",
    "prob_x_3 = geom.pmf(x, p) \n",
    "print(prob_x_3)\n",
    "\n",
    "#p(x=<3)\n",
    "prob_x_lessthan_3 = geom.cdf(x, p)\n",
    "print(prob_x_lessthan_3)\n",
    "\n",
    "#p(x>3)\n",
    "prob_x_greaterthan_3 = 1 - geom.cdf(x, p)\n",
    "print(prob_x_greaterthan_3)"
   ]
  },
  {
   "cell_type": "code",
   "execution_count": 10,
   "id": "862c62a3-6137-4e9e-993f-d8b2b81e7820",
   "metadata": {},
   "outputs": [
    {
     "name": "stdout",
     "output_type": "stream",
     "text": [
      "0.06039797760000005\n",
      "15.0\n"
     ]
    }
   ],
   "source": [
    "#Negative Binomial Distribution\n",
    "from scipy.stats import nbinom\n",
    "\n",
    "p = 0.2 #Probability of success\n",
    "r = 3 #Number of successes\n",
    "\n",
    "#Probability it takes 10 calls to achieve 3 sales\n",
    "k = 10\n",
    "prob = nbinom.pmf(k - r, r, p)\n",
    "print(prob)\n",
    "\n",
    "#Expected number of calls to make a sale\n",
    "ev = r / p\n",
    "print(ev)"
   ]
  }
 ],
 "metadata": {
  "kernelspec": {
   "display_name": "Python [conda env:base] *",
   "language": "python",
   "name": "conda-base-py"
  },
  "language_info": {
   "codemirror_mode": {
    "name": "ipython",
    "version": 3
   },
   "file_extension": ".py",
   "mimetype": "text/x-python",
   "name": "python",
   "nbconvert_exporter": "python",
   "pygments_lexer": "ipython3",
   "version": "3.12.2"
  }
 },
 "nbformat": 4,
 "nbformat_minor": 5
}
