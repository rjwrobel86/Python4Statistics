{
 "cells": [
  {
   "cell_type": "code",
   "execution_count": 27,
   "id": "1f9a6ef3-0c15-4e5b-9354-6f7f36166aa1",
   "metadata": {},
   "outputs": [
    {
     "name": "stdout",
     "output_type": "stream",
     "text": [
      "[None]\n"
     ]
    }
   ],
   "source": [
    "from bs4 import BeautifulSoup\n",
    "import pandas as pd\n",
    "\n",
    "# Load the HTML file\n",
    "with open('/Users/robertwrobel/Downloads/Melissa Social Export/facebook-mlsoifer-2025-01-17-ngwa1vpQ/logged_information/search/your_search_history.html', 'r', encoding='utf-8') as file:\n",
    "    soup = BeautifulSoup(file, 'html.parser')\n",
    "\n",
    "from bs4 import BeautifulSoup\n",
    "\n",
    "def scrape_all_items(html_file):\n",
    "  \"\"\"\n",
    "  Scrapes data from an HTML file for all items.\n",
    "\n",
    "  Args:\n",
    "    html_file: Path to the HTML file.\n",
    "\n",
    "  Returns:\n",
    "    A list of scraped data, one element per item.\n",
    "  \"\"\"\n",
    "\n",
    "  with open(html_file, 'r') as f:\n",
    "    html_content = f.read()\n",
    "\n",
    "  soup = BeautifulSoup(html_content, 'html.parser')\n",
    "\n",
    "  # Find all relevant div elements (adjust the selector as needed)\n",
    "  all_items = soup.find_all('div', class_='_a706') \n",
    "\n",
    "  scraped_data = []\n",
    "  for item in all_items:\n",
    "    try:\n",
    "      # Extract the desired data within each item (adjust the selector as needed)\n",
    "      data_element = item.find('div', class_='_2ph_._a6-p').find('div').find('div').find('div').find('div').find('div')\n",
    "      scraped_data.append(data_element.text.strip()) \n",
    "    except AttributeError:\n",
    "      scraped_data.append(None) \n",
    "\n",
    "  return scraped_data\n",
    "\n",
    "# Example usage:\n",
    "html_file_path = '/Users/robertwrobel/Downloads/Melissa Social Export/facebook-mlsoifer-2025-01-17-ngwa1vpQ/logged_information/search/your_search_history.html' \n",
    "all_item_data = scrape_all_items(html_file_path)\n",
    "\n",
    "print(all_item_data)\n"
   ]
  },
  {
   "cell_type": "code",
   "execution_count": 47,
   "id": "6ab46785-f1d5-4e23-b470-15c6c96be0df",
   "metadata": {},
   "outputs": [
    {
     "name": "stdout",
     "output_type": "stream",
     "text": [
      "['\"camper\"', '\"Mike Blye\"', '\"Jonathan Wingo\"', '\"Mathias James\"', '\"Jeremy Lynch\"', '\"Jeremy Lynch\"', '\"Chris Dalton\"', '\"douglas c overall\"', '\"melissa krieg\"', '\"julien ross-boon\"', '\"talia smith\"', '\"jason biggs\"', '\"Anthony Strauss\"', '\"Jason Reed\"', '\"Jeremy Lynch\"', '\"Donald Rogers\"', '\"James R Johnson\"', '\"Nik Flora\"', '\"Brian Schuman\"', '\"Bill Sander\"', '\"whitney hoefft\"', '\"Jason Biggs\"', '\"jason biggs\"', '\"Lisa Sabo\"', '\"Lisa Barry Jenkins\"', '\"khokan\"', '\"Khokan Ray\"', '\"Khokan Ray\"', '\"Khokan Mondal\"', '\"Khokan Mondal\"', '\"Khokan Nath\"', '\"Khokan Nath\"', '\"Jim Gebing\"', '\"Jeremy Lynch\"', '\"Jeremy Lynch\"', '\"Craig Allard\"', '\"Nathan Chew\"', '\"Chris Doss\"', '\"Lisa Bassler Fox\"', '\"jason biggs\"', '\"Lisa Sabo\"', '\"nathan harris\"', '\"Nathan Harris\"', '\"Nathan Harris\"', '\"Nathan Harris\"', '\"Nathan Harris\"', '\"jason biggs\"', '\"Chris the Home Inspector LLC\"', '\"Cowboy Campout\"', '\"Bob Slama\"', '\"kinealy\"', '\"terry kinealy\"', '\"terence kinealy\"', '\"terrence kinealy\"', '\"Jason Biggs\"', '\"STL Watering hole\"', '\"nathan harris\"', '\"jason biggs\"', '\"Jason Biggs\"', '\"nathan harris\"', '\"Mel Lee\"', '\"Lee Barken\"', '\"Eric Klesper\"', '\"Harley Eddie Lightle\"', '\"jason biggs\"', '\"Jerry Sherwin Jr\"', '\"Melissa Soifer\"', '\"robert wrobel\"', '\"Robert Wrobel\"', '\"Robert Wrobel\"', '\"kt\\'s saloon\"', '\"KT\\'s Saloon\"', '\"KT\\'s Saloon\"', '\"Cecilia Hardiman\"', '\"robert wrobel\"', '\"robert wrobel\"', '\"trevor pyle\"', '\"Robert Woodruff\"', '\"robert wrobel\"', '\"Robert Wrobel\"', '\"Robert Wrobel\"', '\"Robert Wrobel\"', '\"Bob Wrobel\"', '\"Bob Wrobel\"', '\"Robert Wrobel\"', '\"Robert Wrobel\"', '\"robert wrobel\"', '\"jason biggs\"', '\"Brunch Babes StL\"', '\"Brunch Babes StL\"', '\"Brunch Babes StL\"', '\"St. Louis Meet Singles IRL\"', '\"Brunch Babes StL\"', '\"Whitney Hoefft\"', '\"Are We Dating The Same Guy? | St Louis STL\"', '\"robert wrobel\"', '\"robert wrobel\"', '\"Melissa Soifer\"', '\"Chelsie Wilson\"', '\"jason biggs\"', '\"robert wrobel\"', '\"Anthony Strauss\"', '\"robert wrobel\"', '\"Melissa Soifer\"', '\"Are We Dating The Same Guy? | St Louis STL\"', '\"ashley sutherland smith\"', '\"Ashley Sutherland Smith\"', '\"ashley sullivan\"', '\"Ashley Sullivan\"', '\"Ashley Sullivan\"', '\"Ashley Sutherland Smith\"', '\"robert wrobel\"', '\"Anna Mullgardt Lay\"', '\"robert wrobel\"', '\"Robert Wrobel\"', '\"Missouri Whiskey Society\"', '\"Visit Colorado\"', '\"Anna Mullgardt Lay\"', '\"robert wrobel\"', '\"isabelle soulay soifer\"', '\"Jason Biggs\"', '\"Kim Ruma\"', '\"Lucas Schmitt\"', '\"Kim Ruma\"', '\"Forest Room 5\"', '\"Forest Room 5\"', '\"are we dating the same guy st louis stl\"', '\"Craig Floyd\"', '\"Dale Kyd\"', '\"Melissa Soifer\"', '\"songs for soldiers\"', '\"Songs4Soldiers\"', '\"Songs4Soldiers\"', '\"Jack Schmitt Chevrolet of Wood River\"', '\"Melissa Soifer\"', '\"robert wrobel\"', '\"Wheelhouse Downtown\"', '\"We are West High... 30 years later\"', '\"Craig Bouchard\"', '\"Expansion of consciousness\"', '\"Doug Overall\"', '\"tonight’s events\"', '\"Summer Pop Up Events\"', '\"Melissa Jason\"', '\"Nathan Hawkins\"', '\"Douglas Overall\"', '\"Sarah Stacy\"', '\"Chelsey Nizick\"', '\"Jeff Nizick\"', '\"Fastest Labs of Hooksett\"', '\"Craig Olson\"', '\"Fastest Labs of Hooksett\"', '\"David Blaeholder\"', '\"Elle Morgan\"', '\"St. Louis Bourbon and Cigar Trader\"', '\"Melissa Soifer\"', '\"anthony strauss\"', '\"St. Louis Bourbon and Cigar Trader\"', '\"elle morgan\"', '\"elyce hurd\"', '\"Jason Biggs\"', '\"Lisa Hoker Tivoli\"', '\"ahn\\'s martial arts academy inc\"', '\"Ahn’s Martial Arts Academy\"', '\"Ahn’s Martial Arts Academy\"', '\"Ahn’s Martial Arts Academy\"', '\"robert wrobel\"', '\"Julie Kozuszek\"', '\"Kyle Barbato\"', '\"robert wrobel\"', '\"Christopher Kayvan Raghebi\"', '\"Kyle Barbato\"', '\"Ruth Ann Barbato\"', '\"Whitney Hoefft\"', '\"robert wrobel\"', '\"Melissa Soifer\"', '\"Melissa Soifer\"', '\"robert wrobel\"', '\"robert wrobel\"', '\"robert wrobel\"', '\"Melissa Soifer\"', '\"steve worthington\"', '\"Steve Worthington\"', '\"Steve Worthington\"', '\"Steve Worthington\"', '\"steve worthington bedford nh\"', '\"Steve Worthington\"', '\"Steve Worthington\"', '\"Steve Worthington\"', '\"kt\\'s saloon\"', '\"KT\\'s Saloon\"', '\"KT\\'s Saloon\"', '\"Sol Luna Coffee Whiskey\"', '\"Meredith Kimberly\"', '\"ugly sweater shindig\"', '\"Paul Sparrow\"', '\"Robert Wrobel\"', '\"dustin parres\"', '\"Melissa Soifer\"', '\"robert wrobel\"', '\"Brunch Babes StL\"', '\"News And Guts\"', '\"Ever After Expeditions\"', '\"lucy koch\"', '\"News And Guts\"', '\"Naomi Girouard\"', '\"timothy szulc\"', '\"Brunch Babes StL\"', '\"News And Guts\"', '\"Weird And Amazing Everything\"', '\"devin moses\"', '\"Devin Moses\"', '\"Devin Moses\"', '\"Abbie Bates\"', '\"daniel allin\"', '\"daniel allin\"', '\"robert wrobel\"', '\"Melissa Soifer\"', '\"Chelsie Wilson\"', '\"greg carlson\"', '\"daniel allin\"', '\"taberu stl\"', '\"taberu stl sushi classes available\"', '\"michael durda\"', '\"Mike Durda\"', '\"mike durda\"', '\"Mike Derda\"', '\"Mike Derda\"', '\"Mike Durda\"', '\"daniel allin\"', '\"stephen hoefft\"', '\"yard house\"', '\"yardhouse restaurant\"', '\"daniel allin\"', '\"Khai Madali\"', '\"virginia hoang\"', '\"Virginia Hoang\"', '\"Virginia Hoang\"', '\"sarah stacy\"', '\"Mike Durda\"', '\"new years eve\"', '\"New Years Eve Party with Twist of Fate at 21 Rock\"', '\"New Year\\'s Eve \\'Neon Nights\\' Celebration & Fireworks at Winterfest\"', '\"Great Gatsby New Year\\'s Eve Party at Four Seasons Hotel St. Louis\"', '\"zack sparrow\"', '\"Zack Sparrow\"', '\"Zack Sparrow\"', '\"robert wrobel\"', '\"Melissa Soifer\"', '\"David Zane\"', '\"Bill Sander\"', '\"Brunch Babes StL\"', '\"STL Watering hole\"', '\"bill sander\"', '\"Bill Sander\"', '\"the bourbonaire\"', '\"Austin Gilmer\"', '\"Mark Modeer\"', '\"Auhston Midkiff\"', '\"Auhston Midkiff\"', '\"evan gallmeier\"', '\"evan gallimore\"']\n"
     ]
    }
   ],
   "source": [
    "from bs4 import BeautifulSoup\n",
    "\n",
    "def scrape_data(html_file, selectors):\n",
    "  \"\"\"\n",
    "  Scrapes data from an HTML file using given CSS selectors.\n",
    "\n",
    "  Args:\n",
    "    html_file: Path to the HTML file.\n",
    "    selectors: A list of CSS selectors.\n",
    "\n",
    "  Returns:\n",
    "    A list of scraped data, one element per selector.\n",
    "  \"\"\"\n",
    "\n",
    "  with open(html_file, 'r') as f:\n",
    "    html_content = f.read()\n",
    "\n",
    "  soup = BeautifulSoup(html_content, 'html.parser')\n",
    "\n",
    "  scraped_data = []\n",
    "  for selector in selectors:\n",
    "    try:\n",
    "      element = soup.select_one(selector)\n",
    "      if element:\n",
    "        scraped_data.append(element.text.strip()) \n",
    "      else:\n",
    "        scraped_data.append(None) \n",
    "    except Exception as e:\n",
    "      print(f\"Error scraping with selector '{selector}': {e}\")\n",
    "      scraped_data.append(None) \n",
    "\n",
    "  return scraped_data\n",
    "\n",
    "# Example usage:\n",
    "html_file_path = '/Users/robertwrobel/Downloads/Melissa Social Export/facebook-mlsoifer-2025-01-17-ngwa1vpQ/logged_information/search/your_search_history.html' \n",
    "selectors = [\n",
    "    f\"body > div > div > div > div > div._a706 > div:nth-child({i}) > div._2ph_._a6-p > div > div > div > div > div > div\" \n",
    "    for i in range(1, 263)\n",
    "]\n",
    "\n",
    "data1 = scrape_data(html_file_path, selectors)\n",
    "\n",
    "print(data1)\n"
   ]
  },
  {
   "cell_type": "code",
   "execution_count": 48,
   "id": "e524e3b5-d42c-490c-ac27-015f1f6fc0ca",
   "metadata": {},
   "outputs": [
    {
     "name": "stdout",
     "output_type": "stream",
     "text": [
      "['Jun 01, 2024 8:05:01 am', 'Jun 06, 2024 6:08:34 pm', 'Jun 06, 2024 6:08:47 pm', 'Jun 06, 2024 6:09:01 pm', 'Jun 07, 2024 1:48:47 pm', 'Jun 07, 2024 5:53:47 pm', 'Jun 08, 2024 6:45:33 am', 'Jun 08, 2024 2:15:17 pm', 'Jun 08, 2024 2:41:57 pm', 'Jun 08, 2024 2:51:34 pm', 'Jun 08, 2024 4:24:00 pm', 'Jun 08, 2024 4:24:05 pm', 'Jun 08, 2024 4:24:14 pm', 'Jun 08, 2024 6:26:51 pm', 'Jun 08, 2024 6:28:20 pm', 'Jun 09, 2024 8:31:44 am', 'Jun 09, 2024 8:46:30 am', 'Jun 09, 2024 8:47:35 am', 'Jun 10, 2024 4:11:40 am', 'Jun 11, 2024 4:09:53 pm', 'Jun 12, 2024 11:02:24 am', 'Jun 12, 2024 11:05:57 am', 'Jun 12, 2024 11:05:57 am', 'Jun 12, 2024 11:06:17 am', 'Jun 12, 2024 11:06:23 am', 'Jun 12, 2024 12:07:28 pm', 'Jun 12, 2024 12:07:33 pm', 'Jun 12, 2024 12:07:34 pm', 'Jun 12, 2024 12:07:37 pm', 'Jun 12, 2024 12:07:37 pm', 'Jun 12, 2024 12:07:42 pm', 'Jun 12, 2024 12:07:43 pm', 'Jun 12, 2024 6:20:36 pm', 'Jun 12, 2024 6:21:48 pm', 'Jun 15, 2024 4:39:12 am', 'Jun 16, 2024 5:27:55 pm', 'Jun 16, 2024 5:29:16 pm', 'Jun 16, 2024 5:30:00 pm', 'Jun 16, 2024 5:30:18 pm', 'Jun 16, 2024 5:30:54 pm', 'Jun 16, 2024 5:32:08 pm', 'Jun 19, 2024 6:52:03 pm', 'Jun 19, 2024 6:52:12 pm', 'Jun 19, 2024 6:53:29 pm', 'Jun 19, 2024 6:54:47 pm', 'Jun 19, 2024 6:56:14 pm', 'Jun 19, 2024 9:37:19 pm', 'Jun 20, 2024 7:34:04 pm', 'Jun 21, 2024 9:05:18 am', 'Jun 21, 2024 12:42:24 pm', 'Jun 22, 2024 6:38:56 am', 'Jun 22, 2024 6:39:04 am', 'Jun 22, 2024 6:39:41 am', 'Jun 22, 2024 6:39:55 am', 'Jun 23, 2024 11:18:10 am', 'Jun 23, 2024 3:53:11 pm', 'Jun 26, 2024 2:14:18 pm', 'Jun 26, 2024 2:19:31 pm', 'Jun 26, 2024 2:20:19 pm', 'Jun 28, 2024 6:30:49 pm', 'Jul 01, 2024 7:19:26 am', 'Jul 01, 2024 1:54:40 pm', 'Jul 01, 2024 1:55:17 pm', 'Jul 01, 2024 1:55:17 pm', 'Jul 01, 2024 3:57:43 pm', 'Jul 04, 2024 5:24:33 am', 'Jul 04, 2024 3:23:41 pm', 'Jul 06, 2024 10:57:01 am', 'Jul 06, 2024 10:57:09 am', 'Jul 06, 2024 10:57:55 am', 'Jul 06, 2024 11:15:34 pm', 'Jul 06, 2024 11:15:38 pm', 'Jul 06, 2024 11:15:40 pm', 'Jul 06, 2024 11:59:41 pm', 'Jul 09, 2024 9:26:05 am', 'Jul 11, 2024 1:07:08 am', 'Jul 12, 2024 6:57:41 pm', 'Jul 21, 2024 7:56:49 pm', 'Jul 22, 2024 10:13:54 pm', 'Jul 22, 2024 10:13:57 pm', 'Jul 22, 2024 10:14:12 pm', 'Jul 22, 2024 10:15:03 pm', 'Jul 22, 2024 10:15:08 pm', 'Jul 22, 2024 10:15:53 pm', 'Jul 22, 2024 10:15:53 pm', 'Jul 22, 2024 11:20:19 pm', 'Jul 22, 2024 11:20:51 pm', 'Jul 23, 2024 7:10:06 pm', 'Jul 28, 2024 7:14:08 pm', 'Jul 28, 2024 9:56:30 pm', 'Jul 29, 2024 6:09:23 pm', 'Jul 29, 2024 7:24:14 pm', 'Jul 30, 2024 1:05:52 pm', 'Jul 30, 2024 2:32:07 pm', 'Jul 31, 2024 8:14:05 am', 'Aug 02, 2024 4:19:29 pm', 'Aug 02, 2024 4:49:17 pm', 'Aug 02, 2024 4:50:02 pm', 'Aug 02, 2024 4:50:03 pm', 'Aug 02, 2024 5:03:02 pm', 'Aug 02, 2024 5:26:17 pm', 'Aug 02, 2024 5:27:30 pm', 'Aug 02, 2024 7:24:06 pm', 'Aug 02, 2024 7:24:15 pm', 'Aug 02, 2024 7:35:50 pm', 'Aug 02, 2024 10:36:21 pm', 'Aug 02, 2024 10:36:23 pm', 'Aug 02, 2024 10:36:41 pm', 'Aug 02, 2024 10:36:42 pm', 'Aug 02, 2024 10:36:54 pm', 'Aug 02, 2024 10:36:54 pm', 'Aug 02, 2024 10:37:10 pm', 'Aug 02, 2024 10:37:20 pm', 'Aug 03, 2024 9:06:57 pm', 'Aug 04, 2024 9:41:15 am', 'Aug 04, 2024 7:27:20 pm', 'Aug 05, 2024 4:25:02 am', 'Aug 06, 2024 9:42:27 am', 'Aug 07, 2024 9:02:07 pm', 'Aug 07, 2024 9:44:37 pm', 'Aug 10, 2024 9:10:54 pm', 'Aug 11, 2024 7:44:47 am', 'Aug 12, 2024 3:52:04 pm', 'Aug 14, 2024 1:45:46 pm', 'Aug 14, 2024 5:56:52 pm', 'Aug 14, 2024 5:57:51 pm', 'Aug 16, 2024 11:51:12 pm', 'Aug 22, 2024 7:57:36 pm', 'Aug 22, 2024 7:57:36 pm', 'Aug 24, 2024 2:08:10 pm', 'Aug 24, 2024 3:05:39 pm', 'Aug 24, 2024 3:05:48 pm', 'Aug 24, 2024 3:06:17 pm', 'Aug 24, 2024 9:40:17 pm', 'Aug 26, 2024 5:19:20 pm', 'Aug 26, 2024 8:38:59 pm', 'Aug 27, 2024 4:01:33 pm', 'Aug 27, 2024 7:16:17 pm', 'Aug 27, 2024 7:21:03 pm', 'Aug 28, 2024 4:06:55 pm', 'Aug 30, 2024 5:11:23 pm', 'Aug 30, 2024 5:11:57 pm', 'Aug 30, 2024 5:14:39 pm', 'Aug 31, 2024 8:34:15 am', 'Sep 02, 2024 7:05:32 am', 'Sep 02, 2024 7:07:11 am', 'Sep 02, 2024 5:31:12 pm', 'Sep 03, 2024 8:30:26 pm', 'Sep 03, 2024 8:31:05 pm', 'Sep 04, 2024 8:03:10 pm', 'Sep 04, 2024 8:05:26 pm', 'Sep 04, 2024 8:05:26 pm', 'Sep 17, 2024 3:51:05 pm', 'Sep 17, 2024 3:51:46 pm', 'Sep 17, 2024 5:38:25 pm', 'Sep 17, 2024 6:48:35 pm', 'Sep 18, 2024 4:24:05 pm', 'Sep 21, 2024 8:29:28 am', 'Sep 22, 2024 10:27:35 pm', 'Sep 22, 2024 10:27:51 pm', 'Sep 23, 2024 3:13:28 pm', 'Sep 23, 2024 3:13:28 pm', 'Sep 24, 2024 3:07:04 pm', 'Sep 24, 2024 3:07:08 pm', 'Sep 24, 2024 3:07:22 pm', 'Sep 24, 2024 3:07:28 pm', 'Sep 27, 2024 2:45:19 pm', 'Sep 27, 2024 2:48:18 pm', 'Sep 27, 2024 2:48:18 pm', 'Sep 27, 2024 2:49:28 pm', 'Sep 27, 2024 2:50:39 pm', 'Sep 27, 2024 2:50:39 pm', 'Sep 27, 2024 2:50:39 pm', 'Sep 28, 2024 12:17:07 pm', 'Sep 28, 2024 5:37:48 pm', 'Sep 28, 2024 5:41:08 pm', 'Sep 28, 2024 5:45:03 pm', 'Sep 29, 2024 1:27:39 pm', 'Sep 29, 2024 4:56:01 pm', 'Sep 29, 2024 10:41:41 pm', 'Sep 29, 2024 10:55:15 pm', 'Oct 09, 2024 7:15:04 pm', 'Oct 09, 2024 7:15:15 pm', 'Oct 09, 2024 7:16:03 pm', 'Oct 09, 2024 7:16:16 pm', 'Oct 09, 2024 7:16:32 pm', 'Oct 09, 2024 7:16:43 pm', 'Oct 09, 2024 7:16:43 pm', 'Oct 09, 2024 7:16:45 pm', 'Oct 13, 2024 3:23:59 pm', 'Oct 13, 2024 3:24:05 pm', 'Oct 13, 2024 3:24:09 pm', 'Oct 13, 2024 10:21:04 pm', 'Oct 21, 2024 8:52:11 am', 'Oct 22, 2024 2:13:44 pm', 'Oct 22, 2024 9:57:13 pm', 'Oct 23, 2024 2:43:24 pm', 'Oct 25, 2024 1:12:18 pm', 'Oct 26, 2024 5:13:19 pm', 'Oct 26, 2024 5:13:57 pm', 'Nov 02, 2024 9:40:28 pm', 'Nov 06, 2024 2:35:46 pm', 'Nov 08, 2024 1:40:25 pm', 'Nov 09, 2024 8:17:22 am', 'Nov 12, 2024 1:48:21 pm', 'Nov 15, 2024 8:02:15 pm', 'Nov 15, 2024 10:37:24 pm', 'Nov 16, 2024 11:57:51 am', 'Nov 22, 2024 9:24:20 am', 'Nov 24, 2024 12:38:10 pm', 'Nov 29, 2024 5:22:05 pm', 'Nov 29, 2024 5:22:21 pm', 'Nov 29, 2024 5:22:31 pm', 'Dec 04, 2024 5:17:02 pm', 'Dec 04, 2024 5:19:24 pm', 'Dec 04, 2024 5:21:21 pm', 'Dec 06, 2024 1:06:57 am', 'Dec 06, 2024 1:07:54 am', 'Dec 06, 2024 1:11:20 am', 'Dec 06, 2024 9:32:32 am', 'Dec 06, 2024 11:13:16 am', 'Dec 07, 2024 1:33:24 pm', 'Dec 07, 2024 1:33:33 pm', 'Dec 07, 2024 7:21:11 pm', 'Dec 07, 2024 7:21:18 pm', 'Dec 07, 2024 7:21:27 pm', 'Dec 07, 2024 7:21:33 pm', 'Dec 07, 2024 7:22:00 pm', 'Dec 07, 2024 7:22:00 pm', 'Dec 10, 2024 3:28:34 am', 'Dec 13, 2024 8:59:39 pm', 'Dec 17, 2024 2:11:51 pm', 'Dec 17, 2024 2:12:07 pm', 'Dec 17, 2024 2:19:41 pm', 'Dec 17, 2024 2:20:04 pm', 'Dec 17, 2024 2:21:16 pm', 'Dec 17, 2024 2:21:19 pm', 'Dec 17, 2024 2:21:37 pm', 'Dec 18, 2024 1:07:30 pm', 'Dec 23, 2024 1:33:50 pm', 'Dec 24, 2024 2:29:01 pm', 'Dec 24, 2024 2:29:28 pm', 'Dec 24, 2024 2:30:30 pm', 'Dec 24, 2024 2:31:09 pm', 'Dec 25, 2024 12:54:39 pm', 'Dec 25, 2024 12:55:23 pm', 'Dec 25, 2024 12:55:34 pm', 'Dec 26, 2024 3:05:43 am', 'Dec 26, 2024 3:07:36 am', 'Dec 29, 2024 11:06:49 am', 'Dec 29, 2024 11:07:11 am', 'Jan 04, 2025 11:30:36 am', 'Jan 04, 2025 11:42:34 pm', 'Jan 06, 2025 7:46:59 pm', 'Jan 06, 2025 7:47:37 pm', 'Jan 07, 2025 11:20:13 pm', 'Jan 08, 2025 3:00:17 pm', 'Jan 08, 2025 3:00:17 pm', 'Jan 12, 2025 8:08:43 pm', 'Jan 13, 2025 6:29:32 pm', 'Jan 15, 2025 3:55:03 pm', 'Jan 15, 2025 3:55:24 pm']\n"
     ]
    }
   ],
   "source": [
    "from bs4 import BeautifulSoup\n",
    "\n",
    "def scrape_data(html_file, selectors):\n",
    "  \"\"\"\n",
    "  Scrapes data from an HTML file using given CSS selectors.\n",
    "\n",
    "  Args:\n",
    "    html_file: Path to the HTML file.\n",
    "    selectors: A list of CSS selectors.\n",
    "\n",
    "  Returns:\n",
    "    A list of scraped data, one element per selector.\n",
    "  \"\"\"\n",
    "\n",
    "  with open(html_file, 'r') as f:\n",
    "    html_content = f.read()\n",
    "\n",
    "  soup = BeautifulSoup(html_content, 'html.parser')\n",
    "\n",
    "  scraped_data = []\n",
    "  for selector in selectors:\n",
    "    try:\n",
    "      element = soup.select_one(selector)\n",
    "      if element:\n",
    "        scraped_data.append(element.text.strip()) \n",
    "      else:\n",
    "        scraped_data.append(None) \n",
    "    except Exception as e:\n",
    "      print(f\"Error scraping with selector '{selector}': {e}\")\n",
    "      scraped_data.append(None) \n",
    "\n",
    "  return scraped_data\n",
    "\n",
    "# Example usage:\n",
    "html_file_path = '/Users/robertwrobel/Downloads/Melissa Social Export/facebook-mlsoifer-2025-01-17-ngwa1vpQ/logged_information/search/your_search_history.html' \n",
    "selectors = [\n",
    "    f\"body > div > div > div > div > div._a706 > div:nth-child({i}) > div._3-94._a6-o > a > div\"\n",
    "    for i in range(1, 263)\n",
    "]\n",
    "\n",
    "data2 = scrape_data(html_file_path, selectors)\n",
    "\n",
    "print(data2)\n",
    "\n",
    "\n"
   ]
  },
  {
   "cell_type": "code",
   "execution_count": 53,
   "id": "81f10a30-2d5c-4e38-86a7-02c256db4f9c",
   "metadata": {},
   "outputs": [],
   "source": [
    "import pandas as pd\n",
    "\n",
    "df = pd.DataFrame({'Column1': data1, 'Column2': data2}) \n",
    "df.to_csv('searches_by_date.csv', index=False)"
   ]
  }
 ],
 "metadata": {
  "kernelspec": {
   "display_name": "Python [conda env:base] *",
   "language": "python",
   "name": "conda-base-py"
  },
  "language_info": {
   "codemirror_mode": {
    "name": "ipython",
    "version": 3
   },
   "file_extension": ".py",
   "mimetype": "text/x-python",
   "name": "python",
   "nbconvert_exporter": "python",
   "pygments_lexer": "ipython3",
   "version": "3.12.7"
  }
 },
 "nbformat": 4,
 "nbformat_minor": 5
}
