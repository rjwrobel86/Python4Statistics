{
 "cells": [
  {
   "cell_type": "markdown",
   "id": "71539667-2126-44a8-8ec4-2ca812f10041",
   "metadata": {},
   "source": [
    "# Resampling Time Series Data"
   ]
  },
  {
   "cell_type": "code",
   "execution_count": 63,
   "id": "b0844b11-8594-45cf-9a80-8c09cc43ae89",
   "metadata": {
    "tags": []
   },
   "outputs": [
    {
     "data": {
      "text/html": [
       "<div>\n",
       "<style scoped>\n",
       "    .dataframe tbody tr th:only-of-type {\n",
       "        vertical-align: middle;\n",
       "    }\n",
       "\n",
       "    .dataframe tbody tr th {\n",
       "        vertical-align: top;\n",
       "    }\n",
       "\n",
       "    .dataframe thead th {\n",
       "        text-align: right;\n",
       "    }\n",
       "</style>\n",
       "<table border=\"1\" class=\"dataframe\">\n",
       "  <thead>\n",
       "    <tr style=\"text-align: right;\">\n",
       "      <th></th>\n",
       "      <th>demand_index</th>\n",
       "    </tr>\n",
       "    <tr>\n",
       "      <th>Week</th>\n",
       "      <th></th>\n",
       "    </tr>\n",
       "  </thead>\n",
       "  <tbody>\n",
       "    <tr>\n",
       "      <th>2018-12-30</th>\n",
       "      <td>125</td>\n",
       "    </tr>\n",
       "    <tr>\n",
       "      <th>2019-01-06</th>\n",
       "      <td>108</td>\n",
       "    </tr>\n",
       "    <tr>\n",
       "      <th>2019-01-13</th>\n",
       "      <td>153</td>\n",
       "    </tr>\n",
       "    <tr>\n",
       "      <th>2019-01-20</th>\n",
       "      <td>153</td>\n",
       "    </tr>\n",
       "    <tr>\n",
       "      <th>2019-01-27</th>\n",
       "      <td>173</td>\n",
       "    </tr>\n",
       "    <tr>\n",
       "      <th>2019-02-03</th>\n",
       "      <td>195</td>\n",
       "    </tr>\n",
       "    <tr>\n",
       "      <th>2019-02-10</th>\n",
       "      <td>170</td>\n",
       "    </tr>\n",
       "    <tr>\n",
       "      <th>2019-02-17</th>\n",
       "      <td>213</td>\n",
       "    </tr>\n",
       "    <tr>\n",
       "      <th>2019-02-24</th>\n",
       "      <td>216</td>\n",
       "    </tr>\n",
       "    <tr>\n",
       "      <th>2019-03-03</th>\n",
       "      <td>181</td>\n",
       "    </tr>\n",
       "  </tbody>\n",
       "</table>\n",
       "</div>"
      ],
      "text/plain": [
       "            demand_index\n",
       "Week                    \n",
       "2018-12-30           125\n",
       "2019-01-06           108\n",
       "2019-01-13           153\n",
       "2019-01-20           153\n",
       "2019-01-27           173\n",
       "2019-02-03           195\n",
       "2019-02-10           170\n",
       "2019-02-17           213\n",
       "2019-02-24           216\n",
       "2019-03-03           181"
      ]
     },
     "execution_count": 63,
     "metadata": {},
     "output_type": "execute_result"
    }
   ],
   "source": [
    "import pandas as pd\n",
    "\n",
    "df = pd.read_csv('../data/demand_index.csv', index_col=['Week'], date_format='%m/%d/%y')\n",
    "df.head(10)"
   ]
  },
  {
   "cell_type": "code",
   "execution_count": 87,
   "id": "eba6905e-c77c-46e4-be7d-cbf52850174a",
   "metadata": {
    "tags": []
   },
   "outputs": [
    {
     "name": "stdout",
     "output_type": "stream",
     "text": [
      "            demand_index\n",
      "Week                    \n",
      "2018-12-31        125.00\n",
      "2019-01-31        146.75\n",
      "2019-02-28        198.50\n",
      "2019-03-31        175.00\n",
      "2019-04-30        168.00\n",
      "            demand_index\n",
      "Week                    \n",
      "2018-12-31           125\n",
      "2019-12-31          9121\n",
      "2020-12-31          8790\n",
      "2021-12-31          8873\n",
      "2022-12-31          7660\n"
     ]
    }
   ],
   "source": [
    "#Resampling\n",
    "#D:Day, W:Week, M:Month, Q:Quarter, A:Year\n",
    "#mean(), sum(), min(), max()\n",
    "\n",
    "monthly_average = df.resample('M').mean()\n",
    "print(monthly_average.head())\n",
    "annual_total = df.resample('A').sum()\n",
    "print(annual_total.head())"
   ]
  },
  {
   "cell_type": "markdown",
   "id": "4aab7922-0929-4991-9cb5-ead6e501320d",
   "metadata": {},
   "source": [
    "## Date/Time Formatting Guide\n",
    "Year:\n",
    "\n",
    "%Y: Full year (2024)\n",
    "%y: Two digit year (24)\n",
    "\n",
    "Month:\n",
    "%m: Month as zero-padded decimal number (01-12)\n",
    "%b: Abbreviated month name (Jan-Dec)\n",
    "%B: Full month name (January-December)\n",
    "\n",
    "Day:\n",
    "%d: Day of the month as zero-padded decimal number (01-31)\n",
    "%A: Full weekday name (Monday-Sunday)\n",
    "%a: Abbreviated weekday name (Mon-Sun)\n",
    "\n",
    "Time:\n",
    "%H: Hour in 24-hour format (00-23)\n",
    "%I: Hour in 12-hour format (01-12)\n",
    "%M: Minute as zero-padded decimal number (00-59)\n",
    "%S: Second as zero-padded decimal number (00-59)\n",
    "%p: Meridian indicator (AM or PM)\n",
    "\n",
    "Examples:\n",
    "\"%Y-%m-%d\": Year-month-day format (2024-06-10)\n",
    "\"%d/%m/%Y\": Day-month-year format (10/06/2024)\n",
    "\"%A, %B %d, %Y\": Full weekday, full month name, day, year (Monday, June 10, 2024)\n",
    "\"%H:%M:%S\": Hour in 24-hour format, minute, second (11:16:23)\n",
    "\n",
    "Python strftime function: https://docs.python.org/3/library/datetime.html\n",
    "\n",
    "pandas to_datetime function with format strings: https://pandas.pydata.org/docs/reference/api/pandas.to_datetime.html"
   ]
  },
  {
   "cell_type": "code",
   "execution_count": 69,
   "id": "33270e87-2df0-4962-bf95-44e66bd1e3b0",
   "metadata": {
    "tags": []
   },
   "outputs": [],
   "source": [
    "#Selecting / Slicing by Date\n",
    "data_on_date = df.loc['2019-01-06']\n",
    "data_in_range = df.loc['2019-01-06':'2019-01-20']"
   ]
  },
  {
   "cell_type": "code",
   "execution_count": 83,
   "id": "a3bad390-817d-4f56-a46f-eb79ce67cb66",
   "metadata": {
    "tags": []
   },
   "outputs": [
    {
     "name": "stdout",
     "output_type": "stream",
     "text": [
      "            demand_index\n",
      "Week                    \n",
      "2018-12-31        125.00\n",
      "2019-01-31        146.75\n",
      "2019-02-28        198.50\n",
      "2019-03-31        175.00\n",
      "2019-04-30        168.00\n",
      "            demand_index\n",
      "Week                    \n",
      "2018-12-31           125\n",
      "2019-12-31          9121\n",
      "2020-12-31          8790\n",
      "2021-12-31          8873\n",
      "2022-12-31          7660\n",
      "2023-12-31          6156\n"
     ]
    }
   ],
   "source": [
    "#Resampling\n",
    "#D:Day, W:Week, M:Month, Q:Quarter, A:Year\n",
    "#mean(), sum(), min(), max()\n",
    "\n",
    "\n",
    "monthly_average = df.resample('M').mean()\n",
    "print(monthly_average.head(5))\n",
    "annual_total = df.resample('A').sum()\n",
    "print(annual_total)"
   ]
  },
  {
   "cell_type": "code",
   "execution_count": 69,
   "id": "cefd3ceb-872a-401d-a3cc-3a281bdce89e",
   "metadata": {
    "tags": []
   },
   "outputs": [],
   "source": [
    "#Selecting / Slicing by Date\n",
    "data_on_date = df.loc['2019-01-06']\n",
    "data_in_range = df.loc['2019-01-06':'2019-01-20']"
   ]
  }
 ],
 "metadata": {
  "kernelspec": {
   "display_name": "Python 3 (ipykernel)",
   "language": "python",
   "name": "python3"
  },
  "language_info": {
   "codemirror_mode": {
    "name": "ipython",
    "version": 3
   },
   "file_extension": ".py",
   "mimetype": "text/x-python",
   "name": "python",
   "nbconvert_exporter": "python",
   "pygments_lexer": "ipython3",
   "version": "3.11.0"
  }
 },
 "nbformat": 4,
 "nbformat_minor": 5
}
