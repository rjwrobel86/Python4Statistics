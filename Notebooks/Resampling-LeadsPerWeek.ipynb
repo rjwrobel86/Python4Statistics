{
 "cells": [
  {
   "cell_type": "code",
   "execution_count": 29,
   "id": "21dbb788-ca34-48f1-ab5e-c879a7919175",
   "metadata": {},
   "outputs": [
    {
     "data": {
      "text/html": [
       "<div>\n",
       "<style scoped>\n",
       "    .dataframe tbody tr th:only-of-type {\n",
       "        vertical-align: middle;\n",
       "    }\n",
       "\n",
       "    .dataframe tbody tr th {\n",
       "        vertical-align: top;\n",
       "    }\n",
       "\n",
       "    .dataframe thead th {\n",
       "        text-align: right;\n",
       "    }\n",
       "</style>\n",
       "<table border=\"1\" class=\"dataframe\">\n",
       "  <thead>\n",
       "    <tr style=\"text-align: right;\">\n",
       "      <th></th>\n",
       "      <th>Lead Source</th>\n",
       "      <th>Lead Source Group</th>\n",
       "      <th>Lead Origination Date</th>\n",
       "    </tr>\n",
       "  </thead>\n",
       "  <tbody>\n",
       "    <tr>\n",
       "      <th>0</th>\n",
       "      <td>Google Ads - Bob</td>\n",
       "      <td>Google Ads</td>\n",
       "      <td>1/1/23 0:47</td>\n",
       "    </tr>\n",
       "    <tr>\n",
       "      <th>1</th>\n",
       "      <td>GM 3rd Party</td>\n",
       "      <td>GM 3rd Party</td>\n",
       "      <td>1/1/23 5:59</td>\n",
       "    </tr>\n",
       "    <tr>\n",
       "      <th>2</th>\n",
       "      <td>Cyberlead Inc</td>\n",
       "      <td>Terry Sources</td>\n",
       "      <td>1/1/23 8:48</td>\n",
       "    </tr>\n",
       "    <tr>\n",
       "      <th>3</th>\n",
       "      <td>GM 3rd Party</td>\n",
       "      <td>GM 3rd Party</td>\n",
       "      <td>1/1/23 11:13</td>\n",
       "    </tr>\n",
       "    <tr>\n",
       "      <th>4</th>\n",
       "      <td>Truecar/Sams Club</td>\n",
       "      <td>Truecar</td>\n",
       "      <td>1/1/23 11:56</td>\n",
       "    </tr>\n",
       "  </tbody>\n",
       "</table>\n",
       "</div>"
      ],
      "text/plain": [
       "         Lead Source Lead Source Group Lead Origination Date\n",
       "0   Google Ads - Bob        Google Ads           1/1/23 0:47\n",
       "1       GM 3rd Party      GM 3rd Party           1/1/23 5:59\n",
       "2      Cyberlead Inc     Terry Sources           1/1/23 8:48\n",
       "3       GM 3rd Party      GM 3rd Party          1/1/23 11:13\n",
       "4  Truecar/Sams Club           Truecar          1/1/23 11:56"
      ]
     },
     "execution_count": 29,
     "metadata": {},
     "output_type": "execute_result"
    }
   ],
   "source": [
    "import pandas as pd\n",
    "import matplotlib.pyplot as plt\n",
    "\n",
    "df = pd.read_csv('/Users/robertwrobel/Desktop/vince.csv') \n",
    "df.head()"
   ]
  },
  {
   "cell_type": "code",
   "execution_count": null,
   "id": "a87c1bce-7df4-4364-a531-fcadfdf91e2b",
   "metadata": {},
   "outputs": [],
   "source": [
    "df['Lead Origination Date'] = pd.to_datetime(df['Lead Origination Date'])\n",
    "df.set_index('Lead Origination Date', inplace=True)"
   ]
  },
  {
   "cell_type": "code",
   "execution_count": null,
   "id": "1692240a-9fa9-4682-9050-0a9b4343199c",
   "metadata": {},
   "outputs": [],
   "source": [
    "weekly_counts = df.resample('W').size()"
   ]
  },
  {
   "cell_type": "code",
   "execution_count": 39,
   "id": "6f5007f1-f263-43ff-8c9c-417bde425394",
   "metadata": {},
   "outputs": [
    {
     "name": "stdout",
     "output_type": "stream",
     "text": [
      "Lead Origination Date\n",
      "2023-01-01     44\n",
      "2023-01-08    533\n",
      "2023-01-15    527\n",
      "2023-01-22    442\n",
      "2023-01-29    621\n",
      "             ... \n",
      "2024-08-25    628\n",
      "2024-09-01    686\n",
      "2024-09-08    648\n",
      "2024-09-15    560\n",
      "2024-09-22     55\n",
      "Freq: W-SUN, Length: 91, dtype: int64\n",
      "629.7802197802198\n",
      "264.1344271472305\n"
     ]
    },
    {
     "data": {
      "text/plain": [
       "(array([44., 46.,  0.,  0.,  1.]),\n",
       " array([  44. ,  599.4, 1154.8, 1710.2, 2265.6, 2821. ]),\n",
       " <BarContainer object of 5 artists>)"
      ]
     },
     "execution_count": 39,
     "metadata": {},
     "output_type": "execute_result"
    },
    {
     "data": {
      "image/png": "[encoded data removed]",
      "text/plain": [
       "<Figure size 640x480 with 1 Axes>"
      ]
     },
     "metadata": {},
     "output_type": "display_data"
    }
   ],
   "source": [
    "print(weekly_counts)\n",
    "weekly_counts.to_csv('weekly_counts.csv', index=False)\n",
    "print(weekly_counts.mean())\n",
    "print(weekly_counts.std())\n",
    "plt.hist(weekly_counts, bins=5)"
   ]
  }
 ],
 "metadata": {
  "kernelspec": {
   "display_name": "Python 3 (ipykernel)",
   "language": "python",
   "name": "python3"
  },
  "language_info": {
   "codemirror_mode": {
    "name": "ipython",
    "version": 3
   },
   "file_extension": ".py",
   "mimetype": "text/x-python",
   "name": "python",
   "nbconvert_exporter": "python",
   "pygments_lexer": "ipython3",
   "version": "3.11.0"
  }
 },
 "nbformat": 4,
 "nbformat_minor": 5
}
