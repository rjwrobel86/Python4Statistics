{
 "cells": [
  {
   "cell_type": "code",
   "execution_count": 64,
   "id": "21dbb788-ca34-48f1-ab5e-c879a7919175",
   "metadata": {},
   "outputs": [],
   "source": [
    "import pandas as pd\n",
    "import matplotlib.pyplot as plt"
   ]
  },
  {
   "cell_type": "code",
   "execution_count": 94,
   "id": "67827399-2491-46a3-8da6-54e6647b7ce4",
   "metadata": {},
   "outputs": [
    {
     "data": {
      "text/html": [
       "<div>\n",
       "<style scoped>\n",
       "    .dataframe tbody tr th:only-of-type {\n",
       "        vertical-align: middle;\n",
       "    }\n",
       "\n",
       "    .dataframe tbody tr th {\n",
       "        vertical-align: top;\n",
       "    }\n",
       "\n",
       "    .dataframe thead th {\n",
       "        text-align: right;\n",
       "    }\n",
       "</style>\n",
       "<table border=\"1\" class=\"dataframe\">\n",
       "  <thead>\n",
       "    <tr style=\"text-align: right;\">\n",
       "      <th></th>\n",
       "      <th>Lead Source</th>\n",
       "      <th>Lead Source Group</th>\n",
       "      <th>BD Agent</th>\n",
       "      <th>Lead Origination Date</th>\n",
       "    </tr>\n",
       "  </thead>\n",
       "  <tbody>\n",
       "    <tr>\n",
       "      <th>0</th>\n",
       "      <td>Smart Pop-In Solution - Chevrolet</td>\n",
       "      <td>Smart?</td>\n",
       "      <td>Taryn Yarbrough</td>\n",
       "      <td>09/01/2023 03:31 AM</td>\n",
       "    </tr>\n",
       "    <tr>\n",
       "      <th>1</th>\n",
       "      <td>Sincro - Price Watch Onesource - Used</td>\n",
       "      <td>Website - Price Watch</td>\n",
       "      <td>Taryn Yarbrough</td>\n",
       "      <td>09/01/2023 09:34 AM</td>\n",
       "    </tr>\n",
       "    <tr>\n",
       "      <th>2</th>\n",
       "      <td>Cyberlead Inc</td>\n",
       "      <td>Terry Sources</td>\n",
       "      <td>Katie Graham</td>\n",
       "      <td>09/01/2023 10:30 AM</td>\n",
       "    </tr>\n",
       "    <tr>\n",
       "      <th>3</th>\n",
       "      <td>EDMUNDS TRADE IN</td>\n",
       "      <td>Edumunds</td>\n",
       "      <td>Katie Graham</td>\n",
       "      <td>09/01/2023 11:02 AM</td>\n",
       "    </tr>\n",
       "    <tr>\n",
       "      <th>4</th>\n",
       "      <td>Cyberlead Inc</td>\n",
       "      <td>Terry Sources</td>\n",
       "      <td>Taryn Yarbrough</td>\n",
       "      <td>09/01/2023 11:03 AM</td>\n",
       "    </tr>\n",
       "  </tbody>\n",
       "</table>\n",
       "</div>"
      ],
      "text/plain": [
       "                             Lead Source       Lead Source Group  \\\n",
       "0      Smart Pop-In Solution - Chevrolet                  Smart?   \n",
       "1  Sincro - Price Watch Onesource - Used  Website - Price Watch    \n",
       "2                          Cyberlead Inc           Terry Sources   \n",
       "3                       EDMUNDS TRADE IN                Edumunds   \n",
       "4                          Cyberlead Inc           Terry Sources   \n",
       "\n",
       "          BD Agent Lead Origination Date  \n",
       "0  Taryn Yarbrough   09/01/2023 03:31 AM  \n",
       "1  Taryn Yarbrough   09/01/2023 09:34 AM  \n",
       "2     Katie Graham   09/01/2023 10:30 AM  \n",
       "3     Katie Graham   09/01/2023 11:02 AM  \n",
       "4  Taryn Yarbrough   09/01/2023 11:03 AM  "
      ]
     },
     "execution_count": 94,
     "metadata": {},
     "output_type": "execute_result"
    }
   ],
   "source": [
    "df_L = pd.read_csv('/Users/robertwrobel/Downloads/leads.csv') \n",
    "df_L['Lead Origination Date'] = pd.to_datetime(df_L['Lead Origination Date'])\n",
    "df_L.set_index('Lead Origination Date', inplace=True)\n",
    "weekly_lead_counts = df_L.resample('W').size()\n",
    "weekly_lead_counts.to_csv('weekly_leads.csv')"
   ]
  },
  {
   "cell_type": "code",
   "execution_count": 121,
   "id": "1f866fbe-b521-4365-8723-33b72242f234",
   "metadata": {},
   "outputs": [
    {
     "data": {
      "text/html": [
       "<div>\n",
       "<style scoped>\n",
       "    .dataframe tbody tr th:only-of-type {\n",
       "        vertical-align: middle;\n",
       "    }\n",
       "\n",
       "    .dataframe tbody tr th {\n",
       "        vertical-align: top;\n",
       "    }\n",
       "\n",
       "    .dataframe thead th {\n",
       "        text-align: right;\n",
       "    }\n",
       "</style>\n",
       "<table border=\"1\" class=\"dataframe\">\n",
       "  <thead>\n",
       "    <tr style=\"text-align: right;\">\n",
       "      <th></th>\n",
       "      <th>Created User</th>\n",
       "      <th>Created Date</th>\n",
       "      <th>Appointment Type</th>\n",
       "    </tr>\n",
       "  </thead>\n",
       "  <tbody>\n",
       "    <tr>\n",
       "      <th>0</th>\n",
       "      <td>Vincent Webb</td>\n",
       "      <td>12/22/2023</td>\n",
       "      <td>Meeting</td>\n",
       "    </tr>\n",
       "    <tr>\n",
       "      <th>1</th>\n",
       "      <td>Katie Graham</td>\n",
       "      <td>12/18/2023</td>\n",
       "      <td>Meeting</td>\n",
       "    </tr>\n",
       "    <tr>\n",
       "      <th>2</th>\n",
       "      <td>Chris Louth</td>\n",
       "      <td>5/28/2024</td>\n",
       "      <td>Meeting</td>\n",
       "    </tr>\n",
       "    <tr>\n",
       "      <th>3</th>\n",
       "      <td>Amber Dunn</td>\n",
       "      <td>3/15/2024</td>\n",
       "      <td>Other</td>\n",
       "    </tr>\n",
       "    <tr>\n",
       "      <th>4</th>\n",
       "      <td>Marcy Yarbrough</td>\n",
       "      <td>10/27/2023</td>\n",
       "      <td>Meeting</td>\n",
       "    </tr>\n",
       "  </tbody>\n",
       "</table>\n",
       "</div>"
      ],
      "text/plain": [
       "      Created User Created Date Appointment Type\n",
       "0     Vincent Webb   12/22/2023          Meeting\n",
       "1     Katie Graham   12/18/2023          Meeting\n",
       "2      Chris Louth    5/28/2024          Meeting\n",
       "3       Amber Dunn    3/15/2024            Other\n",
       "4  Marcy Yarbrough   10/27/2023          Meeting"
      ]
     },
     "execution_count": 121,
     "metadata": {},
     "output_type": "execute_result"
    }
   ],
   "source": [
    "df_A = pd.read_csv('/Users/robertwrobel/Downloads/appts.csv') \n",
    "df_A['Created Date'] = pd.to_datetime(df_A['Created Date'])\n",
    "df_A.set_index('Created Date', inplace=True)\n",
    "weekly_appt_counts = df_A.resample('W').size()\n",
    "type(weekly_appt_counts)"
   ]
  },
  {
   "cell_type": "code",
   "execution_count": 141,
   "id": "d385a32a-8761-4f2d-96d1-f9f7dc6b33e8",
   "metadata": {},
   "outputs": [
    {
     "data": {
      "text/html": [
       "<div>\n",
       "<style scoped>\n",
       "    .dataframe tbody tr th:only-of-type {\n",
       "        vertical-align: middle;\n",
       "    }\n",
       "\n",
       "    .dataframe tbody tr th {\n",
       "        vertical-align: top;\n",
       "    }\n",
       "\n",
       "    .dataframe thead th {\n",
       "        text-align: right;\n",
       "    }\n",
       "</style>\n",
       "<table border=\"1\" class=\"dataframe\">\n",
       "  <thead>\n",
       "    <tr style=\"text-align: right;\">\n",
       "      <th></th>\n",
       "      <th>0</th>\n",
       "      <th>1</th>\n",
       "      <th>apptsperlead</th>\n",
       "    </tr>\n",
       "  </thead>\n",
       "  <tbody>\n",
       "    <tr>\n",
       "      <th>2023-09-03</th>\n",
       "      <td>9</td>\n",
       "      <td>194</td>\n",
       "      <td>0.046392</td>\n",
       "    </tr>\n",
       "    <tr>\n",
       "      <th>2023-09-10</th>\n",
       "      <td>25</td>\n",
       "      <td>558</td>\n",
       "      <td>0.044803</td>\n",
       "    </tr>\n",
       "    <tr>\n",
       "      <th>2023-09-17</th>\n",
       "      <td>34</td>\n",
       "      <td>579</td>\n",
       "      <td>0.058722</td>\n",
       "    </tr>\n",
       "    <tr>\n",
       "      <th>2023-09-24</th>\n",
       "      <td>34</td>\n",
       "      <td>585</td>\n",
       "      <td>0.058120</td>\n",
       "    </tr>\n",
       "    <tr>\n",
       "      <th>2023-10-01</th>\n",
       "      <td>21</td>\n",
       "      <td>500</td>\n",
       "      <td>0.042000</td>\n",
       "    </tr>\n",
       "  </tbody>\n",
       "</table>\n",
       "</div>"
      ],
      "text/plain": [
       "             0    1  apptsperlead\n",
       "2023-09-03   9  194      0.046392\n",
       "2023-09-10  25  558      0.044803\n",
       "2023-09-17  34  579      0.058722\n",
       "2023-09-24  34  585      0.058120\n",
       "2023-10-01  21  500      0.042000"
      ]
     },
     "execution_count": 141,
     "metadata": {},
     "output_type": "execute_result"
    }
   ],
   "source": [
    "#merged_df = pd.merge(df_L, df_A, on='ID', how='inner')\n",
    "df = pd.concat([weekly_appt_counts, weekly_lead_counts], axis=1)\n",
    "df['apptsperlead'] = df[0] / df[1]"
   ]
  },
  {
   "cell_type": "code",
   "execution_count": 143,
   "id": "8b2f72d0-391b-465e-b4f3-b74585217c80",
   "metadata": {},
   "outputs": [],
   "source": [
    "df.to_csv('apptsperlead.csv')"
   ]
  },
  {
   "cell_type": "code",
   "execution_count": 34,
   "id": "6f5007f1-f263-43ff-8c9c-417bde425394",
   "metadata": {},
   "outputs": [
    {
     "name": "stdout",
     "output_type": "stream",
     "text": [
      "Lead Origination Date\n",
      "2023-09-03    194\n",
      "2023-09-10    558\n",
      "2023-09-17    579\n",
      "2023-09-24    585\n",
      "2023-10-01    500\n",
      "2023-10-08    624\n",
      "2023-10-15    525\n",
      "2023-10-22    501\n",
      "2023-10-29    531\n",
      "2023-11-05    467\n",
      "2023-11-12    466\n",
      "2023-11-19    534\n",
      "2023-11-26    379\n",
      "2023-12-03    473\n",
      "2023-12-10    458\n",
      "2023-12-17    599\n",
      "2023-12-24    540\n",
      "2023-12-31    603\n",
      "2024-01-07    689\n",
      "2024-01-14    754\n",
      "2024-01-21    813\n",
      "2024-01-28    666\n",
      "2024-02-04    753\n",
      "2024-02-11    707\n",
      "2024-02-18    619\n",
      "2024-02-25    738\n",
      "2024-03-03    739\n",
      "2024-03-10    838\n",
      "2024-03-17    775\n",
      "2024-03-24    647\n",
      "2024-03-31    737\n",
      "2024-04-07    710\n",
      "2024-04-14    635\n",
      "2024-04-21    722\n",
      "2024-04-28    750\n",
      "2024-05-05    645\n",
      "2024-05-12    762\n",
      "2024-05-19    805\n",
      "2024-05-26    661\n",
      "2024-06-02    702\n",
      "2024-06-09    702\n",
      "2024-06-16    698\n",
      "2024-06-23    644\n",
      "2024-06-30    589\n",
      "2024-07-07    536\n",
      "2024-07-14    782\n",
      "2024-07-21    702\n",
      "2024-07-28    782\n",
      "2024-08-04    731\n",
      "2024-08-11    669\n",
      "2024-08-18    627\n",
      "2024-08-25    628\n",
      "2024-09-01    686\n",
      "2024-09-08    648\n",
      "2024-09-15    560\n",
      "2024-09-22    549\n",
      "2024-09-29    423\n",
      "Freq: W-SUN, dtype: int64\n",
      "630.5087719298245\n",
      "122.73070444895336\n"
     ]
    },
    {
     "data": {
      "text/plain": [
       "(array([ 1.,  2., 15., 23., 16.]),\n",
       " array([194. , 322.8, 451.6, 580.4, 709.2, 838. ]),\n",
       " <BarContainer object of 5 artists>)"
      ]
     },
     "execution_count": 34,
     "metadata": {},
     "output_type": "execute_result"
    },
    {
     "data": {
      "image/png": "[encoded data removed]",
      "text/plain": [
       "<Figure size 640x480 with 1 Axes>"
      ]
     },
     "metadata": {},
     "output_type": "display_data"
    }
   ],
   "source": [
    "weekly_appt_counts.to_csv('weekly_appts.csv')\n",
    "weekly_lead_counts.to_csv('weekly_leads.csv')"
   ]
  }
 ],
 "metadata": {
  "kernelspec": {
   "display_name": "Python 3 (ipykernel)",
   "language": "python",
   "name": "python3"
  },
  "language_info": {
   "codemirror_mode": {
    "name": "ipython",
    "version": 3
   },
   "file_extension": ".py",
   "mimetype": "text/x-python",
   "name": "python",
   "nbconvert_exporter": "python",
   "pygments_lexer": "ipython3",
   "version": "3.11.0"
  }
 },
 "nbformat": 4,
 "nbformat_minor": 5
}
