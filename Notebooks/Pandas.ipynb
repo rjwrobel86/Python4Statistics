{
 "cells": [
  {
   "cell_type": "markdown",
   "id": "c10c25a2-4a04-4446-8784-28eb147581c0",
   "metadata": {},
   "source": [
    "# Pandas for Data Manipulation and Analysis"
   ]
  },
  {
   "cell_type": "code",
   "execution_count": 2,
   "id": "20ab978d",
   "metadata": {
    "tags": []
   },
   "outputs": [],
   "source": [
    "#Pandas For Data Analysis \n",
    "#Import Pandas\n",
    "import pandas as pd"
   ]
  },
  {
   "cell_type": "code",
   "execution_count": 4,
   "id": "14f03cdc",
   "metadata": {
    "tags": []
   },
   "outputs": [
    {
     "data": {
      "text/plain": [
       "'/Users/robertwrobel/Code/Python4Statistics/Notebooks'"
      ]
     },
     "execution_count": 4,
     "metadata": {},
     "output_type": "execute_result"
    }
   ],
   "source": [
    "#Find working directory\n",
    "import os\n",
    "os.getcwd()"
   ]
  },
  {
   "cell_type": "code",
   "execution_count": 4,
   "id": "d88ae7a5",
   "metadata": {
    "tags": []
   },
   "outputs": [],
   "source": [
    "#Read and Excel file and a CSV file into two separate data frames\n",
    "df1 = pd.read_csv('../data/data.csv')\n",
    "df2 = pd.read_excel('../data/data.xlsx')\n",
    "\n",
    "#If on Windows, and you copy the file path, you'll need to either flip the slashes from \"\\\" to \"/\" or put an \"r\" in front of the path string\n",
    "\n",
    "#To select a specifc sheet from an Excel workbook\n",
    "#df = pd.read_excel(r'File path', sheet_name='Sheet name')"
   ]
  },
  {
   "cell_type": "code",
   "execution_count": 8,
   "id": "dd2d55bb-69c3-4c96-91ce-749eb96cfd3e",
   "metadata": {
    "tags": []
   },
   "outputs": [
    {
     "name": "stdout",
     "output_type": "stream",
     "text": [
      "<class 'pandas.core.frame.DataFrame'>\n",
      "RangeIndex: 100 entries, 0 to 99\n",
      "Data columns (total 5 columns):\n",
      " #   Column    Non-Null Count  Dtype  \n",
      "---  ------    --------------  -----  \n",
      " 0   Name      100 non-null    object \n",
      " 1   Age       99 non-null     float64\n",
      " 2   Category  99 non-null     object \n",
      " 3   Value     98 non-null     float64\n",
      " 4   Count     99 non-null     float64\n",
      "dtypes: float64(3), object(2)\n",
      "memory usage: 4.0+ KB\n"
     ]
    }
   ],
   "source": [
    "#View variable names and data dypes\n",
    "df1.info()"
   ]
  },
  {
   "cell_type": "code",
   "execution_count": 8,
   "id": "431dfa97-e9f5-4c04-a066-de690237a62c",
   "metadata": {
    "tags": []
   },
   "outputs": [
    {
     "name": "stdout",
     "output_type": "stream",
     "text": [
      "Index(['Name', 'Age', 'Category', 'Value', 'Count'], dtype='object')\n",
      "['Name', 'Age', 'Category', 'Value', 'Count']\n"
     ]
    }
   ],
   "source": [
    "#View variable names\n",
    "print(df1.columns)\n",
    "\n",
    "#Store variable names in a list\n",
    "list_of_vars = df1.columns.tolist()\n",
    "print(list_of_vars)"
   ]
  },
  {
   "cell_type": "code",
   "execution_count": 12,
   "id": "c77a2282",
   "metadata": {
    "tags": []
   },
   "outputs": [
    {
     "name": "stdout",
     "output_type": "stream",
     "text": [
      "               Name  Age Category  Value  Count\n",
      "0      Nicole Allen   25        C   54.0    5.0\n",
      "1  Anthony Martinez   54        A   49.0    8.0\n",
      "2     Shawn Gilbert   39        B   64.0    3.0\n",
      "3        Eric Ellis   35        A   35.0    4.0\n",
      "4    Chelsea Flores   24        C    6.0    3.0\n",
      "               Name  Age Category  Value  Count\n",
      "0      Nicole Allen   25        C   54.0    5.0\n",
      "1  Anthony Martinez   54        A   49.0    8.0\n",
      "2     Shawn Gilbert   39        B   64.0    3.0\n",
      "3        Eric Ellis   35        A   35.0    4.0\n",
      "4    Chelsea Flores   24        C    6.0    3.0\n",
      "5      Karen Carson   51        C   71.0    2.0\n",
      "6     Rhonda Wilcox   51        A   53.0   10.0\n",
      "7      Barbara Tran   24        A   62.0    9.0\n",
      "8      Matthew Ward   31        B   40.0    8.0\n",
      "9       Joshua Ware   19        A   81.0    4.0\n",
      "                    Name  Age Category  Value  Count\n",
      "90          Donald Ayala   56        B   33.0    2.0\n",
      "91          John Ramirez   39        A   69.0    5.0\n",
      "92     Dr. Jonathan Cook   27        B   83.0    9.0\n",
      "93        Michael Miller   37        A   19.0    2.0\n",
      "94        Karen Williams   47        B   29.0    8.0\n",
      "95          Jamie Knight   52        B   34.0   10.0\n",
      "96          Linda Dalton   61        A   61.0    3.0\n",
      "97        Donald Blevins   60        C   58.0    4.0\n",
      "98  Mrs. Mary Sampson MD   42        C   81.0    5.0\n",
      "99    Lawrence Rodriguez   59        B   23.0    9.0\n"
     ]
    }
   ],
   "source": [
    "#View the first 5 rows of df1, the first 10 rows of df1, and the last 10 rows of df2\n",
    "print(df1.head()) #5 is the default\n",
    "print(df1.head(10))\n",
    "print(df2.tail(10))"
   ]
  },
  {
   "cell_type": "code",
   "execution_count": 84,
   "id": "866974c1",
   "metadata": {
    "tags": []
   },
   "outputs": [
    {
     "data": {
      "text/html": [
       "<div>\n",
       "<style scoped>\n",
       "    .dataframe tbody tr th:only-of-type {\n",
       "        vertical-align: middle;\n",
       "    }\n",
       "\n",
       "    .dataframe tbody tr th {\n",
       "        vertical-align: top;\n",
       "    }\n",
       "\n",
       "    .dataframe thead th {\n",
       "        text-align: right;\n",
       "    }\n",
       "</style>\n",
       "<table border=\"1\" class=\"dataframe\">\n",
       "  <thead>\n",
       "    <tr style=\"text-align: right;\">\n",
       "      <th></th>\n",
       "      <th>Age</th>\n",
       "      <th>Value</th>\n",
       "      <th>Count</th>\n",
       "    </tr>\n",
       "  </thead>\n",
       "  <tbody>\n",
       "    <tr>\n",
       "      <th>count</th>\n",
       "      <td>100.000000</td>\n",
       "      <td>98.000000</td>\n",
       "      <td>99.000000</td>\n",
       "    </tr>\n",
       "    <tr>\n",
       "      <th>mean</th>\n",
       "      <td>40.260000</td>\n",
       "      <td>45.530612</td>\n",
       "      <td>5.232323</td>\n",
       "    </tr>\n",
       "    <tr>\n",
       "      <th>std</th>\n",
       "      <td>14.059484</td>\n",
       "      <td>28.023629</td>\n",
       "      <td>2.791490</td>\n",
       "    </tr>\n",
       "    <tr>\n",
       "      <th>min</th>\n",
       "      <td>18.000000</td>\n",
       "      <td>1.000000</td>\n",
       "      <td>1.000000</td>\n",
       "    </tr>\n",
       "    <tr>\n",
       "      <th>25%</th>\n",
       "      <td>27.750000</td>\n",
       "      <td>21.250000</td>\n",
       "      <td>3.000000</td>\n",
       "    </tr>\n",
       "    <tr>\n",
       "      <th>50%</th>\n",
       "      <td>41.000000</td>\n",
       "      <td>43.500000</td>\n",
       "      <td>5.000000</td>\n",
       "    </tr>\n",
       "    <tr>\n",
       "      <th>75%</th>\n",
       "      <td>52.250000</td>\n",
       "      <td>64.750000</td>\n",
       "      <td>7.500000</td>\n",
       "    </tr>\n",
       "    <tr>\n",
       "      <th>max</th>\n",
       "      <td>64.000000</td>\n",
       "      <td>100.000000</td>\n",
       "      <td>10.000000</td>\n",
       "    </tr>\n",
       "  </tbody>\n",
       "</table>\n",
       "</div>"
      ],
      "text/plain": [
       "              Age       Value      Count\n",
       "count  100.000000   98.000000  99.000000\n",
       "mean    40.260000   45.530612   5.232323\n",
       "std     14.059484   28.023629   2.791490\n",
       "min     18.000000    1.000000   1.000000\n",
       "25%     27.750000   21.250000   3.000000\n",
       "50%     41.000000   43.500000   5.000000\n",
       "75%     52.250000   64.750000   7.500000\n",
       "max     64.000000  100.000000  10.000000"
      ]
     },
     "execution_count": 84,
     "metadata": {},
     "output_type": "execute_result"
    }
   ],
   "source": [
    "#Summary statistics\n",
    "df1.describe()"
   ]
  },
  {
   "cell_type": "code",
   "execution_count": 86,
   "id": "10aa73b4",
   "metadata": {
    "tags": []
   },
   "outputs": [
    {
     "name": "stdout",
     "output_type": "stream",
     "text": [
      "2\n",
      "0     False\n",
      "1     False\n",
      "2     False\n",
      "3     False\n",
      "4     False\n",
      "      ...  \n",
      "95    False\n",
      "96    False\n",
      "97    False\n",
      "98    False\n",
      "99    False\n",
      "Length: 100, dtype: bool\n"
     ]
    },
    {
     "data": {
      "text/html": [
       "<div>\n",
       "<style scoped>\n",
       "    .dataframe tbody tr th:only-of-type {\n",
       "        vertical-align: middle;\n",
       "    }\n",
       "\n",
       "    .dataframe tbody tr th {\n",
       "        vertical-align: top;\n",
       "    }\n",
       "\n",
       "    .dataframe thead th {\n",
       "        text-align: right;\n",
       "    }\n",
       "</style>\n",
       "<table border=\"1\" class=\"dataframe\">\n",
       "  <thead>\n",
       "    <tr style=\"text-align: right;\">\n",
       "      <th></th>\n",
       "      <th>Name</th>\n",
       "      <th>Age</th>\n",
       "      <th>Category</th>\n",
       "      <th>Value</th>\n",
       "      <th>Count</th>\n",
       "    </tr>\n",
       "  </thead>\n",
       "  <tbody>\n",
       "    <tr>\n",
       "      <th>17</th>\n",
       "      <td>Alexandra Green</td>\n",
       "      <td>21</td>\n",
       "      <td>C</td>\n",
       "      <td>7.0</td>\n",
       "      <td>9.0</td>\n",
       "    </tr>\n",
       "    <tr>\n",
       "      <th>24</th>\n",
       "      <td>Mark Hester</td>\n",
       "      <td>35</td>\n",
       "      <td>C</td>\n",
       "      <td>44.0</td>\n",
       "      <td>4.0</td>\n",
       "    </tr>\n",
       "  </tbody>\n",
       "</table>\n",
       "</div>"
      ],
      "text/plain": [
       "               Name  Age Category  Value  Count\n",
       "17  Alexandra Green   21        C    7.0    9.0\n",
       "24      Mark Hester   35        C   44.0    4.0"
      ]
     },
     "execution_count": 86,
     "metadata": {},
     "output_type": "execute_result"
    }
   ],
   "source": [
    "#Count duplicate rows\n",
    "duplicate_count = df1.duplicated().sum()\n",
    "print(duplicate_count)\n",
    "\n",
    "#Display which rows have duplicates and which do not\n",
    "duplicates = df1.duplicated()\n",
    "print(duplicates)\n",
    "\n",
    "#View instances of the duplicated rows\n",
    "duplicated_rows = df1[df1.duplicated()]\n",
    "duplicated_rows"
   ]
  },
  {
   "cell_type": "code",
   "execution_count": 88,
   "id": "e07e376b",
   "metadata": {
    "tags": []
   },
   "outputs": [
    {
     "name": "stdout",
     "output_type": "stream",
     "text": [
      "               Name  Age Category  Value  Count\n",
      "17  Alexandra Green   21        C    7.0    9.0\n",
      "24      Mark Hester   35        C   44.0    4.0\n"
     ]
    }
   ],
   "source": [
    "#Checking for duplicates using a subset of columns instead of looking for exact duplicates\n",
    "duplicates = df1[df1.duplicated(subset=['Name', 'Age'])]\n",
    "print(duplicates)"
   ]
  },
  {
   "cell_type": "code",
   "execution_count": 90,
   "id": "8e308680",
   "metadata": {
    "tags": []
   },
   "outputs": [],
   "source": [
    "#Drop duplicate rows\n",
    "df1.drop_duplicates(inplace=True)"
   ]
  },
  {
   "cell_type": "code",
   "execution_count": 92,
   "id": "1120dc33-8264-424d-95c8-8def72b18022",
   "metadata": {
    "tags": []
   },
   "outputs": [
    {
     "data": {
      "text/html": [
       "<div>\n",
       "<style scoped>\n",
       "    .dataframe tbody tr th:only-of-type {\n",
       "        vertical-align: middle;\n",
       "    }\n",
       "\n",
       "    .dataframe tbody tr th {\n",
       "        vertical-align: top;\n",
       "    }\n",
       "\n",
       "    .dataframe thead th {\n",
       "        text-align: right;\n",
       "    }\n",
       "</style>\n",
       "<table border=\"1\" class=\"dataframe\">\n",
       "  <thead>\n",
       "    <tr style=\"text-align: right;\">\n",
       "      <th></th>\n",
       "      <th>Name</th>\n",
       "      <th>Age</th>\n",
       "      <th>Category</th>\n",
       "      <th>Value</th>\n",
       "      <th>Count</th>\n",
       "    </tr>\n",
       "  </thead>\n",
       "  <tbody>\n",
       "  </tbody>\n",
       "</table>\n",
       "</div>"
      ],
      "text/plain": [
       "Empty DataFrame\n",
       "Columns: [Name, Age, Category, Value, Count]\n",
       "Index: []"
      ]
     },
     "execution_count": 92,
     "metadata": {},
     "output_type": "execute_result"
    }
   ],
   "source": [
    "#Duplicates are now gone\n",
    "duplicated_rows = df1[df1.duplicated()]\n",
    "duplicated_rows"
   ]
  },
  {
   "cell_type": "code",
   "execution_count": 94,
   "id": "354e6d5c",
   "metadata": {
    "tags": []
   },
   "outputs": [
    {
     "name": "stdout",
     "output_type": "stream",
     "text": [
      "Name        0\n",
      "Age         0\n",
      "Category    1\n",
      "Value       2\n",
      "Count       1\n",
      "dtype: int64\n",
      "                Name  Age Category  Value  Count\n",
      "13    Rachel Salinas   55      NaN    4.0    2.0\n",
      "20        Dana Hodge   21        C    NaN    3.0\n",
      "28  Jonathan Coleman   53        A    NaN    NaN\n",
      "Name        0\n",
      "Age         0\n",
      "Category    0\n",
      "Value       0\n",
      "Count       0\n",
      "dtype: int64\n"
     ]
    }
   ],
   "source": [
    "#Count missing values, display rows with missing values, and drop rows with missing values\n",
    "print(df1.isnull().sum())\n",
    "\n",
    "missing_data = df1[df1.isna().any(axis=1)]\n",
    "print(missing_data)\n",
    "\n",
    "df1.dropna(inplace=True) # \"inplace=True\" modifies the existing data frame\n",
    "print(df1.isnull().sum())"
   ]
  },
  {
   "cell_type": "code",
   "execution_count": 96,
   "id": "35a1f874",
   "metadata": {
    "tags": []
   },
   "outputs": [
    {
     "name": "stdout",
     "output_type": "stream",
     "text": [
      "Name        0\n",
      "Age         0\n",
      "Category    0\n",
      "Value       0\n",
      "Count       0\n",
      "dtype: int64\n",
      "Empty DataFrame\n",
      "Columns: [Name, Age, Category, Value, Count]\n",
      "Index: []\n"
     ]
    }
   ],
   "source": [
    "#All rows with any missing data are now gone\n",
    "print(df1.isnull().sum())\n",
    "\n",
    "missing_data = df1[df1.isna().any(axis=1)]\n",
    "print(missing_data)"
   ]
  },
  {
   "cell_type": "code",
   "execution_count": 98,
   "id": "6f757b6b-e1f6-4333-a085-9514604ea4c6",
   "metadata": {},
   "outputs": [],
   "source": [
    "#Dropping a row:\n",
    "#df1.drop(index=1, inplace=True)\n",
    "\n",
    "#Dropping multiple rows:\n",
    "df1 = df1.drop(index=[3, 8])  #Removes rows with index 0 and 2"
   ]
  },
  {
   "cell_type": "code",
   "execution_count": 100,
   "id": "470b111b-c91c-49d2-87ff-a85f7c64055a",
   "metadata": {},
   "outputs": [],
   "source": [
    "#Adding a row:\n",
    "#New row as a DataFrame\n",
    "new_row = pd.DataFrame({'A': [4], 'B': ['d']})\n",
    "\n",
    "#Concatenate the original DataFrame and the new row\n",
    "df1 = pd.concat([df1, new_row], ignore_index=True)"
   ]
  },
  {
   "cell_type": "code",
   "execution_count": 102,
   "id": "d7580290",
   "metadata": {
    "tags": []
   },
   "outputs": [
    {
     "data": {
      "text/html": [
       "<div>\n",
       "<style scoped>\n",
       "    .dataframe tbody tr th:only-of-type {\n",
       "        vertical-align: middle;\n",
       "    }\n",
       "\n",
       "    .dataframe tbody tr th {\n",
       "        vertical-align: top;\n",
       "    }\n",
       "\n",
       "    .dataframe thead th {\n",
       "        text-align: right;\n",
       "    }\n",
       "</style>\n",
       "<table border=\"1\" class=\"dataframe\">\n",
       "  <thead>\n",
       "    <tr style=\"text-align: right;\">\n",
       "      <th></th>\n",
       "      <th>Name</th>\n",
       "      <th>Age</th>\n",
       "      <th>Category</th>\n",
       "      <th>Value</th>\n",
       "      <th>Count</th>\n",
       "      <th>A</th>\n",
       "      <th>B</th>\n",
       "      <th>Category2</th>\n",
       "    </tr>\n",
       "  </thead>\n",
       "  <tbody>\n",
       "    <tr>\n",
       "      <th>0</th>\n",
       "      <td>Nicole Allen</td>\n",
       "      <td>25.0</td>\n",
       "      <td>C</td>\n",
       "      <td>54.0</td>\n",
       "      <td>5.0</td>\n",
       "      <td>NaN</td>\n",
       "      <td>NaN</td>\n",
       "      <td>Sub-Awesome</td>\n",
       "    </tr>\n",
       "    <tr>\n",
       "      <th>1</th>\n",
       "      <td>Anthony Martinez</td>\n",
       "      <td>54.0</td>\n",
       "      <td>A</td>\n",
       "      <td>49.0</td>\n",
       "      <td>8.0</td>\n",
       "      <td>NaN</td>\n",
       "      <td>NaN</td>\n",
       "      <td>Awesome</td>\n",
       "    </tr>\n",
       "    <tr>\n",
       "      <th>2</th>\n",
       "      <td>Shawn Gilbert</td>\n",
       "      <td>39.0</td>\n",
       "      <td>B</td>\n",
       "      <td>64.0</td>\n",
       "      <td>3.0</td>\n",
       "      <td>NaN</td>\n",
       "      <td>NaN</td>\n",
       "      <td>Sub-Awesome</td>\n",
       "    </tr>\n",
       "    <tr>\n",
       "      <th>3</th>\n",
       "      <td>Chelsea Flores</td>\n",
       "      <td>24.0</td>\n",
       "      <td>C</td>\n",
       "      <td>6.0</td>\n",
       "      <td>3.0</td>\n",
       "      <td>NaN</td>\n",
       "      <td>NaN</td>\n",
       "      <td>Sub-Awesome</td>\n",
       "    </tr>\n",
       "    <tr>\n",
       "      <th>4</th>\n",
       "      <td>Karen Carson</td>\n",
       "      <td>51.0</td>\n",
       "      <td>C</td>\n",
       "      <td>71.0</td>\n",
       "      <td>2.0</td>\n",
       "      <td>NaN</td>\n",
       "      <td>NaN</td>\n",
       "      <td>Sub-Awesome</td>\n",
       "    </tr>\n",
       "    <tr>\n",
       "      <th>5</th>\n",
       "      <td>Rhonda Wilcox</td>\n",
       "      <td>51.0</td>\n",
       "      <td>A</td>\n",
       "      <td>53.0</td>\n",
       "      <td>10.0</td>\n",
       "      <td>NaN</td>\n",
       "      <td>NaN</td>\n",
       "      <td>Awesome</td>\n",
       "    </tr>\n",
       "    <tr>\n",
       "      <th>6</th>\n",
       "      <td>Barbara Tran</td>\n",
       "      <td>24.0</td>\n",
       "      <td>A</td>\n",
       "      <td>62.0</td>\n",
       "      <td>9.0</td>\n",
       "      <td>NaN</td>\n",
       "      <td>NaN</td>\n",
       "      <td>Awesome</td>\n",
       "    </tr>\n",
       "    <tr>\n",
       "      <th>7</th>\n",
       "      <td>Joshua Ware</td>\n",
       "      <td>19.0</td>\n",
       "      <td>A</td>\n",
       "      <td>81.0</td>\n",
       "      <td>4.0</td>\n",
       "      <td>NaN</td>\n",
       "      <td>NaN</td>\n",
       "      <td>Awesome</td>\n",
       "    </tr>\n",
       "    <tr>\n",
       "      <th>8</th>\n",
       "      <td>William Stewart</td>\n",
       "      <td>54.0</td>\n",
       "      <td>C</td>\n",
       "      <td>43.0</td>\n",
       "      <td>5.0</td>\n",
       "      <td>NaN</td>\n",
       "      <td>NaN</td>\n",
       "      <td>Sub-Awesome</td>\n",
       "    </tr>\n",
       "    <tr>\n",
       "      <th>9</th>\n",
       "      <td>Jonathon Thomas</td>\n",
       "      <td>23.0</td>\n",
       "      <td>B</td>\n",
       "      <td>75.0</td>\n",
       "      <td>10.0</td>\n",
       "      <td>NaN</td>\n",
       "      <td>NaN</td>\n",
       "      <td>Sub-Awesome</td>\n",
       "    </tr>\n",
       "  </tbody>\n",
       "</table>\n",
       "</div>"
      ],
      "text/plain": [
       "               Name   Age Category  Value  Count   A    B    Category2\n",
       "0      Nicole Allen  25.0        C   54.0    5.0 NaN  NaN  Sub-Awesome\n",
       "1  Anthony Martinez  54.0        A   49.0    8.0 NaN  NaN      Awesome\n",
       "2     Shawn Gilbert  39.0        B   64.0    3.0 NaN  NaN  Sub-Awesome\n",
       "3    Chelsea Flores  24.0        C    6.0    3.0 NaN  NaN  Sub-Awesome\n",
       "4      Karen Carson  51.0        C   71.0    2.0 NaN  NaN  Sub-Awesome\n",
       "5     Rhonda Wilcox  51.0        A   53.0   10.0 NaN  NaN      Awesome\n",
       "6      Barbara Tran  24.0        A   62.0    9.0 NaN  NaN      Awesome\n",
       "7       Joshua Ware  19.0        A   81.0    4.0 NaN  NaN      Awesome\n",
       "8   William Stewart  54.0        C   43.0    5.0 NaN  NaN  Sub-Awesome\n",
       "9   Jonathon Thomas  23.0        B   75.0   10.0 NaN  NaN  Sub-Awesome"
      ]
     },
     "execution_count": 102,
     "metadata": {},
     "output_type": "execute_result"
    }
   ],
   "source": [
    "#Map with a dictionary\n",
    "m = {'A':'Awesome','B':'Sub-Awesome','C':'Sub-Awesome'}\n",
    "df1['Category2'] = df1['Category'].map(m)\n",
    "df1.head(10)"
   ]
  },
  {
   "cell_type": "code",
   "execution_count": 104,
   "id": "7aebdff4",
   "metadata": {
    "tags": []
   },
   "outputs": [
    {
     "name": "stdout",
     "output_type": "stream",
     "text": [
      "40.59139784946237\n"
     ]
    },
    {
     "data": {
      "text/html": [
       "<div>\n",
       "<style scoped>\n",
       "    .dataframe tbody tr th:only-of-type {\n",
       "        vertical-align: middle;\n",
       "    }\n",
       "\n",
       "    .dataframe tbody tr th {\n",
       "        vertical-align: top;\n",
       "    }\n",
       "\n",
       "    .dataframe thead th {\n",
       "        text-align: right;\n",
       "    }\n",
       "</style>\n",
       "<table border=\"1\" class=\"dataframe\">\n",
       "  <thead>\n",
       "    <tr style=\"text-align: right;\">\n",
       "      <th></th>\n",
       "      <th>Name</th>\n",
       "      <th>Age</th>\n",
       "      <th>Category</th>\n",
       "      <th>Value</th>\n",
       "      <th>Count</th>\n",
       "      <th>A</th>\n",
       "      <th>B</th>\n",
       "      <th>Category2</th>\n",
       "      <th>Above Average Age</th>\n",
       "    </tr>\n",
       "  </thead>\n",
       "  <tbody>\n",
       "    <tr>\n",
       "      <th>0</th>\n",
       "      <td>Nicole Allen</td>\n",
       "      <td>25.0</td>\n",
       "      <td>C</td>\n",
       "      <td>54.0</td>\n",
       "      <td>5.0</td>\n",
       "      <td>NaN</td>\n",
       "      <td>NaN</td>\n",
       "      <td>Sub-Awesome</td>\n",
       "      <td>0</td>\n",
       "    </tr>\n",
       "    <tr>\n",
       "      <th>1</th>\n",
       "      <td>Anthony Martinez</td>\n",
       "      <td>54.0</td>\n",
       "      <td>A</td>\n",
       "      <td>49.0</td>\n",
       "      <td>8.0</td>\n",
       "      <td>NaN</td>\n",
       "      <td>NaN</td>\n",
       "      <td>Awesome</td>\n",
       "      <td>1</td>\n",
       "    </tr>\n",
       "    <tr>\n",
       "      <th>2</th>\n",
       "      <td>Shawn Gilbert</td>\n",
       "      <td>39.0</td>\n",
       "      <td>B</td>\n",
       "      <td>64.0</td>\n",
       "      <td>3.0</td>\n",
       "      <td>NaN</td>\n",
       "      <td>NaN</td>\n",
       "      <td>Sub-Awesome</td>\n",
       "      <td>0</td>\n",
       "    </tr>\n",
       "    <tr>\n",
       "      <th>3</th>\n",
       "      <td>Chelsea Flores</td>\n",
       "      <td>24.0</td>\n",
       "      <td>C</td>\n",
       "      <td>6.0</td>\n",
       "      <td>3.0</td>\n",
       "      <td>NaN</td>\n",
       "      <td>NaN</td>\n",
       "      <td>Sub-Awesome</td>\n",
       "      <td>0</td>\n",
       "    </tr>\n",
       "    <tr>\n",
       "      <th>4</th>\n",
       "      <td>Karen Carson</td>\n",
       "      <td>51.0</td>\n",
       "      <td>C</td>\n",
       "      <td>71.0</td>\n",
       "      <td>2.0</td>\n",
       "      <td>NaN</td>\n",
       "      <td>NaN</td>\n",
       "      <td>Sub-Awesome</td>\n",
       "      <td>1</td>\n",
       "    </tr>\n",
       "    <tr>\n",
       "      <th>5</th>\n",
       "      <td>Rhonda Wilcox</td>\n",
       "      <td>51.0</td>\n",
       "      <td>A</td>\n",
       "      <td>53.0</td>\n",
       "      <td>10.0</td>\n",
       "      <td>NaN</td>\n",
       "      <td>NaN</td>\n",
       "      <td>Awesome</td>\n",
       "      <td>1</td>\n",
       "    </tr>\n",
       "    <tr>\n",
       "      <th>6</th>\n",
       "      <td>Barbara Tran</td>\n",
       "      <td>24.0</td>\n",
       "      <td>A</td>\n",
       "      <td>62.0</td>\n",
       "      <td>9.0</td>\n",
       "      <td>NaN</td>\n",
       "      <td>NaN</td>\n",
       "      <td>Awesome</td>\n",
       "      <td>0</td>\n",
       "    </tr>\n",
       "    <tr>\n",
       "      <th>7</th>\n",
       "      <td>Joshua Ware</td>\n",
       "      <td>19.0</td>\n",
       "      <td>A</td>\n",
       "      <td>81.0</td>\n",
       "      <td>4.0</td>\n",
       "      <td>NaN</td>\n",
       "      <td>NaN</td>\n",
       "      <td>Awesome</td>\n",
       "      <td>0</td>\n",
       "    </tr>\n",
       "    <tr>\n",
       "      <th>8</th>\n",
       "      <td>William Stewart</td>\n",
       "      <td>54.0</td>\n",
       "      <td>C</td>\n",
       "      <td>43.0</td>\n",
       "      <td>5.0</td>\n",
       "      <td>NaN</td>\n",
       "      <td>NaN</td>\n",
       "      <td>Sub-Awesome</td>\n",
       "      <td>1</td>\n",
       "    </tr>\n",
       "    <tr>\n",
       "      <th>9</th>\n",
       "      <td>Jonathon Thomas</td>\n",
       "      <td>23.0</td>\n",
       "      <td>B</td>\n",
       "      <td>75.0</td>\n",
       "      <td>10.0</td>\n",
       "      <td>NaN</td>\n",
       "      <td>NaN</td>\n",
       "      <td>Sub-Awesome</td>\n",
       "      <td>0</td>\n",
       "    </tr>\n",
       "  </tbody>\n",
       "</table>\n",
       "</div>"
      ],
      "text/plain": [
       "               Name   Age Category  Value  Count   A    B    Category2  \\\n",
       "0      Nicole Allen  25.0        C   54.0    5.0 NaN  NaN  Sub-Awesome   \n",
       "1  Anthony Martinez  54.0        A   49.0    8.0 NaN  NaN      Awesome   \n",
       "2     Shawn Gilbert  39.0        B   64.0    3.0 NaN  NaN  Sub-Awesome   \n",
       "3    Chelsea Flores  24.0        C    6.0    3.0 NaN  NaN  Sub-Awesome   \n",
       "4      Karen Carson  51.0        C   71.0    2.0 NaN  NaN  Sub-Awesome   \n",
       "5     Rhonda Wilcox  51.0        A   53.0   10.0 NaN  NaN      Awesome   \n",
       "6      Barbara Tran  24.0        A   62.0    9.0 NaN  NaN      Awesome   \n",
       "7       Joshua Ware  19.0        A   81.0    4.0 NaN  NaN      Awesome   \n",
       "8   William Stewart  54.0        C   43.0    5.0 NaN  NaN  Sub-Awesome   \n",
       "9   Jonathon Thomas  23.0        B   75.0   10.0 NaN  NaN  Sub-Awesome   \n",
       "\n",
       "   Above Average Age  \n",
       "0                  0  \n",
       "1                  1  \n",
       "2                  0  \n",
       "3                  0  \n",
       "4                  1  \n",
       "5                  1  \n",
       "6                  0  \n",
       "7                  0  \n",
       "8                  1  \n",
       "9                  0  "
      ]
     },
     "execution_count": 104,
     "metadata": {},
     "output_type": "execute_result"
    }
   ],
   "source": [
    "#Map with a funciton\n",
    "average_age = df1['Age'].mean()\n",
    "print(average_age)\n",
    "\n",
    "def above_average_age(x):\n",
    "    if x > average_age:\n",
    "        return 1\n",
    "    else:\n",
    "        return 0\n",
    "\n",
    "df1['Above Average Age'] = df1['Age'].map(above_average_age)\n",
    "df1.head(10)"
   ]
  },
  {
   "cell_type": "code",
   "execution_count": 106,
   "id": "cbe0eb26-b646-47ef-b98b-67afbca42b0f",
   "metadata": {
    "tags": []
   },
   "outputs": [
    {
     "data": {
      "text/html": [
       "<div>\n",
       "<style scoped>\n",
       "    .dataframe tbody tr th:only-of-type {\n",
       "        vertical-align: middle;\n",
       "    }\n",
       "\n",
       "    .dataframe tbody tr th {\n",
       "        vertical-align: top;\n",
       "    }\n",
       "\n",
       "    .dataframe thead th {\n",
       "        text-align: right;\n",
       "    }\n",
       "</style>\n",
       "<table border=\"1\" class=\"dataframe\">\n",
       "  <thead>\n",
       "    <tr style=\"text-align: right;\">\n",
       "      <th></th>\n",
       "      <th>Name</th>\n",
       "      <th>Age</th>\n",
       "      <th>Category</th>\n",
       "      <th>Value</th>\n",
       "      <th>Count</th>\n",
       "      <th>A</th>\n",
       "      <th>B</th>\n",
       "      <th>Category2</th>\n",
       "      <th>Above Average Age</th>\n",
       "      <th>Running Count Total</th>\n",
       "    </tr>\n",
       "  </thead>\n",
       "  <tbody>\n",
       "    <tr>\n",
       "      <th>0</th>\n",
       "      <td>Nicole Allen</td>\n",
       "      <td>25.0</td>\n",
       "      <td>C</td>\n",
       "      <td>54.0</td>\n",
       "      <td>5.0</td>\n",
       "      <td>NaN</td>\n",
       "      <td>NaN</td>\n",
       "      <td>Sub-Awesome</td>\n",
       "      <td>0</td>\n",
       "      <td>5.0</td>\n",
       "    </tr>\n",
       "    <tr>\n",
       "      <th>1</th>\n",
       "      <td>Anthony Martinez</td>\n",
       "      <td>54.0</td>\n",
       "      <td>A</td>\n",
       "      <td>49.0</td>\n",
       "      <td>8.0</td>\n",
       "      <td>NaN</td>\n",
       "      <td>NaN</td>\n",
       "      <td>Awesome</td>\n",
       "      <td>1</td>\n",
       "      <td>13.0</td>\n",
       "    </tr>\n",
       "    <tr>\n",
       "      <th>2</th>\n",
       "      <td>Shawn Gilbert</td>\n",
       "      <td>39.0</td>\n",
       "      <td>B</td>\n",
       "      <td>64.0</td>\n",
       "      <td>3.0</td>\n",
       "      <td>NaN</td>\n",
       "      <td>NaN</td>\n",
       "      <td>Sub-Awesome</td>\n",
       "      <td>0</td>\n",
       "      <td>16.0</td>\n",
       "    </tr>\n",
       "    <tr>\n",
       "      <th>3</th>\n",
       "      <td>Chelsea Flores</td>\n",
       "      <td>24.0</td>\n",
       "      <td>C</td>\n",
       "      <td>6.0</td>\n",
       "      <td>3.0</td>\n",
       "      <td>NaN</td>\n",
       "      <td>NaN</td>\n",
       "      <td>Sub-Awesome</td>\n",
       "      <td>0</td>\n",
       "      <td>19.0</td>\n",
       "    </tr>\n",
       "    <tr>\n",
       "      <th>4</th>\n",
       "      <td>Karen Carson</td>\n",
       "      <td>51.0</td>\n",
       "      <td>C</td>\n",
       "      <td>71.0</td>\n",
       "      <td>2.0</td>\n",
       "      <td>NaN</td>\n",
       "      <td>NaN</td>\n",
       "      <td>Sub-Awesome</td>\n",
       "      <td>1</td>\n",
       "      <td>21.0</td>\n",
       "    </tr>\n",
       "  </tbody>\n",
       "</table>\n",
       "</div>"
      ],
      "text/plain": [
       "               Name   Age Category  Value  Count   A    B    Category2  \\\n",
       "0      Nicole Allen  25.0        C   54.0    5.0 NaN  NaN  Sub-Awesome   \n",
       "1  Anthony Martinez  54.0        A   49.0    8.0 NaN  NaN      Awesome   \n",
       "2     Shawn Gilbert  39.0        B   64.0    3.0 NaN  NaN  Sub-Awesome   \n",
       "3    Chelsea Flores  24.0        C    6.0    3.0 NaN  NaN  Sub-Awesome   \n",
       "4      Karen Carson  51.0        C   71.0    2.0 NaN  NaN  Sub-Awesome   \n",
       "\n",
       "   Above Average Age  Running Count Total  \n",
       "0                  0                  5.0  \n",
       "1                  1                 13.0  \n",
       "2                  0                 16.0  \n",
       "3                  0                 19.0  \n",
       "4                  1                 21.0  "
      ]
     },
     "execution_count": 106,
     "metadata": {},
     "output_type": "execute_result"
    }
   ],
   "source": [
    "#Create a running total \n",
    "df1['Running Count Total'] = df1['Count'].cumsum()\n",
    "df1.head()"
   ]
  },
  {
   "cell_type": "code",
   "execution_count": 108,
   "id": "e68d60bf-127d-4bfc-833e-6f1fd8399fc7",
   "metadata": {},
   "outputs": [
    {
     "data": {
      "text/html": [
       "<div>\n",
       "<style scoped>\n",
       "    .dataframe tbody tr th:only-of-type {\n",
       "        vertical-align: middle;\n",
       "    }\n",
       "\n",
       "    .dataframe tbody tr th {\n",
       "        vertical-align: top;\n",
       "    }\n",
       "\n",
       "    .dataframe thead th {\n",
       "        text-align: right;\n",
       "    }\n",
       "</style>\n",
       "<table border=\"1\" class=\"dataframe\">\n",
       "  <thead>\n",
       "    <tr style=\"text-align: right;\">\n",
       "      <th></th>\n",
       "      <th>Name</th>\n",
       "      <th>Age</th>\n",
       "      <th>Category</th>\n",
       "      <th>Value</th>\n",
       "      <th>Count</th>\n",
       "      <th>A</th>\n",
       "      <th>B</th>\n",
       "      <th>Category2</th>\n",
       "      <th>Above Average Age</th>\n",
       "      <th>Running Count Total</th>\n",
       "      <th>ValueMinusCount</th>\n",
       "    </tr>\n",
       "  </thead>\n",
       "  <tbody>\n",
       "    <tr>\n",
       "      <th>0</th>\n",
       "      <td>Nicole Allen</td>\n",
       "      <td>25.0</td>\n",
       "      <td>C</td>\n",
       "      <td>54.0</td>\n",
       "      <td>5.0</td>\n",
       "      <td>NaN</td>\n",
       "      <td>NaN</td>\n",
       "      <td>Sub-Awesome</td>\n",
       "      <td>0</td>\n",
       "      <td>5.0</td>\n",
       "      <td>49.0</td>\n",
       "    </tr>\n",
       "    <tr>\n",
       "      <th>1</th>\n",
       "      <td>Anthony Martinez</td>\n",
       "      <td>54.0</td>\n",
       "      <td>A</td>\n",
       "      <td>49.0</td>\n",
       "      <td>8.0</td>\n",
       "      <td>NaN</td>\n",
       "      <td>NaN</td>\n",
       "      <td>Awesome</td>\n",
       "      <td>1</td>\n",
       "      <td>13.0</td>\n",
       "      <td>41.0</td>\n",
       "    </tr>\n",
       "    <tr>\n",
       "      <th>2</th>\n",
       "      <td>Shawn Gilbert</td>\n",
       "      <td>39.0</td>\n",
       "      <td>B</td>\n",
       "      <td>64.0</td>\n",
       "      <td>3.0</td>\n",
       "      <td>NaN</td>\n",
       "      <td>NaN</td>\n",
       "      <td>Sub-Awesome</td>\n",
       "      <td>0</td>\n",
       "      <td>16.0</td>\n",
       "      <td>61.0</td>\n",
       "    </tr>\n",
       "    <tr>\n",
       "      <th>3</th>\n",
       "      <td>Chelsea Flores</td>\n",
       "      <td>24.0</td>\n",
       "      <td>C</td>\n",
       "      <td>6.0</td>\n",
       "      <td>3.0</td>\n",
       "      <td>NaN</td>\n",
       "      <td>NaN</td>\n",
       "      <td>Sub-Awesome</td>\n",
       "      <td>0</td>\n",
       "      <td>19.0</td>\n",
       "      <td>3.0</td>\n",
       "    </tr>\n",
       "    <tr>\n",
       "      <th>4</th>\n",
       "      <td>Karen Carson</td>\n",
       "      <td>51.0</td>\n",
       "      <td>C</td>\n",
       "      <td>71.0</td>\n",
       "      <td>2.0</td>\n",
       "      <td>NaN</td>\n",
       "      <td>NaN</td>\n",
       "      <td>Sub-Awesome</td>\n",
       "      <td>1</td>\n",
       "      <td>21.0</td>\n",
       "      <td>69.0</td>\n",
       "    </tr>\n",
       "  </tbody>\n",
       "</table>\n",
       "</div>"
      ],
      "text/plain": [
       "               Name   Age Category  Value  Count   A    B    Category2  \\\n",
       "0      Nicole Allen  25.0        C   54.0    5.0 NaN  NaN  Sub-Awesome   \n",
       "1  Anthony Martinez  54.0        A   49.0    8.0 NaN  NaN      Awesome   \n",
       "2     Shawn Gilbert  39.0        B   64.0    3.0 NaN  NaN  Sub-Awesome   \n",
       "3    Chelsea Flores  24.0        C    6.0    3.0 NaN  NaN  Sub-Awesome   \n",
       "4      Karen Carson  51.0        C   71.0    2.0 NaN  NaN  Sub-Awesome   \n",
       "\n",
       "   Above Average Age  Running Count Total  ValueMinusCount  \n",
       "0                  0                  5.0             49.0  \n",
       "1                  1                 13.0             41.0  \n",
       "2                  0                 16.0             61.0  \n",
       "3                  0                 19.0              3.0  \n",
       "4                  1                 21.0             69.0  "
      ]
     },
     "execution_count": 108,
     "metadata": {},
     "output_type": "execute_result"
    }
   ],
   "source": [
    "#Create a new calcualted variable out of existing variables\n",
    "df1['ValueMinusCount'] = df1['Value'] - df1['Count']\n",
    "df1.head()"
   ]
  },
  {
   "cell_type": "code",
   "execution_count": 110,
   "id": "59d6e6e2-a070-4aa0-af20-53a2802221b6",
   "metadata": {},
   "outputs": [],
   "source": [
    "#Drop a column\n",
    "df1.drop('ValueMinusCount', axis=1, inplace=True)"
   ]
  },
  {
   "cell_type": "code",
   "execution_count": 112,
   "id": "b3dfdace",
   "metadata": {
    "tags": []
   },
   "outputs": [
    {
     "name": "stdout",
     "output_type": "stream",
     "text": [
      "39.0\n",
      "2    39.0\n",
      "3    24.0\n",
      "4    51.0\n",
      "5    51.0\n",
      "6    24.0\n",
      "Name: Age, dtype: float64\n"
     ]
    }
   ],
   "source": [
    "#loc - Select a cell using row numbers and column names\n",
    "#loc uses labels - loc[row_label, column_label]\n",
    "print(df1.loc[2, 'Age']) #Get the value of the age column in row 2\n",
    "print(df1.loc[2:6, 'Age']) #Get the value of the age column in rows indexed 2 through 6"
   ]
  },
  {
   "cell_type": "code",
   "execution_count": 114,
   "id": "6b37c726",
   "metadata": {
    "tags": []
   },
   "outputs": [
    {
     "name": "stdout",
     "output_type": "stream",
     "text": [
      "2.0\n",
      "  Category  Value\n",
      "1        A   49.0\n",
      "2        B   64.0\n"
     ]
    }
   ],
   "source": [
    "#iloc - Select a cell using row numbers and column numbers\n",
    "#iloc uses integers corresponding to position - iloc[row_position, column_position]\n",
    "print(df1.iloc[4,4])\n",
    "print(df1.iloc[1:3,2:4])"
   ]
  },
  {
   "cell_type": "code",
   "execution_count": 116,
   "id": "04cc3829",
   "metadata": {
    "tags": []
   },
   "outputs": [
    {
     "data": {
      "text/html": [
       "<div>\n",
       "<style scoped>\n",
       "    .dataframe tbody tr th:only-of-type {\n",
       "        vertical-align: middle;\n",
       "    }\n",
       "\n",
       "    .dataframe tbody tr th {\n",
       "        vertical-align: top;\n",
       "    }\n",
       "\n",
       "    .dataframe thead th {\n",
       "        text-align: right;\n",
       "    }\n",
       "</style>\n",
       "<table border=\"1\" class=\"dataframe\">\n",
       "  <thead>\n",
       "    <tr style=\"text-align: right;\">\n",
       "      <th></th>\n",
       "      <th>Name</th>\n",
       "      <th>Age</th>\n",
       "      <th>Category</th>\n",
       "      <th>Value</th>\n",
       "      <th>Count</th>\n",
       "      <th>A</th>\n",
       "      <th>B</th>\n",
       "      <th>Category2</th>\n",
       "      <th>Above Average Age</th>\n",
       "      <th>Running Count Total</th>\n",
       "      <th>First Name</th>\n",
       "      <th>Last Name</th>\n",
       "    </tr>\n",
       "  </thead>\n",
       "  <tbody>\n",
       "    <tr>\n",
       "      <th>0</th>\n",
       "      <td>Nicole Allen</td>\n",
       "      <td>25.0</td>\n",
       "      <td>C</td>\n",
       "      <td>54.0</td>\n",
       "      <td>5.0</td>\n",
       "      <td>NaN</td>\n",
       "      <td>NaN</td>\n",
       "      <td>Sub-Awesome</td>\n",
       "      <td>0</td>\n",
       "      <td>5.0</td>\n",
       "      <td>Nicole</td>\n",
       "      <td>Allen</td>\n",
       "    </tr>\n",
       "    <tr>\n",
       "      <th>1</th>\n",
       "      <td>Anthony Martinez</td>\n",
       "      <td>54.0</td>\n",
       "      <td>A</td>\n",
       "      <td>49.0</td>\n",
       "      <td>8.0</td>\n",
       "      <td>NaN</td>\n",
       "      <td>NaN</td>\n",
       "      <td>Awesome</td>\n",
       "      <td>1</td>\n",
       "      <td>13.0</td>\n",
       "      <td>Anthony</td>\n",
       "      <td>Martinez</td>\n",
       "    </tr>\n",
       "    <tr>\n",
       "      <th>2</th>\n",
       "      <td>Shawn Gilbert</td>\n",
       "      <td>39.0</td>\n",
       "      <td>B</td>\n",
       "      <td>64.0</td>\n",
       "      <td>3.0</td>\n",
       "      <td>NaN</td>\n",
       "      <td>NaN</td>\n",
       "      <td>Sub-Awesome</td>\n",
       "      <td>0</td>\n",
       "      <td>16.0</td>\n",
       "      <td>Shawn</td>\n",
       "      <td>Gilbert</td>\n",
       "    </tr>\n",
       "    <tr>\n",
       "      <th>3</th>\n",
       "      <td>Chelsea Flores</td>\n",
       "      <td>24.0</td>\n",
       "      <td>C</td>\n",
       "      <td>6.0</td>\n",
       "      <td>3.0</td>\n",
       "      <td>NaN</td>\n",
       "      <td>NaN</td>\n",
       "      <td>Sub-Awesome</td>\n",
       "      <td>0</td>\n",
       "      <td>19.0</td>\n",
       "      <td>Chelsea</td>\n",
       "      <td>Flores</td>\n",
       "    </tr>\n",
       "    <tr>\n",
       "      <th>4</th>\n",
       "      <td>Karen Carson</td>\n",
       "      <td>51.0</td>\n",
       "      <td>C</td>\n",
       "      <td>71.0</td>\n",
       "      <td>2.0</td>\n",
       "      <td>NaN</td>\n",
       "      <td>NaN</td>\n",
       "      <td>Sub-Awesome</td>\n",
       "      <td>1</td>\n",
       "      <td>21.0</td>\n",
       "      <td>Karen</td>\n",
       "      <td>Carson</td>\n",
       "    </tr>\n",
       "  </tbody>\n",
       "</table>\n",
       "</div>"
      ],
      "text/plain": [
       "               Name   Age Category  Value  Count   A    B    Category2  \\\n",
       "0      Nicole Allen  25.0        C   54.0    5.0 NaN  NaN  Sub-Awesome   \n",
       "1  Anthony Martinez  54.0        A   49.0    8.0 NaN  NaN      Awesome   \n",
       "2     Shawn Gilbert  39.0        B   64.0    3.0 NaN  NaN  Sub-Awesome   \n",
       "3    Chelsea Flores  24.0        C    6.0    3.0 NaN  NaN  Sub-Awesome   \n",
       "4      Karen Carson  51.0        C   71.0    2.0 NaN  NaN  Sub-Awesome   \n",
       "\n",
       "   Above Average Age  Running Count Total First Name Last Name  \n",
       "0                  0                  5.0     Nicole     Allen  \n",
       "1                  1                 13.0    Anthony  Martinez  \n",
       "2                  0                 16.0      Shawn   Gilbert  \n",
       "3                  0                 19.0    Chelsea    Flores  \n",
       "4                  1                 21.0      Karen    Carson  "
      ]
     },
     "execution_count": 116,
     "metadata": {},
     "output_type": "execute_result"
    }
   ],
   "source": [
    "#Split \"Text to columns\"\n",
    "df1[['First Name', 'Last Name']] = df1['Name'].str.split(n=1, expand=True)\n",
    "df1.columns\n",
    "df1.head()"
   ]
  },
  {
   "cell_type": "code",
   "execution_count": 118,
   "id": "42804099-02de-4a49-ad6b-75dd669dd4a1",
   "metadata": {
    "tags": []
   },
   "outputs": [
    {
     "data": {
      "text/html": [
       "<div>\n",
       "<style scoped>\n",
       "    .dataframe tbody tr th:only-of-type {\n",
       "        vertical-align: middle;\n",
       "    }\n",
       "\n",
       "    .dataframe tbody tr th {\n",
       "        vertical-align: top;\n",
       "    }\n",
       "\n",
       "    .dataframe thead th {\n",
       "        text-align: right;\n",
       "    }\n",
       "</style>\n",
       "<table border=\"1\" class=\"dataframe\">\n",
       "  <thead>\n",
       "    <tr style=\"text-align: right;\">\n",
       "      <th></th>\n",
       "      <th>Name</th>\n",
       "      <th>Age</th>\n",
       "      <th>Category</th>\n",
       "      <th>Value</th>\n",
       "      <th>Count</th>\n",
       "      <th>A</th>\n",
       "      <th>B</th>\n",
       "      <th>Category2</th>\n",
       "      <th>Above Average Age</th>\n",
       "      <th>Running Count Total</th>\n",
       "      <th>First Name</th>\n",
       "      <th>Last Name</th>\n",
       "      <th>Full Name Rejoined</th>\n",
       "      <th>Full Name With Value</th>\n",
       "    </tr>\n",
       "  </thead>\n",
       "  <tbody>\n",
       "    <tr>\n",
       "      <th>0</th>\n",
       "      <td>Nicole Allen</td>\n",
       "      <td>25.0</td>\n",
       "      <td>C</td>\n",
       "      <td>54.0</td>\n",
       "      <td>5.0</td>\n",
       "      <td>NaN</td>\n",
       "      <td>NaN</td>\n",
       "      <td>Sub-Awesome</td>\n",
       "      <td>0</td>\n",
       "      <td>5.0</td>\n",
       "      <td>Nicole</td>\n",
       "      <td>Allen</td>\n",
       "      <td>Nicole Allen</td>\n",
       "      <td>Nicole Allen 54.0</td>\n",
       "    </tr>\n",
       "    <tr>\n",
       "      <th>1</th>\n",
       "      <td>Anthony Martinez</td>\n",
       "      <td>54.0</td>\n",
       "      <td>A</td>\n",
       "      <td>49.0</td>\n",
       "      <td>8.0</td>\n",
       "      <td>NaN</td>\n",
       "      <td>NaN</td>\n",
       "      <td>Awesome</td>\n",
       "      <td>1</td>\n",
       "      <td>13.0</td>\n",
       "      <td>Anthony</td>\n",
       "      <td>Martinez</td>\n",
       "      <td>Anthony Martinez</td>\n",
       "      <td>Anthony Martinez 49.0</td>\n",
       "    </tr>\n",
       "    <tr>\n",
       "      <th>2</th>\n",
       "      <td>Shawn Gilbert</td>\n",
       "      <td>39.0</td>\n",
       "      <td>B</td>\n",
       "      <td>64.0</td>\n",
       "      <td>3.0</td>\n",
       "      <td>NaN</td>\n",
       "      <td>NaN</td>\n",
       "      <td>Sub-Awesome</td>\n",
       "      <td>0</td>\n",
       "      <td>16.0</td>\n",
       "      <td>Shawn</td>\n",
       "      <td>Gilbert</td>\n",
       "      <td>Shawn Gilbert</td>\n",
       "      <td>Shawn Gilbert 64.0</td>\n",
       "    </tr>\n",
       "    <tr>\n",
       "      <th>3</th>\n",
       "      <td>Chelsea Flores</td>\n",
       "      <td>24.0</td>\n",
       "      <td>C</td>\n",
       "      <td>6.0</td>\n",
       "      <td>3.0</td>\n",
       "      <td>NaN</td>\n",
       "      <td>NaN</td>\n",
       "      <td>Sub-Awesome</td>\n",
       "      <td>0</td>\n",
       "      <td>19.0</td>\n",
       "      <td>Chelsea</td>\n",
       "      <td>Flores</td>\n",
       "      <td>Chelsea Flores</td>\n",
       "      <td>Chelsea Flores 6.0</td>\n",
       "    </tr>\n",
       "    <tr>\n",
       "      <th>4</th>\n",
       "      <td>Karen Carson</td>\n",
       "      <td>51.0</td>\n",
       "      <td>C</td>\n",
       "      <td>71.0</td>\n",
       "      <td>2.0</td>\n",
       "      <td>NaN</td>\n",
       "      <td>NaN</td>\n",
       "      <td>Sub-Awesome</td>\n",
       "      <td>1</td>\n",
       "      <td>21.0</td>\n",
       "      <td>Karen</td>\n",
       "      <td>Carson</td>\n",
       "      <td>Karen Carson</td>\n",
       "      <td>Karen Carson 71.0</td>\n",
       "    </tr>\n",
       "  </tbody>\n",
       "</table>\n",
       "</div>"
      ],
      "text/plain": [
       "               Name   Age Category  Value  Count   A    B    Category2  \\\n",
       "0      Nicole Allen  25.0        C   54.0    5.0 NaN  NaN  Sub-Awesome   \n",
       "1  Anthony Martinez  54.0        A   49.0    8.0 NaN  NaN      Awesome   \n",
       "2     Shawn Gilbert  39.0        B   64.0    3.0 NaN  NaN  Sub-Awesome   \n",
       "3    Chelsea Flores  24.0        C    6.0    3.0 NaN  NaN  Sub-Awesome   \n",
       "4      Karen Carson  51.0        C   71.0    2.0 NaN  NaN  Sub-Awesome   \n",
       "\n",
       "   Above Average Age  Running Count Total First Name Last Name  \\\n",
       "0                  0                  5.0     Nicole     Allen   \n",
       "1                  1                 13.0    Anthony  Martinez   \n",
       "2                  0                 16.0      Shawn   Gilbert   \n",
       "3                  0                 19.0    Chelsea    Flores   \n",
       "4                  1                 21.0      Karen    Carson   \n",
       "\n",
       "  Full Name Rejoined   Full Name With Value  \n",
       "0       Nicole Allen      Nicole Allen 54.0  \n",
       "1   Anthony Martinez  Anthony Martinez 49.0  \n",
       "2      Shawn Gilbert     Shawn Gilbert 64.0  \n",
       "3     Chelsea Flores     Chelsea Flores 6.0  \n",
       "4       Karen Carson      Karen Carson 71.0  "
      ]
     },
     "execution_count": 118,
     "metadata": {},
     "output_type": "execute_result"
    }
   ],
   "source": [
    "#Concatenation\n",
    "df1['Full Name Rejoined'] = df1['First Name'] + ' ' + df1['Last Name']\n",
    "\n",
    "#If not a string already\n",
    "df1['Full Name With Value'] = df1['Full Name Rejoined'] + ' ' + df1['Value'].astype(str)\n",
    "\n",
    "df1.head()"
   ]
  },
  {
   "cell_type": "code",
   "execution_count": 124,
   "id": "83ec12bc-03a4-4809-962b-f776f630118e",
   "metadata": {},
   "outputs": [
    {
     "data": {
      "text/plain": [
       "['Name',\n",
       " 'Age',\n",
       " 'Category',\n",
       " 'Value',\n",
       " 'Count',\n",
       " 'A',\n",
       " 'B',\n",
       " 'Category2',\n",
       " 'Above Average Age',\n",
       " 'Running Count Total',\n",
       " 'First Name',\n",
       " 'Last Name',\n",
       " 'Full Name Rejoined',\n",
       " 'Full Name With Value']"
      ]
     },
     "execution_count": 124,
     "metadata": {},
     "output_type": "execute_result"
    }
   ],
   "source": [
    "#Reordering Columns\n",
    "# :10 slices to select all columns up to the 10th \n",
    "# 12: slices to select all columns from the 12th on\n",
    "columns = df1.columns.tolist()\n",
    "new_cols = [columns[10]] + [columns[11]] + columns[:10] + columns[12:]\n",
    "df_arranged = df1[new_cols]\n",
    "df_arranged.head()"
   ]
  },
  {
   "cell_type": "code",
   "execution_count": 14,
   "id": "b811926c",
   "metadata": {
    "tags": []
   },
   "outputs": [
    {
     "data": {
      "text/html": [
       "<div>\n",
       "<style scoped>\n",
       "    .dataframe tbody tr th:only-of-type {\n",
       "        vertical-align: middle;\n",
       "    }\n",
       "\n",
       "    .dataframe tbody tr th {\n",
       "        vertical-align: top;\n",
       "    }\n",
       "\n",
       "    .dataframe thead th {\n",
       "        text-align: right;\n",
       "    }\n",
       "</style>\n",
       "<table border=\"1\" class=\"dataframe\">\n",
       "  <thead>\n",
       "    <tr style=\"text-align: right;\">\n",
       "      <th></th>\n",
       "      <th>Full Name</th>\n",
       "      <th>Age</th>\n",
       "      <th>Category</th>\n",
       "      <th>Value</th>\n",
       "      <th>Whatever</th>\n",
       "    </tr>\n",
       "  </thead>\n",
       "  <tbody>\n",
       "    <tr>\n",
       "      <th>0</th>\n",
       "      <td>Nicole Allen</td>\n",
       "      <td>25</td>\n",
       "      <td>C</td>\n",
       "      <td>54.0</td>\n",
       "      <td>5.0</td>\n",
       "    </tr>\n",
       "    <tr>\n",
       "      <th>1</th>\n",
       "      <td>Anthony Martinez</td>\n",
       "      <td>54</td>\n",
       "      <td>A</td>\n",
       "      <td>49.0</td>\n",
       "      <td>8.0</td>\n",
       "    </tr>\n",
       "    <tr>\n",
       "      <th>2</th>\n",
       "      <td>Shawn Gilbert</td>\n",
       "      <td>39</td>\n",
       "      <td>B</td>\n",
       "      <td>64.0</td>\n",
       "      <td>3.0</td>\n",
       "    </tr>\n",
       "    <tr>\n",
       "      <th>3</th>\n",
       "      <td>Eric Ellis</td>\n",
       "      <td>35</td>\n",
       "      <td>A</td>\n",
       "      <td>35.0</td>\n",
       "      <td>4.0</td>\n",
       "    </tr>\n",
       "    <tr>\n",
       "      <th>4</th>\n",
       "      <td>Chelsea Flores</td>\n",
       "      <td>24</td>\n",
       "      <td>C</td>\n",
       "      <td>6.0</td>\n",
       "      <td>3.0</td>\n",
       "    </tr>\n",
       "  </tbody>\n",
       "</table>\n",
       "</div>"
      ],
      "text/plain": [
       "          Full Name  Age Category  Value  Whatever\n",
       "0      Nicole Allen   25        C   54.0       5.0\n",
       "1  Anthony Martinez   54        A   49.0       8.0\n",
       "2     Shawn Gilbert   39        B   64.0       3.0\n",
       "3        Eric Ellis   35        A   35.0       4.0\n",
       "4    Chelsea Flores   24        C    6.0       3.0"
      ]
     },
     "execution_count": 14,
     "metadata": {},
     "output_type": "execute_result"
    }
   ],
   "source": [
    "#Renaming columns with a dictionary\n",
    "df1.rename(columns={'Name': 'Full Name','Count':'Whatever'}, inplace=True)\n",
    "df1.head()"
   ]
  },
  {
   "cell_type": "code",
   "execution_count": 78,
   "id": "ac6705b2",
   "metadata": {
    "tags": []
   },
   "outputs": [
    {
     "data": {
      "text/html": [
       "<div>\n",
       "<style scoped>\n",
       "    .dataframe tbody tr th:only-of-type {\n",
       "        vertical-align: middle;\n",
       "    }\n",
       "\n",
       "    .dataframe tbody tr th {\n",
       "        vertical-align: top;\n",
       "    }\n",
       "\n",
       "    .dataframe thead th {\n",
       "        text-align: right;\n",
       "    }\n",
       "</style>\n",
       "<table border=\"1\" class=\"dataframe\">\n",
       "  <thead>\n",
       "    <tr style=\"text-align: right;\">\n",
       "      <th></th>\n",
       "      <th>Full Name</th>\n",
       "      <th>Age</th>\n",
       "      <th>Category</th>\n",
       "      <th>Value</th>\n",
       "      <th>Count</th>\n",
       "      <th>Category2</th>\n",
       "      <th>Above Average Age</th>\n",
       "      <th>Running Count Total</th>\n",
       "      <th>First Name</th>\n",
       "      <th>Last Name</th>\n",
       "      <th>Full Name Rejoined</th>\n",
       "      <th>Full Name With Value</th>\n",
       "    </tr>\n",
       "  </thead>\n",
       "  <tbody>\n",
       "    <tr>\n",
       "      <th>1</th>\n",
       "      <td>Anthony Martinez</td>\n",
       "      <td>54</td>\n",
       "      <td>A</td>\n",
       "      <td>49.0</td>\n",
       "      <td>8.0</td>\n",
       "      <td>Awesome</td>\n",
       "      <td>1</td>\n",
       "      <td>13.0</td>\n",
       "      <td>Anthony</td>\n",
       "      <td>Martinez</td>\n",
       "      <td>Anthony Martinez</td>\n",
       "      <td>Anthony Martinez 49.0</td>\n",
       "    </tr>\n",
       "    <tr>\n",
       "      <th>2</th>\n",
       "      <td>Shawn Gilbert</td>\n",
       "      <td>39</td>\n",
       "      <td>B</td>\n",
       "      <td>64.0</td>\n",
       "      <td>3.0</td>\n",
       "      <td>Sub-Awesome</td>\n",
       "      <td>0</td>\n",
       "      <td>16.0</td>\n",
       "      <td>Shawn</td>\n",
       "      <td>Gilbert</td>\n",
       "      <td>Shawn Gilbert</td>\n",
       "      <td>Shawn Gilbert 64.0</td>\n",
       "    </tr>\n",
       "    <tr>\n",
       "      <th>3</th>\n",
       "      <td>Eric Ellis</td>\n",
       "      <td>35</td>\n",
       "      <td>A</td>\n",
       "      <td>35.0</td>\n",
       "      <td>4.0</td>\n",
       "      <td>Awesome</td>\n",
       "      <td>0</td>\n",
       "      <td>20.0</td>\n",
       "      <td>Eric</td>\n",
       "      <td>Ellis</td>\n",
       "      <td>Eric Ellis</td>\n",
       "      <td>Eric Ellis 35.0</td>\n",
       "    </tr>\n",
       "    <tr>\n",
       "      <th>5</th>\n",
       "      <td>Karen Carson</td>\n",
       "      <td>51</td>\n",
       "      <td>C</td>\n",
       "      <td>71.0</td>\n",
       "      <td>2.0</td>\n",
       "      <td>Sub-Awesome</td>\n",
       "      <td>1</td>\n",
       "      <td>25.0</td>\n",
       "      <td>Karen</td>\n",
       "      <td>Carson</td>\n",
       "      <td>Karen Carson</td>\n",
       "      <td>Karen Carson 71.0</td>\n",
       "    </tr>\n",
       "    <tr>\n",
       "      <th>6</th>\n",
       "      <td>Rhonda Wilcox</td>\n",
       "      <td>51</td>\n",
       "      <td>A</td>\n",
       "      <td>53.0</td>\n",
       "      <td>10.0</td>\n",
       "      <td>Awesome</td>\n",
       "      <td>1</td>\n",
       "      <td>35.0</td>\n",
       "      <td>Rhonda</td>\n",
       "      <td>Wilcox</td>\n",
       "      <td>Rhonda Wilcox</td>\n",
       "      <td>Rhonda Wilcox 53.0</td>\n",
       "    </tr>\n",
       "  </tbody>\n",
       "</table>\n",
       "</div>"
      ],
      "text/plain": [
       "          Full Name  Age Category  Value  Count    Category2  \\\n",
       "1  Anthony Martinez   54        A   49.0    8.0      Awesome   \n",
       "2     Shawn Gilbert   39        B   64.0    3.0  Sub-Awesome   \n",
       "3        Eric Ellis   35        A   35.0    4.0      Awesome   \n",
       "5      Karen Carson   51        C   71.0    2.0  Sub-Awesome   \n",
       "6     Rhonda Wilcox   51        A   53.0   10.0      Awesome   \n",
       "\n",
       "   Above Average Age  Running Count Total First Name Last Name  \\\n",
       "1                  1                 13.0    Anthony  Martinez   \n",
       "2                  0                 16.0      Shawn   Gilbert   \n",
       "3                  0                 20.0       Eric     Ellis   \n",
       "5                  1                 25.0      Karen    Carson   \n",
       "6                  1                 35.0     Rhonda    Wilcox   \n",
       "\n",
       "  Full Name Rejoined   Full Name With Value  \n",
       "1   Anthony Martinez  Anthony Martinez 49.0  \n",
       "2      Shawn Gilbert     Shawn Gilbert 64.0  \n",
       "3         Eric Ellis        Eric Ellis 35.0  \n",
       "5       Karen Carson      Karen Carson 71.0  \n",
       "6      Rhonda Wilcox     Rhonda Wilcox 53.0  "
      ]
     },
     "execution_count": 78,
     "metadata": {},
     "output_type": "execute_result"
    }
   ],
   "source": [
    "#Filter rows based on condition\n",
    "over30 = df1[df1['Age'] > 30]\n",
    "over30.head()"
   ]
  },
  {
   "cell_type": "code",
   "execution_count": 79,
   "id": "715128fe",
   "metadata": {
    "tags": []
   },
   "outputs": [
    {
     "name": "stdout",
     "output_type": "stream",
     "text": [
      "            Full Name  Age Category  Value  Count    Category2  \\\n",
      "56  Angela Oneill DDS   64        C   55.0    3.0  Sub-Awesome   \n",
      "47      Melissa Lewis   63        B   72.0    2.0  Sub-Awesome   \n",
      "14          Lisa Chen   61        B   41.0   10.0  Sub-Awesome   \n",
      "31      Joshua Hughes   61        B   41.0    1.0  Sub-Awesome   \n",
      "34       Sandra Jones   61        C   32.0    6.0  Sub-Awesome   \n",
      "..                ...  ...      ...    ...    ...          ...   \n",
      "9         Joshua Ware   19        A   81.0    4.0      Awesome   \n",
      "83        Megan Brown   19        C   95.0    1.0  Sub-Awesome   \n",
      "81       Peter Hansen   19        C   55.0    4.0  Sub-Awesome   \n",
      "40   Brenda Valentine   19        A   31.0    7.0      Awesome   \n",
      "53       Stanley Dean   18        A   30.0   10.0      Awesome   \n",
      "\n",
      "    Above Average Age  Running Count Total First Name   Last Name  \\\n",
      "56                  1                270.0     Angela  Oneill DDS   \n",
      "47                  1                221.0    Melissa       Lewis   \n",
      "14                  1                 83.0       Lisa        Chen   \n",
      "31                  1                152.0     Joshua      Hughes   \n",
      "34                  1                162.0     Sandra       Jones   \n",
      "..                ...                  ...        ...         ...   \n",
      "9                   0                 56.0     Joshua        Ware   \n",
      "83                  0                419.0      Megan       Brown   \n",
      "81                  0                414.0      Peter      Hansen   \n",
      "40                  0                191.0     Brenda   Valentine   \n",
      "53                  0                259.0    Stanley        Dean   \n",
      "\n",
      "   Full Name Rejoined    Full Name With Value  \n",
      "56  Angela Oneill DDS  Angela Oneill DDS 55.0  \n",
      "47      Melissa Lewis      Melissa Lewis 72.0  \n",
      "14          Lisa Chen          Lisa Chen 41.0  \n",
      "31      Joshua Hughes      Joshua Hughes 41.0  \n",
      "34       Sandra Jones       Sandra Jones 32.0  \n",
      "..                ...                     ...  \n",
      "9         Joshua Ware        Joshua Ware 81.0  \n",
      "83        Megan Brown        Megan Brown 95.0  \n",
      "81       Peter Hansen       Peter Hansen 55.0  \n",
      "40   Brenda Valentine   Brenda Valentine 31.0  \n",
      "53       Stanley Dean       Stanley Dean 30.0  \n",
      "\n",
      "[95 rows x 12 columns]\n"
     ]
    }
   ],
   "source": [
    "#Sorting by a column\n",
    "age_desc = df1.sort_values('Age', ascending=False)\n",
    "print(age_desc)"
   ]
  },
  {
   "cell_type": "code",
   "execution_count": 80,
   "id": "73738055",
   "metadata": {
    "tags": []
   },
   "outputs": [
    {
     "name": "stdout",
     "output_type": "stream",
     "text": [
      "            Full Name  Age Category  Value  Count    Category2  \\\n",
      "53       Stanley Dean   18        A   30.0   10.0      Awesome   \n",
      "40   Brenda Valentine   19        A   31.0    7.0      Awesome   \n",
      "50      James Tran MD   19        B   15.0    1.0  Sub-Awesome   \n",
      "9         Joshua Ware   19        A   81.0    4.0      Awesome   \n",
      "81       Peter Hansen   19        C   55.0    4.0  Sub-Awesome   \n",
      "..                ...  ...      ...    ...    ...          ...   \n",
      "14          Lisa Chen   61        B   41.0   10.0  Sub-Awesome   \n",
      "96       Linda Dalton   61        A   61.0    3.0      Awesome   \n",
      "34       Sandra Jones   61        C   32.0    6.0  Sub-Awesome   \n",
      "47      Melissa Lewis   63        B   72.0    2.0  Sub-Awesome   \n",
      "56  Angela Oneill DDS   64        C   55.0    3.0  Sub-Awesome   \n",
      "\n",
      "    Above Average Age  Running Count Total First Name   Last Name  \\\n",
      "53                  0                259.0    Stanley        Dean   \n",
      "40                  0                191.0     Brenda   Valentine   \n",
      "50                  0                239.0      James     Tran MD   \n",
      "9                   0                 56.0     Joshua        Ware   \n",
      "81                  0                414.0      Peter      Hansen   \n",
      "..                ...                  ...        ...         ...   \n",
      "14                  1                 83.0       Lisa        Chen   \n",
      "96                  1                482.0      Linda      Dalton   \n",
      "34                  1                162.0     Sandra       Jones   \n",
      "47                  1                221.0    Melissa       Lewis   \n",
      "56                  1                270.0     Angela  Oneill DDS   \n",
      "\n",
      "   Full Name Rejoined    Full Name With Value  \n",
      "53       Stanley Dean       Stanley Dean 30.0  \n",
      "40   Brenda Valentine   Brenda Valentine 31.0  \n",
      "50      James Tran MD      James Tran MD 15.0  \n",
      "9         Joshua Ware        Joshua Ware 81.0  \n",
      "81       Peter Hansen       Peter Hansen 55.0  \n",
      "..                ...                     ...  \n",
      "14          Lisa Chen          Lisa Chen 41.0  \n",
      "96       Linda Dalton       Linda Dalton 61.0  \n",
      "34       Sandra Jones       Sandra Jones 32.0  \n",
      "47      Melissa Lewis      Melissa Lewis 72.0  \n",
      "56  Angela Oneill DDS  Angela Oneill DDS 55.0  \n",
      "\n",
      "[95 rows x 12 columns]\n"
     ]
    }
   ],
   "source": [
    "age_asc = df1.sort_values('Age', ascending=True)\n",
    "print(age_asc)"
   ]
  },
  {
   "cell_type": "code",
   "execution_count": 81,
   "id": "9869675f-7722-4142-8f12-5d0a987487fd",
   "metadata": {
    "tags": []
   },
   "outputs": [
    {
     "data": {
      "text/html": [
       "<div>\n",
       "<style scoped>\n",
       "    .dataframe tbody tr th:only-of-type {\n",
       "        vertical-align: middle;\n",
       "    }\n",
       "\n",
       "    .dataframe tbody tr th {\n",
       "        vertical-align: top;\n",
       "    }\n",
       "\n",
       "    .dataframe thead th {\n",
       "        text-align: right;\n",
       "    }\n",
       "</style>\n",
       "<table border=\"1\" class=\"dataframe\">\n",
       "  <thead>\n",
       "    <tr style=\"text-align: right;\">\n",
       "      <th></th>\n",
       "      <th>Full Name</th>\n",
       "      <th>Age</th>\n",
       "      <th>Category</th>\n",
       "      <th>Value</th>\n",
       "      <th>Count</th>\n",
       "      <th>Category2</th>\n",
       "      <th>Above Average Age</th>\n",
       "      <th>Running Count Total</th>\n",
       "      <th>First Name</th>\n",
       "      <th>Last Name</th>\n",
       "      <th>Full Name Rejoined</th>\n",
       "      <th>Full Name With Value</th>\n",
       "      <th>Age_Rank</th>\n",
       "      <th>Age_Percentile</th>\n",
       "    </tr>\n",
       "  </thead>\n",
       "  <tbody>\n",
       "    <tr>\n",
       "      <th>0</th>\n",
       "      <td>Nicole Allen</td>\n",
       "      <td>25</td>\n",
       "      <td>C</td>\n",
       "      <td>54.0</td>\n",
       "      <td>5.0</td>\n",
       "      <td>Sub-Awesome</td>\n",
       "      <td>0</td>\n",
       "      <td>5.0</td>\n",
       "      <td>Nicole</td>\n",
       "      <td>Allen</td>\n",
       "      <td>Nicole Allen</td>\n",
       "      <td>Nicole Allen 54.0</td>\n",
       "      <td>22.0</td>\n",
       "      <td>0.231579</td>\n",
       "    </tr>\n",
       "    <tr>\n",
       "      <th>1</th>\n",
       "      <td>Anthony Martinez</td>\n",
       "      <td>54</td>\n",
       "      <td>A</td>\n",
       "      <td>49.0</td>\n",
       "      <td>8.0</td>\n",
       "      <td>Awesome</td>\n",
       "      <td>1</td>\n",
       "      <td>13.0</td>\n",
       "      <td>Anthony</td>\n",
       "      <td>Martinez</td>\n",
       "      <td>Anthony Martinez</td>\n",
       "      <td>Anthony Martinez 49.0</td>\n",
       "      <td>75.0</td>\n",
       "      <td>0.789474</td>\n",
       "    </tr>\n",
       "    <tr>\n",
       "      <th>2</th>\n",
       "      <td>Shawn Gilbert</td>\n",
       "      <td>39</td>\n",
       "      <td>B</td>\n",
       "      <td>64.0</td>\n",
       "      <td>3.0</td>\n",
       "      <td>Sub-Awesome</td>\n",
       "      <td>0</td>\n",
       "      <td>16.0</td>\n",
       "      <td>Shawn</td>\n",
       "      <td>Gilbert</td>\n",
       "      <td>Shawn Gilbert</td>\n",
       "      <td>Shawn Gilbert 64.0</td>\n",
       "      <td>43.0</td>\n",
       "      <td>0.452632</td>\n",
       "    </tr>\n",
       "    <tr>\n",
       "      <th>3</th>\n",
       "      <td>Eric Ellis</td>\n",
       "      <td>35</td>\n",
       "      <td>A</td>\n",
       "      <td>35.0</td>\n",
       "      <td>4.0</td>\n",
       "      <td>Awesome</td>\n",
       "      <td>0</td>\n",
       "      <td>20.0</td>\n",
       "      <td>Eric</td>\n",
       "      <td>Ellis</td>\n",
       "      <td>Eric Ellis</td>\n",
       "      <td>Eric Ellis 35.0</td>\n",
       "      <td>34.5</td>\n",
       "      <td>0.363158</td>\n",
       "    </tr>\n",
       "    <tr>\n",
       "      <th>4</th>\n",
       "      <td>Chelsea Flores</td>\n",
       "      <td>24</td>\n",
       "      <td>C</td>\n",
       "      <td>6.0</td>\n",
       "      <td>3.0</td>\n",
       "      <td>Sub-Awesome</td>\n",
       "      <td>0</td>\n",
       "      <td>23.0</td>\n",
       "      <td>Chelsea</td>\n",
       "      <td>Flores</td>\n",
       "      <td>Chelsea Flores</td>\n",
       "      <td>Chelsea Flores 6.0</td>\n",
       "      <td>19.5</td>\n",
       "      <td>0.205263</td>\n",
       "    </tr>\n",
       "  </tbody>\n",
       "</table>\n",
       "</div>"
      ],
      "text/plain": [
       "          Full Name  Age Category  Value  Count    Category2  \\\n",
       "0      Nicole Allen   25        C   54.0    5.0  Sub-Awesome   \n",
       "1  Anthony Martinez   54        A   49.0    8.0      Awesome   \n",
       "2     Shawn Gilbert   39        B   64.0    3.0  Sub-Awesome   \n",
       "3        Eric Ellis   35        A   35.0    4.0      Awesome   \n",
       "4    Chelsea Flores   24        C    6.0    3.0  Sub-Awesome   \n",
       "\n",
       "   Above Average Age  Running Count Total First Name Last Name  \\\n",
       "0                  0                  5.0     Nicole     Allen   \n",
       "1                  1                 13.0    Anthony  Martinez   \n",
       "2                  0                 16.0      Shawn   Gilbert   \n",
       "3                  0                 20.0       Eric     Ellis   \n",
       "4                  0                 23.0    Chelsea    Flores   \n",
       "\n",
       "  Full Name Rejoined   Full Name With Value  Age_Rank  Age_Percentile  \n",
       "0       Nicole Allen      Nicole Allen 54.0      22.0        0.231579  \n",
       "1   Anthony Martinez  Anthony Martinez 49.0      75.0        0.789474  \n",
       "2      Shawn Gilbert     Shawn Gilbert 64.0      43.0        0.452632  \n",
       "3         Eric Ellis        Eric Ellis 35.0      34.5        0.363158  \n",
       "4     Chelsea Flores     Chelsea Flores 6.0      19.5        0.205263  "
      ]
     },
     "execution_count": 81,
     "metadata": {},
     "output_type": "execute_result"
    }
   ],
   "source": [
    "#Rank and Percentile\n",
    "df1['Age_Rank'] = df1['Age'].rank()\n",
    "df1['Age_Percentile'] = df1['Age_Rank'] / df1['Age'].count()\n",
    "df1.head()"
   ]
  },
  {
   "cell_type": "code",
   "execution_count": 82,
   "id": "f4276ff4",
   "metadata": {
    "tags": []
   },
   "outputs": [
    {
     "name": "stdout",
     "output_type": "stream",
     "text": [
      "   ID Economics Grade\n",
      "0   1               A\n",
      "1   2               B\n",
      "2   3               C\n",
      "3   4               D\n",
      "   ID Statistics Grade\n",
      "0   3                C\n",
      "1   4                D\n",
      "2   5                A\n",
      "3   6                F\n"
     ]
    }
   ],
   "source": [
    "#Merging data frames\n",
    "dfL = pd.DataFrame({'ID': [1, 2, 3, 4], 'Economics Grade': ['A', 'B', 'C','D']})\n",
    "dfR = pd.DataFrame({'ID': [3, 4, 5, 6], 'Statistics Grade': ['C', 'D', 'A','F']})\n",
    "print(dfL.head())\n",
    "print(dfR.head())"
   ]
  },
  {
   "cell_type": "code",
   "execution_count": 83,
   "id": "f979d20d",
   "metadata": {
    "tags": []
   },
   "outputs": [
    {
     "name": "stdout",
     "output_type": "stream",
     "text": [
      "   ID Economics Grade Statistics Grade\n",
      "0   3               C                C\n",
      "1   4               D                D\n"
     ]
    }
   ],
   "source": [
    "#Inner join\n",
    "inner_merged_df = pd.merge(dfL, dfR, on='ID', how='inner')\n",
    "print(inner_merged_df)"
   ]
  },
  {
   "cell_type": "code",
   "execution_count": 84,
   "id": "370197f2",
   "metadata": {
    "tags": []
   },
   "outputs": [
    {
     "name": "stdout",
     "output_type": "stream",
     "text": [
      "   ID Economics Grade Statistics Grade\n",
      "0   1               A              NaN\n",
      "1   2               B              NaN\n",
      "2   3               C                C\n",
      "3   4               D                D\n",
      "4   5             NaN                A\n",
      "5   6             NaN                F\n"
     ]
    }
   ],
   "source": [
    "#Outer join\n",
    "outer_merged_df = pd.merge(dfL, dfR, on='ID', how=\"outer\")\n",
    "print(outer_merged_df)"
   ]
  },
  {
   "cell_type": "code",
   "execution_count": 85,
   "id": "d0bd3ff3",
   "metadata": {
    "tags": []
   },
   "outputs": [
    {
     "name": "stdout",
     "output_type": "stream",
     "text": [
      "   ID Economics Grade Statistics Grade\n",
      "0   1               A              NaN\n",
      "1   2               B              NaN\n",
      "2   3               C                C\n",
      "3   4               D                D\n"
     ]
    }
   ],
   "source": [
    "#Left join\n",
    "left_merged_df = pd.merge(dfL, dfR, on='ID', how=\"left\")\n",
    "print(left_merged_df)"
   ]
  },
  {
   "cell_type": "code",
   "execution_count": 86,
   "id": "881359bc",
   "metadata": {
    "tags": []
   },
   "outputs": [
    {
     "name": "stdout",
     "output_type": "stream",
     "text": [
      "   ID Economics Grade Statistics Grade\n",
      "0   3               C                C\n",
      "1   4               D                D\n",
      "2   5             NaN                A\n",
      "3   6             NaN                F\n"
     ]
    }
   ],
   "source": [
    "#Right join\n",
    "right_merged_df = pd.merge(dfL, dfR, on='ID', how=\"right\")\n",
    "print(right_merged_df)"
   ]
  },
  {
   "cell_type": "code",
   "execution_count": 87,
   "id": "5b5c4a32-be95-44ef-822f-3a32bf449981",
   "metadata": {
    "tags": []
   },
   "outputs": [
    {
     "name": "stdout",
     "output_type": "stream",
     "text": [
      "[(59.333, 77.667], (40.945, 59.333], (77.667, 96.0], (40.945, 59.333], (77.667, 96.0], (40.945, 59.333], (77.667, 96.0], (40.945, 59.333], (77.667, 96.0], (77.667, 96.0]]\n",
      "Categories (3, interval[float64, right]): [(40.945, 59.333] < (59.333, 77.667] < (77.667, 96.0]]\n",
      "['medium', 'bad', 'good', 'bad', 'good', 'bad', 'good', 'bad', 'good', 'good']\n",
      "Categories (3, object): ['bad' < 'medium' < 'good']\n",
      "[(60.0, 70.0], (50.0, 60.0], (70.0, inf], (40.0, 50.0], (70.0, inf], (50.0, 60.0], (70.0, inf], (40.0, 50.0], (70.0, inf], (70.0, inf]]\n",
      "Categories (8, interval[float64, right]): [(0.0, 10.0] < (10.0, 20.0] < (20.0, 30.0] < (30.0, 40.0] < (40.0, 50.0] < (50.0, 60.0] < (60.0, 70.0] < (70.0, inf]]\n",
      "(0.0, 10.0]     0\n",
      "(10.0, 20.0]    0\n",
      "(20.0, 30.0]    0\n",
      "(30.0, 40.0]    0\n",
      "(40.0, 50.0]    2\n",
      "(50.0, 60.0]    2\n",
      "(60.0, 70.0]    1\n",
      "(70.0, inf]     5\n",
      "dtype: int64\n"
     ]
    }
   ],
   "source": [
    "#Binning w/ Cut\n",
    "import numpy as np\n",
    "x = np.random.randint(100, size=10)\n",
    "\n",
    "#Divide into three bins\n",
    "y = pd.cut(x, 3)\n",
    "print(y)\n",
    "#Divide into three labled bins\n",
    "z = pd.cut(x, 3, labels=[\"bad\", \"medium\", \"good\"])\n",
    "print(z)\n",
    "#Divide into specified bins\n",
    "w = pd.cut(x, bins=[0, 10, 20, 30, 40, 50, 60, 70, np.inf])\n",
    "print(w)\n",
    "\n",
    "#Print frequency by bin\n",
    "bin_counts = w.value_counts()\n",
    "print(bin_counts)"
   ]
  },
  {
   "cell_type": "code",
   "execution_count": 110,
   "id": "d31b18aa-033a-4259-82ce-c990a7159f06",
   "metadata": {
    "tags": []
   },
   "outputs": [
    {
     "name": "stdout",
     "output_type": "stream",
     "text": [
      "Product\n",
      "A    3\n",
      "B    2\n",
      "C    1\n",
      "Name: count, dtype: int64\n",
      "\n",
      "\n",
      "Gender\n",
      "Male      3\n",
      "Female    3\n",
      "Name: count, dtype: int64\n"
     ]
    },
    {
     "data": {
      "text/html": [
       "<div>\n",
       "<style scoped>\n",
       "    .dataframe tbody tr th:only-of-type {\n",
       "        vertical-align: middle;\n",
       "    }\n",
       "\n",
       "    .dataframe tbody tr th {\n",
       "        vertical-align: top;\n",
       "    }\n",
       "\n",
       "    .dataframe thead th {\n",
       "        text-align: right;\n",
       "    }\n",
       "</style>\n",
       "<table border=\"1\" class=\"dataframe\">\n",
       "  <thead>\n",
       "    <tr style=\"text-align: right;\">\n",
       "      <th></th>\n",
       "      <th>Gender</th>\n",
       "      <th>Product</th>\n",
       "      <th>Profit</th>\n",
       "      <th>Visits</th>\n",
       "    </tr>\n",
       "  </thead>\n",
       "  <tbody>\n",
       "    <tr>\n",
       "      <th>0</th>\n",
       "      <td>Male</td>\n",
       "      <td>A</td>\n",
       "      <td>100</td>\n",
       "      <td>1</td>\n",
       "    </tr>\n",
       "    <tr>\n",
       "      <th>1</th>\n",
       "      <td>Female</td>\n",
       "      <td>A</td>\n",
       "      <td>100</td>\n",
       "      <td>3</td>\n",
       "    </tr>\n",
       "    <tr>\n",
       "      <th>2</th>\n",
       "      <td>Female</td>\n",
       "      <td>B</td>\n",
       "      <td>200</td>\n",
       "      <td>6</td>\n",
       "    </tr>\n",
       "    <tr>\n",
       "      <th>3</th>\n",
       "      <td>Male</td>\n",
       "      <td>B</td>\n",
       "      <td>200</td>\n",
       "      <td>2</td>\n",
       "    </tr>\n",
       "    <tr>\n",
       "      <th>4</th>\n",
       "      <td>Female</td>\n",
       "      <td>A</td>\n",
       "      <td>100</td>\n",
       "      <td>8</td>\n",
       "    </tr>\n",
       "  </tbody>\n",
       "</table>\n",
       "</div>"
      ],
      "text/plain": [
       "   Gender Product  Profit  Visits\n",
       "0    Male       A     100       1\n",
       "1  Female       A     100       3\n",
       "2  Female       B     200       6\n",
       "3    Male       B     200       2\n",
       "4  Female       A     100       8"
      ]
     },
     "execution_count": 110,
     "metadata": {},
     "output_type": "execute_result"
    }
   ],
   "source": [
    "#Frequency table\n",
    "\n",
    "#New demo dataframe\n",
    "df = pd.DataFrame({\n",
    "    'Gender': ['Male', 'Female', 'Female', 'Male', 'Female', 'Male'],\n",
    "    'Product': ['A', 'A', 'B', 'B', 'A', 'C'],\n",
    "    'Profit': [100, 100, 200, 200, 100, 50],\n",
    "    'Visits': [1, 3, 6, 2, 8, 1]\n",
    "})\n",
    "\n",
    "\n",
    "frequency_table_products = df['Product'].value_counts()\n",
    "print(frequency_table_products) \n",
    "print(\"\\n\")\n",
    "frequency_table_gender = df['Gender'].value_counts()\n",
    "print(frequency_table_gender)\n",
    "\n",
    "df.head()"
   ]
  },
  {
   "cell_type": "code",
   "execution_count": 102,
   "id": "c1ca877e-2876-43e4-a4ca-9f3f21079c55",
   "metadata": {
    "tags": []
   },
   "outputs": [
    {
     "name": "stdout",
     "output_type": "stream",
     "text": [
      "Product  A  B  C\n",
      "Gender          \n",
      "Female   2  1  0\n",
      "Male     1  1  1\n",
      "\n",
      "\n",
      "Product      A      B     C\n",
      "Gender                     \n",
      "Female   200.0  200.0   NaN\n",
      "Male     100.0  200.0  50.0\n"
     ]
    }
   ],
   "source": [
    "#Crosstabulation\n",
    "print(pd.crosstab(index=df['Gender'], columns=df['Product']))\n",
    "\n",
    "print(\"\\n\") #Spacing\n",
    "\n",
    "print(pd.crosstab(index=df['Gender'], columns=df['Product'], values=df['Profit'], aggfunc='sum'))"
   ]
  },
  {
   "cell_type": "code",
   "execution_count": 126,
   "id": "6d7e9b36-b582-4510-a205-09b02274bdd3",
   "metadata": {
    "tags": []
   },
   "outputs": [
    {
     "name": "stdout",
     "output_type": "stream",
     "text": [
      "   Profit  Visits  Gender_Female  Gender_Male  Product_A  Product_B  Product_C\n",
      "0     100       1          False         True       True      False      False\n",
      "1     100       3           True        False       True      False      False\n",
      "2     200       6           True        False      False       True      False\n",
      "3     200       2          False         True      False       True      False\n",
      "4     100       8           True        False       True      False      False\n",
      "   Profit  Visits  Gender_Female  Gender_Male  Product_A  Product_B  Product_C\n",
      "0     100       1              0            1          1          0          0\n",
      "1     100       3              1            0          1          0          0\n",
      "2     200       6              1            0          0          1          0\n",
      "3     200       2              0            1          0          1          0\n",
      "4     100       8              1            0          1          0          0\n",
      "   Gender  Profit  Visits  Product_A  Product_B  Product_C\n",
      "0    Male     100       1          1          0          0\n",
      "1  Female     100       3          1          0          0\n",
      "2  Female     200       6          0          1          0\n",
      "3    Male     200       2          0          1          0\n",
      "4  Female     100       8          1          0          0\n"
     ]
    }
   ],
   "source": [
    "#Create Dummy Variables Categorical Variables \n",
    "dfdb = pd.get_dummies(df) #Boolean dummies for all categorical variables \n",
    "print(dfdb.head())\n",
    "\n",
    "dfdi = pd.get_dummies(df, dtype=int) #Integer dummies for all categorical variables\n",
    "print(dfdi.head())\n",
    "\n",
    "dfd3 = pd.get_dummies(df, columns=['Product'], dtype=int) #Integer dummies for specific categorical variables\n",
    "print(dfd3.head())"
   ]
  },
  {
   "cell_type": "code",
   "execution_count": 156,
   "id": "64637270",
   "metadata": {
    "tags": []
   },
   "outputs": [
    {
     "name": "stdout",
     "output_type": "stream",
     "text": [
      "            Profit\n",
      "Gender            \n",
      "Female  133.333333\n",
      "Male    116.666667\n",
      "            Profit     \n",
      "              mean  max\n",
      "Gender                 \n",
      "Female  133.333333  200\n",
      "Male    116.666667  200\n",
      "               Profit             Visits    \n",
      "                  min  max   mean    min max\n",
      "Gender Product                              \n",
      "Female A          100  100  100.0      3   8\n",
      "       B          200  200  200.0      6   6\n",
      "Male   A          100  100  100.0      1   1\n",
      "       B          200  200  200.0      2   2\n",
      "       C           50   50   50.0      1   1\n"
     ]
    }
   ],
   "source": [
    "#Grouping and Aggregating Statistics\n",
    "group1 = df.groupby(['Gender']).aggregate({'Profit':'mean'}) #One group variable, one variable, one statistic\n",
    "print(group1)\n",
    "\n",
    "group2 = df.groupby(['Gender']).aggregate({'Profit':['mean','max']}) #One group variable, one variable, two statistics\n",
    "print(group2)\n",
    "\n",
    "group3 = df.groupby(['Gender','Product']).aggregate({'Profit':['min','max', 'mean'],'Visits':['min','max']}) #Two group variables, two variables, five statistics\n",
    "print(group3)"
   ]
  },
  {
   "cell_type": "code",
   "execution_count": 92,
   "id": "7b7d143b",
   "metadata": {
    "tags": []
   },
   "outputs": [
    {
     "name": "stdout",
     "output_type": "stream",
     "text": [
      "Count      1.0    2.0    3.0    4.0    5.0    6.0   7.0    8.0    9.0    10.0\n",
      "Category                                                                     \n",
      "A           NaN  150.0  156.0  234.0  227.0   45.0  83.0   55.0  177.0  286.0\n",
      "B         156.0  265.0  183.0    2.0   91.0  191.0  96.0  147.0  106.0  228.0\n",
      "C         177.0  141.0  140.0  291.0  447.0  148.0  97.0   53.0   16.0   19.0\n"
     ]
    }
   ],
   "source": [
    "#Pivot tables\n",
    "pivot_table = df1.pivot_table(values='Value', index='Category', columns='Count', aggfunc='sum')\n",
    "print(pivot_table)"
   ]
  },
  {
   "cell_type": "code",
   "execution_count": 26,
   "id": "b85eca1b",
   "metadata": {
    "tags": []
   },
   "outputs": [],
   "source": [
    "#Write a data frame to a CSV file\n",
    "df1.to_csv('output.csv', index=False)"
   ]
  },
  {
   "cell_type": "code",
   "execution_count": 94,
   "id": "b0188712",
   "metadata": {
    "tags": []
   },
   "outputs": [],
   "source": [
    "#Write a data frame to an Excel file\n",
    "df.to_excel('output.xlsx', index=False)"
   ]
  },
  {
   "cell_type": "code",
   "execution_count": 95,
   "id": "d0bd28ee",
   "metadata": {
    "tags": []
   },
   "outputs": [],
   "source": [
    "#Write a data frame to a JSON file\n",
    "df.to_json('output.json')"
   ]
  },
  {
   "cell_type": "code",
   "execution_count": 96,
   "id": "ebd53e8c-7bb2-42dd-b710-99eab7d8b999",
   "metadata": {
    "tags": []
   },
   "outputs": [],
   "source": [
    "#Write a data frame to an HTML file\n",
    "df.to_html('output.html')"
   ]
  }
 ],
 "metadata": {
  "kernelspec": {
   "display_name": "Python [conda env:base] *",
   "language": "python",
   "name": "conda-base-py"
  },
  "language_info": {
   "codemirror_mode": {
    "name": "ipython",
    "version": 3
   },
   "file_extension": ".py",
   "mimetype": "text/x-python",
   "name": "python",
   "nbconvert_exporter": "python",
   "pygments_lexer": "ipython3",
   "version": "3.12.2"
  }
 },
 "nbformat": 4,
 "nbformat_minor": 5
}
