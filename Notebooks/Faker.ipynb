{
 "cells": [
  {
   "cell_type": "markdown",
   "id": "a5d28e23-13bf-4a53-91bf-22a3de3a3c1f",
   "metadata": {},
   "source": [
    "# Faker - For Fake Data Generation"
   ]
  },
  {
   "cell_type": "code",
   "execution_count": 2,
   "id": "87322d63-03e4-4b8d-afa0-4dcfcc31820f",
   "metadata": {},
   "outputs": [],
   "source": [
    "from faker import Faker\n",
    "fake = Faker()"
   ]
  },
  {
   "cell_type": "code",
   "execution_count": 4,
   "id": "c1592849-6c71-4257-855d-a26feb217a23",
   "metadata": {},
   "outputs": [
    {
     "name": "stdout",
     "output_type": "stream",
     "text": [
      "Nancy Anderson\n",
      "Robert\n",
      "Chang\n",
      "2945 Martin Prairie Apt. 550\n",
      "Greenbury, CA 60323\n",
      "beth34@example.org\n",
      "938.745.3745\n",
      "2005-01-21\n"
     ]
    }
   ],
   "source": [
    "print(fake.name())       #Random full name\n",
    "print(fake.first_name()) #First name\n",
    "print(fake.last_name())  #Last name\n",
    "print(fake.address())    #Address\n",
    "print(fake.email())      #Email\n",
    "print(fake.phone_number())  #Phone number\n",
    "print(fake.date_of_birth()) #Random DOB"
   ]
  },
  {
   "cell_type": "code",
   "execution_count": 12,
   "id": "155ed57d-351d-422b-9cfa-f9cb4ba4bfe8",
   "metadata": {},
   "outputs": [
    {
     "name": "stdout",
     "output_type": "stream",
     "text": [
      "Prepare state structure degree.\n",
      "Cell central area to purpose past. Land development use fish well begin employee. Toward hope develop not picture seek.\n",
      "Join seven agent task character campaign girl. Future recently with lawyer treat. Stop relate policy simply sound hospital.\n",
      "44\n"
     ]
    }
   ],
   "source": [
    "print(fake.sentence())  #Random sentence\n",
    "print(fake.paragraph()) #Random paragraph\n",
    "print(fake.text())      #Longer text\n",
    "print(fake.random_int(min=1, max=100))  #Random integer"
   ]
  },
  {
   "cell_type": "code",
   "execution_count": 12,
   "id": "2f96303c-d4b6-4a06-9497-9bca24ed1632",
   "metadata": {},
   "outputs": [
    {
     "name": "stdout",
     "output_type": "stream",
     "text": [
      "Lara Group\n",
      "Community arts worker\n",
      "GB80JQYL96286536889704\n",
      "4374282565717\n",
      "Bosnia and Herzegovina convertible mark\n"
     ]
    }
   ],
   "source": [
    "print(fake.company())       #Random company name\n",
    "print(fake.job())           #Job title\n",
    "print(fake.iban())          #Bank account number\n",
    "print(fake.credit_card_number()) #Credit card number\n",
    "print(fake.currency_name()) #Currency name"
   ]
  },
  {
   "cell_type": "code",
   "execution_count": 27,
   "id": "1d3416c7-1dbd-4000-af50-4bdfee091885",
   "metadata": {},
   "outputs": [
    {
     "name": "stdout",
     "output_type": "stream",
     "text": [
      "1995-09-11\n",
      "2002-01-26 20:59:45.051189\n",
      "2025-01-17\n",
      "2025-02-12\n"
     ]
    }
   ],
   "source": [
    "print(fake.date())          #Random date\n",
    "print(fake.date_time())     #Random datetime\n",
    "print(fake.past_date())     #Date in the past\n",
    "print(fake.future_date())   #Future date"
   ]
  },
  {
   "cell_type": "code",
   "execution_count": 29,
   "id": "9ec6aa1c-9482-4954-b76a-82c45312c544",
   "metadata": {},
   "outputs": [
    {
     "name": "stdout",
     "output_type": "stream",
     "text": [
      "62.131.5.151\n",
      "http://bishop.biz/\n",
      "davis-simmons.com\n",
      "riveratheresa\n",
      "@hAfGfar9@\n"
     ]
    }
   ],
   "source": [
    "print(fake.ipv4())       #IPv4 address\n",
    "print(fake.url())        #URL\n",
    "print(fake.domain_name()) #Domain name\n",
    "print(fake.user_name())  #Username\n",
    "print(fake.password())   #Random password"
   ]
  },
  {
   "cell_type": "code",
   "execution_count": 31,
   "id": "67e83c64-b953-4e9f-87d5-e84a378a7a1f",
   "metadata": {},
   "outputs": [
    {
     "name": "stdout",
     "output_type": "stream",
     "text": [
      "{'job': 'Careers adviser', 'company': 'Moreno PLC', 'ssn': '804-29-5173', 'residence': '38915 Donna Courts\\nEast Peter, DC 06766', 'current_location': (Decimal('75.7089215'), Decimal('110.899074')), 'blood_group': 'AB+', 'website': ['https://www.hartman.com/', 'https://ortega.com/', 'https://french.net/', 'https://carey-brewer.com/'], 'username': 'allen72', 'name': 'Trevor Mejia', 'sex': 'M', 'address': '29066 Kevin Viaduct\\nFoleystad, ME 38945', 'mail': 'joy28@yahoo.com', 'birthdate': datetime.date(1979, 8, 7)}\n"
     ]
    }
   ],
   "source": [
    "print(fake.profile())  #Dictionary with personal details"
   ]
  },
  {
   "cell_type": "code",
   "execution_count": 33,
   "id": "90f22f90-93c5-4fbf-aaa1-0d739fcee1cf",
   "metadata": {},
   "outputs": [
    {
     "name": "stdout",
     "output_type": "stream",
     "text": [
      "[{\"name\": \"Daniel Delgado\", \"residency\": \"31237 Sanford Run Suite 740\\nAmbershire, ND 43531\"}, {\"name\": \"Jenna Holder\", \"residency\": \"0798 Wiley Throughway\\nChristineburgh, IN 40554\"}, {\"name\": \"Malik Walton\", \"residency\": \"01387 Moss Drive\\nWest Corymouth, NM 17580\"}, {\"name\": \"Daniel Rose\", \"residency\": \"Unit 4637 Box 9679\\nDPO AE 39907\"}, {\"name\": \"Patricia Carter\", \"residency\": \"39159 Martha Path Apt. 665\\nWest Anitatown, GU 60253\"}, {\"name\": \"Megan Taylor\", \"residency\": \"229 Danielle Hollow Apt. 749\\nSantiagofurt, VT 03669\"}, {\"name\": \"Kathleen Galvan\", \"residency\": \"842 Hicks Islands\\nSouth Ryan, ID 87204\"}, {\"name\": \"Trevor Murphy\", \"residency\": \"78274 Burke Parks\\nJenniferfurt, SC 28775\"}, {\"name\": \"Julia West\", \"residency\": \"0640 Benson Trace\\nSantosside, WI 73824\"}, {\"name\": \"Cheryl Schmidt\", \"residency\": \"Unit 6182 Box 1833\\nDPO AE 95645\"}]\n"
     ]
    }
   ],
   "source": [
    "print(fake.json())  #Generate JSON data"
   ]
  },
  {
   "cell_type": "code",
   "execution_count": 39,
   "id": "1eb1e9b0-ff55-4bb5-afd9-899dfaed9697",
   "metadata": {},
   "outputs": [
    {
     "name": "stdout",
     "output_type": "stream",
     "text": [
      "Roy Williams - john04@example.org\n",
      "Joseph Hawkins - virginia20@example.net\n",
      "Molly Harris - laurenyork@example.org\n",
      "Joseph Johnson - escobarelijah@example.com\n",
      "Julie Small - drewriley@example.org\n"
     ]
    }
   ],
   "source": [
    "fake = Faker()\n",
    "\n",
    "for i in range(5):\n",
    "    print(fake.name(), \"-\", fake.email())"
   ]
  }
 ],
 "metadata": {
  "kernelspec": {
   "display_name": "Python [conda env:base] *",
   "language": "python",
   "name": "conda-base-py"
  },
  "language_info": {
   "codemirror_mode": {
    "name": "ipython",
    "version": 3
   },
   "file_extension": ".py",
   "mimetype": "text/x-python",
   "name": "python",
   "nbconvert_exporter": "python",
   "pygments_lexer": "ipython3",
   "version": "3.12.2"
  }
 },
 "nbformat": 4,
 "nbformat_minor": 5
}
