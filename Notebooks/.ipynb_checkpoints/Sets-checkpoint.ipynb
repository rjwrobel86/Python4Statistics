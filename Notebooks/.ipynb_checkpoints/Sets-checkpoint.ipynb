{
 "cells": [
  {
   "cell_type": "markdown",
   "id": "7f20cc13-5661-4d84-ac5b-6969bc7847b3",
   "metadata": {},
   "source": [
    "# Sets"
   ]
  },
  {
   "cell_type": "code",
   "execution_count": 16,
   "id": "a6a70dc5-8921-476b-87fe-66c893506039",
   "metadata": {},
   "outputs": [
    {
     "name": "stdout",
     "output_type": "stream",
     "text": [
      "{1, 2, 3, 4}\n"
     ]
    }
   ],
   "source": [
    "#Set - Converts list to set and removes all duplicate values\n",
    "numbers1 = [1, 2, 2, 3, 4, 4, 5]\n",
    "set1 = set(set1)\n",
    "print(set1)"
   ]
  },
  {
   "cell_type": "code",
   "execution_count": 18,
   "id": "0064baaa-7cb1-4b8c-8741-ddc6613a28f3",
   "metadata": {},
   "outputs": [
    {
     "name": "stdout",
     "output_type": "stream",
     "text": [
      "{1, 2}\n"
     ]
    }
   ],
   "source": [
    "#Intersection - All unique elements found in both sets\n",
    "numbers2 = [1, 2, 5, 7]\n",
    "set2 = set(numbers2)\n",
    "common_values = set1.intersection(set2)\n",
    "print(common_values)"
   ]
  },
  {
   "cell_type": "code",
   "execution_count": 20,
   "id": "6e3684e6-02cc-49f0-b5ed-a027a5871c26",
   "metadata": {},
   "outputs": [
    {
     "name": "stdout",
     "output_type": "stream",
     "text": [
      "{1, 2, 3, 4, 5, 7}\n"
     ]
    }
   ],
   "source": [
    "#Union - All unique elements found in either set\n",
    "union_set = set1.union(set2)  \n",
    "print(union_set)  "
   ]
  },
  {
   "cell_type": "code",
   "execution_count": 24,
   "id": "ca40fe0e-402b-4705-94c7-922728caf1b0",
   "metadata": {},
   "outputs": [
    {
     "name": "stdout",
     "output_type": "stream",
     "text": [
      "{3, 4}\n"
     ]
    }
   ],
   "source": [
    "#Difference - All elements in set1 not in set2\n",
    "difference_set = set1.difference(set2)  \n",
    "print(difference_set)"
   ]
  }
 ],
 "metadata": {
  "kernelspec": {
   "display_name": "Python [conda env:base] *",
   "language": "python",
   "name": "conda-base-py"
  },
  "language_info": {
   "codemirror_mode": {
    "name": "ipython",
    "version": 3
   },
   "file_extension": ".py",
   "mimetype": "text/x-python",
   "name": "python",
   "nbconvert_exporter": "python",
   "pygments_lexer": "ipython3",
   "version": "3.12.7"
  }
 },
 "nbformat": 4,
 "nbformat_minor": 5
}
