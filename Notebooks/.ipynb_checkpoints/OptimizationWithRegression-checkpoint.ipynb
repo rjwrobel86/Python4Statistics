{
 "cells": [
  {
   "cell_type": "markdown",
   "id": "143a6b61-a61d-44ed-a295-d11ce3a93473",
   "metadata": {},
   "source": [
    "# Optimiazation With Regression"
   ]
  },
  {
   "cell_type": "code",
   "execution_count": null,
   "id": "31929112-bbdb-4ee0-a047-f9125974083d",
   "metadata": {},
   "outputs": [],
   "source": [
    "import pandas as pd\n",
    "import numpy as np\n",
    "import statsmodels.api as sm\n",
    "from scipy.optimize import minimize\n",
    "\n",
    "df = pd.read_csv('/Users/robertwrobel/Code/Python4Statistics/Data/gpa_data.csv')\n",
    "\n",
    "#Add quadratic terms for Sleep and Exercise to model concavity and Log-transform StudyTime to model diminishing returns\n",
    "df[\"Sleep^2\"] = df[\"Sleep\"] ** 2\n",
    "df[\"Exercise^2\"] = df[\"Exercise\"] ** 2\n",
    "df[\"Log_StudyTime\"] = np.log(1 + df[\"StudyTime\"])\n",
    "\n",
    "y = df['GPA']\n",
    "X = df[[\"Sleep\", \"Sleep^2\", \"Exercise\", \"Exercise^2\", \"Log_StudyTime\"]]\n",
    "X = sm.add_constant(X)  \n",
    "\n",
    "model = sm.OLS(y, X)\n",
    "results = model.fit()\n",
    "results.summary()"
   ]
  },
  {
   "cell_type": "code",
   "execution_count": 5,
   "id": "9e9a504f-fd5f-4105-ae31-d73816a672b7",
   "metadata": {},
   "outputs": [
    {
     "name": "stdout",
     "output_type": "stream",
     "text": [
      "Optimal Sleep: 7.959724551474434 hours\n",
      "Optimal Exercise: 1.5016573322360485 hours\n",
      "Optimal Study Time: 10.0 hours\n"
     ]
    },
    {
     "name": "stderr",
     "output_type": "stream",
     "text": [
      "/var/folders/6t/1_v9ync132lgs0k2f0d3t9mc0000gn/T/ipykernel_31839/667659584.py:2: FutureWarning: Series.__getitem__ treating keys as positions is deprecated. In a future version, integer keys will always be treated as labels (consistent with DataFrame behavior). To access a value by position, use `ser.iloc[pos]`\n",
      "  beta_0 = params[0]  #Intercept\n",
      "/var/folders/6t/1_v9ync132lgs0k2f0d3t9mc0000gn/T/ipykernel_31839/667659584.py:3: FutureWarning: Series.__getitem__ treating keys as positions is deprecated. In a future version, integer keys will always be treated as labels (consistent with DataFrame behavior). To access a value by position, use `ser.iloc[pos]`\n",
      "  beta_1 = params[1]  #Coefficient for Sleep\n",
      "/var/folders/6t/1_v9ync132lgs0k2f0d3t9mc0000gn/T/ipykernel_31839/667659584.py:4: FutureWarning: Series.__getitem__ treating keys as positions is deprecated. In a future version, integer keys will always be treated as labels (consistent with DataFrame behavior). To access a value by position, use `ser.iloc[pos]`\n",
      "  beta_2 = params[2]  #Coefficient for Sleep^2\n",
      "/var/folders/6t/1_v9ync132lgs0k2f0d3t9mc0000gn/T/ipykernel_31839/667659584.py:5: FutureWarning: Series.__getitem__ treating keys as positions is deprecated. In a future version, integer keys will always be treated as labels (consistent with DataFrame behavior). To access a value by position, use `ser.iloc[pos]`\n",
      "  beta_3 = params[3]  #Coefficient for Exercise\n",
      "/var/folders/6t/1_v9ync132lgs0k2f0d3t9mc0000gn/T/ipykernel_31839/667659584.py:6: FutureWarning: Series.__getitem__ treating keys as positions is deprecated. In a future version, integer keys will always be treated as labels (consistent with DataFrame behavior). To access a value by position, use `ser.iloc[pos]`\n",
      "  beta_4 = params[4]  #Coefficient for Exercise^2\n",
      "/var/folders/6t/1_v9ync132lgs0k2f0d3t9mc0000gn/T/ipykernel_31839/667659584.py:7: FutureWarning: Series.__getitem__ treating keys as positions is deprecated. In a future version, integer keys will always be treated as labels (consistent with DataFrame behavior). To access a value by position, use `ser.iloc[pos]`\n",
      "  beta_5 = params[5]  #Coefficient for log(Study Time)\n"
     ]
    }
   ],
   "source": [
    "params = results.params\n",
    "beta_0 = params[0]  #Intercept\n",
    "beta_1 = params[1]  #Coefficient for Sleep\n",
    "beta_2 = params[2]  #Coefficient for Sleep^2\n",
    "beta_3 = params[3]  #Coefficient for Exercise\n",
    "beta_4 = params[4]  #Coefficient for Exercise^2\n",
    "beta_5 = params[5]  #Coefficient for log(Study Time)\n",
    "\n",
    "#Define the GPA function\n",
    "def gpa_function(x):\n",
    "    sleep, exercise, study_time = x\n",
    "    return -(beta_0 +\n",
    "             beta_1 * sleep + beta_2 * sleep**2 +\n",
    "             beta_3 * exercise + beta_4 * exercise**2 +\n",
    "             beta_5 * np.log(study_time))\n",
    "\n",
    "#Initial guesses for sleep, exercise, and study time\n",
    "initial_guess = [10, 0.1, 2]  #7 hours sleep, 1 hour exercise, 2 hours study\n",
    "\n",
    "#Define bounds for each variable \n",
    "bounds = [(4, 10),   #Sleep bounds\n",
    "          (0, 3),    #Exercise bounds\n",
    "          (0.1, 10)] #Study time bounds (avoid log(0) by setting lower bound > 0)\n",
    "\n",
    "result = minimize(gpa_function, initial_guess, bounds=bounds)\n",
    "\n",
    "#Optimal values\n",
    "optimal_sleep = result.x[0]\n",
    "optimal_exercise = result.x[1]\n",
    "optimal_study_time = result.x[2]\n",
    "\n",
    "print(f\"Optimal Sleep: {optimal_sleep} hours\")\n",
    "print(f\"Optimal Exercise: {optimal_exercise} hours\")\n",
    "print(f\"Optimal Study Time: {optimal_study_time} hours\")"
   ]
  }
 ],
 "metadata": {
  "kernelspec": {
   "display_name": "Python [conda env:base] *",
   "language": "python",
   "name": "conda-base-py"
  },
  "language_info": {
   "codemirror_mode": {
    "name": "ipython",
    "version": 3
   },
   "file_extension": ".py",
   "mimetype": "text/x-python",
   "name": "python",
   "nbconvert_exporter": "python",
   "pygments_lexer": "ipython3",
   "version": "3.12.2"
  }
 },
 "nbformat": 4,
 "nbformat_minor": 5
}
