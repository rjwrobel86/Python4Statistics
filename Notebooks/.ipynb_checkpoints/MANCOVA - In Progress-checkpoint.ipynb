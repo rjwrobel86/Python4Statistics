{
 "cells": [
  {
   "cell_type": "code",
   "execution_count": 1,
   "id": "e8344f42-ae89-47e7-84df-cb83f068380e",
   "metadata": {},
   "outputs": [],
   "source": [
    "import pandas as pd\n",
    "import numpy as np\n",
    "import statsmodels.api as sm\n",
    "import statsmodels.multivariate.manova as manova\n",
    "\n",
    "data = {\n",
    "    'Salary': [60000, 65000, 70000, 72000, 75000, 50000, 52000, 58000, 61000, 63000],\n",
    "    'JobSatisfaction': [3.5, 4.2, 4.0, 3.8, 4.5, 2.5, 2.8, 3.2, 3.6, 4.1],\n",
    "    'Major': ['Engineering', 'Engineering', 'Engineering', 'Business', 'Business',\n",
    "              'Arts', 'Arts', 'Arts', 'Business', 'Engineering'],\n",
    "    'Age': [25, 27, 29, 24, 26, 30, 33, 35, 28, 22]  # Covariate\n",
    "}\n",
    "\n",
    "df = pd.DataFrame(data)"
   ]
  },
  {
   "cell_type": "code",
   "execution_count": 3,
   "id": "09bae02a-5017-4702-b5bb-87763155e9cd",
   "metadata": {},
   "outputs": [
    {
     "name": "stdout",
     "output_type": "stream",
     "text": [
      "                 Multivariate linear model\n",
      "============================================================\n",
      "                                                            \n",
      "------------------------------------------------------------\n",
      "        Intercept        Value  Num DF Den DF F Value Pr > F\n",
      "------------------------------------------------------------\n",
      "           Wilks' lambda 0.7586 2.0000 5.0000  0.7954 0.5013\n",
      "          Pillai's trace 0.2414 2.0000 5.0000  0.7954 0.5013\n",
      "  Hotelling-Lawley trace 0.3182 2.0000 5.0000  0.7954 0.5013\n",
      "     Roy's greatest root 0.3182 2.0000 5.0000  0.7954 0.5013\n",
      "------------------------------------------------------------\n",
      "                                                            \n",
      "------------------------------------------------------------\n",
      "         Major          Value  Num DF  Den DF F Value Pr > F\n",
      "------------------------------------------------------------\n",
      "          Wilks' lambda 0.2854 4.0000 10.0000  2.1798 0.1448\n",
      "         Pillai's trace 0.8921 4.0000 12.0000  2.4156 0.1062\n",
      " Hotelling-Lawley trace 1.8822 4.0000  5.1429  2.3100 0.1884\n",
      "    Roy's greatest root 1.4548 2.0000  6.0000  4.3643 0.0676\n",
      "------------------------------------------------------------\n",
      "                                                            \n",
      "------------------------------------------------------------\n",
      "           Age           Value  Num DF Den DF F Value Pr > F\n",
      "------------------------------------------------------------\n",
      "           Wilks' lambda 0.9310 2.0000 5.0000  0.1854 0.8363\n",
      "          Pillai's trace 0.0690 2.0000 5.0000  0.1854 0.8363\n",
      "  Hotelling-Lawley trace 0.0741 2.0000 5.0000  0.1854 0.8363\n",
      "     Roy's greatest root 0.0741 2.0000 5.0000  0.1854 0.8363\n",
      "============================================================\n",
      "\n"
     ]
    }
   ],
   "source": [
    "mancova_model = manova.MANOVA.from_formula('Salary + JobSatisfaction ~ Major + Age', data=df)\n",
    "print(mancova_model.mv_test())"
   ]
  },
  {
   "cell_type": "code",
   "execution_count": null,
   "id": "556c1299-384d-4171-9afd-6073a0dcf35e",
   "metadata": {},
   "outputs": [],
   "source": []
  }
 ],
 "metadata": {
  "kernelspec": {
   "display_name": "Python [conda env:base] *",
   "language": "python",
   "name": "conda-base-py"
  },
  "language_info": {
   "codemirror_mode": {
    "name": "ipython",
    "version": 3
   },
   "file_extension": ".py",
   "mimetype": "text/x-python",
   "name": "python",
   "nbconvert_exporter": "python",
   "pygments_lexer": "ipython3",
   "version": "3.12.7"
  }
 },
 "nbformat": 4,
 "nbformat_minor": 5
}
