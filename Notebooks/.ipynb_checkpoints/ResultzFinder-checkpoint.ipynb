{
 "cells": [
  {
   "cell_type": "code",
   "execution_count": 5,
   "id": "da7d9a50-4901-4c04-a518-9cade0f63f7a",
   "metadata": {},
   "outputs": [],
   "source": [
    "import os\n",
    "import zipfile\n",
    "\n",
    "def unzip_and_scan(folder_path, search_word=\"Resultz\"):\n",
    "    for file in os.listdir(folder_path):\n",
    "        file_path = os.path.join(folder_path, file)\n",
    "        \n",
    "        if file.lower().endswith(\".zip\"):\n",
    "            extract_folder = os.path.join(folder_path, file[:-4])  # Folder with same name as zip\n",
    "            \n",
    "            with zipfile.ZipFile(file_path, 'r') as zip_ref:\n",
    "                zip_ref.extractall(extract_folder)\n",
    "                #print(f\"Extracted: {file} to {extract_folder}\")\n",
    "    \n",
    "    #Recursively scan all files in extracted folders\n",
    "    for root, _, files in os.walk(folder_path):\n",
    "        for extracted_file in files:\n",
    "            extracted_file_path = os.path.join(root, extracted_file)\n",
    "            try:\n",
    "                with open(extracted_file_path, \"r\", encoding=\"utf-8\", errors=\"ignore\") as f:\n",
    "                    content = f.read()\n",
    "                    if search_word in content:\n",
    "                        print(f\"Found '{search_word}' in: {extracted_file_path}\")\n",
    "            except Exception as e:\n",
    "                print(f\"Could not read {extracted_file_path}: {e}\")\n",
    "\n",
    "\n",
    "folder_to_scan = \"/Users/robertwrobel/Downloads/submissions4\"  \n",
    "unzip_and_scan(folder_to_scan)\n"
   ]
  }
 ],
 "metadata": {
  "kernelspec": {
   "display_name": "Python [conda env:base] *",
   "language": "python",
   "name": "conda-base-py"
  },
  "language_info": {
   "codemirror_mode": {
    "name": "ipython",
    "version": 3
   },
   "file_extension": ".py",
   "mimetype": "text/x-python",
   "name": "python",
   "nbconvert_exporter": "python",
   "pygments_lexer": "ipython3",
   "version": "3.12.2"
  }
 },
 "nbformat": 4,
 "nbformat_minor": 5
}
