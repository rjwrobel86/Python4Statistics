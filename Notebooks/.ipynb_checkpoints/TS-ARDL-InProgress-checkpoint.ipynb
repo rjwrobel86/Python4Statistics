{
 "cells": [
  {
   "cell_type": "code",
   "execution_count": 7,
   "id": "257eae54-dd06-4490-a2ac-3ff1cf1aa002",
   "metadata": {},
   "outputs": [
    {
     "data": {
      "text/html": [
       "<div>\n",
       "<style scoped>\n",
       "    .dataframe tbody tr th:only-of-type {\n",
       "        vertical-align: middle;\n",
       "    }\n",
       "\n",
       "    .dataframe tbody tr th {\n",
       "        vertical-align: top;\n",
       "    }\n",
       "\n",
       "    .dataframe thead th {\n",
       "        text-align: right;\n",
       "    }\n",
       "</style>\n",
       "<table border=\"1\" class=\"dataframe\">\n",
       "  <thead>\n",
       "    <tr style=\"text-align: right;\">\n",
       "      <th></th>\n",
       "      <th>Y</th>\n",
       "      <th>X1</th>\n",
       "      <th>X2</th>\n",
       "    </tr>\n",
       "  </thead>\n",
       "  <tbody>\n",
       "    <tr>\n",
       "      <th>0</th>\n",
       "      <td>0.000000</td>\n",
       "      <td>0.496714</td>\n",
       "      <td>-1.415371</td>\n",
       "    </tr>\n",
       "    <tr>\n",
       "      <th>1</th>\n",
       "      <td>0.000000</td>\n",
       "      <td>0.358450</td>\n",
       "      <td>-1.836016</td>\n",
       "    </tr>\n",
       "    <tr>\n",
       "      <th>2</th>\n",
       "      <td>-0.028776</td>\n",
       "      <td>1.006138</td>\n",
       "      <td>-2.178731</td>\n",
       "    </tr>\n",
       "    <tr>\n",
       "      <th>3</th>\n",
       "      <td>0.163025</td>\n",
       "      <td>2.529168</td>\n",
       "      <td>-2.981008</td>\n",
       "    </tr>\n",
       "    <tr>\n",
       "      <th>4</th>\n",
       "      <td>0.335431</td>\n",
       "      <td>2.295015</td>\n",
       "      <td>-3.142294</td>\n",
       "    </tr>\n",
       "    <tr>\n",
       "      <th>...</th>\n",
       "      <td>...</td>\n",
       "      <td>...</td>\n",
       "      <td>...</td>\n",
       "    </tr>\n",
       "    <tr>\n",
       "      <th>95</th>\n",
       "      <td>-3.716945</td>\n",
       "      <td>-10.712354</td>\n",
       "      <td>4.045353</td>\n",
       "    </tr>\n",
       "    <tr>\n",
       "      <th>96</th>\n",
       "      <td>-4.078246</td>\n",
       "      <td>-10.416233</td>\n",
       "      <td>3.161495</td>\n",
       "    </tr>\n",
       "    <tr>\n",
       "      <th>97</th>\n",
       "      <td>-3.933051</td>\n",
       "      <td>-10.155178</td>\n",
       "      <td>3.315220</td>\n",
       "    </tr>\n",
       "    <tr>\n",
       "      <th>98</th>\n",
       "      <td>-3.966568</td>\n",
       "      <td>-10.150065</td>\n",
       "      <td>3.373429</td>\n",
       "    </tr>\n",
       "    <tr>\n",
       "      <th>99</th>\n",
       "      <td>-3.954540</td>\n",
       "      <td>-10.384652</td>\n",
       "      <td>2.230459</td>\n",
       "    </tr>\n",
       "  </tbody>\n",
       "</table>\n",
       "<p>100 rows × 3 columns</p>\n",
       "</div>"
      ],
      "text/plain": [
       "           Y         X1        X2\n",
       "0   0.000000   0.496714 -1.415371\n",
       "1   0.000000   0.358450 -1.836016\n",
       "2  -0.028776   1.006138 -2.178731\n",
       "3   0.163025   2.529168 -2.981008\n",
       "4   0.335431   2.295015 -3.142294\n",
       "..       ...        ...       ...\n",
       "95 -3.716945 -10.712354  4.045353\n",
       "96 -4.078246 -10.416233  3.161495\n",
       "97 -3.933051 -10.155178  3.315220\n",
       "98 -3.966568 -10.150065  3.373429\n",
       "99 -3.954540 -10.384652  2.230459\n",
       "\n",
       "[100 rows x 3 columns]"
      ]
     },
     "execution_count": 7,
     "metadata": {},
     "output_type": "execute_result"
    }
   ],
   "source": [
    "import numpy as np\n",
    "import pandas as pd\n",
    "import statsmodels.api as sm\n",
    "from statsmodels.tsa.ardl import ARDL\n",
    "\n",
    "df = pd.read_csv('ardl_data.csv')\n",
    "df\n"
   ]
  },
  {
   "cell_type": "code",
   "execution_count": 20,
   "id": "5ecf1c65-822b-4281-adfa-a4745e316af2",
   "metadata": {},
   "outputs": [
    {
     "ename": "TypeError",
     "evalue": "ARDL.__init__() got an unexpected keyword argument 'exog_lags'",
     "output_type": "error",
     "traceback": [
      "\u001b[0;31m---------------------------------------------------------------------------\u001b[0m",
      "\u001b[0;31mTypeError\u001b[0m                                 Traceback (most recent call last)",
      "Cell \u001b[0;32mIn[20], line 1\u001b[0m\n\u001b[0;32m----> 1\u001b[0m model \u001b[38;5;241m=\u001b[39m ARDL(data[\u001b[38;5;124m'\u001b[39m\u001b[38;5;124mY\u001b[39m\u001b[38;5;124m'\u001b[39m], lags\u001b[38;5;241m=\u001b[39m\u001b[38;5;241m1\u001b[39m, exog\u001b[38;5;241m=\u001b[39mdata[[\u001b[38;5;124m'\u001b[39m\u001b[38;5;124mX1\u001b[39m\u001b[38;5;124m'\u001b[39m, \u001b[38;5;124m'\u001b[39m\u001b[38;5;124mX2\u001b[39m\u001b[38;5;124m'\u001b[39m]], exog_lags\u001b[38;5;241m=\u001b[39m{\u001b[38;5;124m'\u001b[39m\u001b[38;5;124mX1\u001b[39m\u001b[38;5;124m'\u001b[39m: \u001b[38;5;241m1\u001b[39m, \u001b[38;5;124m'\u001b[39m\u001b[38;5;124mX2\u001b[39m\u001b[38;5;124m'\u001b[39m: \u001b[38;5;241m2\u001b[39m})\n\u001b[1;32m      2\u001b[0m result \u001b[38;5;241m=\u001b[39m model\u001b[38;5;241m.\u001b[39mfit()\n\u001b[1;32m      4\u001b[0m \u001b[38;5;28mprint\u001b[39m(result\u001b[38;5;241m.\u001b[39msummary())\n",
      "\u001b[0;31mTypeError\u001b[0m: ARDL.__init__() got an unexpected keyword argument 'exog_lags'"
     ]
    }
   ],
   "source": [
    "model = ARDL(data['Y'], lags=1, exog=data[['X1', 'X2']], exog_lags={'X1': 1, 'X2': 2})\n",
    "result = model.fit()\n",
    "\n",
    "print(result.summary())"
   ]
  },
  {
   "cell_type": "code",
   "execution_count": 30,
   "id": "564c1802-aa8f-4643-ab73-8b92b206abd0",
   "metadata": {},
   "outputs": [
    {
     "ename": "TypeError",
     "evalue": "ARDL.__init__() got multiple values for argument 'lags'",
     "output_type": "error",
     "traceback": [
      "\u001b[0;31m---------------------------------------------------------------------------\u001b[0m",
      "\u001b[0;31mTypeError\u001b[0m                                 Traceback (most recent call last)",
      "Cell \u001b[0;32mIn[30], line 17\u001b[0m\n\u001b[1;32m     14\u001b[0m data \u001b[38;5;241m=\u001b[39m pd\u001b[38;5;241m.\u001b[39mDataFrame({\u001b[38;5;124m'\u001b[39m\u001b[38;5;124mx\u001b[39m\u001b[38;5;124m'\u001b[39m: x, \u001b[38;5;124m'\u001b[39m\u001b[38;5;124my\u001b[39m\u001b[38;5;124m'\u001b[39m: y}, index\u001b[38;5;241m=\u001b[39mpd\u001b[38;5;241m.\u001b[39mRangeIndex(\u001b[38;5;241m1\u001b[39m, n\u001b[38;5;241m+\u001b[39m\u001b[38;5;241m1\u001b[39m))\n\u001b[1;32m     16\u001b[0m \u001b[38;5;66;03m# Create and fit the ARDL model\u001b[39;00m\n\u001b[0;32m---> 17\u001b[0m model \u001b[38;5;241m=\u001b[39m ARDL(y, x, lags\u001b[38;5;241m=\u001b[39m{\u001b[38;5;124m'\u001b[39m\u001b[38;5;124my\u001b[39m\u001b[38;5;124m'\u001b[39m: [\u001b[38;5;241m1\u001b[39m, \u001b[38;5;241m2\u001b[39m], \u001b[38;5;124m'\u001b[39m\u001b[38;5;124mx\u001b[39m\u001b[38;5;124m'\u001b[39m: [\u001b[38;5;241m1\u001b[39m, \u001b[38;5;241m2\u001b[39m]})\n\u001b[1;32m     18\u001b[0m model_fit \u001b[38;5;241m=\u001b[39m model\u001b[38;5;241m.\u001b[39mfit()\n\u001b[1;32m     20\u001b[0m \u001b[38;5;66;03m# Print the summary\u001b[39;00m\n",
      "\u001b[0;31mTypeError\u001b[0m: ARDL.__init__() got multiple values for argument 'lags'"
     ]
    }
   ],
   "source": [
    "import pandas as pd\n",
    "import numpy as np\n",
    "import statsmodels.api as sm\n",
    "from statsmodels.tsa.ardl import ARDL\n",
    "import matplotlib.pyplot as plt\n",
    "\n",
    "# Generate some demo data\n",
    "np.random.seed(42)\n",
    "n = 100\n",
    "x = np.random.randn(n)\n",
    "y = 0.5 * x + np.random.randn(n)\n",
    "\n",
    "# Create a DataFrame\n",
    "data = pd.DataFrame({'x': x, 'y': y}, index=pd.RangeIndex(1, n+1))\n",
    "\n",
    "# Create and fit the ARDL model\n",
    "model = ARDL(y, x, lags={'y': [1, 2], 'x': [1, 2]})\n",
    "model_fit = model.fit()\n",
    "\n",
    "# Print the summary\n",
    "print(model_fit.summary())\n",
    "\n",
    "# Check for cointegration\n",
    "print(model_fit.bounds_test())\n",
    "\n",
    "# Plot the data and fitted values\n",
    "plt.figure(figsize=(10, 6))\n",
    "plt.plot(data['y'], label='Actual')\n",
    "plt.plot(model_fit.fittedvalues, label='Fitted')\n",
    "plt.legend()\n",
    "plt.title('Actual vs. Fitted Values')\n",
    "plt.show()"
   ]
  }
 ],
 "metadata": {
  "kernelspec": {
   "display_name": "Python 3 (ipykernel)",
   "language": "python",
   "name": "python3"
  },
  "language_info": {
   "codemirror_mode": {
    "name": "ipython",
    "version": 3
   },
   "file_extension": ".py",
   "mimetype": "text/x-python",
   "name": "python",
   "nbconvert_exporter": "python",
   "pygments_lexer": "ipython3",
   "version": "3.11.0"
  }
 },
 "nbformat": 4,
 "nbformat_minor": 5
}
