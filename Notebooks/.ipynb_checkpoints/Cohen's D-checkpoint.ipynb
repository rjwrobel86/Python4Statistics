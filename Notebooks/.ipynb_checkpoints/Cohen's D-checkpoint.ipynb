{
 "cells": [
  {
   "cell_type": "markdown",
   "id": "ced77886-87ce-43c3-a2a4-c22255872069",
   "metadata": {},
   "source": [
    "# Cohen's D"
   ]
  },
  {
   "cell_type": "code",
   "execution_count": 4,
   "id": "8e05bd1e-202d-4165-9458-faa7ccf2e4ee",
   "metadata": {},
   "outputs": [
    {
     "name": "stdout",
     "output_type": "stream",
     "text": [
      "Cohen's d: 2.956\n"
     ]
    }
   ],
   "source": [
    "import numpy as np\n",
    "\n",
    "treatment = np.array([75, 78, 85, 80, 88, 92, 79, 85, 84, 90])\n",
    "control = np.array([70, 72, 68, 75, 71, 65, 74, 69, 66, 72])\n",
    "\n",
    "mean_t = np.mean(treatment)\n",
    "mean_c = np.mean(control)\n",
    "\n",
    "std_t = np.std(treatment, ddof=1)  #Sample standard deviation (ddof=1)\n",
    "std_c = np.std(control, ddof=1)\n",
    "\n",
    "n_t = len(treatment)\n",
    "n_c = len(control)\n",
    "\n",
    "#Pooled standard deviation\n",
    "pooled_std = np.sqrt(((n_t - 1) * std_a**2 + (n_c - 1) * std_c**2) / (n_t + n_c - 2))\n",
    "\n",
    "#Cohen's d calculation\n",
    "cohen_d = (mean_t - mean_c) / pooled_std\n",
    "print(f\"Cohen's d: {cohen_d:.3f}\")"
   ]
  }
 ],
 "metadata": {
  "kernelspec": {
   "display_name": "Python [conda env:base] *",
   "language": "python",
   "name": "conda-base-py"
  },
  "language_info": {
   "codemirror_mode": {
    "name": "ipython",
    "version": 3
   },
   "file_extension": ".py",
   "mimetype": "text/x-python",
   "name": "python",
   "nbconvert_exporter": "python",
   "pygments_lexer": "ipython3",
   "version": "3.12.7"
  }
 },
 "nbformat": 4,
 "nbformat_minor": 5
}
