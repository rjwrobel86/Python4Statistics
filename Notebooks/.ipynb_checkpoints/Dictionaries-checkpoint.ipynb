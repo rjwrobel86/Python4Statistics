{
 "cells": [
  {
   "cell_type": "code",
   "execution_count": 2,
   "id": "949d4924-672e-4ea8-862b-8ebdf62424ea",
   "metadata": {},
   "outputs": [
    {
     "name": "stdout",
     "output_type": "stream",
     "text": [
      "{'name': 'Bob', 'age': 37, 'city': 'St. Louis'}\n"
     ]
    }
   ],
   "source": [
    "#Dictionaries\n",
    "\n",
    "#Create a dictionary\n",
    "demo_dict = {\"name\": \"Bob\", \"age\": 37, \"city\": \"St. Louis\"}\n",
    "print(demo_dict)"
   ]
  },
  {
   "cell_type": "code",
   "execution_count": 4,
   "id": "efde874e-68f0-440b-b9b2-fa56da4f6530",
   "metadata": {},
   "outputs": [
    {
     "name": "stdout",
     "output_type": "stream",
     "text": [
      "Bob\n"
     ]
    }
   ],
   "source": [
    "#Retrieve the value for a given key:\n",
    "\n",
    "print(demo_dict.get(\"name\"))"
   ]
  },
  {
   "cell_type": "code",
   "execution_count": 3,
   "id": "c3d5f701-7b31-41e2-92ed-444dd9f8b79e",
   "metadata": {},
   "outputs": [
    {
     "name": "stdout",
     "output_type": "stream",
     "text": [
      "dict_keys(['name', 'age', 'city'])\n"
     ]
    }
   ],
   "source": [
    "#Get all the keys in the dictionary:\n",
    "\n",
    "print(demo_dict.keys())  "
   ]
  },
  {
   "cell_type": "code",
   "execution_count": 5,
   "id": "043104d1-a141-4e19-bd3f-c3081889eda8",
   "metadata": {},
   "outputs": [
    {
     "name": "stdout",
     "output_type": "stream",
     "text": [
      "dict_values(['Bob', 37, 'St. Louis'])\n"
     ]
    }
   ],
   "source": [
    "#Get all the values in the dictionary:\n",
    "\n",
    "print(demo_dict.values())  "
   ]
  },
  {
   "cell_type": "code",
   "execution_count": 6,
   "id": "f236b615-cc2d-4649-ad09-0c42f5130598",
   "metadata": {},
   "outputs": [
    {
     "name": "stdout",
     "output_type": "stream",
     "text": [
      "dict_items([('name', 'Bob'), ('age', 37), ('city', 'St. Louis')])\n"
     ]
    }
   ],
   "source": [
    "#Get all key-value pairs\n",
    "\n",
    "print(demo_dict.items())   "
   ]
  },
  {
   "cell_type": "code",
   "execution_count": null,
   "id": "7bc16fc7-3df9-45d5-a4dd-2611c7ab8b9f",
   "metadata": {},
   "outputs": [],
   "source": []
  }
 ],
 "metadata": {
  "kernelspec": {
   "display_name": "Python 3 (ipykernel)",
   "language": "python",
   "name": "python3"
  },
  "language_info": {
   "codemirror_mode": {
    "name": "ipython",
    "version": 3
   },
   "file_extension": ".py",
   "mimetype": "text/x-python",
   "name": "python",
   "nbconvert_exporter": "python",
   "pygments_lexer": "ipython3",
   "version": "3.10.9"
  }
 },
 "nbformat": 4,
 "nbformat_minor": 5
}
