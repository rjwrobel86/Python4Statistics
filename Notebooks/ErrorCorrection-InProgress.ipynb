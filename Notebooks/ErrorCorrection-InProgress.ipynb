{
 "cells": [
  {
   "cell_type": "code",
   "execution_count": 1,
   "id": "ae3c4922-5a15-4810-9a5f-8cd72dc72a26",
   "metadata": {},
   "outputs": [
    {
     "name": "stdout",
     "output_type": "stream",
     "text": [
      "Co-integration test p-value: 9.082144161881212e-18\n",
      "                            OLS Regression Results                            \n",
      "==============================================================================\n",
      "Dep. Variable:                     dY   R-squared:                       0.564\n",
      "Model:                            OLS   Adj. R-squared:                  0.555\n",
      "Method:                 Least Squares   F-statistic:                     62.18\n",
      "Date:                Wed, 06 Nov 2024   Prob (F-statistic):           4.77e-18\n",
      "Time:                        11:32:51   Log-Likelihood:                -142.45\n",
      "No. Observations:                  99   AIC:                             290.9\n",
      "Df Residuals:                      96   BIC:                             298.7\n",
      "Df Model:                           2                                         \n",
      "Covariance Type:            nonrobust                                         \n",
      "==============================================================================\n",
      "                 coef    std err          t      P>|t|      [0.025      0.975]\n",
      "------------------------------------------------------------------------------\n",
      "const          0.0606      0.104      0.580      0.563      -0.147       0.268\n",
      "dX             0.5871      0.104      5.618      0.000       0.380       0.795\n",
      "ECT           -1.0065      0.101     -9.959      0.000      -1.207      -0.806\n",
      "==============================================================================\n",
      "Omnibus:                        4.761   Durbin-Watson:                   1.931\n",
      "Prob(Omnibus):                  0.092   Jarque-Bera (JB):                2.933\n",
      "Skew:                           0.225   Prob(JB):                        0.231\n",
      "Kurtosis:                       2.286   Cond. No.                         1.10\n",
      "==============================================================================\n",
      "\n",
      "Notes:\n",
      "[1] Standard Errors assume that the covariance matrix of the errors is correctly specified.\n"
     ]
    }
   ],
   "source": [
    "import numpy as np\n",
    "import pandas as pd\n",
    "import statsmodels.api as sm\n",
    "from statsmodels.tsa.stattools import coint\n",
    "\n",
    "n = 100\n",
    "X = np.cumsum(np.random.normal(size=n))  \n",
    "Y = 0.5 * X + np.random.normal(size=n)    \n",
    "\n",
    "coint_result = coint(Y, X)\n",
    "print(\"Co-integration test p-value:\", coint_result[1])  #If p-value is low, proceed with ECM\n",
    "\n",
    "data = pd.DataFrame({'Y': Y, 'X': X})\n",
    "data['dY'] = data['Y'].diff()  \n",
    "data['dX'] = data['X'].diff()  \n",
    "data['lag_Y'] = data['Y'].shift(1)\n",
    "data['lag_X'] = data['X'].shift(1)\n",
    "data['ECT'] = data['lag_Y'] - 0.5 * data['lag_X']  #ECT term with assumed long-run coefficient\n",
    "\n",
    "model = sm.OLS(data['dY'][1:], sm.add_constant(data[['dX', 'ECT']][1:]))\n",
    "result = model.fit()\n",
    "print(result.summary())"
   ]
  }
 ],
 "metadata": {
  "kernelspec": {
   "display_name": "Python 3 (ipykernel)",
   "language": "python",
   "name": "python3"
  },
  "language_info": {
   "codemirror_mode": {
    "name": "ipython",
    "version": 3
   },
   "file_extension": ".py",
   "mimetype": "text/x-python",
   "name": "python",
   "nbconvert_exporter": "python",
   "pygments_lexer": "ipython3",
   "version": "3.11.0"
  }
 },
 "nbformat": 4,
 "nbformat_minor": 5
}
