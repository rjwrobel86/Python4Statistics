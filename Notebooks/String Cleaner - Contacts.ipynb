{
 "cells": [
  {
   "cell_type": "markdown",
   "id": "081f8200-1099-40db-84fd-5bc0614991b3",
   "metadata": {},
   "source": [
    "# Cleaning Strings "
   ]
  },
  {
   "cell_type": "code",
   "execution_count": 50,
   "id": "1a84c154-b3e6-43c3-a64c-721bda1d81c8",
   "metadata": {},
   "outputs": [],
   "source": [
    "import pandas as pd\n",
    "import re\n",
    "\n",
    "df = pd.read_csv('/Users/robertwrobel/Downloads/contacts.csv') "
   ]
  },
  {
   "cell_type": "code",
   "execution_count": 52,
   "id": "fe7d72d7-9bd1-4127-982e-8a2833a7b04f",
   "metadata": {},
   "outputs": [],
   "source": [
    "#Function to remove non-string / non-numeric values from numbers, whitespace, and leading 1s from \n",
    "def clean_number(input_str):\n",
    "    if not isinstance(input_str, str):  \n",
    "        input_str = str(input_str) if pd.notnull(input_str) else ''\n",
    "    cleaned = re.sub(r'[^\\d\\s+]', '', input_str)\n",
    "    cleaned = cleaned.lstrip('+')\n",
    "    cleaned = re.sub(r'^1+', '', cleaned)\n",
    "    cleaned = cleaned.replace(' ', '')\n",
    "    return cleaned"
   ]
  },
  {
   "cell_type": "code",
   "execution_count": 54,
   "id": "713d9fb5-332f-4089-a934-e39264ef5353",
   "metadata": {},
   "outputs": [],
   "source": [
    "#Clean calls & contacts\n",
    "df['Mobile Phone'] = df['Mobile Phone'].apply(clean_number)\n",
    "df['Home Phone'] = df['Home Phone'].apply(clean_number)\n",
    "df['Work Phone'] = df['Work Phone'].apply(clean_number)\n",
    "df['Other Phone'] = df['Other Phone'].apply(clean_number)\n",
    "df['Notes'] = df['Notes'].apply(clean_number)\n",
    "df['Name'] = df['First Name'] + ' ' + df['Last Name']"
   ]
  },
  {
   "cell_type": "code",
   "execution_count": 56,
   "id": "070b1701-ffd8-47d5-b4f6-42ed82d3e442",
   "metadata": {},
   "outputs": [],
   "source": [
    "df.to_csv('contacts_cleaned.csv', index=False)"
   ]
  }
 ],
 "metadata": {
  "kernelspec": {
   "display_name": "Python [conda env:base] *",
   "language": "python",
   "name": "conda-base-py"
  },
  "language_info": {
   "codemirror_mode": {
    "name": "ipython",
    "version": 3
   },
   "file_extension": ".py",
   "mimetype": "text/x-python",
   "name": "python",
   "nbconvert_exporter": "python",
   "pygments_lexer": "ipython3",
   "version": "3.12.7"
  }
 },
 "nbformat": 4,
 "nbformat_minor": 5
}
